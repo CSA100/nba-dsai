{
 "cells": [
  {
   "cell_type": "code",
   "execution_count": null,
   "metadata": {},
   "outputs": [],
   "source": [
    "import os\n",
    "import glob\n",
    "import pandas as pd\n",
    "pd.set_option('display.max_columns', None)\n",
    "import numpy as np\n",
    "import matplotlib.pyplot as plt\n",
    "from sklearn.decomposition import PCA\n",
    "from sklearn import preprocessing"
   ]
  },
  {
   "cell_type": "code",
   "execution_count": null,
   "metadata": {},
   "outputs": [],
   "source": [
    "# helpers\n",
    "\n",
    "def printLoadingScores(pca, index, component):\n",
    "    # prints loading scores for a given principal component \n",
    "    loadingScores = pd.Series(pca.components_[component], index=index).sort_values(ascending=False, key=abs)\n",
    "    print(loadingScores[loadingScores[0:19].index.values])\n",
    "    "
   ]
  },
  {
   "cell_type": "code",
   "execution_count": null,
   "metadata": {},
   "outputs": [],
   "source": [
    "# Read and merge all cleaned data into a single data frame\n",
    "\n",
    "df = pd.read_csv('./Data/Cleaned/AllData.csv')"
   ]
  },
  {
   "cell_type": "code",
   "execution_count": null,
   "metadata": {},
   "outputs": [],
   "source": [
    "# drop non-numeric and unwanted coloumns\n",
    "tempDf = df.drop([\"Unnamed: 0\", \"Player\", \"Team\"], axis=1)\n",
    "\n",
    "# shift data mean to origin and scale variance in each feature to 1\n",
    "scaledDf = preprocessing.scale(tempDf)\n",
    "\n",
    "# perform pca\n",
    "pca = PCA()\n",
    "pca.fit(scaledDf)\n",
    "pcaData = pca.transform(scaledDf)\n",
    "\n",
    "# find percentage of variance accounted for by principal componenets\n",
    "varPercent = np.round(pca.explained_variance_ratio_ * 100, decimals=1)\n",
    "\n",
    "# create scree plot\n",
    "labels = ['PC' + str(i) for i in range(1, len(varPercent) + 1)]\n",
    "\n",
    "plt.figure(figsize = (20,20))\n",
    "plt.bar(x=labels, height=varPercent)\n",
    "plt.ylabel('Percentage of total variance explained')\n",
    "plt.xlabel('Principal component')\n",
    "plt.title(\"Scree plot\")\n",
    "plt.show()\n"
   ]
  },
  {
   "cell_type": "code",
   "execution_count": null,
   "metadata": {},
   "outputs": [],
   "source": [
    "# get cumulative explained variance plot by number of principal components\n",
    "\n",
    "plt.plot(np.cumsum(pca.explained_variance_ratio_))\n",
    "plt.xlabel('number of components')\n",
    "plt.ylabel('cumulative explained variance')\n",
    "plt.grid()\n",
    "plt.show()"
   ]
  },
  {
   "cell_type": "code",
   "execution_count": null,
   "metadata": {},
   "outputs": [],
   "source": [
    "print(sum(varPercent[:8]))"
   ]
  },
  {
   "cell_type": "code",
   "execution_count": null,
   "metadata": {},
   "outputs": [],
   "source": [
    "# We use 5 principal components to balance variance explaining power and interpretability of our components\n",
    "# re-run pca keeping only top 5 components\n",
    "pca = PCA(5)\n",
    "pca.fit(scaledDf)\n",
    "pcaData = pca.transform(scaledDf)"
   ]
  },
  {
   "cell_type": "code",
   "execution_count": null,
   "metadata": {},
   "outputs": [],
   "source": [
    "# re-insert players and teams to make a new data frame\n",
    "\n",
    "pcaDf = pd.DataFrame(pcaData, columns=labels[0:5])\n",
    "pcaDf = pcaDf[labels[0:5]]\n",
    "pcaDf[\"Player\"] = df[\"Player\"]\n",
    "pcaDf[\"Team\"] = df[\"Team\"]\n",
    "\n",
    "pcaDf.head()"
   ]
  },
  {
   "cell_type": "code",
   "execution_count": null,
   "metadata": {},
   "outputs": [],
   "source": [
    "# PC1\n",
    "\n",
    "printLoadingScores(pca, tempDf.columns, 0)\n",
    "pcaDf.nlargest(10, \"PC1\")"
   ]
  },
  {
   "cell_type": "markdown",
   "metadata": {},
   "source": [
    "PC1 seems to reward players who:\n",
    "- Grab a lot of rebounds,\n",
    "- Stay in the paint area a lot\n",
    "\n",
    "PC1 seems to penalize players who:\n",
    "- Dribble a lot whenever they touch the ball\n",
    "- Drive to the basket\n",
    "- Get their rebound further from the basket\n",
    "- Gets Assist\n",
    "\n",
    "High PC1 values indicate that the player predominately plays close to the basket. It’s safe to assume Centers would have high PC1 values."
   ]
  },
  {
   "cell_type": "code",
   "execution_count": null,
   "metadata": {},
   "outputs": [],
   "source": [
    "# PC2\n",
    "\n",
    "printLoadingScores(pca, tempDf.columns, 1)\n",
    "pcaDf.nlargest(10, \"PC2\")"
   ]
  },
  {
   "cell_type": "markdown",
   "metadata": {},
   "source": [
    "PC2 seems to highly rate players who:\n",
    "- Have a high Player Impact Efficiency \n",
    "- Make a lot of free throws\n",
    "- Make a lot of touches in the attacking half\n",
    "- Make lots of passes\n",
    "- Carry out offence in all forms (Drive,Post, Pull Up)\n",
    "- Allow opponents to score points on them \n",
    "\n",
    "PC2 seems to penalise players who:\n",
    "- Do not run fast for defence\n",
    "\n",
    "High PC2 values indicate that the players are offensive minded.\n"
   ]
  },
  {
   "cell_type": "code",
   "execution_count": null,
   "metadata": {},
   "outputs": [],
   "source": [
    "# PC3\n",
    "\n",
    "printLoadingScores(pca, tempDf.columns, 2)\n",
    "pcaDf.nlargest(10, \"PC3\")"
   ]
  },
  {
   "cell_type": "markdown",
   "metadata": {},
   "source": [
    "C3 seems to highly rate players who:\n",
    "- Do a lot of assist\n",
    "- Score a larger portion of their points on 2 pointers\n",
    "- Make their field goals unassisted\n",
    "- Take more dribbles per touch\n",
    "- Have higher percentage of opponent possessions that end with a steal by the player while he was on the floor.  \n",
    "\n",
    "PC3 seems to penalise players who:\n",
    "- Make more Catch and Shoot Field Goals\n",
    "- Make 3 pointers\n",
    "- Make free throws\n",
    "\n",
    "High PC3 values indicate that the players are assist makers that cannot shoot the ball well"
   ]
  },
  {
   "cell_type": "code",
   "execution_count": null,
   "metadata": {},
   "outputs": [],
   "source": [
    "# PC4\n",
    "\n",
    "printLoadingScores(pca, tempDf.columns, 3)\n",
    "pcaDf.nlargest(10, \"PC4\")"
   ]
  },
  {
   "cell_type": "markdown",
   "metadata": {},
   "source": [
    "PC4 seems to highly rate players who: \n",
    "- Have a high net rating during games\n",
    "- End a drive with higher percentage of pass\n",
    "- Assist at a higher rate than they shoot\n",
    "- Stay in the paint\n",
    "\n",
    "PC4 seems to penalise players who:\n",
    "- Score more of their points from free throws, drives\n",
    "- Make their field goals unassisted\n",
    "- Use the ball a lot \n",
    "\n",
    "High PC4 values indicate that the players has a positive net rating on the team and pass the ball more than they shoot. They also stay in the paint. Seems to be centers/forwards that can pass the ball well. \n"
   ]
  },
  {
   "cell_type": "code",
   "execution_count": null,
   "metadata": {},
   "outputs": [],
   "source": [
    "# PC5\n",
    "\n",
    "printLoadingScores(pca, tempDf.columns, 4)\n",
    "pcaDf.nlargest(10, \"PC5\")"
   ]
  },
  {
   "cell_type": "markdown",
   "metadata": {},
   "source": [
    "PC5 seems to highly rate players who:\n",
    "- Make a lot of their plays in the post\n",
    "- Have high chance of defensive rebound\n",
    "- Have high ratio of assist to turnovers\n",
    "\n",
    "PC5 seems to penalise players who:\n",
    "- Fouls a lot\n",
    "- Steal a lot\n",
    "- Possess the ball a lot\n",
    "- Make their points from turnovers\n",
    "- Let opponents score in the paint\n",
    "- Not efficient with their touches in the paint\n",
    "\n",
    "High PC5 values indicate that the player is a predominantly a paint/post player that do not run very fast during the game. As a paint/post player, they would also snatch more defensive rebounds and make fewer turnovers to assist. "
   ]
  },
  {
   "cell_type": "code",
   "execution_count": null,
   "metadata": {},
   "outputs": [],
   "source": [
    "pcaDf.to_csv('./Data/PCAData.csv', index = False)"
   ]
  },
  {
   "cell_type": "code",
   "execution_count": null,
   "metadata": {},
   "outputs": [],
   "source": [
    "\"\"\" Can consider using this cell if we get nice clusters based on just a few variables.\n",
    "\n",
    "# Principal component plot\n",
    "\n",
    "pcaDf = pd.DataFrame(pcaData, columns=labels)\n",
    "\n",
    "# plt.scatter(pcaDf.PC1, pcaDf.PC2, pcaDf.PC3)\n",
    "# plt.show()\n",
    "\n",
    "# Fixing random state for reproducibility\n",
    "\n",
    "fig = plt.figure()\n",
    "ax = fig.add_subplot(projection='3d')\n",
    "\n",
    "n = 100\n",
    "\n",
    "# For each set of style and range settings, plot n random points in the box\n",
    "# defined by x in [23, 32], y in [0, 100], z in [zlow, zhigh].\n",
    "\n",
    "xs = pcaDf.PC1\n",
    "ys = pcaDf.PC2\n",
    "zs = pcaDf.PC3\n",
    "ax.scatter(xs, ys, zs, marker='o')\n",
    "\n",
    "ax.set_xlabel('X Label')\n",
    "ax.set_ylabel('Y Label')\n",
    "ax.set_zlabel('Z Label')\n",
    "\n",
    "plt.show()\n",
    "\"\"\""
   ]
  }
 ],
 "metadata": {
  "interpreter": {
   "hash": "293b9e46e020392047a30afebc758c1bde612717104ed5cb756562dbcf16116b"
  },
  "kernelspec": {
   "display_name": "Python 3.9.7 ('base')",
   "language": "python",
   "name": "python3"
  },
  "language_info": {
   "codemirror_mode": {
    "name": "ipython",
    "version": 3
   },
   "file_extension": ".py",
   "mimetype": "text/x-python",
   "name": "python",
   "nbconvert_exporter": "python",
   "pygments_lexer": "ipython3",
   "version": "3.9.7"
  },
  "orig_nbformat": 4
 },
 "nbformat": 4,
 "nbformat_minor": 2
}
