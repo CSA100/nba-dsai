{
 "cells": [
  {
   "cell_type": "markdown",
   "metadata": {},
   "source": [
    "# Analysis of the Clustering Results\n",
    "\n",
    "In this notebook, we are going to interpret the clusters based off the player's hierachial cluster. \n",
    "\n",
    "The *K-Means Cluster* is used as a means to double confirm the cluster that the player has been placed in from *Hierachial Agglomerative Clustering*. "
   ]
  },
  {
   "cell_type": "code",
   "execution_count": null,
   "metadata": {},
   "outputs": [],
   "source": [
    "import pandas as pd\n",
    "import matplotlib.pyplot as plt\n",
    "import seaborn as sns\n",
    "import numpy as np\n",
    "from sklearn.preprocessing import StandardScaler\n",
    "from scipy.interpolate import make_interp_spline"
   ]
  },
  {
   "cell_type": "code",
   "execution_count": null,
   "metadata": {},
   "outputs": [],
   "source": [
    "hClusterData = pd.read_csv('./Data/hierarchicalClustering.csv')\n",
    "kClusterData = pd.read_csv('./Data/kmeansClustering.csv')\n",
    "AllData = pd.read_csv('./Data/Cleaned/AllData.csv')\n",
    "AllData = AllData.drop([\"Unnamed: 0\"], axis=1)\n",
    "AllData = AllData.rename(columns={'Player':'PLAYER','Team':'TEAM'})\n",
    "\n",
    "clusterDataframes = [kClusterData,hClusterData,AllData] \n",
    "\n",
    "clusterData = pd.DataFrame()\n",
    "clusterData['PLAYER'] = hClusterData['PLAYER']\n",
    "for x in clusterDataframes:\n",
    "    clusterData = clusterData.merge(x,on=\"PLAYER\",how=\"outer\",suffixes=(\"\",\"_delme\"))\n",
    "clusterData = clusterData[[c for c in clusterData.columns if not c.endswith('_delme')]]\n",
    "#clusterData = clusterData[['PLAYER','TEAM','hCLUSTER','kCLUSTER','PC1','PC2','PC3','PC4','PC5']]"
   ]
  },
  {
   "cell_type": "code",
   "execution_count": null,
   "metadata": {},
   "outputs": [],
   "source": [
    "clusterData.head()"
   ]
  },
  {
   "cell_type": "code",
   "execution_count": null,
   "metadata": {},
   "outputs": [],
   "source": [
    "clusterData[clusterData['hCLUSTER']==1].head(10)"
   ]
  },
  {
   "cell_type": "markdown",
   "metadata": {},
   "source": [
    "## Cluster 1 - Elite Scoring Players\n",
    "From hCLUSTER 1, we can see that the players generally have high PC2 and a low PC3 value.  \n",
    "This means that these players are offensive minded stars that are not focusing on assist and can shoot the ball well"
   ]
  },
  {
   "cell_type": "code",
   "execution_count": null,
   "metadata": {},
   "outputs": [],
   "source": [
    "clusterData[clusterData['hCLUSTER']==2].head(10)"
   ]
  },
  {
   "cell_type": "markdown",
   "metadata": {},
   "source": [
    "## Cluster 2 - Assist Maker Guards that operate around the paint\n",
    "From hCLUSTER 2, we can see that the players generally have a negative low PC1, PC2, PC4 value while they have a postive low PC3 and PC5 value.  \n",
    "This implies that these player are not centers but are guards that operate around the paint that pass and score mainly around there. \n"
   ]
  },
  {
   "cell_type": "code",
   "execution_count": null,
   "metadata": {},
   "outputs": [],
   "source": [
    "clusterData[clusterData['hCLUSTER']==3].head(10)"
   ]
  },
  {
   "cell_type": "markdown",
   "metadata": {},
   "source": [
    "## Cluster 3 - Offensive Minded Guards\n",
    "From hCLUSTER3, we can see that the players have negative PC1 values and positive PC2 Values. \n",
    "This implies that the players are guards that are offensive minded."
   ]
  },
  {
   "cell_type": "code",
   "execution_count": null,
   "metadata": {},
   "outputs": [],
   "source": [
    "clusterData[clusterData['hCLUSTER']==4].head(10)"
   ]
  },
  {
   "cell_type": "markdown",
   "metadata": {},
   "source": [
    "## Cluster 4 - Offensive Minded Forwards\n",
    "From hCLUSTER4, we can see that the PC2 values are postive and PC3 values are negative\n",
    "This implies that the players are scoring focused forwards that do not operate mainly around the paint. \n"
   ]
  },
  {
   "cell_type": "code",
   "execution_count": null,
   "metadata": {},
   "outputs": [],
   "source": [
    "clusterData[clusterData['hCLUSTER']==5].head(10)"
   ]
  },
  {
   "cell_type": "markdown",
   "metadata": {},
   "source": [
    "## Cluster 5 - Shooting Big Man\n",
    "From hCLUSTER5, we can that the PC2 is positive and PC3 and PC5 is negative\n",
    "Coupled together with the stats, we can tell that the players in this clusters are big men that can shoot the ball well"
   ]
  },
  {
   "cell_type": "code",
   "execution_count": null,
   "metadata": {},
   "outputs": [],
   "source": [
    "clusterData[clusterData['hCLUSTER']==6].head(10)"
   ]
  },
  {
   "cell_type": "markdown",
   "metadata": {},
   "source": [
    "## Cluster 6 - Effective Shooters\n",
    "From hCLUSTERS, we can see that PC2 and PC3 is negative. \n",
    "Coupled together with the stats, we can tell that the players in this clusters are effective shooters of the ball. They are good at pull ups and catch and shoot. "
   ]
  },
  {
   "cell_type": "code",
   "execution_count": null,
   "metadata": {},
   "outputs": [],
   "source": [
    "clusterData[clusterData['hCLUSTER']==7].head(10)"
   ]
  },
  {
   "cell_type": "markdown",
   "metadata": {},
   "source": [
    "## Cluster 7 - Scoring Shooters \n",
    "From hCLUSTERS, we can see that PC1 and PC4 is negative while PC2 is positive. \n",
    "Coupled together with the stats, we can tell that the players In this clusters focus on scoring and do not mainly score from the paint."
   ]
  },
  {
   "cell_type": "code",
   "execution_count": null,
   "metadata": {},
   "outputs": [],
   "source": [
    "clusterData[clusterData['hCLUSTER']==8].head(10)"
   ]
  },
  {
   "cell_type": "markdown",
   "metadata": {},
   "source": [
    "## Cluster 8 - Traditional Big Men \n",
    "From hCLUSTERS, we can see that PC1 and PC2 is positive while the rest of the PCs are mixed. \n",
    "Coupled together with the stats, we can tell this players are primarily based around in the paint area during the game. They really make most of their points there.\n"
   ]
  },
  {
   "cell_type": "code",
   "execution_count": null,
   "metadata": {},
   "outputs": [],
   "source": [
    "clusterData[clusterData['hCLUSTER']==9].head(10)"
   ]
  },
  {
   "cell_type": "code",
   "execution_count": null,
   "metadata": {},
   "outputs": [],
   "source": [
    "teamStandings = pd.read_excel('./Data/TeamRecords.xlsx')\n",
    "teamStandings"
   ]
  },
  {
   "cell_type": "code",
   "execution_count": null,
   "metadata": {},
   "outputs": [],
   "source": [
    "teamCompositionDf = pd.DataFrame()\n",
    "teamCompositionDf[\"Team\"] = np.nan\n",
    "teamCompositionDf[\"Cluster1\"] = np.nan\n",
    "teamCompositionDf[\"Cluster2\"] = np.nan\n",
    "teamCompositionDf[\"Cluster3\"] = np.nan\n",
    "teamCompositionDf[\"Cluster4\"] = np.nan\n",
    "teamCompositionDf[\"Cluster5\"] = np.nan\n",
    "teamCompositionDf[\"Cluster6\"] = np.nan\n",
    "teamCompositionDf[\"Cluster7\"] = np.nan\n",
    "teamCompositionDf[\"Cluster8\"] = np.nan\n",
    "teamCompositionDf[\"Cluster9\"] = np.nan\n",
    "\n",
    "for team in clusterData.TEAM.unique():\n",
    "    clusArr = [team] + [0] * 9\n",
    "\n",
    "    teamData = clusterData.loc[clusterData['TEAM'] == team]\n",
    "\n",
    "    for index, row in teamData.iterrows():\n",
    "        clusArr[row['hCLUSTER']] += 1\n",
    "\n",
    "    teamCompositionDf.loc[len(teamCompositionDf.index)] = clusArr\n",
    "\n",
    "teamCompositionDf"
   ]
  },
  {
   "cell_type": "code",
   "execution_count": null,
   "metadata": {},
   "outputs": [],
   "source": [
    "mergeDF = [teamCompositionDf,teamStandings] \n",
    "\n",
    "teamComparison = pd.DataFrame()\n",
    "teamComparison['Team'] = teamStandings['Team']\n",
    "for x in mergeDF:\n",
    "    teamComparison = teamComparison.merge(x,on=\"Team\",how=\"outer\",suffixes=(\"\",\"_delme\"))\n",
    "teamComparison = teamComparison[[c for c in teamComparison.columns if not c.endswith('_delme')]]"
   ]
  },
  {
   "cell_type": "code",
   "execution_count": null,
   "metadata": {},
   "outputs": [],
   "source": [
    "teamComparison"
   ]
  },
  {
   "cell_type": "code",
   "execution_count": null,
   "metadata": {},
   "outputs": [],
   "source": [
    "teamComparisonTop10 = teamComparison.iloc[0:10, 0:10]\n",
    "teamComparisonMid10 = teamComparison.iloc[10:20, 0:10]\n",
    "teamComparisonBot10 = teamComparison.iloc[20:30, 0:10]"
   ]
  },
  {
   "cell_type": "code",
   "execution_count": null,
   "metadata": {},
   "outputs": [],
   "source": [
    "def TeamComparison(teamData, isTeam):\n",
    "\n",
    "    if (isTeam):\n",
    "        teamComparisonProportion = teamData.copy(deep=True)\n",
    "\n",
    "        for index, row in teamComparisonProportion.iterrows():\n",
    "            numPlayers = row[1:10].sum()\n",
    "\n",
    "            newData = list(teamComparisonProportion.loc[index])\n",
    "\n",
    "            for i in range(1, 10):\n",
    "                newData[i] /= numPlayers\n",
    "            \n",
    "            teamComparisonProportion.loc[index,teamComparisonProportion.columns.to_list()[1:10]] = newData[1:10]\n",
    "                \n",
    "        teamComparisonProportion.plot(x='Team', kind='bar', stacked=True,\n",
    "            title='Stacked Bar Graph by Teams',figsize=(20,10))\n",
    "    else:\n",
    "        teamComparisonProportion = teamData.copy(deep=True)\n",
    "\n",
    "        for index, row in teamComparisonProportion.iterrows():\n",
    "            numPlayers = row[1:10].sum()\n",
    "\n",
    "            newData = list(teamComparisonProportion.loc[index])\n",
    "\n",
    "            for i in range(1, 10):\n",
    "                newData[i] /= numPlayers\n",
    "            \n",
    "            teamComparisonProportion.loc[index,teamComparisonProportion.columns.to_list()[1:10]] = newData[1:10]\n",
    "                \n",
    "        teamComparisonProportion.plot(x='Tier', kind='bar', stacked=True,\n",
    "            title='Stacked Bar Graph by Tiers',figsize=(20,10))"
   ]
  },
  {
   "cell_type": "code",
   "execution_count": null,
   "metadata": {},
   "outputs": [],
   "source": [
    "TeamComparison(teamComparisonTop10, True)"
   ]
  },
  {
   "cell_type": "code",
   "execution_count": null,
   "metadata": {},
   "outputs": [],
   "source": [
    "TeamComparison(teamComparisonMid10, True)"
   ]
  },
  {
   "cell_type": "code",
   "execution_count": null,
   "metadata": {},
   "outputs": [],
   "source": [
    "TeamComparison(teamComparisonBot10, True)"
   ]
  },
  {
   "cell_type": "markdown",
   "metadata": {},
   "source": [
    "From our initial plots we do see some differences in team composition between the 3 tiers of teams. The lower 2 tiers seem to contain a lot more of cluster 9 and cluster 4 players compared to the top tier. And although rare in general, cluster 1 seems to appear a lot more in top tier teams. We combine the 3 tier datas to confirm our suspicion."
   ]
  },
  {
   "cell_type": "code",
   "execution_count": null,
   "metadata": {},
   "outputs": [],
   "source": [
    "tierDf = pd.DataFrame()\n",
    "tierDf[\"Tier\"] = np.nan\n",
    "tierDf[\"Cluster1\"] = np.nan\n",
    "tierDf[\"Cluster2\"] = np.nan\n",
    "tierDf[\"Cluster3\"] = np.nan\n",
    "tierDf[\"Cluster4\"] = np.nan\n",
    "tierDf[\"Cluster5\"] = np.nan\n",
    "tierDf[\"Cluster6\"] = np.nan\n",
    "tierDf[\"Cluster7\"] = np.nan\n",
    "tierDf[\"Cluster8\"] = np.nan\n",
    "tierDf[\"Cluster9\"] = np.nan\n",
    "\n",
    "tiers = [[\"Top10\", teamComparison.iloc[0:10, 0:10]], [\"Mid10\", teamComparison.iloc[10:20, 0:10]], [\"Bot10\", teamComparison.iloc[20:30, 0:10]]]\n",
    "\n",
    "for tier in tiers:\n",
    "\n",
    "    clusArr = [tier[0]] + [0] * 9\n",
    "\n",
    "    for index, row in tier[1].iterrows():\n",
    "        i = 1\n",
    "        while i < 10:\n",
    "            clusArr[i] += row[i]\n",
    "            i += 1\n",
    "            \n",
    "    tierDf.loc[index,tierDf.columns.to_list()] = clusArr\n",
    "\n",
    "tierDf"
   ]
  },
  {
   "cell_type": "code",
   "execution_count": null,
   "metadata": {},
   "outputs": [],
   "source": [
    "TeamComparison(tierDf, False)"
   ]
  },
  {
   "cell_type": "markdown",
   "metadata": {},
   "source": [
    "Our suspicions are confirmed, top tier teams generally comprise of a lot lesser of cluster 4 and 9 players as compared to bottom tier teams. They also have a lot more cluster 5, 1 and 2 players. Clusters 3, 6, 7 and 8 appear to be more evenly distributed in the 3 tiers and are not as important in distiguishing better performing teams. To make the trends of the 9 clusters clearer we attempt simple line plots, with common y axis ranges, below."
   ]
  },
  {
   "cell_type": "code",
   "execution_count": null,
   "metadata": {},
   "outputs": [],
   "source": [
    "fig, ax = plt.subplots(5, 2, figsize=(25,25)) \n",
    "\n",
    "line1 = ax[0,0].plot(tierDf.Tier, tierDf.Cluster1,'ko-',label='line1') \n",
    "ax[0,0].set_title('Cluster1')\n",
    "ax[0,0].set_ylim([0, 40])\n",
    "ax[0,0].set_ylabel('Number of players')\n",
    "ax[0,0].set_xlabel('Tier')\n",
    "\n",
    "line2 = ax[0,1].plot(tierDf.Tier, tierDf.Cluster2,'ro-',label='line2')\n",
    "ax[0,1].set_title('Cluster2')\n",
    "ax[0,1].set_ylim([0, 40])\n",
    "ax[0,1].set_ylabel('Number of players')\n",
    "ax[0,1].set_xlabel('Tier')\n",
    "\n",
    "line3 = ax[1,0].plot(tierDf.Tier, tierDf.Cluster3,'mo-',label='line3')\n",
    "ax[1,0].set_title('Cluster3')\n",
    "ax[1,0].set_ylim([0, 40])\n",
    "ax[1,0].set_ylabel('Number of players')\n",
    "ax[1,0].set_xlabel('Tier')\n",
    "\n",
    "line4 = ax[1,1].plot(tierDf.Tier, tierDf.Cluster4,'bo-',label='line4')\n",
    "ax[1,1].set_title('Cluster4')\n",
    "ax[1,1].set_ylim([0, 40])\n",
    "ax[1,1].set_ylabel('Number of players')\n",
    "ax[1,1].set_xlabel('Tier')\n",
    "\n",
    "line5 = ax[2,0].plot(tierDf.Tier, tierDf.Cluster5,'go-',label='line5')\n",
    "ax[2,0].set_title('Cluster5')\n",
    "ax[2,0].set_ylim([0, 40])\n",
    "ax[2,0].set_ylabel('Number of players')\n",
    "ax[2,0].set_xlabel('Tier')\n",
    "\n",
    "line6 = ax[2,1].plot(tierDf.Tier, tierDf.Cluster6,'yo-',label='line6')\n",
    "ax[2,1].set_title('Cluster6')\n",
    "ax[2,1].set_ylim([0, 40])\n",
    "ax[2,1].set_ylabel('Number of players')\n",
    "ax[2,1].set_xlabel('Tier')\n",
    "\n",
    "line7 = ax[3,0].plot(tierDf.Tier, tierDf.Cluster7,'g-',label='line7')\n",
    "ax[3,0].set_title('Cluster7')\n",
    "ax[3,0].set_ylim([0, 40])\n",
    "ax[3,0].set_ylabel('Number of players')\n",
    "ax[3,0].set_xlabel('Tier')\n",
    "\n",
    "line8 = ax[3,1].plot(tierDf.Tier, tierDf.Cluster8,'y-',label='line8')\n",
    "ax[3,1].set_title('Cluster8')\n",
    "ax[3,1].set_ylim([0, 40])\n",
    "ax[3,1].set_ylabel('Number of players')\n",
    "ax[3,1].set_xlabel('Tier')\n",
    "\n",
    "line9 = ax[4,0].plot(tierDf.Tier, tierDf.Cluster9,'r-',label='line9')\n",
    "ax[4,0].set_title('Cluster9')\n",
    "ax[4,0].set_ylim([0, 40])\n",
    "ax[4,0].set_ylabel('Number of players')\n",
    "ax[4,0].set_xlabel('Tier')\n"
   ]
  },
  {
   "cell_type": "markdown",
   "metadata": {},
   "source": [
    "Again our trends as suspected earlier are almost accurately confirmed by the line plots"
   ]
  },
  {
   "cell_type": "markdown",
   "metadata": {},
   "source": [
    "- cluster 1: elite scoring players\n",
    "- cluster 2: assist maker guards that operate around the pain\n",
    "- cluster 3: offensive minded guards\n",
    "- cluster 4: offensive minded forwards\n",
    "- cluster 5: shooting big men\n",
    "- cluster 6: effective shooters\n",
    "- cluster 7: scoring shooters\n",
    "- cluster 8: traditional big men\n",
    "\n",
    "insight 1: no need defense. a good offense is the best defense\n",
    "insight 2: "
   ]
  },
  {
   "cell_type": "markdown",
   "metadata": {},
   "source": []
  }
 ],
 "metadata": {
  "interpreter": {
   "hash": "aee8b7b246df8f9039afb4144a1f6fd8d2ca17a180786b69acc140d282b71a49"
  },
  "kernelspec": {
   "display_name": "Python 3.9.1 64-bit",
   "language": "python",
   "name": "python3"
  },
  "language_info": {
   "codemirror_mode": {
    "name": "ipython",
    "version": 3
   },
   "file_extension": ".py",
   "mimetype": "text/x-python",
   "name": "python",
   "nbconvert_exporter": "python",
   "pygments_lexer": "ipython3",
   "version": "3.9.7"
  },
  "orig_nbformat": 4
 },
 "nbformat": 4,
 "nbformat_minor": 2
}
