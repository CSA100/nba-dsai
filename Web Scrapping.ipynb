{
 "cells": [
  {
   "cell_type": "markdown",
   "id": "6504066a",
   "metadata": {},
   "source": [
    "# Web Scrapping\n",
    "Data is collected from nba.com. \n",
    "The data includes player statistics from the 2020-2021 season.\n",
    "\n",
    "Variables\n",
    "- General Statistics\n",
    "    - [Traditional](https://www.nba.com/stats/players/traditional/?sort=PTS&dir=-1&Season=2020-21&SeasonType=Regular%20Season)\n",
    "    - [Advanced](https://www.nba.com/stats/players/advanced/?sort=GP&dir=-1&Season=2020-21&SeasonType=Regular%20Season)\n",
    "    - [Defense](https://www.nba.com/stats/players/defense/?sort=GP&dir=-1&Season=2020-21&SeasonType=Regular%20Season)\n",
    "    - [Scoring](https://www.nba.com/stats/players/scoring/?sort=GP&dir=-1&Season=2020-21&SeasonType=Regular%20Season)\n",
    "- Tracking Statistics\n",
    "    - [Drives](https://www.nba.com/stats/players/drives/?Season=2020-21&SeasonType=Regular%20Season)\n",
    "    - [Defensive Impact](https://www.nba.com/stats/players/defensive-impact/?Season=2020-21&SeasonType=Regular%20Season)\n",
    "    - [Catch and Shoot](https://www.nba.com/stats/players/catch-shoot/?Season=2020-21&SeasonType=Regular%20Season)\n",
    "    - [Passing](https://www.nba.com/stats/players/passing/?Season=2020-21&SeasonType=Regular%20Season)\n",
    "    - [Touches](https://www.nba.com/stats/players/touches/?Season=2020-21&SeasonType=Regular%20Season)\n",
    "    - [Pull Up Shooting](https://www.nba.com/stats/players/pullup/?Season=2020-21&SeasonType=Regular%20Season)\n",
    "    - [Rebounding](https://www.nba.com/stats/players/rebounding/?Season=2020-21&SeasonType=Regular%20Season)\n",
    "    - [Offensive Rebounding](https://www.nba.com/stats/players/offensive-rebounding/?Season=2020-21&SeasonType=Regular%20Season)\n",
    "    - [Defensive Rebounding](https://www.nba.com/stats/players/defensive-rebounding/?Season=2020-21&SeasonType=Regular%20Season)\n",
    "    - [Post Ups](https://www.nba.com/stats/players/tracking-post-ups/?Season=2020-21&SeasonType=Regular%20Season)\n",
    "    - [Paint Touches](https://www.nba.com/stats/players/paint-touch/?Season=2020-21&SeasonType=Regular%20Season)\n",
    "    - [Speed & Distance](https://www.nba.com/stats/players/speed-distance/?Season=2020-21&SeasonType=Regular%20Season)\n"
   ]
  },
  {
   "cell_type": "code",
   "execution_count": 1,
   "id": "2d52f8f0",
   "metadata": {},
   "outputs": [],
   "source": [
    "from selenium import webdriver\n",
    "from selenium.webdriver.support.ui import Select\n",
    "from selenium.webdriver.common.by import By\n",
    "from bs4 import BeautifulSoup\n",
    "import pandas as pd\n",
    "from webdriver_manager.chrome import ChromeDriverManager\n",
    "import time"
   ]
  },
  {
   "cell_type": "markdown",
   "id": "f5c35663",
   "metadata": {},
   "source": [
    "## Scraping General Statistics"
   ]
  },
  {
   "cell_type": "markdown",
   "id": "6f03822d",
   "metadata": {},
   "source": [
    "### Traditional Stats"
   ]
  },
  {
   "cell_type": "code",
   "execution_count": 2,
   "id": "8ad7d94c",
   "metadata": {
    "scrolled": true
   },
   "outputs": [
    {
     "name": "stderr",
     "output_type": "stream",
     "text": [
      "\n",
      "\n",
      "====== WebDriver manager ======\n",
      "Current google-chrome version is 100.0.4896\n",
      "Get LATEST chromedriver version for 100.0.4896 google-chrome\n",
      "Driver [/Users/bryan/.wdm/drivers/chromedriver/mac64_m1/100.0.4896.60/chromedriver] found in cache\n",
      "/var/folders/lk/5c46yk7x18j_h8wp31rl548w0000gn/T/ipykernel_21210/1864296134.py:1: DeprecationWarning: executable_path has been deprecated, please pass in a Service object\n",
      "  driver = webdriver.Chrome(ChromeDriverManager().install())\n"
     ]
    }
   ],
   "source": [
    "driver = webdriver.Chrome(ChromeDriverManager().install())\n",
    "url = r\"https://www.nba.com/stats/players/traditional/?sort=PTS&dir=-1&Season=2020-21&SeasonType=Regular%20Season\""
   ]
  },
  {
   "cell_type": "code",
   "execution_count": 3,
   "id": "bd1ab24d",
   "metadata": {},
   "outputs": [],
   "source": [
    "driver.get(url)"
   ]
  },
  {
   "cell_type": "code",
   "execution_count": 4,
   "id": "422586c8",
   "metadata": {},
   "outputs": [],
   "source": [
    "#select = Select(driver.find_element_by_xpath(r\"/html/body/main/div/div/div[2]/div/div/nba-stat-table/div[1]/div/div/select\"))\n",
    "select = Select(driver.find_element(by=By.XPATH, value=r\"/html/body/main/div/div/div[2]/div/div/nba-stat-table/div[1]/div/div/select\"))\n",
    "select.select_by_index(0)"
   ]
  },
  {
   "cell_type": "code",
   "execution_count": 5,
   "id": "718235f2",
   "metadata": {},
   "outputs": [],
   "source": [
    "src = driver.page_source\n",
    "parser = BeautifulSoup(src, \"lxml\")\n",
    "table = parser.find(\"div\", attrs = {\"class\":\"nba-stat-table__overflow\"})\n",
    "headers = table.findAll('th')\n",
    "headerlist = [h.text.strip() for h in headers[1:]]"
   ]
  },
  {
   "cell_type": "code",
   "execution_count": 6,
   "id": "0fbe44f4",
   "metadata": {},
   "outputs": [],
   "source": [
    "headerlist1 = [a for a in headerlist if not 'RANK' in a]\n",
    "\n",
    "# for a in headerlist:\n",
    "#    if not 'RANK' in header:\n",
    "#        headerlist1.append(header)"
   ]
  },
  {
   "cell_type": "code",
   "execution_count": 7,
   "id": "b94b4ed5",
   "metadata": {},
   "outputs": [],
   "source": [
    "rows = table.findAll('tr')[1:]"
   ]
  },
  {
   "cell_type": "code",
   "execution_count": 8,
   "id": "12b7768a",
   "metadata": {},
   "outputs": [],
   "source": [
    "player_stats = [[td.getText().strip() for td in rows[i].findAll('td')[1:]] for i in range(len(rows))]"
   ]
  },
  {
   "cell_type": "code",
   "execution_count": 19,
   "id": "20f1abd1",
   "metadata": {
    "scrolled": true
   },
   "outputs": [
    {
     "data": {
      "text/plain": [
       "604"
      ]
     },
     "execution_count": 19,
     "metadata": {},
     "output_type": "execute_result"
    }
   ],
   "source": [
    "len(rows)"
   ]
  },
  {
   "cell_type": "code",
   "execution_count": 9,
   "id": "4dbc77b0",
   "metadata": {},
   "outputs": [
    {
     "data": {
      "text/plain": [
       "['PLAYER',\n",
       " 'TEAM',\n",
       " 'AGE',\n",
       " 'GP',\n",
       " 'W',\n",
       " 'L',\n",
       " 'MIN',\n",
       " 'PTS',\n",
       " 'FGM',\n",
       " 'FGA',\n",
       " 'FG%',\n",
       " '3PM',\n",
       " '3PA',\n",
       " '3P%',\n",
       " 'FTM',\n",
       " 'FTA',\n",
       " 'FT%',\n",
       " 'OREB',\n",
       " 'DREB',\n",
       " 'REB',\n",
       " 'AST',\n",
       " 'TOV',\n",
       " 'STL',\n",
       " 'BLK',\n",
       " 'PF',\n",
       " 'FP',\n",
       " 'DD2',\n",
       " 'TD3',\n",
       " '+/-']"
      ]
     },
     "execution_count": 9,
     "metadata": {},
     "output_type": "execute_result"
    }
   ],
   "source": [
    "headerlist1 "
   ]
  },
  {
   "cell_type": "code",
   "execution_count": 10,
   "id": "bd03805e",
   "metadata": {},
   "outputs": [],
   "source": [
    "stats = pd.DataFrame(player_stats, columns=headerlist1)"
   ]
  },
  {
   "cell_type": "code",
   "execution_count": 11,
   "id": "fe663988",
   "metadata": {},
   "outputs": [],
   "source": [
    "pd.DataFrame.to_excel(stats,r\"./Data/General/traditionalStats.xlsx\")"
   ]
  },
  {
   "cell_type": "code",
   "execution_count": 12,
   "id": "4d129b2c",
   "metadata": {},
   "outputs": [],
   "source": [
    "driver.quit()"
   ]
  },
  {
   "cell_type": "markdown",
   "id": "ffc5e0b3",
   "metadata": {},
   "source": [
    "### Advanced Stats"
   ]
  },
  {
   "cell_type": "code",
   "execution_count": 13,
   "id": "b0fdb7c8",
   "metadata": {},
   "outputs": [
    {
     "name": "stderr",
     "output_type": "stream",
     "text": [
      "\n",
      "\n",
      "====== WebDriver manager ======\n",
      "Current google-chrome version is 100.0.4896\n",
      "Get LATEST chromedriver version for 100.0.4896 google-chrome\n",
      "Driver [/Users/bryan/.wdm/drivers/chromedriver/mac64_m1/100.0.4896.60/chromedriver] found in cache\n",
      "/var/folders/lk/5c46yk7x18j_h8wp31rl548w0000gn/T/ipykernel_21210/3097812869.py:1: DeprecationWarning: executable_path has been deprecated, please pass in a Service object\n",
      "  driver = webdriver.Chrome(ChromeDriverManager().install())\n"
     ]
    }
   ],
   "source": [
    "driver = webdriver.Chrome(ChromeDriverManager().install())\n",
    "driver.get(\"https://www.nba.com/stats/players/advanced/?sort=GP&dir=-1&Season=2020-21&SeasonType=Regular%20Season\")"
   ]
  },
  {
   "cell_type": "code",
   "execution_count": 15,
   "id": "5bb2f902",
   "metadata": {},
   "outputs": [],
   "source": [
    "select = Select(driver.find_element(by=By.XPATH, value=r\"/html/body/main/div/div/div[2]/div/div/nba-stat-table/div[1]/div/div/select\"))\n",
    "select.select_by_index(0)"
   ]
  },
  {
   "cell_type": "code",
   "execution_count": 16,
   "id": "f7c62b84",
   "metadata": {},
   "outputs": [],
   "source": [
    "src = driver.page_source\n",
    "parser = BeautifulSoup(src, \"lxml\")\n",
    "table = parser.find(\"div\", attrs = {\"class\":\"nba-stat-table__overflow\"})\n",
    "headers = table.findAll('th')"
   ]
  },
  {
   "cell_type": "code",
   "execution_count": 17,
   "id": "9263e12a",
   "metadata": {},
   "outputs": [],
   "source": [
    "headerlist = [h.text.strip() for h in headers[1:]]\n",
    "headerlist1 = [a for a in headerlist if not 'RANK' in a]\n",
    "rows = table.findAll('tr')[1:]\n",
    "player_stats = [[td.getText().strip() for td in rows[i].findAll('td')[1:]] for i in range(len(rows))]\n",
    "headerlist1=headerlist1[:-5]"
   ]
  },
  {
   "cell_type": "code",
   "execution_count": 18,
   "id": "96846318",
   "metadata": {},
   "outputs": [],
   "source": [
    "advanced = pd.DataFrame(player_stats, columns=headerlist1)"
   ]
  },
  {
   "cell_type": "code",
   "execution_count": 19,
   "id": "35417006",
   "metadata": {},
   "outputs": [
    {
     "data": {
      "text/html": [
       "<div>\n",
       "<style scoped>\n",
       "    .dataframe tbody tr th:only-of-type {\n",
       "        vertical-align: middle;\n",
       "    }\n",
       "\n",
       "    .dataframe tbody tr th {\n",
       "        vertical-align: top;\n",
       "    }\n",
       "\n",
       "    .dataframe thead th {\n",
       "        text-align: right;\n",
       "    }\n",
       "</style>\n",
       "<table border=\"1\" class=\"dataframe\">\n",
       "  <thead>\n",
       "    <tr style=\"text-align: right;\">\n",
       "      <th></th>\n",
       "      <th>PLAYER</th>\n",
       "      <th>TEAM</th>\n",
       "      <th>AGE</th>\n",
       "      <th>GP</th>\n",
       "      <th>W</th>\n",
       "      <th>L</th>\n",
       "      <th>MIN</th>\n",
       "      <th>OFFRTG</th>\n",
       "      <th>DEFRTG</th>\n",
       "      <th>NETRTG</th>\n",
       "      <th>...</th>\n",
       "      <th>OREB%</th>\n",
       "      <th>DREB%</th>\n",
       "      <th>REB%</th>\n",
       "      <th>TO Ratio</th>\n",
       "      <th>eFG%</th>\n",
       "      <th>TS%</th>\n",
       "      <th>USG%</th>\n",
       "      <th>PACE</th>\n",
       "      <th>PIE</th>\n",
       "      <th>POSS</th>\n",
       "    </tr>\n",
       "  </thead>\n",
       "  <tbody>\n",
       "    <tr>\n",
       "      <th>0</th>\n",
       "      <td>Anthony Edwards</td>\n",
       "      <td>MIN</td>\n",
       "      <td>19</td>\n",
       "      <td>72</td>\n",
       "      <td>23</td>\n",
       "      <td>49</td>\n",
       "      <td>32.1</td>\n",
       "      <td>110.6</td>\n",
       "      <td>115.6</td>\n",
       "      <td>-5.0</td>\n",
       "      <td>...</td>\n",
       "      <td>2.3</td>\n",
       "      <td>12.1</td>\n",
       "      <td>7.0</td>\n",
       "      <td>9.4</td>\n",
       "      <td>48.8</td>\n",
       "      <td>52.3</td>\n",
       "      <td>26.4</td>\n",
       "      <td>102.71</td>\n",
       "      <td>9.4</td>\n",
       "      <td>4,961</td>\n",
       "    </tr>\n",
       "    <tr>\n",
       "      <th>1</th>\n",
       "      <td>Bojan Bogdanovic</td>\n",
       "      <td>UTA</td>\n",
       "      <td>32</td>\n",
       "      <td>72</td>\n",
       "      <td>52</td>\n",
       "      <td>20</td>\n",
       "      <td>30.8</td>\n",
       "      <td>116.8</td>\n",
       "      <td>107.3</td>\n",
       "      <td>9.5</td>\n",
       "      <td>...</td>\n",
       "      <td>1.8</td>\n",
       "      <td>9.9</td>\n",
       "      <td>6.0</td>\n",
       "      <td>9.8</td>\n",
       "      <td>53.6</td>\n",
       "      <td>58.8</td>\n",
       "      <td>22.5</td>\n",
       "      <td>99.94</td>\n",
       "      <td>9.4</td>\n",
       "      <td>4,604</td>\n",
       "    </tr>\n",
       "    <tr>\n",
       "      <th>2</th>\n",
       "      <td>Duncan Robinson</td>\n",
       "      <td>MIA</td>\n",
       "      <td>27</td>\n",
       "      <td>72</td>\n",
       "      <td>40</td>\n",
       "      <td>32</td>\n",
       "      <td>31.4</td>\n",
       "      <td>110.6</td>\n",
       "      <td>108.3</td>\n",
       "      <td>2.3</td>\n",
       "      <td>...</td>\n",
       "      <td>0.3</td>\n",
       "      <td>10.9</td>\n",
       "      <td>5.7</td>\n",
       "      <td>8.5</td>\n",
       "      <td>61.4</td>\n",
       "      <td>62.8</td>\n",
       "      <td>16.2</td>\n",
       "      <td>97.55</td>\n",
       "      <td>7.5</td>\n",
       "      <td>4,602</td>\n",
       "    </tr>\n",
       "    <tr>\n",
       "      <th>3</th>\n",
       "      <td>Dwayne Bacon</td>\n",
       "      <td>ORL</td>\n",
       "      <td>25</td>\n",
       "      <td>72</td>\n",
       "      <td>21</td>\n",
       "      <td>51</td>\n",
       "      <td>25.7</td>\n",
       "      <td>101.3</td>\n",
       "      <td>112.8</td>\n",
       "      <td>-11.4</td>\n",
       "      <td>...</td>\n",
       "      <td>1.5</td>\n",
       "      <td>10.2</td>\n",
       "      <td>5.6</td>\n",
       "      <td>4.9</td>\n",
       "      <td>44.3</td>\n",
       "      <td>49.0</td>\n",
       "      <td>19.3</td>\n",
       "      <td>100.39</td>\n",
       "      <td>6.9</td>\n",
       "      <td>3,875</td>\n",
       "    </tr>\n",
       "    <tr>\n",
       "      <th>4</th>\n",
       "      <td>Enes Freedom</td>\n",
       "      <td>POR</td>\n",
       "      <td>29</td>\n",
       "      <td>72</td>\n",
       "      <td>42</td>\n",
       "      <td>30</td>\n",
       "      <td>24.4</td>\n",
       "      <td>119.7</td>\n",
       "      <td>114.8</td>\n",
       "      <td>4.9</td>\n",
       "      <td>...</td>\n",
       "      <td>14.8</td>\n",
       "      <td>28.1</td>\n",
       "      <td>21.3</td>\n",
       "      <td>9.8</td>\n",
       "      <td>60.5</td>\n",
       "      <td>63.6</td>\n",
       "      <td>16.9</td>\n",
       "      <td>98.79</td>\n",
       "      <td>14.1</td>\n",
       "      <td>3,607</td>\n",
       "    </tr>\n",
       "    <tr>\n",
       "      <th>...</th>\n",
       "      <td>...</td>\n",
       "      <td>...</td>\n",
       "      <td>...</td>\n",
       "      <td>...</td>\n",
       "      <td>...</td>\n",
       "      <td>...</td>\n",
       "      <td>...</td>\n",
       "      <td>...</td>\n",
       "      <td>...</td>\n",
       "      <td>...</td>\n",
       "      <td>...</td>\n",
       "      <td>...</td>\n",
       "      <td>...</td>\n",
       "      <td>...</td>\n",
       "      <td>...</td>\n",
       "      <td>...</td>\n",
       "      <td>...</td>\n",
       "      <td>...</td>\n",
       "      <td>...</td>\n",
       "      <td>...</td>\n",
       "      <td>...</td>\n",
       "    </tr>\n",
       "    <tr>\n",
       "      <th>535</th>\n",
       "      <td>Ray Spalding</td>\n",
       "      <td>HOU</td>\n",
       "      <td>24</td>\n",
       "      <td>2</td>\n",
       "      <td>0</td>\n",
       "      <td>2</td>\n",
       "      <td>9.4</td>\n",
       "      <td>90.9</td>\n",
       "      <td>106.8</td>\n",
       "      <td>-15.9</td>\n",
       "      <td>...</td>\n",
       "      <td>8.3</td>\n",
       "      <td>8.3</td>\n",
       "      <td>8.3</td>\n",
       "      <td>37.5</td>\n",
       "      <td>50.0</td>\n",
       "      <td>41.0</td>\n",
       "      <td>15.7</td>\n",
       "      <td>112.74</td>\n",
       "      <td>-2.6</td>\n",
       "      <td>44</td>\n",
       "    </tr>\n",
       "    <tr>\n",
       "      <th>536</th>\n",
       "      <td>Anzejs Pasecniks</td>\n",
       "      <td>WAS</td>\n",
       "      <td>25</td>\n",
       "      <td>1</td>\n",
       "      <td>1</td>\n",
       "      <td>0</td>\n",
       "      <td>6.3</td>\n",
       "      <td>57.1</td>\n",
       "      <td>161.5</td>\n",
       "      <td>-104.4</td>\n",
       "      <td>...</td>\n",
       "      <td>14.3</td>\n",
       "      <td>0.0</td>\n",
       "      <td>8.3</td>\n",
       "      <td>71.4</td>\n",
       "      <td>0.0</td>\n",
       "      <td>0.0</td>\n",
       "      <td>37.5</td>\n",
       "      <td>102.59</td>\n",
       "      <td>-26.0</td>\n",
       "      <td>14</td>\n",
       "    </tr>\n",
       "    <tr>\n",
       "      <th>537</th>\n",
       "      <td>Elijah Bryant</td>\n",
       "      <td>MIL</td>\n",
       "      <td>26</td>\n",
       "      <td>1</td>\n",
       "      <td>0</td>\n",
       "      <td>1</td>\n",
       "      <td>31.6</td>\n",
       "      <td>119.7</td>\n",
       "      <td>105.7</td>\n",
       "      <td>14.0</td>\n",
       "      <td>...</td>\n",
       "      <td>6.5</td>\n",
       "      <td>13.3</td>\n",
       "      <td>9.8</td>\n",
       "      <td>19.0</td>\n",
       "      <td>50.0</td>\n",
       "      <td>55.9</td>\n",
       "      <td>23.1</td>\n",
       "      <td>107.19</td>\n",
       "      <td>7.2</td>\n",
       "      <td>71</td>\n",
       "    </tr>\n",
       "    <tr>\n",
       "      <th>538</th>\n",
       "      <td>Udonis Haslem</td>\n",
       "      <td>MIA</td>\n",
       "      <td>41</td>\n",
       "      <td>1</td>\n",
       "      <td>1</td>\n",
       "      <td>0</td>\n",
       "      <td>2.7</td>\n",
       "      <td>166.7</td>\n",
       "      <td>100.0</td>\n",
       "      <td>66.7</td>\n",
       "      <td>...</td>\n",
       "      <td>0.0</td>\n",
       "      <td>25.0</td>\n",
       "      <td>20.0</td>\n",
       "      <td>0.0</td>\n",
       "      <td>100.0</td>\n",
       "      <td>100.0</td>\n",
       "      <td>28.6</td>\n",
       "      <td>116.78</td>\n",
       "      <td>45.5</td>\n",
       "      <td>6</td>\n",
       "    </tr>\n",
       "    <tr>\n",
       "      <th>539</th>\n",
       "      <td>Will Magnay</td>\n",
       "      <td>NOP</td>\n",
       "      <td>23</td>\n",
       "      <td>1</td>\n",
       "      <td>1</td>\n",
       "      <td>0</td>\n",
       "      <td>3.3</td>\n",
       "      <td>37.5</td>\n",
       "      <td>185.7</td>\n",
       "      <td>-148.2</td>\n",
       "      <td>...</td>\n",
       "      <td>0.0</td>\n",
       "      <td>0.0</td>\n",
       "      <td>0.0</td>\n",
       "      <td>50.0</td>\n",
       "      <td>0.0</td>\n",
       "      <td>0.0</td>\n",
       "      <td>20.0</td>\n",
       "      <td>110.20</td>\n",
       "      <td>-17.1</td>\n",
       "      <td>8</td>\n",
       "    </tr>\n",
       "  </tbody>\n",
       "</table>\n",
       "<p>540 rows × 23 columns</p>\n",
       "</div>"
      ],
      "text/plain": [
       "               PLAYER TEAM AGE  GP   W   L   MIN OFFRTG DEFRTG  NETRTG  ...  \\\n",
       "0     Anthony Edwards  MIN  19  72  23  49  32.1  110.6  115.6    -5.0  ...   \n",
       "1    Bojan Bogdanovic  UTA  32  72  52  20  30.8  116.8  107.3     9.5  ...   \n",
       "2     Duncan Robinson  MIA  27  72  40  32  31.4  110.6  108.3     2.3  ...   \n",
       "3        Dwayne Bacon  ORL  25  72  21  51  25.7  101.3  112.8   -11.4  ...   \n",
       "4        Enes Freedom  POR  29  72  42  30  24.4  119.7  114.8     4.9  ...   \n",
       "..                ...  ...  ..  ..  ..  ..   ...    ...    ...     ...  ...   \n",
       "535      Ray Spalding  HOU  24   2   0   2   9.4   90.9  106.8   -15.9  ...   \n",
       "536  Anzejs Pasecniks  WAS  25   1   1   0   6.3   57.1  161.5  -104.4  ...   \n",
       "537     Elijah Bryant  MIL  26   1   0   1  31.6  119.7  105.7    14.0  ...   \n",
       "538     Udonis Haslem  MIA  41   1   1   0   2.7  166.7  100.0    66.7  ...   \n",
       "539       Will Magnay  NOP  23   1   1   0   3.3   37.5  185.7  -148.2  ...   \n",
       "\n",
       "    OREB% DREB%  REB% TO Ratio   eFG%    TS%  USG%    PACE    PIE   POSS  \n",
       "0     2.3  12.1   7.0      9.4   48.8   52.3  26.4  102.71    9.4  4,961  \n",
       "1     1.8   9.9   6.0      9.8   53.6   58.8  22.5   99.94    9.4  4,604  \n",
       "2     0.3  10.9   5.7      8.5   61.4   62.8  16.2   97.55    7.5  4,602  \n",
       "3     1.5  10.2   5.6      4.9   44.3   49.0  19.3  100.39    6.9  3,875  \n",
       "4    14.8  28.1  21.3      9.8   60.5   63.6  16.9   98.79   14.1  3,607  \n",
       "..    ...   ...   ...      ...    ...    ...   ...     ...    ...    ...  \n",
       "535   8.3   8.3   8.3     37.5   50.0   41.0  15.7  112.74   -2.6     44  \n",
       "536  14.3   0.0   8.3     71.4    0.0    0.0  37.5  102.59  -26.0     14  \n",
       "537   6.5  13.3   9.8     19.0   50.0   55.9  23.1  107.19    7.2     71  \n",
       "538   0.0  25.0  20.0      0.0  100.0  100.0  28.6  116.78   45.5      6  \n",
       "539   0.0   0.0   0.0     50.0    0.0    0.0  20.0  110.20  -17.1      8  \n",
       "\n",
       "[540 rows x 23 columns]"
      ]
     },
     "execution_count": 19,
     "metadata": {},
     "output_type": "execute_result"
    }
   ],
   "source": [
    "advanced"
   ]
  },
  {
   "cell_type": "code",
   "execution_count": 20,
   "id": "e92e4e9c",
   "metadata": {},
   "outputs": [],
   "source": [
    "pd.DataFrame.to_excel(advanced,r\"./Data/General/advancedStats.xlsx\")"
   ]
  },
  {
   "cell_type": "markdown",
   "id": "1b473dcd",
   "metadata": {},
   "source": [
    "### Scraping Rest of General Data"
   ]
  },
  {
   "cell_type": "code",
   "execution_count": 28,
   "id": "98b72e18",
   "metadata": {},
   "outputs": [],
   "source": [
    "def generalScrapper(header):\n",
    "    driver = webdriver.Chrome(ChromeDriverManager().install())\n",
    "    driver.get(f\"https://www.nba.com/stats/players/{header}/?sort=GP&dir=-1&Season=2020-21&SeasonType=Regular%20Season\")\n",
    "    time.sleep(5)\n",
    "    select = Select(driver.find_element(by=By.XPATH, value=r\"/html/body/main/div/div/div[2]/div/div/nba-stat-table/div[1]/div/div/select\"))\n",
    "    select.select_by_index(0)\n",
    "    src = driver.page_source\n",
    "    parser = BeautifulSoup(src, \"lxml\")\n",
    "    table = parser.find(\"div\", attrs = {\"class\":\"nba-stat-table__overflow\"})\n",
    "    headers = table.findAll('th')\n",
    "    headerlist = [h.text.strip() for h in headers[1:]]\n",
    "    headerlist1 = [a for a in headerlist if not 'RANK' in a]\n",
    "    rows = table.findAll('tr')[1:]\n",
    "    player_stats = [[td.getText().strip() for td in rows[i].findAll('td')[1:]] for i in range(len(rows))]\n",
    "    x = pd.DataFrame(player_stats, columns=headerlist1)\n",
    "    pd.DataFrame.to_excel(x,f\"./Data/General/{header}Stats.xlsx\")\n",
    "    driver.quit()"
   ]
  },
  {
   "cell_type": "code",
   "execution_count": 30,
   "id": "d2e1ec22",
   "metadata": {},
   "outputs": [
    {
     "name": "stderr",
     "output_type": "stream",
     "text": [
      "\n",
      "\n",
      "====== WebDriver manager ======\n",
      "Current google-chrome version is 100.0.4896\n",
      "Get LATEST chromedriver version for 100.0.4896 google-chrome\n",
      "Driver [/Users/bryan/.wdm/drivers/chromedriver/mac64_m1/100.0.4896.60/chromedriver] found in cache\n",
      "/var/folders/lk/5c46yk7x18j_h8wp31rl548w0000gn/T/ipykernel_21210/1599883461.py:2: DeprecationWarning: executable_path has been deprecated, please pass in a Service object\n",
      "  driver = webdriver.Chrome(ChromeDriverManager().install())\n",
      "\n",
      "\n",
      "====== WebDriver manager ======\n",
      "Current google-chrome version is 100.0.4896\n",
      "Get LATEST chromedriver version for 100.0.4896 google-chrome\n",
      "Driver [/Users/bryan/.wdm/drivers/chromedriver/mac64_m1/100.0.4896.60/chromedriver] found in cache\n",
      "\n",
      "\n",
      "====== WebDriver manager ======\n",
      "Current google-chrome version is 100.0.4896\n",
      "Get LATEST chromedriver version for 100.0.4896 google-chrome\n",
      "Driver [/Users/bryan/.wdm/drivers/chromedriver/mac64_m1/100.0.4896.60/chromedriver] found in cache\n"
     ]
    }
   ],
   "source": [
    "headers = ['scoring','defense']\n",
    "for x in headers:\n",
    "    generalScrapper(x)"
   ]
  },
  {
   "cell_type": "markdown",
   "id": "3e9e902f",
   "metadata": {},
   "source": [
    "## Scrapping Tracking Stats"
   ]
  },
  {
   "cell_type": "code",
   "execution_count": 52,
   "id": "bc57af06",
   "metadata": {},
   "outputs": [],
   "source": [
    "def trackingScrapper(header):\n",
    "    driver = webdriver.Chrome(ChromeDriverManager().install())\n",
    "    driver.get(f\"https://www.nba.com/stats/players/{header}/?Season=2020-21&SeasonType=Regular%20Season\")\n",
    "    time.sleep(5)\n",
    "    select = Select(driver.find_element(by=By.XPATH, value=r\"/html/body/main/div/div/div[2]/div/div/nba-stat-table/div[1]/div/div/select\"))\n",
    "    select.select_by_index(0)\n",
    "    src = driver.page_source\n",
    "    parser = BeautifulSoup(src, \"lxml\")\n",
    "    table = parser.find(\"div\", attrs = {\"class\":\"nba-stat-table__overflow\"})\n",
    "    headers = table.findAll('th')\n",
    "    headerlist = [h.text.strip() for h in headers[1:]]\n",
    "    headerlist1 = [a for a in headerlist if not 'RANK' in a]\n",
    "    rows = table.findAll('tr')[1:]\n",
    "    player_stats = [[td.getText().strip() for td in rows[i].findAll('td')[1:]] for i in range(len(rows))]\n",
    "    x = pd.DataFrame(player_stats, columns=headerlist1)\n",
    "    pd.DataFrame.to_excel(x,f\"./Data/Tracking/tracking-{header}Stats.xlsx\")\n",
    "    driver.quit()\n",
    "    \n"
   ]
  },
  {
   "cell_type": "code",
   "execution_count": 56,
   "id": "938d564e",
   "metadata": {},
   "outputs": [],
   "source": [
    "tracking = [\"drives\",\"defensive-impact\",\"catch-shoot\",\"passing\",\"touches\",\"pullup\",\"rebounding\",\"offensive-rebounding\",\"defensive-rebounding\",\"speed-distance\",\"tracking-post-ups\",\"paint-touch\"]"
   ]
  },
  {
   "cell_type": "code",
   "execution_count": 57,
   "id": "0d56f4dd",
   "metadata": {},
   "outputs": [
    {
     "name": "stderr",
     "output_type": "stream",
     "text": [
      "\n",
      "\n",
      "====== WebDriver manager ======\n",
      "Current google-chrome version is 100.0.4896\n",
      "Get LATEST chromedriver version for 100.0.4896 google-chrome\n",
      "Driver [/Users/bryan/.wdm/drivers/chromedriver/mac64_m1/100.0.4896.60/chromedriver] found in cache\n",
      "/var/folders/lk/5c46yk7x18j_h8wp31rl548w0000gn/T/ipykernel_21210/1604764956.py:2: DeprecationWarning: executable_path has been deprecated, please pass in a Service object\n",
      "  driver = webdriver.Chrome(ChromeDriverManager().install())\n",
      "\n",
      "\n",
      "====== WebDriver manager ======\n",
      "Current google-chrome version is 100.0.4896\n",
      "Get LATEST chromedriver version for 100.0.4896 google-chrome\n",
      "Driver [/Users/bryan/.wdm/drivers/chromedriver/mac64_m1/100.0.4896.60/chromedriver] found in cache\n",
      "\n",
      "\n",
      "====== WebDriver manager ======\n",
      "Current google-chrome version is 100.0.4896\n",
      "Get LATEST chromedriver version for 100.0.4896 google-chrome\n",
      "Driver [/Users/bryan/.wdm/drivers/chromedriver/mac64_m1/100.0.4896.60/chromedriver] found in cache\n",
      "\n",
      "\n",
      "====== WebDriver manager ======\n",
      "Current google-chrome version is 100.0.4896\n",
      "Get LATEST chromedriver version for 100.0.4896 google-chrome\n",
      "Driver [/Users/bryan/.wdm/drivers/chromedriver/mac64_m1/100.0.4896.60/chromedriver] found in cache\n",
      "\n",
      "\n",
      "====== WebDriver manager ======\n",
      "Current google-chrome version is 100.0.4896\n",
      "Get LATEST chromedriver version for 100.0.4896 google-chrome\n",
      "Driver [/Users/bryan/.wdm/drivers/chromedriver/mac64_m1/100.0.4896.60/chromedriver] found in cache\n",
      "\n",
      "\n",
      "====== WebDriver manager ======\n",
      "Current google-chrome version is 100.0.4896\n",
      "Get LATEST chromedriver version for 100.0.4896 google-chrome\n",
      "Driver [/Users/bryan/.wdm/drivers/chromedriver/mac64_m1/100.0.4896.60/chromedriver] found in cache\n",
      "\n",
      "\n",
      "====== WebDriver manager ======\n",
      "Current google-chrome version is 100.0.4896\n",
      "Get LATEST chromedriver version for 100.0.4896 google-chrome\n",
      "Driver [/Users/bryan/.wdm/drivers/chromedriver/mac64_m1/100.0.4896.60/chromedriver] found in cache\n",
      "\n",
      "\n",
      "====== WebDriver manager ======\n",
      "Current google-chrome version is 100.0.4896\n",
      "Get LATEST chromedriver version for 100.0.4896 google-chrome\n",
      "Driver [/Users/bryan/.wdm/drivers/chromedriver/mac64_m1/100.0.4896.60/chromedriver] found in cache\n",
      "\n",
      "\n",
      "====== WebDriver manager ======\n",
      "Current google-chrome version is 100.0.4896\n",
      "Get LATEST chromedriver version for 100.0.4896 google-chrome\n",
      "Driver [/Users/bryan/.wdm/drivers/chromedriver/mac64_m1/100.0.4896.60/chromedriver] found in cache\n"
     ]
    }
   ],
   "source": [
    "for x in tracking:\n",
    "    trackingScrapper(x)"
   ]
  }
 ],
 "metadata": {
  "kernelspec": {
   "display_name": "Python 3.9 (tensorflow)",
   "language": "python",
   "name": "tensorflow"
  },
  "language_info": {
   "codemirror_mode": {
    "name": "ipython",
    "version": 3
   },
   "file_extension": ".py",
   "mimetype": "text/x-python",
   "name": "python",
   "nbconvert_exporter": "python",
   "pygments_lexer": "ipython3",
   "version": "3.9.7"
  }
 },
 "nbformat": 4,
 "nbformat_minor": 5
}
