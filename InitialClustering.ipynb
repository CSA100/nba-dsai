{
 "cells": [
  {
   "cell_type": "code",
   "execution_count": 1,
   "metadata": {},
   "outputs": [],
   "source": [
    "import pandas as pd\n",
    "import matplotlib.pyplot as plt\n",
    "from sklearn.preprocessing import StandardScaler\n",
    "from pyclustertend import hopkins\n",
    "from sklearn.cluster import AgglomerativeClustering\n",
    "import numpy as np\n",
    "from scipy.cluster.hierarchy import dendrogram, linkage\n",
    "from scipy.cluster.hierarchy import fcluster\n",
    "import plotly.express as px\n",
    "from mpl_toolkits.mplot3d import Axes3D\n",
    "import numpy as np"
   ]
  },
  {
   "cell_type": "code",
   "execution_count": 2,
   "metadata": {},
   "outputs": [],
   "source": [
    "def plot_dendrogram(model, **kwargs):\n",
    "    # Create linkage matrix and then plot the dendrogram\n",
    "\n",
    "    # create the counts of samples under each node\n",
    "    counts = np.zeros(model.children_.shape[0])\n",
    "    n_samples = len(model.labels_)\n",
    "    for i, merge in enumerate(model.children_):\n",
    "        current_count = 0\n",
    "        for child_idx in merge:\n",
    "            if child_idx < n_samples:\n",
    "                current_count += 1  # leaf node\n",
    "            else:\n",
    "                current_count += counts[child_idx - n_samples]\n",
    "        counts[i] = current_count\n",
    "\n",
    "    linkage_matrix = np.column_stack(\n",
    "        [model.children_, model.distances_, counts]\n",
    "    ).astype(float)\n",
    "\n",
    "    # Plot the corresponding dendrogram\n",
    "    dendrogram(linkage_matrix, **kwargs)\n",
    "\n",
    "def create_cluster(linked, max_d):\n",
    "    clusters = fcluster(linked, max_d, criterion='distance')\n",
    "    return clusters"
   ]
  },
  {
   "cell_type": "code",
   "execution_count": 4,
   "metadata": {},
   "outputs": [
    {
     "data": {
      "text/html": [
       "<div>\n",
       "<style scoped>\n",
       "    .dataframe tbody tr th:only-of-type {\n",
       "        vertical-align: middle;\n",
       "    }\n",
       "\n",
       "    .dataframe tbody tr th {\n",
       "        vertical-align: top;\n",
       "    }\n",
       "\n",
       "    .dataframe thead th {\n",
       "        text-align: right;\n",
       "    }\n",
       "</style>\n",
       "<table border=\"1\" class=\"dataframe\">\n",
       "  <thead>\n",
       "    <tr style=\"text-align: right;\">\n",
       "      <th></th>\n",
       "      <th>PC1</th>\n",
       "      <th>PC2</th>\n",
       "      <th>PC3</th>\n",
       "      <th>PC4</th>\n",
       "      <th>PC5</th>\n",
       "    </tr>\n",
       "  </thead>\n",
       "  <tbody>\n",
       "    <tr>\n",
       "      <th>count</th>\n",
       "      <td>397.0</td>\n",
       "      <td>397.0</td>\n",
       "      <td>397.0</td>\n",
       "      <td>397.0</td>\n",
       "      <td>397.0</td>\n",
       "    </tr>\n",
       "    <tr>\n",
       "      <th>mean</th>\n",
       "      <td>0.0</td>\n",
       "      <td>0.0</td>\n",
       "      <td>-0.0</td>\n",
       "      <td>-0.0</td>\n",
       "      <td>-0.0</td>\n",
       "    </tr>\n",
       "    <tr>\n",
       "      <th>std</th>\n",
       "      <td>5.5</td>\n",
       "      <td>4.7</td>\n",
       "      <td>2.9</td>\n",
       "      <td>2.5</td>\n",
       "      <td>2.2</td>\n",
       "    </tr>\n",
       "    <tr>\n",
       "      <th>min</th>\n",
       "      <td>-10.6</td>\n",
       "      <td>-8.3</td>\n",
       "      <td>-7.1</td>\n",
       "      <td>-6.6</td>\n",
       "      <td>-5.5</td>\n",
       "    </tr>\n",
       "    <tr>\n",
       "      <th>25%</th>\n",
       "      <td>-4.1</td>\n",
       "      <td>-3.4</td>\n",
       "      <td>-2.0</td>\n",
       "      <td>-1.7</td>\n",
       "      <td>-1.5</td>\n",
       "    </tr>\n",
       "    <tr>\n",
       "      <th>50%</th>\n",
       "      <td>-1.2</td>\n",
       "      <td>-1.1</td>\n",
       "      <td>-0.2</td>\n",
       "      <td>-0.1</td>\n",
       "      <td>-0.2</td>\n",
       "    </tr>\n",
       "    <tr>\n",
       "      <th>75%</th>\n",
       "      <td>3.2</td>\n",
       "      <td>2.2</td>\n",
       "      <td>2.0</td>\n",
       "      <td>1.7</td>\n",
       "      <td>1.3</td>\n",
       "    </tr>\n",
       "    <tr>\n",
       "      <th>max</th>\n",
       "      <td>17.5</td>\n",
       "      <td>16.2</td>\n",
       "      <td>8.4</td>\n",
       "      <td>8.8</td>\n",
       "      <td>7.9</td>\n",
       "    </tr>\n",
       "  </tbody>\n",
       "</table>\n",
       "</div>"
      ],
      "text/plain": [
       "         PC1    PC2    PC3    PC4    PC5\n",
       "count  397.0  397.0  397.0  397.0  397.0\n",
       "mean     0.0    0.0   -0.0   -0.0   -0.0\n",
       "std      5.5    4.7    2.9    2.5    2.2\n",
       "min    -10.6   -8.3   -7.1   -6.6   -5.5\n",
       "25%     -4.1   -3.4   -2.0   -1.7   -1.5\n",
       "50%     -1.2   -1.1   -0.2   -0.1   -0.2\n",
       "75%      3.2    2.2    2.0    1.7    1.3\n",
       "max     17.5   16.2    8.4    8.8    7.9"
      ]
     },
     "execution_count": 4,
     "metadata": {},
     "output_type": "execute_result"
    }
   ],
   "source": [
    "pcaData = pd.read_csv('./Data/PCAData.csv')\n",
    "pcaData.drop(['Player','Team'],axis=1,inplace=True)\n",
    "pcaData.describe().round(1)"
   ]
  },
  {
   "cell_type": "code",
   "execution_count": 5,
   "metadata": {},
   "outputs": [],
   "source": [
    "# to standardise the principle components\n",
    "scaler = StandardScaler()\n",
    "pcaDataScaled = scaler.fit_transform(pcaData)"
   ]
  },
  {
   "cell_type": "code",
   "execution_count": 6,
   "metadata": {},
   "outputs": [
    {
     "data": {
      "text/html": [
       "<div>\n",
       "<style scoped>\n",
       "    .dataframe tbody tr th:only-of-type {\n",
       "        vertical-align: middle;\n",
       "    }\n",
       "\n",
       "    .dataframe tbody tr th {\n",
       "        vertical-align: top;\n",
       "    }\n",
       "\n",
       "    .dataframe thead th {\n",
       "        text-align: right;\n",
       "    }\n",
       "</style>\n",
       "<table border=\"1\" class=\"dataframe\">\n",
       "  <thead>\n",
       "    <tr style=\"text-align: right;\">\n",
       "      <th></th>\n",
       "      <th>PC1</th>\n",
       "      <th>PC2</th>\n",
       "      <th>PC3</th>\n",
       "      <th>PC4</th>\n",
       "      <th>PC5</th>\n",
       "    </tr>\n",
       "  </thead>\n",
       "  <tbody>\n",
       "    <tr>\n",
       "      <th>count</th>\n",
       "      <td>397.0</td>\n",
       "      <td>397.0</td>\n",
       "      <td>397.0</td>\n",
       "      <td>397.0</td>\n",
       "      <td>397.0</td>\n",
       "    </tr>\n",
       "    <tr>\n",
       "      <th>mean</th>\n",
       "      <td>0.0</td>\n",
       "      <td>0.0</td>\n",
       "      <td>0.0</td>\n",
       "      <td>-0.0</td>\n",
       "      <td>-0.0</td>\n",
       "    </tr>\n",
       "    <tr>\n",
       "      <th>std</th>\n",
       "      <td>1.0</td>\n",
       "      <td>1.0</td>\n",
       "      <td>1.0</td>\n",
       "      <td>1.0</td>\n",
       "      <td>1.0</td>\n",
       "    </tr>\n",
       "    <tr>\n",
       "      <th>min</th>\n",
       "      <td>-1.9</td>\n",
       "      <td>-1.8</td>\n",
       "      <td>-2.5</td>\n",
       "      <td>-2.6</td>\n",
       "      <td>-2.5</td>\n",
       "    </tr>\n",
       "    <tr>\n",
       "      <th>25%</th>\n",
       "      <td>-0.7</td>\n",
       "      <td>-0.7</td>\n",
       "      <td>-0.7</td>\n",
       "      <td>-0.7</td>\n",
       "      <td>-0.7</td>\n",
       "    </tr>\n",
       "    <tr>\n",
       "      <th>50%</th>\n",
       "      <td>-0.2</td>\n",
       "      <td>-0.2</td>\n",
       "      <td>-0.1</td>\n",
       "      <td>-0.0</td>\n",
       "      <td>-0.1</td>\n",
       "    </tr>\n",
       "    <tr>\n",
       "      <th>75%</th>\n",
       "      <td>0.6</td>\n",
       "      <td>0.5</td>\n",
       "      <td>0.7</td>\n",
       "      <td>0.7</td>\n",
       "      <td>0.6</td>\n",
       "    </tr>\n",
       "    <tr>\n",
       "      <th>max</th>\n",
       "      <td>3.2</td>\n",
       "      <td>3.5</td>\n",
       "      <td>2.9</td>\n",
       "      <td>3.5</td>\n",
       "      <td>3.6</td>\n",
       "    </tr>\n",
       "  </tbody>\n",
       "</table>\n",
       "</div>"
      ],
      "text/plain": [
       "         PC1    PC2    PC3    PC4    PC5\n",
       "count  397.0  397.0  397.0  397.0  397.0\n",
       "mean     0.0    0.0    0.0   -0.0   -0.0\n",
       "std      1.0    1.0    1.0    1.0    1.0\n",
       "min     -1.9   -1.8   -2.5   -2.6   -2.5\n",
       "25%     -0.7   -0.7   -0.7   -0.7   -0.7\n",
       "50%     -0.2   -0.2   -0.1   -0.0   -0.1\n",
       "75%      0.6    0.5    0.7    0.7    0.6\n",
       "max      3.2    3.5    2.9    3.5    3.6"
      ]
     },
     "execution_count": 6,
     "metadata": {},
     "output_type": "execute_result"
    }
   ],
   "source": [
    "# check if components are standardised\n",
    "pcaDataScaled = pd.DataFrame(pcaDataScaled, columns = ['PC1','PC2','PC3','PC4','PC5'])\n",
    "pcaDataScaled.describe().round(1)"
   ]
  },
  {
   "cell_type": "code",
   "execution_count": 7,
   "metadata": {},
   "outputs": [
    {
     "data": {
      "text/plain": [
       "0.29442710652257886"
      ]
     },
     "execution_count": 7,
     "metadata": {},
     "output_type": "execute_result"
    }
   ],
   "source": [
    "# conducting hopkins test\n",
    "hopkins(pcaDataScaled,pcaDataScaled.shape[0])"
   ]
  },
  {
   "cell_type": "code",
   "execution_count": 8,
   "metadata": {},
   "outputs": [
    {
     "data": {
      "image/png": "[encoded data removed]",
      "text/plain": [
       "<Figure size 432x288 with 1 Axes>"
      ]
     },
     "metadata": {
      "needs_background": "light"
     },
     "output_type": "display_data"
    }
   ],
   "source": [
    "completeLinkage = AgglomerativeClustering(distance_threshold=0, n_clusters=None,linkage='complete')\n",
    "completeLinknage = completeLinkage.fit(pcaDataScaled)\n",
    "plt.title(\"Hierarchical Clustering Dendrogram\")\n",
    "plot_dendrogram(completeLinkage, truncate_mode=\"level\", p=5)\n",
    "plt.show()"
   ]
  },
  {
   "cell_type": "code",
   "execution_count": 9,
   "metadata": {},
   "outputs": [
    {
     "data": {
      "text/html": [
       "<div>\n",
       "<style scoped>\n",
       "    .dataframe tbody tr th:only-of-type {\n",
       "        vertical-align: middle;\n",
       "    }\n",
       "\n",
       "    .dataframe tbody tr th {\n",
       "        vertical-align: top;\n",
       "    }\n",
       "\n",
       "    .dataframe thead th {\n",
       "        text-align: right;\n",
       "    }\n",
       "</style>\n",
       "<table border=\"1\" class=\"dataframe\">\n",
       "  <thead>\n",
       "    <tr style=\"text-align: right;\">\n",
       "      <th></th>\n",
       "      <th>PC1</th>\n",
       "      <th>PC2</th>\n",
       "      <th>PC3</th>\n",
       "      <th>PC4</th>\n",
       "      <th>PC5</th>\n",
       "    </tr>\n",
       "    <tr>\n",
       "      <th>completeCluster</th>\n",
       "      <th></th>\n",
       "      <th></th>\n",
       "      <th></th>\n",
       "      <th></th>\n",
       "      <th></th>\n",
       "    </tr>\n",
       "  </thead>\n",
       "  <tbody>\n",
       "    <tr>\n",
       "      <th>1</th>\n",
       "      <td>2.149814</td>\n",
       "      <td>2.428126</td>\n",
       "      <td>-0.286239</td>\n",
       "      <td>2.235113</td>\n",
       "      <td>1.809194</td>\n",
       "    </tr>\n",
       "    <tr>\n",
       "      <th>2</th>\n",
       "      <td>-0.713528</td>\n",
       "      <td>0.128129</td>\n",
       "      <td>0.523131</td>\n",
       "      <td>0.628417</td>\n",
       "      <td>-0.689473</td>\n",
       "    </tr>\n",
       "    <tr>\n",
       "      <th>3</th>\n",
       "      <td>-0.112396</td>\n",
       "      <td>-0.605595</td>\n",
       "      <td>0.020748</td>\n",
       "      <td>-0.082019</td>\n",
       "      <td>0.950241</td>\n",
       "    </tr>\n",
       "    <tr>\n",
       "      <th>4</th>\n",
       "      <td>-0.121404</td>\n",
       "      <td>-0.154047</td>\n",
       "      <td>-0.974555</td>\n",
       "      <td>-0.058637</td>\n",
       "      <td>-0.478672</td>\n",
       "    </tr>\n",
       "    <tr>\n",
       "      <th>5</th>\n",
       "      <td>-0.499237</td>\n",
       "      <td>1.786589</td>\n",
       "      <td>0.137150</td>\n",
       "      <td>-0.932125</td>\n",
       "      <td>0.168941</td>\n",
       "    </tr>\n",
       "    <tr>\n",
       "      <th>6</th>\n",
       "      <td>1.571220</td>\n",
       "      <td>-0.330664</td>\n",
       "      <td>0.907259</td>\n",
       "      <td>-0.156967</td>\n",
       "      <td>-0.539615</td>\n",
       "    </tr>\n",
       "  </tbody>\n",
       "</table>\n",
       "</div>"
      ],
      "text/plain": [
       "                      PC1       PC2       PC3       PC4       PC5\n",
       "completeCluster                                                  \n",
       "1                2.149814  2.428126 -0.286239  2.235113  1.809194\n",
       "2               -0.713528  0.128129  0.523131  0.628417 -0.689473\n",
       "3               -0.112396 -0.605595  0.020748 -0.082019  0.950241\n",
       "4               -0.121404 -0.154047 -0.974555 -0.058637 -0.478672\n",
       "5               -0.499237  1.786589  0.137150 -0.932125  0.168941\n",
       "6                1.571220 -0.330664  0.907259 -0.156967 -0.539615"
      ]
     },
     "execution_count": 9,
     "metadata": {},
     "output_type": "execute_result"
    }
   ],
   "source": [
    "linkageMatrix = linkage(pcaDataScaled,'complete')\n",
    "pcaDataScaled['completeCluster'] = create_cluster(linkageMatrix,6)\n",
    "pcaDataScaled.groupby('completeCluster').mean()"
   ]
  },
  {
   "cell_type": "code",
   "execution_count": 10,
   "metadata": {},
   "outputs": [
    {
     "data": {
      "text/plain": [
       "3    116\n",
       "4     99\n",
       "2     77\n",
       "6     55\n",
       "5     43\n",
       "1      7\n",
       "Name: completeCluster, dtype: int64"
      ]
     },
     "execution_count": 10,
     "metadata": {},
     "output_type": "execute_result"
    }
   ],
   "source": [
    "pcaDataScaled['completeCluster'].value_counts()"
   ]
  },
  {
   "cell_type": "code",
   "execution_count": 11,
   "metadata": {},
   "outputs": [
    {
     "data": {
      "image/png": "[encoded data removed]",
      "text/plain": [
       "<Figure size 432x288 with 1 Axes>"
      ]
     },
     "metadata": {
      "needs_background": "light"
     },
     "output_type": "display_data"
    }
   ],
   "source": [
    "wardLinkage = AgglomerativeClustering(distance_threshold=0, n_clusters=None,linkage='ward')\n",
    "wardLinkage = wardLinkage.fit(pcaDataScaled)\n",
    "plt.title(\"Hierarchical Clustering Dendrogram\")\n",
    "plot_dendrogram(wardLinkage, truncate_mode=\"level\", p=5)\n",
    "plt.show()"
   ]
  },
  {
   "cell_type": "code",
   "execution_count": 12,
   "metadata": {},
   "outputs": [
    {
     "data": {
      "text/html": [
       "<div>\n",
       "<style scoped>\n",
       "    .dataframe tbody tr th:only-of-type {\n",
       "        vertical-align: middle;\n",
       "    }\n",
       "\n",
       "    .dataframe tbody tr th {\n",
       "        vertical-align: top;\n",
       "    }\n",
       "\n",
       "    .dataframe thead th {\n",
       "        text-align: right;\n",
       "    }\n",
       "</style>\n",
       "<table border=\"1\" class=\"dataframe\">\n",
       "  <thead>\n",
       "    <tr style=\"text-align: right;\">\n",
       "      <th></th>\n",
       "      <th>PC1</th>\n",
       "      <th>PC2</th>\n",
       "      <th>PC3</th>\n",
       "      <th>PC4</th>\n",
       "      <th>PC5</th>\n",
       "      <th>completeCluster</th>\n",
       "    </tr>\n",
       "    <tr>\n",
       "      <th>wardCluster</th>\n",
       "      <th></th>\n",
       "      <th></th>\n",
       "      <th></th>\n",
       "      <th></th>\n",
       "      <th></th>\n",
       "      <th></th>\n",
       "    </tr>\n",
       "  </thead>\n",
       "  <tbody>\n",
       "    <tr>\n",
       "      <th>1</th>\n",
       "      <td>0.034078</td>\n",
       "      <td>-0.707318</td>\n",
       "      <td>-0.096884</td>\n",
       "      <td>-0.712958</td>\n",
       "      <td>0.677243</td>\n",
       "      <td>3.000000</td>\n",
       "    </tr>\n",
       "    <tr>\n",
       "      <th>2</th>\n",
       "      <td>-0.319899</td>\n",
       "      <td>-0.461486</td>\n",
       "      <td>0.187393</td>\n",
       "      <td>0.811811</td>\n",
       "      <td>1.336988</td>\n",
       "      <td>3.000000</td>\n",
       "    </tr>\n",
       "    <tr>\n",
       "      <th>3</th>\n",
       "      <td>2.149814</td>\n",
       "      <td>2.428126</td>\n",
       "      <td>-0.286239</td>\n",
       "      <td>2.235113</td>\n",
       "      <td>1.809194</td>\n",
       "      <td>1.000000</td>\n",
       "    </tr>\n",
       "    <tr>\n",
       "      <th>4</th>\n",
       "      <td>-0.471376</td>\n",
       "      <td>-0.332522</td>\n",
       "      <td>-0.107311</td>\n",
       "      <td>1.586861</td>\n",
       "      <td>-1.107776</td>\n",
       "      <td>2.000000</td>\n",
       "    </tr>\n",
       "    <tr>\n",
       "      <th>5</th>\n",
       "      <td>-0.829948</td>\n",
       "      <td>0.349596</td>\n",
       "      <td>0.826228</td>\n",
       "      <td>0.167626</td>\n",
       "      <td>-0.488365</td>\n",
       "      <td>2.000000</td>\n",
       "    </tr>\n",
       "    <tr>\n",
       "      <th>6</th>\n",
       "      <td>1.571220</td>\n",
       "      <td>-0.330664</td>\n",
       "      <td>0.907259</td>\n",
       "      <td>-0.156967</td>\n",
       "      <td>-0.539615</td>\n",
       "      <td>6.000000</td>\n",
       "    </tr>\n",
       "    <tr>\n",
       "      <th>7</th>\n",
       "      <td>-0.550549</td>\n",
       "      <td>1.916783</td>\n",
       "      <td>0.179293</td>\n",
       "      <td>-0.885711</td>\n",
       "      <td>0.184537</td>\n",
       "      <td>5.000000</td>\n",
       "    </tr>\n",
       "    <tr>\n",
       "      <th>8</th>\n",
       "      <td>-0.112395</td>\n",
       "      <td>-0.148026</td>\n",
       "      <td>-0.958384</td>\n",
       "      <td>-0.102530</td>\n",
       "      <td>-0.465741</td>\n",
       "      <td>4.029412</td>\n",
       "    </tr>\n",
       "  </tbody>\n",
       "</table>\n",
       "</div>"
      ],
      "text/plain": [
       "                  PC1       PC2       PC3       PC4       PC5  completeCluster\n",
       "wardCluster                                                                   \n",
       "1            0.034078 -0.707318 -0.096884 -0.712958  0.677243         3.000000\n",
       "2           -0.319899 -0.461486  0.187393  0.811811  1.336988         3.000000\n",
       "3            2.149814  2.428126 -0.286239  2.235113  1.809194         1.000000\n",
       "4           -0.471376 -0.332522 -0.107311  1.586861 -1.107776         2.000000\n",
       "5           -0.829948  0.349596  0.826228  0.167626 -0.488365         2.000000\n",
       "6            1.571220 -0.330664  0.907259 -0.156967 -0.539615         6.000000\n",
       "7           -0.550549  1.916783  0.179293 -0.885711  0.184537         5.000000\n",
       "8           -0.112395 -0.148026 -0.958384 -0.102530 -0.465741         4.029412"
      ]
     },
     "execution_count": 12,
     "metadata": {},
     "output_type": "execute_result"
    }
   ],
   "source": [
    "linkageMatrix = linkage(pcaDataScaled,'ward')\n",
    "pcaDataScaled['wardCluster'] = create_cluster(linkageMatrix,11)\n",
    "pcaDataScaled.groupby('wardCluster').mean()"
   ]
  },
  {
   "cell_type": "code",
   "execution_count": 13,
   "metadata": {},
   "outputs": [
    {
     "data": {
      "text/plain": [
       "8    102\n",
       "1     68\n",
       "6     55\n",
       "5     52\n",
       "2     48\n",
       "7     40\n",
       "4     25\n",
       "3      7\n",
       "Name: wardCluster, dtype: int64"
      ]
     },
     "execution_count": 13,
     "metadata": {},
     "output_type": "execute_result"
    }
   ],
   "source": [
    "pcaDataScaled['wardCluster'].value_counts()"
   ]
  },
  {
   "cell_type": "code",
   "execution_count": 14,
   "metadata": {},
   "outputs": [
    {
     "data": {
      "image/png": "[encoded data removed]",
      "text/plain": [
       "<Figure size 432x288 with 1 Axes>"
      ]
     },
     "metadata": {
      "needs_background": "light"
     },
     "output_type": "display_data"
    }
   ],
   "source": [
    "singleLinkage = AgglomerativeClustering(distance_threshold=0, n_clusters=None,linkage='single')\n",
    "singleLinkage = singleLinkage.fit(pcaDataScaled)\n",
    "plt.title(\"Hierarchical Clustering Dendrogram\")\n",
    "plot_dendrogram(singleLinkage, truncate_mode=\"level\", p=5)\n",
    "plt.show()"
   ]
  },
  {
   "cell_type": "code",
   "execution_count": 15,
   "metadata": {},
   "outputs": [
    {
     "data": {
      "text/html": [
       "<div>\n",
       "<style scoped>\n",
       "    .dataframe tbody tr th:only-of-type {\n",
       "        vertical-align: middle;\n",
       "    }\n",
       "\n",
       "    .dataframe tbody tr th {\n",
       "        vertical-align: top;\n",
       "    }\n",
       "\n",
       "    .dataframe thead th {\n",
       "        text-align: right;\n",
       "    }\n",
       "</style>\n",
       "<table border=\"1\" class=\"dataframe\">\n",
       "  <thead>\n",
       "    <tr style=\"text-align: right;\">\n",
       "      <th></th>\n",
       "      <th>PC1</th>\n",
       "      <th>PC2</th>\n",
       "      <th>PC3</th>\n",
       "      <th>PC4</th>\n",
       "      <th>PC5</th>\n",
       "      <th>completeCluster</th>\n",
       "      <th>wardCluster</th>\n",
       "    </tr>\n",
       "    <tr>\n",
       "      <th>singleCluster</th>\n",
       "      <th></th>\n",
       "      <th></th>\n",
       "      <th></th>\n",
       "      <th></th>\n",
       "      <th></th>\n",
       "      <th></th>\n",
       "      <th></th>\n",
       "    </tr>\n",
       "  </thead>\n",
       "  <tbody>\n",
       "    <tr>\n",
       "      <th>1</th>\n",
       "      <td>3.579560e-17</td>\n",
       "      <td>-5.654587e-16</td>\n",
       "      <td>-1.465383e-16</td>\n",
       "      <td>-7.124164e-17</td>\n",
       "      <td>-1.188526e-18</td>\n",
       "      <td>3.652393</td>\n",
       "      <td>4.964736</td>\n",
       "    </tr>\n",
       "  </tbody>\n",
       "</table>\n",
       "</div>"
      ],
      "text/plain": [
       "                        PC1           PC2           PC3           PC4  \\\n",
       "singleCluster                                                           \n",
       "1              3.579560e-17 -5.654587e-16 -1.465383e-16 -7.124164e-17   \n",
       "\n",
       "                        PC5  completeCluster  wardCluster  \n",
       "singleCluster                                              \n",
       "1             -1.188526e-18         3.652393     4.964736  "
      ]
     },
     "execution_count": 15,
     "metadata": {},
     "output_type": "execute_result"
    }
   ],
   "source": [
    "linkageMatrix = linkage(pcaDataScaled,'single')\n",
    "pcaDataScaled['singleCluster'] = create_cluster(linkageMatrix,11)\n",
    "pcaDataScaled.groupby('singleCluster').mean()"
   ]
  },
  {
   "cell_type": "code",
   "execution_count": 16,
   "metadata": {},
   "outputs": [
    {
     "data": {
      "text/plain": [
       "1    397\n",
       "Name: singleCluster, dtype: int64"
      ]
     },
     "execution_count": 16,
     "metadata": {},
     "output_type": "execute_result"
    }
   ],
   "source": [
    "pcaDataScaled['singleCluster'].value_counts()"
   ]
  },
  {
   "cell_type": "code",
   "execution_count": 17,
   "metadata": {},
   "outputs": [
    {
     "data": {
      "image/png": "[encoded data removed]",
      "text/plain": [
       "<Figure size 432x288 with 1 Axes>"
      ]
     },
     "metadata": {
      "needs_background": "light"
     },
     "output_type": "display_data"
    }
   ],
   "source": [
    "avgLinkage = AgglomerativeClustering(distance_threshold=0, n_clusters=None,linkage='average')\n",
    "avgLinkage = avgLinkage.fit(pcaDataScaled)\n",
    "plt.title(\"Hierarchical Clustering Dendrogram\")\n",
    "plot_dendrogram(avgLinkage, truncate_mode=\"level\", p=5)\n",
    "plt.show()"
   ]
  },
  {
   "cell_type": "code",
   "execution_count": 18,
   "metadata": {},
   "outputs": [
    {
     "data": {
      "text/html": [
       "<div>\n",
       "<style scoped>\n",
       "    .dataframe tbody tr th:only-of-type {\n",
       "        vertical-align: middle;\n",
       "    }\n",
       "\n",
       "    .dataframe tbody tr th {\n",
       "        vertical-align: top;\n",
       "    }\n",
       "\n",
       "    .dataframe thead th {\n",
       "        text-align: right;\n",
       "    }\n",
       "</style>\n",
       "<table border=\"1\" class=\"dataframe\">\n",
       "  <thead>\n",
       "    <tr style=\"text-align: right;\">\n",
       "      <th></th>\n",
       "      <th>PC1</th>\n",
       "      <th>PC2</th>\n",
       "      <th>PC3</th>\n",
       "      <th>PC4</th>\n",
       "      <th>PC5</th>\n",
       "      <th>completeCluster</th>\n",
       "      <th>wardCluster</th>\n",
       "      <th>singleCluster</th>\n",
       "    </tr>\n",
       "    <tr>\n",
       "      <th>averageCluster</th>\n",
       "      <th></th>\n",
       "      <th></th>\n",
       "      <th></th>\n",
       "      <th></th>\n",
       "      <th></th>\n",
       "      <th></th>\n",
       "      <th></th>\n",
       "      <th></th>\n",
       "    </tr>\n",
       "  </thead>\n",
       "  <tbody>\n",
       "    <tr>\n",
       "      <th>1</th>\n",
       "      <td>1.571220</td>\n",
       "      <td>-0.330664</td>\n",
       "      <td>0.907259</td>\n",
       "      <td>-0.156967</td>\n",
       "      <td>-0.539615</td>\n",
       "      <td>6.000000</td>\n",
       "      <td>6.000000</td>\n",
       "      <td>1.0</td>\n",
       "    </tr>\n",
       "    <tr>\n",
       "      <th>2</th>\n",
       "      <td>-0.235819</td>\n",
       "      <td>0.433610</td>\n",
       "      <td>-0.637912</td>\n",
       "      <td>-0.323144</td>\n",
       "      <td>-0.282564</td>\n",
       "      <td>4.302817</td>\n",
       "      <td>7.718310</td>\n",
       "      <td>1.0</td>\n",
       "    </tr>\n",
       "    <tr>\n",
       "      <th>3</th>\n",
       "      <td>2.149814</td>\n",
       "      <td>2.428126</td>\n",
       "      <td>-0.286239</td>\n",
       "      <td>2.235113</td>\n",
       "      <td>1.809194</td>\n",
       "      <td>1.000000</td>\n",
       "      <td>3.000000</td>\n",
       "      <td>1.0</td>\n",
       "    </tr>\n",
       "    <tr>\n",
       "      <th>4</th>\n",
       "      <td>-0.713528</td>\n",
       "      <td>0.128129</td>\n",
       "      <td>0.523131</td>\n",
       "      <td>0.628417</td>\n",
       "      <td>-0.689473</td>\n",
       "      <td>2.000000</td>\n",
       "      <td>4.675325</td>\n",
       "      <td>1.0</td>\n",
       "    </tr>\n",
       "    <tr>\n",
       "      <th>5</th>\n",
       "      <td>-0.112396</td>\n",
       "      <td>-0.605595</td>\n",
       "      <td>0.020748</td>\n",
       "      <td>-0.082019</td>\n",
       "      <td>0.950241</td>\n",
       "      <td>3.000000</td>\n",
       "      <td>1.413793</td>\n",
       "      <td>1.0</td>\n",
       "    </tr>\n",
       "  </tbody>\n",
       "</table>\n",
       "</div>"
      ],
      "text/plain": [
       "                     PC1       PC2       PC3       PC4       PC5  \\\n",
       "averageCluster                                                     \n",
       "1               1.571220 -0.330664  0.907259 -0.156967 -0.539615   \n",
       "2              -0.235819  0.433610 -0.637912 -0.323144 -0.282564   \n",
       "3               2.149814  2.428126 -0.286239  2.235113  1.809194   \n",
       "4              -0.713528  0.128129  0.523131  0.628417 -0.689473   \n",
       "5              -0.112396 -0.605595  0.020748 -0.082019  0.950241   \n",
       "\n",
       "                completeCluster  wardCluster  singleCluster  \n",
       "averageCluster                                               \n",
       "1                      6.000000     6.000000            1.0  \n",
       "2                      4.302817     7.718310            1.0  \n",
       "3                      1.000000     3.000000            1.0  \n",
       "4                      2.000000     4.675325            1.0  \n",
       "5                      3.000000     1.413793            1.0  "
      ]
     },
     "execution_count": 18,
     "metadata": {},
     "output_type": "execute_result"
    }
   ],
   "source": [
    "linkageMatrix = linkage(pcaDataScaled,'average')\n",
    "pcaDataScaled['averageCluster'] = create_cluster(linkageMatrix,4)\n",
    "pcaDataScaled.groupby('averageCluster').mean()"
   ]
  },
  {
   "cell_type": "code",
   "execution_count": 19,
   "metadata": {},
   "outputs": [
    {
     "data": {
      "text/plain": [
       "2    142\n",
       "5    116\n",
       "4     77\n",
       "1     55\n",
       "3      7\n",
       "Name: averageCluster, dtype: int64"
      ]
     },
     "execution_count": 19,
     "metadata": {},
     "output_type": "execute_result"
    }
   ],
   "source": [
    "pcaDataScaled['averageCluster'].value_counts()"
   ]
  },
  {
   "cell_type": "code",
   "execution_count": 20,
   "metadata": {},
   "outputs": [
    {
     "data": {
      "image/png": "[encoded data removed]",
      "text/plain": [
       "<Figure size 720x720 with 1 Axes>"
      ]
     },
     "metadata": {
      "needs_background": "light"
     },
     "output_type": "display_data"
    }
   ],
   "source": [
    "\n",
    "fig = plt.figure(figsize = (10,10))\n",
    "ax = fig.add_subplot(111, projection='3d')\n",
    "for i in pcaDataScaled['wardCluster']:\n",
    "    x = np.array(pcaDataScaled[pcaDataScaled['wardCluster'] == i]['PC1'])\n",
    "    y = np.array(pcaDataScaled[pcaDataScaled['wardCluster'] == i]['PC2'])\n",
    "    z = np.array(pcaDataScaled[pcaDataScaled['wardCluster'] == i]['PC3'])\n",
    "    ax.scatter(x, y, z, marker = 'o', s = 40)\n",
    "plt.title('Scatterplot of Clusters')\n",
    "ax.set_xlabel('PC1')\n",
    "ax.set_ylabel('PC2')\n",
    "ax.set_zlabel('PC3')\n",
    "ax.legend([1,2,3,4,5,6,7,8])\n",
    "plt.show()"
   ]
  },
  {
   "cell_type": "code",
   "execution_count": 21,
   "metadata": {},
   "outputs": [
    {
     "data": {
      "application/vnd.plotly.v1+json": {
       "config": {
        "plotlyServerURL": "https://plot.ly"
       },
       "data": [
        {
         "hovertemplate": "PC1=%{x}<br>PC2=%{y}<br>PC3=%{z}<br>wardCluster=%{marker.color}<extra></extra>",
         "legendgroup": "",
         "marker": {
          "color": [
           7,
           7,
           7,
           3,
           7,
           7,
           7,
           7,
           7,
           7,
           7,
           7,
           3,
           7,
           7,
           7,
           7,
           7,
           3,
           8,
           7,
           7,
           7,
           7,
           7,
           3,
           7,
           7,
           7,
           7,
           3,
           7,
           5,
           7,
           7,
           7,
           8,
           7,
           8,
           7,
           3,
           7,
           2,
           5,
           8,
           5,
           8,
           8,
           7,
           7,
           7,
           8,
           7,
           3,
           8,
           8,
           8,
           8,
           5,
           8,
           8,
           5,
           5,
           8,
           8,
           6,
           8,
           8,
           7,
           8,
           7,
           8,
           5,
           8,
           8,
           5,
           5,
           1,
           8,
           5,
           8,
           1,
           6,
           8,
           5,
           8,
           6,
           4,
           7,
           8,
           8,
           6,
           1,
           8,
           6,
           5,
           6,
           2,
           1,
           8,
           5,
           8,
           8,
           8,
           8,
           8,
           2,
           8,
           6,
           8,
           5,
           2,
           2,
           5,
           2,
           8,
           4,
           5,
           5,
           8,
           7,
           8,
           6,
           8,
           8,
           1,
           5,
           5,
           8,
           2,
           5,
           8,
           8,
           8,
           5,
           2,
           5,
           6,
           4,
           8,
           8,
           1,
           8,
           8,
           1,
           6,
           8,
           5,
           2,
           1,
           6,
           8,
           6,
           1,
           6,
           2,
           1,
           2,
           8,
           8,
           2,
           1,
           8,
           8,
           2,
           2,
           5,
           2,
           4,
           4,
           5,
           6,
           6,
           5,
           5,
           5,
           5,
           1,
           4,
           2,
           5,
           4,
           8,
           4,
           8,
           1,
           8,
           8,
           8,
           4,
           1,
           1,
           4,
           8,
           6,
           4,
           1,
           8,
           8,
           8,
           8,
           8,
           8,
           4,
           1,
           6,
           1,
           5,
           2,
           2,
           5,
           6,
           8,
           2,
           1,
           8,
           8,
           5,
           5,
           6,
           6,
           5,
           4,
           8,
           5,
           8,
           2,
           6,
           1,
           5,
           8,
           1,
           6,
           2,
           4,
           6,
           1,
           1,
           8,
           5,
           6,
           2,
           6,
           2,
           5,
           5,
           8,
           2,
           8,
           5,
           8,
           6,
           8,
           6,
           8,
           4,
           2,
           1,
           6,
           2,
           2,
           8,
           6,
           1,
           1,
           8,
           1,
           6,
           8,
           6,
           6,
           8,
           5,
           5,
           6,
           1,
           4,
           6,
           8,
           1,
           1,
           1,
           8,
           2,
           4,
           8,
           5,
           2,
           5,
           1,
           5,
           2,
           1,
           2,
           6,
           6,
           1,
           2,
           8,
           8,
           1,
           1,
           8,
           4,
           8,
           1,
           8,
           5,
           1,
           6,
           6,
           4,
           1,
           2,
           1,
           2,
           6,
           1,
           4,
           8,
           6,
           2,
           5,
           6,
           1,
           1,
           8,
           5,
           8,
           1,
           6,
           6,
           2,
           5,
           6,
           1,
           1,
           6,
           2,
           1,
           6,
           1,
           1,
           1,
           8,
           1,
           1,
           8,
           6,
           1,
           6,
           4,
           5,
           6,
           1,
           6,
           1,
           1,
           2,
           1,
           1,
           8,
           4,
           8,
           1,
           6,
           8,
           8,
           1,
           6,
           2,
           2,
           1,
           2,
           5,
           4,
           8,
           1,
           8,
           2,
           1,
           6,
           2,
           1,
           1,
           2,
           6,
           4,
           1,
           4,
           1,
           2,
           2,
           2,
           2,
           1,
           6
          ],
          "coloraxis": "coloraxis",
          "symbol": "circle"
         },
         "mode": "markers",
         "name": "",
         "scene": "scene",
         "showlegend": false,
         "type": "scatter3d",
         "x": [
          -1.0200405280483944,
          -0.3123546379832168,
          -1.236560565134512,
          2.599937864739007,
          1.5612951079136352,
          -0.6735653478335929,
          -0.5493813706267198,
          1.7804509042721233,
          0.13959477145657745,
          -0.6436288173283686,
          -0.17262509404304902,
          -1.2319206037764108,
          2.5777478016558972,
          -0.3868942742459934,
          -1.6830885439212344,
          -1.2454128233872879,
          -0.036956280513146283,
          0.11729744816793795,
          1.9469793539681304,
          -0.1906402684685918,
          -1.0425316458685743,
          -0.4795495657784077,
          0.4223942967299407,
          -0.5736268021120714,
          -1.1340780313020242,
          1.5578394113270573,
          -0.5485973563864459,
          -1.205768086827301,
          -0.04602463347183073,
          -0.5664764426528592,
          2.01956817675418,
          -0.7154082510058682,
          0.19610620864161382,
          0.49990735178790985,
          -0.7554631553033802,
          -0.9519632344695143,
          1.6695241749252758,
          -1.0187472213008792,
          -0.9858375831445327,
          -0.43969316411379233,
          2.345626226030484,
          -0.7923542766751637,
          1.5383072205895105,
          -0.8586827519819328,
          -0.145207032318385,
          -1.3458441972934698,
          -0.4061981364537257,
          0.13027475249864817,
          -0.37925894147638806,
          -1.3591361871875915,
          -0.6788074206429652,
          0.735952200320928,
          -0.9046422367942875,
          2.0009986407732048,
          -0.5892489355552103,
          0.02555822470108755,
          -0.7088717077104189,
          -1.0487735898582995,
          -0.5847404924563072,
          1.6024516081895086,
          -0.21696198384584794,
          -1.2971540947771458,
          -1.0236873357583072,
          -0.48890600021542363,
          -0.5757337186363515,
          2.6854574240391127,
          -0.33283162459064447,
          -0.35618401600128946,
          -0.8276729947854832,
          -0.9475164042985533,
          -1.430345641915908,
          -0.8562322296914252,
          -1.3868896606954086,
          0.30319526966275756,
          0.14379964355844357,
          -0.7437810869166772,
          -0.6346818448365797,
          -0.5581209465662801,
          0.45383486965220116,
          -1.1362099651873843,
          -0.7283465831036334,
          -0.8511660089708959,
          2.8962104239811874,
          -0.6771503754951737,
          -1.0906518786323247,
          0.25317541648454606,
          2.583037715091774,
          -1.4766807067873398,
          -0.9945658775085084,
          -0.8380491047131942,
          -0.7062358901187971,
          2.580287383525975,
          1.3321413082800804,
          1.3893207451750034,
          3.1688901874550948,
          0.27757997811156243,
          2.4424117254946043,
          0.6254125744661981,
          1.3388728893490425,
          -0.41339505244731767,
          -0.7060238944188257,
          0.6988233178679826,
          0.11789027998650478,
          1.3822534936329354,
          0.48573232271743605,
          0.3076397149902384,
          0.8626383863269402,
          0.6381625664483813,
          2.0813573001954873,
          0.01868034140381029,
          -0.8073394645483496,
          0.08516360551159961,
          -0.021221440876859402,
          -0.15691548888980836,
          0.368741800574153,
          -0.8230112940207811,
          -0.513649003942116,
          -1.3939000546777014,
          -0.881830642984404,
          0.8762816414573958,
          -0.5057559682730051,
          0.03968702956683368,
          2.623949679937025,
          0.2116632233274537,
          0.39147000302957996,
          -0.5798122517996482,
          -0.3349650308823561,
          -0.8951046992453957,
          1.5015962186034495,
          -1.1941243272124942,
          -0.1736954033079895,
          0.48363844338236167,
          1.2227877366653557,
          -0.22617857655549703,
          -1.0711097745092515,
          0.3556571409614748,
          -0.7026715894244879,
          1.381812714394104,
          -1.3803650603902786,
          -0.7851258260645546,
          -0.7658744260912841,
          -0.8034590895614819,
          0.22521254766015922,
          -0.6082700157744293,
          1.456614760698403,
          1.8638603649586618,
          0.9632648697222482,
          -1.1770051027503872,
          -0.0408927172495084,
          -1.0396156686292362,
          0.5785767833200273,
          -0.12705073298953729,
          2.098022145235032,
          1.3784522502854213,
          2.2450903929133954,
          -0.8202271185819321,
          -0.9078776799484822,
          1.3022804834912036,
          -0.7584421457982928,
          0.24039158538091826,
          0.40510863810288766,
          -0.505947514014306,
          -0.8760068129956589,
          0.4784456807159561,
          -1.4086413777517688,
          -0.9720460977291905,
          -0.853853618979584,
          -1.0424237114521029,
          -0.610993134310377,
          -0.5205858545052973,
          -0.6122928800046803,
          1.7930959835119213,
          0.9709884800917056,
          -0.9062218006159257,
          -1.0612126468761582,
          -0.5375135938957649,
          -1.2489032958097956,
          -0.28463553254043117,
          -0.3061889383739719,
          -0.9091847083019006,
          -0.6487438395785018,
          -0.10684117192383116,
          -0.3903201871893497,
          -0.7722608009715041,
          0.2961964475568056,
          -0.12026911055504982,
          1.1152666714939063,
          -0.16012694013565534,
          -0.9816057074668368,
          -0.4875254781625016,
          0.4404806426019823,
          -0.26279698399891865,
          -0.5443859818200183,
          0.05021986046980712,
          1.5309949959936906,
          0.7147046122258783,
          0.8611587001334933,
          -0.8561632888794369,
          -0.035667177907183704,
          0.06290597027761406,
          0.3273365052470197,
          -0.6126598012462746,
          -0.7786890690785144,
          -0.7389789811955917,
          1.6790674342865544,
          2.1898327168237834,
          -0.5449720906125427,
          -0.6016573401027735,
          0.5246735783070996,
          0.5800751051753421,
          -0.42479487247292513,
          0.6639375645591573,
          -0.36994358808546024,
          0.8358803397691453,
          0.6345128491547076,
          -0.6488180267342825,
          -0.5195610443040439,
          -0.7972950603462536,
          -1.1417222353635497,
          2.0445070651711776,
          2.040534446362919,
          -1.281758143918717,
          -0.11659603127782907,
          -0.8799281917349091,
          -1.1590591001271415,
          -0.24443088614252068,
          0.14874987658574843,
          1.7662474909673822,
          -0.7264950190314059,
          -0.8746397394608781,
          -0.3947675687125781,
          -0.4022470095105261,
          2.0314633021496484,
          0.5568882667418847,
          -0.18949459840266092,
          1.789587740218869,
          -0.9776982960110888,
          1.1419858914058612,
          -0.08921382955394869,
          -1.1561574336608527,
          1.589222529022066,
          -1.0368589347401902,
          1.6756831924175746,
          -0.08738479474706476,
          -0.9919909041567789,
          -0.6786240813346326,
          -0.2763706343401671,
          -1.4032028983712097,
          -0.2103479970121337,
          -1.4823645362281044,
          -0.45666490641290464,
          1.6049012490193093,
          -0.5762406736676475,
          1.867348072633751,
          -0.2582605113066178,
          -0.8563295072646067,
          -1.4136238575268394,
          1.1419895865117429,
          2.0076148021333977,
          -1.3189266857711428,
          -1.0568290504028006,
          0.3315962277251457,
          1.47272843109854,
          0.08103868775437788,
          0.5454537341131903,
          -0.5405715692398211,
          -0.9999495548708622,
          1.1503172299528208,
          -0.18843991462399218,
          1.8038643987855032,
          1.6565002967350706,
          -0.023388304933734935,
          0.16621372764515113,
          -0.18565581718229193,
          1.992931139505093,
          -0.08724104532384143,
          -0.3777378592799343,
          1.8659386929591328,
          -0.40021081505311684,
          -0.51563658880577,
          0.6158847953735869,
          -0.05861235681060832,
          0.25386242701723094,
          0.5792360967593085,
          -0.21558070974878177,
          0.11669475718404974,
          -1.1827307217733118,
          -1.073269776657592,
          -1.0159651857221075,
          -0.8875155920152328,
          -0.7499185178046069,
          0.17000024965531393,
          -0.027662341842778663,
          -1.2185618729164267,
          1.5303096843227502,
          0.7924849583875498,
          1.4807081415841996,
          0.6255021690372775,
          -0.6760748457461624,
          -0.46884139991940615,
          0.08661437153180614,
          -1.032950554867994,
          -0.6270318220307349,
          -0.6153410049496109,
          -0.25119712075327505,
          -1.0071885845338504,
          0.08842486204265143,
          -1.294010404444014,
          0.7485868113692498,
          0.8562580564939765,
          0.6923420705317749,
          -1.3257586844200964,
          -0.503527610948202,
          -0.13723682318802838,
          1.11472517200819,
          1.0634545564218973,
          -0.13909509092341482,
          -0.2647268747885296,
          0.0698964994138839,
          -0.528136757464096,
          1.5987915914386996,
          -1.9234977622644476,
          -0.942422668793425,
          1.393283714255414,
          -0.1828077674086858,
          0.730629875775344,
          -0.5302355788374598,
          -0.685224980703818,
          -0.3090845605833152,
          0.07010125284017565,
          1.608268864487162,
          0.7651492469782282,
          -1.0436006556819828,
          -1.1181814556300729,
          0.9426916392214284,
          1.0312485158585347,
          0.15128267819406585,
          1.2677991263396708,
          -0.9352415487882944,
          0.09476994949242377,
          1.015524078131698,
          -0.3128877029633494,
          -0.0473559115084055,
          0.2085358374957422,
          -0.20719776369529017,
          0.035293584576020956,
          0.9610937992810914,
          0.059208625951414906,
          1.1652261908596042,
          0.25470309851256157,
          1.3578496739727983,
          0.4337622884365808,
          -1.1805642815513067,
          1.316522703648036,
          0.1816542583218948,
          1.1834951302110046,
          -0.41945877205119253,
          -0.41102184234892647,
          -0.8658008249595786,
          0.6331345681426256,
          -1.1660913834210866,
          -0.7583184216374156,
          -0.6166494115983296,
          -0.1516044394343923,
          -0.11247357458855947,
          1.3834639072802002,
          0.07742815902726988,
          -0.23429936996335896,
          -0.049594760514082736,
          1.5875326752967278,
          -0.6124013507669003,
          -0.44028031494493547,
          -0.561937410119553,
          0.07935482718281058,
          -0.5808208938247688,
          -0.48004181186362366,
          -0.1962624754971449,
          0.13450925324328009,
          -0.2211654281614638,
          -0.2007627815669778,
          0.4690081462167913,
          0.7778211832087437,
          -1.48483342399813,
          -0.15260238894756822,
          -0.5888760619249189,
          -1.0451858898896127,
          -0.2211404386051291,
          -0.48875238971148605,
          -0.25450433765917596,
          -0.26202167345167743,
          -0.1361982849397545,
          -0.4434671633377579,
          -0.3681866460074645,
          -1.0578707467177557,
          -0.4865068706802062,
          -0.3710387390479387,
          0.8053155310924105
         ],
         "y": [
          2.256402856746874,
          2.094708467546158,
          2.5061393003145644,
          2.99880568264731,
          2.887337152352108,
          3.008846616909093,
          1.965922227037545,
          1.9169154932291248,
          2.3167228742083745,
          2.096099014934197,
          2.154909877223626,
          1.9361668332495587,
          3.45794415790695,
          2.11000587562664,
          2.4953977823378874,
          2.0473319444345917,
          2.3928906507255885,
          2.597171373478735,
          2.1769343129071435,
          1.4299572383444261,
          2.7828213378142994,
          1.7491601776479173,
          2.540838572043149,
          1.8197459791526618,
          2.184393118510964,
          2.0639545819736345,
          1.9107842425446244,
          1.434195769970537,
          1.133886197356016,
          2.8184409610707273,
          1.9550559117872957,
          2.051754141550819,
          2.3048350593170355,
          1.9153661213451172,
          1.6320215980882191,
          1.6029249076900796,
          1.0435209906989316,
          1.4386420873265733,
          1.0521279152025602,
          1.6114385563997113,
          2.41113530474669,
          1.4737678974549029,
          1.022375255158136,
          1.1358708979708259,
          1.3161083758612562,
          1.5730306005292523,
          0.42848299807072593,
          1.4366384106395143,
          0.9547590502100696,
          1.1567983802038386,
          1.7502781956800533,
          0.46938680552119444,
          1.1996941105216445,
          1.933051265809018,
          0.5793330845667573,
          0.8831940510425091,
          0.9650311843867058,
          0.4295191122396257,
          1.4086891043469234,
          0.7705665004672748,
          0.8664875314150929,
          1.2470521870124158,
          1.434950082885085,
          0.5244410323865952,
          0.708847802411103,
          1.2167528719581373,
          0.6795441929863358,
          0.2726035237535902,
          1.094832876991533,
          0.5315484281630877,
          2.049777282758266,
          0.6428365712760465,
          1.4067672653752914,
          0.9624576972673236,
          0.4511960369048395,
          1.1584892423570634,
          1.1947460130472756,
          0.37711439719014705,
          0.11529961012578062,
          1.2649786073639542,
          0.5723398240300864,
          0.03221989349161277,
          0.47233822371364675,
          0.6220725694320433,
          0.8429206006588481,
          0.6269856826912634,
          1.0491927464531032,
          0.6101137738438684,
          0.9316881466014642,
          0.617227731493655,
          0.3167231069006967,
          0.8433423397826881,
          0.11617628299760642,
          0.048889962254348884,
          0.749554925864815,
          1.4505596748048908,
          0.7993924989741107,
          0.47305641476374166,
          0.03624554820581564,
          0.030518648172048825,
          0.07310910621385043,
          0.4038577892134232,
          0.19888601832576283,
          0.04190445479919076,
          -0.07244382484384947,
          -0.2208617437289983,
          0.3686425044440002,
          0.4421955638068596,
          0.4417845517122875,
          0.17186069989103667,
          0.6494956641183449,
          0.17803828186536325,
          0.3442791392464263,
          0.16719464743823578,
          0.3031078447634569,
          -0.12297107807685309,
          0.8969386647342047,
          0.5992791576414871,
          0.3810635767100473,
          0.48981854681692794,
          0.6503581504264052,
          -0.04477401131568199,
          0.4300310752396265,
          0.0037171791644059118,
          0.2690728871282082,
          0.3463392323479487,
          0.4129155128014315,
          0.47648696203416063,
          0.18909601574068055,
          0.2092857120405561,
          0.44003243396579605,
          0.5980774754130684,
          0.01840133232790216,
          -0.16761100070231533,
          0.30517690410660225,
          0.1841647079607695,
          0.2623633168450316,
          0.756411588552333,
          0.6093870359362,
          -0.17889437127581284,
          0.24090558031278447,
          -0.22751318535866255,
          -0.05060947783172102,
          -0.742907398985372,
          -0.30456466739495447,
          0.6706122805294678,
          -0.06187238057417844,
          0.003814333914244192,
          -0.06964008199457014,
          0.39853492164396526,
          0.18084086909111657,
          -0.19223447229653423,
          0.42257975019822386,
          -0.2970704621970369,
          0.16426550853846195,
          -0.5952130046020091,
          -0.32038816988117375,
          0.0358559100394987,
          -0.13202215191737038,
          -0.0767836368333986,
          0.39063052980251906,
          -0.067937365124757,
          -0.3566832415966165,
          -0.3718272870304026,
          -0.1910640230654734,
          0.10222965503348819,
          0.032463865697038616,
          -0.36004066234240334,
          -0.33376328682939327,
          0.00034364574902868685,
          -0.1572485547587582,
          0.5603497678134712,
          -0.24721066029433011,
          0.5076900140555433,
          0.15098971320114818,
          0.026514192668212637,
          0.05378894660125981,
          -0.03734354107916814,
          -0.2822443278956791,
          -0.8157480445741687,
          -0.19637564960888226,
          -0.3204650793582226,
          -0.6489171261699733,
          -0.4192337631860725,
          -0.6353474120093897,
          -0.35495877285079924,
          -0.20716837039596445,
          -0.17833227261827425,
          -0.7530127195798064,
          -0.6314387463998651,
          -0.25323291823427513,
          -0.3246815446278455,
          -0.3996381702784936,
          -0.32286921632285337,
          -0.10752816872837775,
          0.32890348321443913,
          -0.5478753748117351,
          -0.6014457102811913,
          -0.10576953871770498,
          -0.31773422016044245,
          -0.6619339987539433,
          -0.5745420087260594,
          -0.605662912529203,
          -0.21922546928177114,
          -0.31438994182941205,
          0.15287946549914616,
          -0.5054744104850851,
          0.05976727060452245,
          -0.21106533091489194,
          -0.0477234744561623,
          0.04060531138521754,
          -0.38401487227342823,
          -0.38988967343559044,
          -0.2423990621715271,
          -0.1325190142555713,
          -0.6864373270479627,
          -0.0646611736112201,
          -0.2749103883527486,
          0.6702169062899052,
          -0.5492968422914943,
          -0.10747108593236733,
          0.4443146614604828,
          -0.22521486019344472,
          -0.5555358890873834,
          0.022419716351982616,
          -0.5347182144070753,
          -0.1818176660325413,
          -0.7187510925592632,
          -0.49243659388181316,
          -0.03711260113869124,
          -0.6435484586865865,
          -0.5002695007313072,
          -0.4846689309541902,
          -0.7513595541761181,
          -0.411811813123617,
          -0.4427625392014857,
          -0.44801039156487055,
          -0.7287820179735067,
          -0.26720450110557886,
          -0.4017142065339124,
          -0.3821781182974544,
          -0.640358934282757,
          -0.5439100833840304,
          -0.3108327964245554,
          -0.5770109788686335,
          0.12702258229060573,
          -0.4455066700907187,
          0.07846708828738054,
          -0.3256682876022196,
          -0.260198886383224,
          -1.2721252644458922,
          -0.2550722677073384,
          -0.4849633535879017,
          0.011540841533941882,
          -0.7943675771426155,
          -0.46446311181839306,
          -0.31148477497861293,
          -0.7896263527809338,
          -0.42369387337999714,
          -1.0829603039203033,
          -0.8735213300108764,
          -0.6841670703733884,
          -0.5083679511525488,
          -0.44532892010592556,
          -1.0105281527473156,
          -0.6986548162313397,
          -0.5809351077066458,
          -0.3779089727605406,
          -0.5301542813803167,
          -0.7216214617262733,
          -0.6296386281189013,
          -0.6673441851143909,
          0.8790274551863207,
          -0.5026706987329593,
          -0.8262451097841488,
          -0.7222526859050838,
          -0.19583703023322616,
          -0.42478075026454504,
          -1.0596905379911403,
          -0.6541036351511254,
          -0.7038780887025081,
          -0.6950298451563989,
          -1.0340232121212234,
          -0.5443948318616867,
          -0.9295416297300013,
          -0.8666024963467034,
          0.18855853865988204,
          -0.13489306587556457,
          -0.10619863925454756,
          -0.6866050440258552,
          -0.13277960933277996,
          -0.5897414723460843,
          -1.0026360341930085,
          -0.783254066570347,
          -0.754398316351733,
          -0.661498196817024,
          -0.7222210537098185,
          -0.6234281333625661,
          -0.6980575208191163,
          -0.8828462903586084,
          -0.6387139081719524,
          -0.646376644483176,
          -0.9189324723366045,
          -0.3448183487350285,
          -1.0013537838191848,
          -0.6113023841214992,
          -0.787199777027374,
          -0.23187980041413095,
          -0.8030757739250814,
          -1.0404755210606222,
          -0.7903845963718426,
          -0.37634783108250686,
          -1.3219527041567347,
          -0.9698649602430663,
          -0.42635187698759247,
          -0.6306931857737929,
          -0.61806112401609,
          -1.1031700877907007,
          -0.463085831377044,
          -1.476194657491262,
          -1.0666020006083268,
          -0.5006090319974482,
          -0.23602206513447058,
          -0.9406369234738673,
          -1.118073527167349,
          -0.8156710414633861,
          -1.2028653031065113,
          -0.4240354324282626,
          -0.9882720777224209,
          -1.03383750099826,
          -0.9021311834826367,
          -1.195527900681538,
          -1.0036754885240964,
          -0.07723645449743359,
          -0.8758502169854946,
          -0.9255625930475346,
          -0.9056359870436015,
          -0.5861486980290945,
          -0.9902614712892924,
          -1.1468727979400115,
          -0.9516806587713077,
          -1.1577661011538927,
          -0.8319348374062817,
          -1.146045309808155,
          -0.9861973424251261,
          -1.1011798832149973,
          -1.1941729577650322,
          -1.1987743245147349,
          -0.7867848715328066,
          -1.1256027329433926,
          -0.6212134882426347,
          -0.6003904377626375,
          -0.5517362609628389,
          -0.9997067914706899,
          -1.3302856727053831,
          -1.209761323665622,
          -1.0755851615131629,
          -0.6956661802901652,
          -1.0625591842516242,
          -1.0860901396193388,
          -0.7432606737650579,
          -1.0193508238341722,
          -1.1459091807565944,
          -1.3025107339563515,
          -1.1056484132208704,
          -0.9992657955033207,
          -1.0840594039065308,
          -1.2837598419962328,
          -1.1698688351783806,
          -1.0973580038849435,
          -0.9520319304734419,
          -1.0218103546804111,
          -1.449687528117393,
          -0.7223895956365359,
          -1.051059846742764,
          -0.7623186588140612,
          -1.2491331567411486,
          -1.0873529406122215,
          -1.0703689888033523,
          -1.3504400194013346,
          -1.1158129646122938,
          -0.6764306254017474,
          -0.8396853029925923,
          -1.1786327115670583,
          -1.243176000578397,
          -0.9995525451873948,
          -0.9879179107361197,
          -1.229299968851632,
          -1.1036568814009746,
          -1.0036936923802309,
          -1.3795776906390897,
          -1.5925099100908262,
          -1.3125117077363966,
          -0.7653564576742775,
          -1.766590011606383,
          -1.7160617469747144,
          -1.2114222398180499
         ],
         "z": [
          -1.6077043026830398,
          -0.8438484689131376,
          -0.23053838854296235,
          -1.0776354175116893,
          0.770036602558093,
          1.1461361611479797,
          -1.0740481666237915,
          -0.019542073384202708,
          -1.145764622245123,
          -0.34663336778727205,
          -0.6051488812581128,
          0.3124619913662377,
          0.4285769654245534,
          -0.38591664952797117,
          1.5600148939619252,
          0.8391416028727909,
          0.2446737558189591,
          -0.19957164406384648,
          -0.9279210050376001,
          -1.231255936131545,
          1.9914779074230897,
          -0.2867060452685972,
          -0.18798345794981997,
          -0.7598897576277115,
          1.357280248154207,
          -1.2257725673418847,
          -0.443163055223202,
          -0.5248904963371285,
          -1.1043063740784744,
          2.3158002118352314,
          -0.25141535806768367,
          1.0639765648713686,
          1.5019292446043486,
          0.05964495272890466,
          -0.3874727289514262,
          -0.07371464943571175,
          -1.26043973080274,
          0.8692129274621886,
          -0.909441516492515,
          -0.48229771365937163,
          0.5771276480495707,
          0.39569525950214907,
          -1.5952304105309716,
          0.10503203471415883,
          -1.0975833294579496,
          0.42061296358230926,
          -2.1861334924917504,
          -0.4123735938762926,
          -0.672451936188252,
          0.5843974766994815,
          1.2817219796638257,
          -2.3099250117785046,
          -0.2140524673266504,
          0.4733679176807572,
          -1.478229860195725,
          -0.9755431773994289,
          -0.8204874677582809,
          -0.4101114501910174,
          0.7174945084682148,
          -1.5611328991092872,
          -0.8078253381908181,
          0.6303726994524633,
          0.6427065466042381,
          -0.8297072813997732,
          -1.4365103225309475,
          -0.2615158994088055,
          -1.881837272311901,
          -2.2881010003218987,
          0.6800737293424899,
          -1.3778493092043884,
          1.65314289676853,
          -1.1844276917577765,
          0.4429225893204981,
          -0.6406986674692513,
          -0.9430860487885098,
          0.9220446414172148,
          0.8113246457235497,
          -0.9674033497725855,
          -1.22279300770514,
          1.1229135380591715,
          -0.5004190996298493,
          -1.5439607192210123,
          1.0762645336884338,
          -0.43784897244482524,
          0.03406404712098966,
          -1.5664279687064802,
          1.686978434531944,
          -0.22070640734302988,
          0.8480534057464527,
          -0.4558732718918582,
          -1.0826704221874963,
          0.15542094250204708,
          -0.9036160046928362,
          -0.8396322594873453,
          0.7102569158374225,
          1.71078564609915,
          -0.5213729225945182,
          -0.22315319057809047,
          -0.9365028484896669,
          -2.480515310193059,
          -0.3626887024662675,
          -0.9901041013674307,
          -0.3660362778667885,
          -1.4791837781894475,
          -1.9761118971196063,
          -2.313754397514117,
          -1.2518987210649695,
          -0.7625636415080692,
          0.3200998059422186,
          -1.720931711036108,
          0.37022754096936744,
          -1.7088407724957775,
          -1.0753253617166758,
          -0.043050923030988265,
          -1.9392032100930368,
          -2.4033840848771892,
          0.670156400379066,
          0.7527839059273719,
          0.32511582552832496,
          -0.4414455869765528,
          0.7944359737877623,
          -0.863414433222251,
          0.6352069502436504,
          -0.7518643854199846,
          -0.7826849072423693,
          -0.4855099962415679,
          -0.34589618560790897,
          0.3631468914164276,
          -1.4858965469348395,
          -0.7914109741880221,
          -0.10517129493709562,
          0.2507456581452065,
          -1.797832599165229,
          -1.8455954101663237,
          -0.041745891109256604,
          -0.6358462252559477,
          -0.0887111717068685,
          1.5437141644907504,
          0.27092385953942555,
          -1.2703704292541225,
          -0.539133320368323,
          -0.5387215053985971,
          -0.1563719051537192,
          -2.1197795145548426,
          -0.5133577236943699,
          0.6233561284064261,
          -0.8820328856903902,
          0.13009674687681108,
          -0.704927371553736,
          0.7619245970429165,
          0.10819476428782936,
          -1.0084032450352256,
          0.44361820399308416,
          -0.669402010198073,
          0.47866054103555805,
          -0.8003505016279228,
          -0.522716350056221,
          -0.2819239973014854,
          -0.24297397679404256,
          -1.439192920857147,
          -0.04567870709389742,
          -0.2113046830747288,
          -1.7938850663312569,
          -1.5770267244530982,
          -0.6011050361474445,
          0.3881355290303945,
          0.23707505923624056,
          -0.5208151649868458,
          -1.2275730957955362,
          -0.036758131791527475,
          -0.031843297251340386,
          1.9798815965512193,
          0.032242616871894156,
          1.1583016321492214,
          0.35128817313715577,
          1.4062340735060948,
          1.3919877442166233,
          -0.733523381759741,
          -0.9834957622657978,
          -0.9065776340183086,
          0.23704438218815493,
          -0.8024795232738245,
          -1.0853229645225975,
          -0.8510553536032994,
          -1.7653724420498875,
          -0.6892382296255989,
          -0.6214976703367971,
          -0.1529650634297494,
          -1.472910200400012,
          -1.1565632156724277,
          -0.3062359038967986,
          -0.7636711392423177,
          -1.1354550961601115,
          -0.9088210856683556,
          0.8183091932281978,
          0.6657948459279764,
          -0.645551092411526,
          -1.2335981066994777,
          -0.5060296073175717,
          -0.6349645048614028,
          -0.45400548911694705,
          -1.2346926085969738,
          -0.9410221578977921,
          0.32360519355316736,
          -0.15399856454306798,
          0.28598992970735426,
          -0.43700442727003735,
          1.008714182313433,
          -0.07525521803342707,
          -0.009458878286903888,
          1.5700947579792108,
          0.42510097256877216,
          -0.4684389935620424,
          -0.3073939233604802,
          0.446668587487093,
          -0.45882428382563684,
          -0.6729475647728174,
          0.6920531696245158,
          2.40493036687024,
          0.6819392119412461,
          1.586057296361617,
          1.3932261661501664,
          -0.6031748338943909,
          -0.40817274240965856,
          0.7973843453770567,
          -0.7357715686344369,
          1.5832731722697058,
          1.7500811957750586,
          -0.8655408935212021,
          1.2922496494898956,
          -0.8279251127298006,
          0.28096140112798085,
          0.576014707797644,
          -0.4217553130759689,
          -0.5224946457457325,
          1.6345229071349927,
          0.8670167448680167,
          -0.24559377249244502,
          -0.061903289034869476,
          0.6398291243217009,
          0.2581606646172152,
          0.3127361515683939,
          0.9772507546420076,
          0.1843494184150227,
          0.3616349348011899,
          1.023018830355189,
          0.20662964795662117,
          2.5462177069813197,
          0.22065991319598516,
          0.9395621646670539,
          -1.2722207185410783,
          1.5381596920153489,
          -0.4571114317721126,
          1.8365132598138743,
          -0.8273788267568396,
          0.44183905372138893,
          2.102856705491594,
          -0.22920144609415682,
          1.4717605172097619,
          0.02077999494502258,
          0.6991960360039563,
          -0.5376549726486856,
          0.8112346144128388,
          0.20081467336874675,
          -1.039327190293392,
          -0.6866849466458305,
          -0.08225063014707887,
          0.6454599567688136,
          -0.37694555497115156,
          0.9508553237147138,
          0.5587602264343281,
          -1.0548987645003693,
          2.113738329047794,
          0.3053238659099495,
          0.5763449303045308,
          0.11993877270943726,
          -0.14316564990486041,
          1.2707980477080962,
          -1.3252323216160662,
          0.5703703610205976,
          -0.4955876867349254,
          0.8304026536073597,
          -0.37073274110893756,
          -0.18783873462887488,
          -0.8370726262786906,
          -0.6153864140955183,
          1.7147838435465652,
          1.5085725310783458,
          1.5262293058991652,
          0.3095681746975788,
          1.6367923123649881,
          -0.20460070987659923,
          -0.527688134128325,
          0.6174848309590009,
          0.6741422138539758,
          0.04392439053504031,
          0.004500868236835669,
          0.22115588060705133,
          -0.18616962250058916,
          -0.8313979170802696,
          0.08634559378452626,
          0.7295431851458315,
          -0.26751231024023353,
          0.7031744572251009,
          -0.879052312602883,
          0.8157838188758675,
          -0.9252805276301642,
          1.6798412704862205,
          -0.26428124544821424,
          0.2908921463464247,
          1.098355024211232,
          0.9796849923979336,
          -0.9764957689216259,
          -0.4703420060667874,
          -0.03687164358752783,
          -0.5057896067861282,
          1.032741895202331,
          -0.19214837850617875,
          0.2281311025829408,
          -1.715670011727563,
          1.496043880269839,
          2.2195638170858993,
          1.6630541057197086,
          1.0605684897119043,
          -0.2318325817818092,
          0.010526061617865418,
          -2.334228827111859,
          1.1589377952622222,
          -0.7298341887608162,
          0.13611241782730635,
          1.1239412542323757,
          0.31989752423956036,
          0.1712588239855198,
          2.139978311858963,
          1.3100727862004256,
          0.2679841984001185,
          0.000166014294735634,
          0.7651998088645836,
          -0.6593448645120583,
          0.421382921097254,
          0.7338626208103098,
          -0.44643081541379087,
          -0.14468054069789696,
          -0.08823528038383305,
          -0.0943913916557379,
          -1.140823442320503,
          0.30734749364022146,
          -0.862556173725255,
          1.0472488452362017,
          -0.17966977569156717,
          1.4960089740469702,
          0.5195066980582164,
          1.3092716961523447,
          1.9702143922115127,
          -0.21363423668598838,
          1.2125969023588223,
          0.6041010334533156,
          0.6729839743937391,
          1.128148828810077,
          0.31849793592723685,
          1.1729151205562678,
          -0.1398437806155159,
          -0.24052748060419402,
          -0.5145255972153734,
          -0.35417548470359866,
          0.35149687625853093,
          -0.0017443654166448188,
          -0.6134334078214367,
          -0.28575817116833796,
          0.8015140029482474,
          1.1156498459238942,
          0.06428152180540196,
          0.5438073440160209,
          1.5211559883722316,
          0.8268341483623319,
          0.9582012722915629,
          -0.10141577511938549,
          -0.5565954357396338,
          -0.42787307234187083,
          -0.4711023668596724,
          0.13273448184437076,
          1.4352767913225335,
          2.0880536325671444,
          -0.567983097081343,
          1.1406507498893452,
          1.6330203207271883,
          1.048242035768549,
          0.1769171757554172,
          0.47408531457666064,
          0.13981806544145947,
          0.6901997429993895,
          0.6999530713045508,
          0.9010834281676853,
          2.6869402364086574,
          0.9761870953175362,
          0.681072991310224,
          2.9226772571203945
         ]
        }
       ],
       "layout": {
        "coloraxis": {
         "colorbar": {
          "title": {
           "text": "wardCluster"
          }
         },
         "colorscale": [
          [
           0,
           "#0d0887"
          ],
          [
           0.1111111111111111,
           "#46039f"
          ],
          [
           0.2222222222222222,
           "#7201a8"
          ],
          [
           0.3333333333333333,
           "#9c179e"
          ],
          [
           0.4444444444444444,
           "#bd3786"
          ],
          [
           0.5555555555555556,
           "#d8576b"
          ],
          [
           0.6666666666666666,
           "#ed7953"
          ],
          [
           0.7777777777777778,
           "#fb9f3a"
          ],
          [
           0.8888888888888888,
           "#fdca26"
          ],
          [
           1,
           "#f0f921"
          ]
         ]
        },
        "legend": {
         "tracegroupgap": 0
        },
        "margin": {
         "t": 60
        },
        "scene": {
         "domain": {
          "x": [
           0,
           1
          ],
          "y": [
           0,
           1
          ]
         },
         "xaxis": {
          "title": {
           "text": "PC1"
          }
         },
         "yaxis": {
          "title": {
           "text": "PC2"
          }
         },
         "zaxis": {
          "title": {
           "text": "PC3"
          }
         }
        },
        "template": {
         "data": {
          "bar": [
           {
            "error_x": {
             "color": "#2a3f5f"
            },
            "error_y": {
             "color": "#2a3f5f"
            },
            "marker": {
             "line": {
              "color": "#E5ECF6",
              "width": 0.5
             },
             "pattern": {
              "fillmode": "overlay",
              "size": 10,
              "solidity": 0.2
             }
            },
            "type": "bar"
           }
          ],
          "barpolar": [
           {
            "marker": {
             "line": {
              "color": "#E5ECF6",
              "width": 0.5
             },
             "pattern": {
              "fillmode": "overlay",
              "size": 10,
              "solidity": 0.2
             }
            },
            "type": "barpolar"
           }
          ],
          "carpet": [
           {
            "aaxis": {
             "endlinecolor": "#2a3f5f",
             "gridcolor": "white",
             "linecolor": "white",
             "minorgridcolor": "white",
             "startlinecolor": "#2a3f5f"
            },
            "baxis": {
             "endlinecolor": "#2a3f5f",
             "gridcolor": "white",
             "linecolor": "white",
             "minorgridcolor": "white",
             "startlinecolor": "#2a3f5f"
            },
            "type": "carpet"
           }
          ],
          "choropleth": [
           {
            "colorbar": {
             "outlinewidth": 0,
             "ticks": ""
            },
            "type": "choropleth"
           }
          ],
          "contour": [
           {
            "colorbar": {
             "outlinewidth": 0,
             "ticks": ""
            },
            "colorscale": [
             [
              0,
              "#0d0887"
             ],
             [
              0.1111111111111111,
              "#46039f"
             ],
             [
              0.2222222222222222,
              "#7201a8"
             ],
             [
              0.3333333333333333,
              "#9c179e"
             ],
             [
              0.4444444444444444,
              "#bd3786"
             ],
             [
              0.5555555555555556,
              "#d8576b"
             ],
             [
              0.6666666666666666,
              "#ed7953"
             ],
             [
              0.7777777777777778,
              "#fb9f3a"
             ],
             [
              0.8888888888888888,
              "#fdca26"
             ],
             [
              1,
              "#f0f921"
             ]
            ],
            "type": "contour"
           }
          ],
          "contourcarpet": [
           {
            "colorbar": {
             "outlinewidth": 0,
             "ticks": ""
            },
            "type": "contourcarpet"
           }
          ],
          "heatmap": [
           {
            "colorbar": {
             "outlinewidth": 0,
             "ticks": ""
            },
            "colorscale": [
             [
              0,
              "#0d0887"
             ],
             [
              0.1111111111111111,
              "#46039f"
             ],
             [
              0.2222222222222222,
              "#7201a8"
             ],
             [
              0.3333333333333333,
              "#9c179e"
             ],
             [
              0.4444444444444444,
              "#bd3786"
             ],
             [
              0.5555555555555556,
              "#d8576b"
             ],
             [
              0.6666666666666666,
              "#ed7953"
             ],
             [
              0.7777777777777778,
              "#fb9f3a"
             ],
             [
              0.8888888888888888,
              "#fdca26"
             ],
             [
              1,
              "#f0f921"
             ]
            ],
            "type": "heatmap"
           }
          ],
          "heatmapgl": [
           {
            "colorbar": {
             "outlinewidth": 0,
             "ticks": ""
            },
            "colorscale": [
             [
              0,
              "#0d0887"
             ],
             [
              0.1111111111111111,
              "#46039f"
             ],
             [
              0.2222222222222222,
              "#7201a8"
             ],
             [
              0.3333333333333333,
              "#9c179e"
             ],
             [
              0.4444444444444444,
              "#bd3786"
             ],
             [
              0.5555555555555556,
              "#d8576b"
             ],
             [
              0.6666666666666666,
              "#ed7953"
             ],
             [
              0.7777777777777778,
              "#fb9f3a"
             ],
             [
              0.8888888888888888,
              "#fdca26"
             ],
             [
              1,
              "#f0f921"
             ]
            ],
            "type": "heatmapgl"
           }
          ],
          "histogram": [
           {
            "marker": {
             "pattern": {
              "fillmode": "overlay",
              "size": 10,
              "solidity": 0.2
             }
            },
            "type": "histogram"
           }
          ],
          "histogram2d": [
           {
            "colorbar": {
             "outlinewidth": 0,
             "ticks": ""
            },
            "colorscale": [
             [
              0,
              "#0d0887"
             ],
             [
              0.1111111111111111,
              "#46039f"
             ],
             [
              0.2222222222222222,
              "#7201a8"
             ],
             [
              0.3333333333333333,
              "#9c179e"
             ],
             [
              0.4444444444444444,
              "#bd3786"
             ],
             [
              0.5555555555555556,
              "#d8576b"
             ],
             [
              0.6666666666666666,
              "#ed7953"
             ],
             [
              0.7777777777777778,
              "#fb9f3a"
             ],
             [
              0.8888888888888888,
              "#fdca26"
             ],
             [
              1,
              "#f0f921"
             ]
            ],
            "type": "histogram2d"
           }
          ],
          "histogram2dcontour": [
           {
            "colorbar": {
             "outlinewidth": 0,
             "ticks": ""
            },
            "colorscale": [
             [
              0,
              "#0d0887"
             ],
             [
              0.1111111111111111,
              "#46039f"
             ],
             [
              0.2222222222222222,
              "#7201a8"
             ],
             [
              0.3333333333333333,
              "#9c179e"
             ],
             [
              0.4444444444444444,
              "#bd3786"
             ],
             [
              0.5555555555555556,
              "#d8576b"
             ],
             [
              0.6666666666666666,
              "#ed7953"
             ],
             [
              0.7777777777777778,
              "#fb9f3a"
             ],
             [
              0.8888888888888888,
              "#fdca26"
             ],
             [
              1,
              "#f0f921"
             ]
            ],
            "type": "histogram2dcontour"
           }
          ],
          "mesh3d": [
           {
            "colorbar": {
             "outlinewidth": 0,
             "ticks": ""
            },
            "type": "mesh3d"
           }
          ],
          "parcoords": [
           {
            "line": {
             "colorbar": {
              "outlinewidth": 0,
              "ticks": ""
             }
            },
            "type": "parcoords"
           }
          ],
          "pie": [
           {
            "automargin": true,
            "type": "pie"
           }
          ],
          "scatter": [
           {
            "fillpattern": {
             "fillmode": "overlay",
             "size": 10,
             "solidity": 0.2
            },
            "type": "scatter"
           }
          ],
          "scatter3d": [
           {
            "line": {
             "colorbar": {
              "outlinewidth": 0,
              "ticks": ""
             }
            },
            "marker": {
             "colorbar": {
              "outlinewidth": 0,
              "ticks": ""
             }
            },
            "type": "scatter3d"
           }
          ],
          "scattercarpet": [
           {
            "marker": {
             "colorbar": {
              "outlinewidth": 0,
              "ticks": ""
             }
            },
            "type": "scattercarpet"
           }
          ],
          "scattergeo": [
           {
            "marker": {
             "colorbar": {
              "outlinewidth": 0,
              "ticks": ""
             }
            },
            "type": "scattergeo"
           }
          ],
          "scattergl": [
           {
            "marker": {
             "colorbar": {
              "outlinewidth": 0,
              "ticks": ""
             }
            },
            "type": "scattergl"
           }
          ],
          "scattermapbox": [
           {
            "marker": {
             "colorbar": {
              "outlinewidth": 0,
              "ticks": ""
             }
            },
            "type": "scattermapbox"
           }
          ],
          "scatterpolar": [
           {
            "marker": {
             "colorbar": {
              "outlinewidth": 0,
              "ticks": ""
             }
            },
            "type": "scatterpolar"
           }
          ],
          "scatterpolargl": [
           {
            "marker": {
             "colorbar": {
              "outlinewidth": 0,
              "ticks": ""
             }
            },
            "type": "scatterpolargl"
           }
          ],
          "scatterternary": [
           {
            "marker": {
             "colorbar": {
              "outlinewidth": 0,
              "ticks": ""
             }
            },
            "type": "scatterternary"
           }
          ],
          "surface": [
           {
            "colorbar": {
             "outlinewidth": 0,
             "ticks": ""
            },
            "colorscale": [
             [
              0,
              "#0d0887"
             ],
             [
              0.1111111111111111,
              "#46039f"
             ],
             [
              0.2222222222222222,
              "#7201a8"
             ],
             [
              0.3333333333333333,
              "#9c179e"
             ],
             [
              0.4444444444444444,
              "#bd3786"
             ],
             [
              0.5555555555555556,
              "#d8576b"
             ],
             [
              0.6666666666666666,
              "#ed7953"
             ],
             [
              0.7777777777777778,
              "#fb9f3a"
             ],
             [
              0.8888888888888888,
              "#fdca26"
             ],
             [
              1,
              "#f0f921"
             ]
            ],
            "type": "surface"
           }
          ],
          "table": [
           {
            "cells": {
             "fill": {
              "color": "#EBF0F8"
             },
             "line": {
              "color": "white"
             }
            },
            "header": {
             "fill": {
              "color": "#C8D4E3"
             },
             "line": {
              "color": "white"
             }
            },
            "type": "table"
           }
          ]
         },
         "layout": {
          "annotationdefaults": {
           "arrowcolor": "#2a3f5f",
           "arrowhead": 0,
           "arrowwidth": 1
          },
          "autotypenumbers": "strict",
          "coloraxis": {
           "colorbar": {
            "outlinewidth": 0,
            "ticks": ""
           }
          },
          "colorscale": {
           "diverging": [
            [
             0,
             "#8e0152"
            ],
            [
             0.1,
             "#c51b7d"
            ],
            [
             0.2,
             "#de77ae"
            ],
            [
             0.3,
             "#f1b6da"
            ],
            [
             0.4,
             "#fde0ef"
            ],
            [
             0.5,
             "#f7f7f7"
            ],
            [
             0.6,
             "#e6f5d0"
            ],
            [
             0.7,
             "#b8e186"
            ],
            [
             0.8,
             "#7fbc41"
            ],
            [
             0.9,
             "#4d9221"
            ],
            [
             1,
             "#276419"
            ]
           ],
           "sequential": [
            [
             0,
             "#0d0887"
            ],
            [
             0.1111111111111111,
             "#46039f"
            ],
            [
             0.2222222222222222,
             "#7201a8"
            ],
            [
             0.3333333333333333,
             "#9c179e"
            ],
            [
             0.4444444444444444,
             "#bd3786"
            ],
            [
             0.5555555555555556,
             "#d8576b"
            ],
            [
             0.6666666666666666,
             "#ed7953"
            ],
            [
             0.7777777777777778,
             "#fb9f3a"
            ],
            [
             0.8888888888888888,
             "#fdca26"
            ],
            [
             1,
             "#f0f921"
            ]
           ],
           "sequentialminus": [
            [
             0,
             "#0d0887"
            ],
            [
             0.1111111111111111,
             "#46039f"
            ],
            [
             0.2222222222222222,
             "#7201a8"
            ],
            [
             0.3333333333333333,
             "#9c179e"
            ],
            [
             0.4444444444444444,
             "#bd3786"
            ],
            [
             0.5555555555555556,
             "#d8576b"
            ],
            [
             0.6666666666666666,
             "#ed7953"
            ],
            [
             0.7777777777777778,
             "#fb9f3a"
            ],
            [
             0.8888888888888888,
             "#fdca26"
            ],
            [
             1,
             "#f0f921"
            ]
           ]
          },
          "colorway": [
           "#636efa",
           "#EF553B",
           "#00cc96",
           "#ab63fa",
           "#FFA15A",
           "#19d3f3",
           "#FF6692",
           "#B6E880",
           "#FF97FF",
           "#FECB52"
          ],
          "font": {
           "color": "#2a3f5f"
          },
          "geo": {
           "bgcolor": "white",
           "lakecolor": "white",
           "landcolor": "#E5ECF6",
           "showlakes": true,
           "showland": true,
           "subunitcolor": "white"
          },
          "hoverlabel": {
           "align": "left"
          },
          "hovermode": "closest",
          "mapbox": {
           "style": "light"
          },
          "paper_bgcolor": "white",
          "plot_bgcolor": "#E5ECF6",
          "polar": {
           "angularaxis": {
            "gridcolor": "white",
            "linecolor": "white",
            "ticks": ""
           },
           "bgcolor": "#E5ECF6",
           "radialaxis": {
            "gridcolor": "white",
            "linecolor": "white",
            "ticks": ""
           }
          },
          "scene": {
           "xaxis": {
            "backgroundcolor": "#E5ECF6",
            "gridcolor": "white",
            "gridwidth": 2,
            "linecolor": "white",
            "showbackground": true,
            "ticks": "",
            "zerolinecolor": "white"
           },
           "yaxis": {
            "backgroundcolor": "#E5ECF6",
            "gridcolor": "white",
            "gridwidth": 2,
            "linecolor": "white",
            "showbackground": true,
            "ticks": "",
            "zerolinecolor": "white"
           },
           "zaxis": {
            "backgroundcolor": "#E5ECF6",
            "gridcolor": "white",
            "gridwidth": 2,
            "linecolor": "white",
            "showbackground": true,
            "ticks": "",
            "zerolinecolor": "white"
           }
          },
          "shapedefaults": {
           "line": {
            "color": "#2a3f5f"
           }
          },
          "ternary": {
           "aaxis": {
            "gridcolor": "white",
            "linecolor": "white",
            "ticks": ""
           },
           "baxis": {
            "gridcolor": "white",
            "linecolor": "white",
            "ticks": ""
           },
           "bgcolor": "#E5ECF6",
           "caxis": {
            "gridcolor": "white",
            "linecolor": "white",
            "ticks": ""
           }
          },
          "title": {
           "x": 0.05
          },
          "xaxis": {
           "automargin": true,
           "gridcolor": "white",
           "linecolor": "white",
           "ticks": "",
           "title": {
            "standoff": 15
           },
           "zerolinecolor": "white",
           "zerolinewidth": 2
          },
          "yaxis": {
           "automargin": true,
           "gridcolor": "white",
           "linecolor": "white",
           "ticks": "",
           "title": {
            "standoff": 15
           },
           "zerolinecolor": "white",
           "zerolinewidth": 2
          }
         }
        }
       }
      }
     },
     "metadata": {},
     "output_type": "display_data"
    }
   ],
   "source": [
    "fig2 = px.scatter_3d(pcaDataScaled, x='PC1', y='PC2', z='PC3', color='wardCluster')\n",
    "fig2"
   ]
  },
  {
   "cell_type": "code",
   "execution_count": 23,
   "metadata": {},
   "outputs": [],
   "source": [
    "pcaDataFull = pd.read_csv('./Data/PCAData.csv')\n",
    "pcaDataScaled['PLAYER'] = pcaDataFull['Player'].values\n",
    "pcaDataScaled['TEAM'] = pcaDataFull['Team'].values\n",
    "pcaDataScaled = pcaDataScaled[['PLAYER','TEAM','wardCluster','PC1','PC2','PC3','PC4','PC5']]\n",
    "pcaDataScaled.rename({'wardCluster':'CLUSTER'},axis=1,inplace=True)\n",
    "pcaDataScaled.to_csv('Data/clusteredData.csv', index = False)"
   ]
  },
  {
   "cell_type": "code",
   "execution_count": null,
   "metadata": {},
   "outputs": [],
   "source": []
  }
 ],
 "metadata": {
  "interpreter": {
   "hash": "aee8b7b246df8f9039afb4144a1f6fd8d2ca17a180786b69acc140d282b71a49"
  },
  "kernelspec": {
   "display_name": "Python 3.9.1 64-bit",
   "language": "python",
   "name": "python3"
  },
  "language_info": {
   "codemirror_mode": {
    "name": "ipython",
    "version": 3
   },
   "file_extension": ".py",
   "mimetype": "text/x-python",
   "name": "python",
   "nbconvert_exporter": "python",
   "pygments_lexer": "ipython3",
   "version": "3.9.1"
  },
  "orig_nbformat": 4
 },
 "nbformat": 4,
 "nbformat_minor": 2
}
