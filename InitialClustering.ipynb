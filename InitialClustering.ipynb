{
 "cells": [
  {
   "cell_type": "code",
   "execution_count": 2,
   "metadata": {},
   "outputs": [],
   "source": [
    "import pandas as pd\n",
    "import matplotlib.pyplot as plt\n",
    "from sklearn.preprocessing import StandardScaler\n",
    "from pyclustertend import hopkins\n",
    "from sklearn.cluster import AgglomerativeClustering\n",
    "import numpy as np\n",
    "from scipy.cluster.hierarchy import dendrogram, linkage\n",
    "from scipy.cluster.hierarchy import fcluster\n",
    "import plotly.express as px\n",
    "from mpl_toolkits.mplot3d import Axes3D\n",
    "import numpy as np"
   ]
  },
  {
   "cell_type": "code",
   "execution_count": 3,
   "metadata": {},
   "outputs": [],
   "source": [
    "def plot_dendrogram(model, **kwargs):\n",
    "    # Create linkage matrix and then plot the dendrogram\n",
    "\n",
    "    # create the counts of samples under each node\n",
    "    counts = np.zeros(model.children_.shape[0])\n",
    "    n_samples = len(model.labels_)\n",
    "    for i, merge in enumerate(model.children_):\n",
    "        current_count = 0\n",
    "        for child_idx in merge:\n",
    "            if child_idx < n_samples:\n",
    "                current_count += 1  # leaf node\n",
    "            else:\n",
    "                current_count += counts[child_idx - n_samples]\n",
    "        counts[i] = current_count\n",
    "\n",
    "    linkage_matrix = np.column_stack(\n",
    "        [model.children_, model.distances_, counts]\n",
    "    ).astype(float)\n",
    "\n",
    "    # Plot the corresponding dendrogram\n",
    "    dendrogram(linkage_matrix, **kwargs)\n",
    "\n",
    "def create_cluster(linked, max_d):\n",
    "    clusters = fcluster(linked, max_d, criterion='distance')\n",
    "    return clusters"
   ]
  },
  {
   "cell_type": "code",
   "execution_count": 4,
   "metadata": {},
   "outputs": [
    {
     "data": {
      "text/html": [
       "<div>\n",
       "<style scoped>\n",
       "    .dataframe tbody tr th:only-of-type {\n",
       "        vertical-align: middle;\n",
       "    }\n",
       "\n",
       "    .dataframe tbody tr th {\n",
       "        vertical-align: top;\n",
       "    }\n",
       "\n",
       "    .dataframe thead th {\n",
       "        text-align: right;\n",
       "    }\n",
       "</style>\n",
       "<table border=\"1\" class=\"dataframe\">\n",
       "  <thead>\n",
       "    <tr style=\"text-align: right;\">\n",
       "      <th></th>\n",
       "      <th>PC1</th>\n",
       "      <th>PC2</th>\n",
       "      <th>PC3</th>\n",
       "      <th>PC4</th>\n",
       "      <th>PC5</th>\n",
       "    </tr>\n",
       "  </thead>\n",
       "  <tbody>\n",
       "    <tr>\n",
       "      <th>count</th>\n",
       "      <td>397.0</td>\n",
       "      <td>397.0</td>\n",
       "      <td>397.0</td>\n",
       "      <td>397.0</td>\n",
       "      <td>397.0</td>\n",
       "    </tr>\n",
       "    <tr>\n",
       "      <th>mean</th>\n",
       "      <td>0.0</td>\n",
       "      <td>0.0</td>\n",
       "      <td>0.0</td>\n",
       "      <td>0.0</td>\n",
       "      <td>0.0</td>\n",
       "    </tr>\n",
       "    <tr>\n",
       "      <th>std</th>\n",
       "      <td>3.3</td>\n",
       "      <td>2.2</td>\n",
       "      <td>1.5</td>\n",
       "      <td>1.3</td>\n",
       "      <td>1.2</td>\n",
       "    </tr>\n",
       "    <tr>\n",
       "      <th>min</th>\n",
       "      <td>-5.8</td>\n",
       "      <td>-4.8</td>\n",
       "      <td>-3.6</td>\n",
       "      <td>-3.8</td>\n",
       "      <td>-3.5</td>\n",
       "    </tr>\n",
       "    <tr>\n",
       "      <th>25%</th>\n",
       "      <td>-2.4</td>\n",
       "      <td>-1.5</td>\n",
       "      <td>-1.1</td>\n",
       "      <td>-0.9</td>\n",
       "      <td>-0.6</td>\n",
       "    </tr>\n",
       "    <tr>\n",
       "      <th>50%</th>\n",
       "      <td>-0.6</td>\n",
       "      <td>-0.5</td>\n",
       "      <td>-0.1</td>\n",
       "      <td>0.0</td>\n",
       "      <td>-0.0</td>\n",
       "    </tr>\n",
       "    <tr>\n",
       "      <th>75%</th>\n",
       "      <td>1.5</td>\n",
       "      <td>0.9</td>\n",
       "      <td>1.1</td>\n",
       "      <td>0.8</td>\n",
       "      <td>0.4</td>\n",
       "    </tr>\n",
       "    <tr>\n",
       "      <th>max</th>\n",
       "      <td>12.2</td>\n",
       "      <td>9.0</td>\n",
       "      <td>4.6</td>\n",
       "      <td>3.9</td>\n",
       "      <td>13.0</td>\n",
       "    </tr>\n",
       "  </tbody>\n",
       "</table>\n",
       "</div>"
      ],
      "text/plain": [
       "         PC1    PC2    PC3    PC4    PC5\n",
       "count  397.0  397.0  397.0  397.0  397.0\n",
       "mean     0.0    0.0    0.0    0.0    0.0\n",
       "std      3.3    2.2    1.5    1.3    1.2\n",
       "min     -5.8   -4.8   -3.6   -3.8   -3.5\n",
       "25%     -2.4   -1.5   -1.1   -0.9   -0.6\n",
       "50%     -0.6   -0.5   -0.1    0.0   -0.0\n",
       "75%      1.5    0.9    1.1    0.8    0.4\n",
       "max     12.2    9.0    4.6    3.9   13.0"
      ]
     },
     "execution_count": 4,
     "metadata": {},
     "output_type": "execute_result"
    }
   ],
   "source": [
    "pcaData = pd.read_csv('./Data/PCAData.csv')\n",
    "pcaData.drop(['PLAYER','TEAM'],axis=1,inplace=True)\n",
    "pcaData.describe().round(1)"
   ]
  },
  {
   "cell_type": "code",
   "execution_count": 5,
   "metadata": {},
   "outputs": [],
   "source": [
    "# to standardise the principle components\n",
    "scaler = StandardScaler()\n",
    "pcaDataScaled = scaler.fit_transform(pcaData)"
   ]
  },
  {
   "cell_type": "code",
   "execution_count": 6,
   "metadata": {},
   "outputs": [
    {
     "data": {
      "text/html": [
       "<div>\n",
       "<style scoped>\n",
       "    .dataframe tbody tr th:only-of-type {\n",
       "        vertical-align: middle;\n",
       "    }\n",
       "\n",
       "    .dataframe tbody tr th {\n",
       "        vertical-align: top;\n",
       "    }\n",
       "\n",
       "    .dataframe thead th {\n",
       "        text-align: right;\n",
       "    }\n",
       "</style>\n",
       "<table border=\"1\" class=\"dataframe\">\n",
       "  <thead>\n",
       "    <tr style=\"text-align: right;\">\n",
       "      <th></th>\n",
       "      <th>PC1</th>\n",
       "      <th>PC2</th>\n",
       "      <th>PC3</th>\n",
       "      <th>PC4</th>\n",
       "      <th>PC5</th>\n",
       "    </tr>\n",
       "  </thead>\n",
       "  <tbody>\n",
       "    <tr>\n",
       "      <th>count</th>\n",
       "      <td>397.0</td>\n",
       "      <td>397.0</td>\n",
       "      <td>397.0</td>\n",
       "      <td>397.0</td>\n",
       "      <td>397.0</td>\n",
       "    </tr>\n",
       "    <tr>\n",
       "      <th>mean</th>\n",
       "      <td>-0.0</td>\n",
       "      <td>-0.0</td>\n",
       "      <td>-0.0</td>\n",
       "      <td>0.0</td>\n",
       "      <td>-0.0</td>\n",
       "    </tr>\n",
       "    <tr>\n",
       "      <th>std</th>\n",
       "      <td>1.0</td>\n",
       "      <td>1.0</td>\n",
       "      <td>1.0</td>\n",
       "      <td>1.0</td>\n",
       "      <td>1.0</td>\n",
       "    </tr>\n",
       "    <tr>\n",
       "      <th>min</th>\n",
       "      <td>-1.8</td>\n",
       "      <td>-2.2</td>\n",
       "      <td>-2.4</td>\n",
       "      <td>-2.9</td>\n",
       "      <td>-3.0</td>\n",
       "    </tr>\n",
       "    <tr>\n",
       "      <th>25%</th>\n",
       "      <td>-0.7</td>\n",
       "      <td>-0.7</td>\n",
       "      <td>-0.7</td>\n",
       "      <td>-0.7</td>\n",
       "      <td>-0.5</td>\n",
       "    </tr>\n",
       "    <tr>\n",
       "      <th>50%</th>\n",
       "      <td>-0.2</td>\n",
       "      <td>-0.2</td>\n",
       "      <td>-0.0</td>\n",
       "      <td>0.0</td>\n",
       "      <td>-0.0</td>\n",
       "    </tr>\n",
       "    <tr>\n",
       "      <th>75%</th>\n",
       "      <td>0.5</td>\n",
       "      <td>0.4</td>\n",
       "      <td>0.7</td>\n",
       "      <td>0.6</td>\n",
       "      <td>0.4</td>\n",
       "    </tr>\n",
       "    <tr>\n",
       "      <th>max</th>\n",
       "      <td>3.7</td>\n",
       "      <td>4.1</td>\n",
       "      <td>3.1</td>\n",
       "      <td>3.0</td>\n",
       "      <td>11.2</td>\n",
       "    </tr>\n",
       "  </tbody>\n",
       "</table>\n",
       "</div>"
      ],
      "text/plain": [
       "         PC1    PC2    PC3    PC4    PC5\n",
       "count  397.0  397.0  397.0  397.0  397.0\n",
       "mean    -0.0   -0.0   -0.0    0.0   -0.0\n",
       "std      1.0    1.0    1.0    1.0    1.0\n",
       "min     -1.8   -2.2   -2.4   -2.9   -3.0\n",
       "25%     -0.7   -0.7   -0.7   -0.7   -0.5\n",
       "50%     -0.2   -0.2   -0.0    0.0   -0.0\n",
       "75%      0.5    0.4    0.7    0.6    0.4\n",
       "max      3.7    4.1    3.1    3.0   11.2"
      ]
     },
     "execution_count": 6,
     "metadata": {},
     "output_type": "execute_result"
    }
   ],
   "source": [
    "# check if components are standardised\n",
    "pcaDataScaled = pd.DataFrame(pcaDataScaled, columns = ['PC1','PC2','PC3','PC4','PC5'])\n",
    "pcaDataScaled.describe().round(1)"
   ]
  },
  {
   "cell_type": "code",
   "execution_count": 7,
   "metadata": {},
   "outputs": [
    {
     "data": {
      "text/plain": [
       "0.1849474585033611"
      ]
     },
     "execution_count": 7,
     "metadata": {},
     "output_type": "execute_result"
    }
   ],
   "source": [
    "# conducting hopkins test\n",
    "hopkins(pcaDataScaled,pcaDataScaled.shape[0])"
   ]
  },
  {
   "cell_type": "code",
   "execution_count": 8,
   "metadata": {},
   "outputs": [
    {
     "data": {
      "image/png": "[encoded data removed]",
      "text/plain": [
       "<Figure size 432x288 with 1 Axes>"
      ]
     },
     "metadata": {
      "needs_background": "light"
     },
     "output_type": "display_data"
    }
   ],
   "source": [
    "completeLinkage = AgglomerativeClustering(distance_threshold=0, n_clusters=None,linkage='complete')\n",
    "completeLinknage = completeLinkage.fit(pcaDataScaled)\n",
    "plt.title(\"Hierarchical Clustering Dendrogram\")\n",
    "plot_dendrogram(completeLinkage, truncate_mode=\"level\", p=5)\n",
    "plt.show()"
   ]
  },
  {
   "cell_type": "code",
   "execution_count": 9,
   "metadata": {},
   "outputs": [
    {
     "data": {
      "text/html": [
       "<div>\n",
       "<style scoped>\n",
       "    .dataframe tbody tr th:only-of-type {\n",
       "        vertical-align: middle;\n",
       "    }\n",
       "\n",
       "    .dataframe tbody tr th {\n",
       "        vertical-align: top;\n",
       "    }\n",
       "\n",
       "    .dataframe thead th {\n",
       "        text-align: right;\n",
       "    }\n",
       "</style>\n",
       "<table border=\"1\" class=\"dataframe\">\n",
       "  <thead>\n",
       "    <tr style=\"text-align: right;\">\n",
       "      <th></th>\n",
       "      <th>PC1</th>\n",
       "      <th>PC2</th>\n",
       "      <th>PC3</th>\n",
       "      <th>PC4</th>\n",
       "      <th>PC5</th>\n",
       "    </tr>\n",
       "    <tr>\n",
       "      <th>completeCluster</th>\n",
       "      <th></th>\n",
       "      <th></th>\n",
       "      <th></th>\n",
       "      <th></th>\n",
       "      <th></th>\n",
       "    </tr>\n",
       "  </thead>\n",
       "  <tbody>\n",
       "    <tr>\n",
       "      <th>1</th>\n",
       "      <td>0.001726</td>\n",
       "      <td>0.320542</td>\n",
       "      <td>0.008668</td>\n",
       "      <td>0.830656</td>\n",
       "      <td>-0.150295</td>\n",
       "    </tr>\n",
       "    <tr>\n",
       "      <th>2</th>\n",
       "      <td>-0.011470</td>\n",
       "      <td>-0.566631</td>\n",
       "      <td>-0.608205</td>\n",
       "      <td>-0.293109</td>\n",
       "      <td>0.075851</td>\n",
       "    </tr>\n",
       "    <tr>\n",
       "      <th>3</th>\n",
       "      <td>-0.392415</td>\n",
       "      <td>0.216818</td>\n",
       "      <td>0.945739</td>\n",
       "      <td>-0.736326</td>\n",
       "      <td>-0.313509</td>\n",
       "    </tr>\n",
       "    <tr>\n",
       "      <th>4</th>\n",
       "      <td>1.613018</td>\n",
       "      <td>4.076379</td>\n",
       "      <td>-1.476161</td>\n",
       "      <td>-1.047818</td>\n",
       "      <td>-0.703025</td>\n",
       "    </tr>\n",
       "    <tr>\n",
       "      <th>5</th>\n",
       "      <td>2.319595</td>\n",
       "      <td>0.489516</td>\n",
       "      <td>0.165522</td>\n",
       "      <td>-0.679003</td>\n",
       "      <td>2.269689</td>\n",
       "    </tr>\n",
       "    <tr>\n",
       "      <th>6</th>\n",
       "      <td>3.741959</td>\n",
       "      <td>1.436095</td>\n",
       "      <td>1.671150</td>\n",
       "      <td>-0.015932</td>\n",
       "      <td>11.223892</td>\n",
       "    </tr>\n",
       "  </tbody>\n",
       "</table>\n",
       "</div>"
      ],
      "text/plain": [
       "                      PC1       PC2       PC3       PC4        PC5\n",
       "completeCluster                                                   \n",
       "1                0.001726  0.320542  0.008668  0.830656  -0.150295\n",
       "2               -0.011470 -0.566631 -0.608205 -0.293109   0.075851\n",
       "3               -0.392415  0.216818  0.945739 -0.736326  -0.313509\n",
       "4                1.613018  4.076379 -1.476161 -1.047818  -0.703025\n",
       "5                2.319595  0.489516  0.165522 -0.679003   2.269689\n",
       "6                3.741959  1.436095  1.671150 -0.015932  11.223892"
      ]
     },
     "execution_count": 9,
     "metadata": {},
     "output_type": "execute_result"
    }
   ],
   "source": [
    "linkageMatrix = linkage(pcaDataScaled,'complete')\n",
    "pcaDataScaled['completeCluster'] = create_cluster(linkageMatrix,6)\n",
    "pcaDataScaled.groupby('completeCluster').mean()"
   ]
  },
  {
   "cell_type": "code",
   "execution_count": 10,
   "metadata": {},
   "outputs": [
    {
     "data": {
      "text/plain": [
       "1    145\n",
       "2    145\n",
       "3     91\n",
       "5     13\n",
       "4      2\n",
       "6      1\n",
       "Name: completeCluster, dtype: int64"
      ]
     },
     "execution_count": 10,
     "metadata": {},
     "output_type": "execute_result"
    }
   ],
   "source": [
    "pcaDataScaled['completeCluster'].value_counts()"
   ]
  },
  {
   "cell_type": "code",
   "execution_count": 11,
   "metadata": {},
   "outputs": [
    {
     "data": {
      "image/png": "[encoded data removed]",
      "text/plain": [
       "<Figure size 432x288 with 1 Axes>"
      ]
     },
     "metadata": {
      "needs_background": "light"
     },
     "output_type": "display_data"
    }
   ],
   "source": [
    "wardLinkage = AgglomerativeClustering(distance_threshold=0, n_clusters=None,linkage='ward')\n",
    "wardLinkage = wardLinkage.fit(pcaDataScaled)\n",
    "plt.title(\"Hierarchical Clustering Dendrogram\")\n",
    "plot_dendrogram(wardLinkage, truncate_mode=\"level\", p=5)\n",
    "plt.show()"
   ]
  },
  {
   "cell_type": "code",
   "execution_count": 12,
   "metadata": {},
   "outputs": [
    {
     "data": {
      "text/html": [
       "<div>\n",
       "<style scoped>\n",
       "    .dataframe tbody tr th:only-of-type {\n",
       "        vertical-align: middle;\n",
       "    }\n",
       "\n",
       "    .dataframe tbody tr th {\n",
       "        vertical-align: top;\n",
       "    }\n",
       "\n",
       "    .dataframe thead th {\n",
       "        text-align: right;\n",
       "    }\n",
       "</style>\n",
       "<table border=\"1\" class=\"dataframe\">\n",
       "  <thead>\n",
       "    <tr style=\"text-align: right;\">\n",
       "      <th></th>\n",
       "      <th>PC1</th>\n",
       "      <th>PC2</th>\n",
       "      <th>PC3</th>\n",
       "      <th>PC4</th>\n",
       "      <th>PC5</th>\n",
       "      <th>completeCluster</th>\n",
       "    </tr>\n",
       "    <tr>\n",
       "      <th>wardCluster</th>\n",
       "      <th></th>\n",
       "      <th></th>\n",
       "      <th></th>\n",
       "      <th></th>\n",
       "      <th></th>\n",
       "      <th></th>\n",
       "    </tr>\n",
       "  </thead>\n",
       "  <tbody>\n",
       "    <tr>\n",
       "      <th>1</th>\n",
       "      <td>-0.130833</td>\n",
       "      <td>1.575830</td>\n",
       "      <td>-0.410990</td>\n",
       "      <td>0.235837</td>\n",
       "      <td>-0.244171</td>\n",
       "      <td>1.000000</td>\n",
       "    </tr>\n",
       "    <tr>\n",
       "      <th>2</th>\n",
       "      <td>0.067322</td>\n",
       "      <td>-0.300632</td>\n",
       "      <td>0.216333</td>\n",
       "      <td>1.124999</td>\n",
       "      <td>-0.103841</td>\n",
       "      <td>1.000000</td>\n",
       "    </tr>\n",
       "    <tr>\n",
       "      <th>3</th>\n",
       "      <td>2.319595</td>\n",
       "      <td>0.489516</td>\n",
       "      <td>0.165522</td>\n",
       "      <td>-0.679003</td>\n",
       "      <td>2.269689</td>\n",
       "      <td>5.000000</td>\n",
       "    </tr>\n",
       "    <tr>\n",
       "      <th>4</th>\n",
       "      <td>3.741959</td>\n",
       "      <td>1.436095</td>\n",
       "      <td>1.671150</td>\n",
       "      <td>-0.015932</td>\n",
       "      <td>11.223892</td>\n",
       "      <td>6.000000</td>\n",
       "    </tr>\n",
       "    <tr>\n",
       "      <th>5</th>\n",
       "      <td>-0.414046</td>\n",
       "      <td>-0.450735</td>\n",
       "      <td>-0.793592</td>\n",
       "      <td>-0.244968</td>\n",
       "      <td>0.267685</td>\n",
       "      <td>2.000000</td>\n",
       "    </tr>\n",
       "    <tr>\n",
       "      <th>6</th>\n",
       "      <td>-0.820049</td>\n",
       "      <td>-0.067365</td>\n",
       "      <td>1.100299</td>\n",
       "      <td>-0.574326</td>\n",
       "      <td>0.094731</td>\n",
       "      <td>3.000000</td>\n",
       "    </tr>\n",
       "    <tr>\n",
       "      <th>7</th>\n",
       "      <td>1.410125</td>\n",
       "      <td>-0.975889</td>\n",
       "      <td>0.046443</td>\n",
       "      <td>-0.463111</td>\n",
       "      <td>-0.601564</td>\n",
       "      <td>2.000000</td>\n",
       "    </tr>\n",
       "    <tr>\n",
       "      <th>8</th>\n",
       "      <td>0.592235</td>\n",
       "      <td>1.034189</td>\n",
       "      <td>0.480369</td>\n",
       "      <td>-1.080421</td>\n",
       "      <td>-1.155118</td>\n",
       "      <td>3.064516</td>\n",
       "    </tr>\n",
       "  </tbody>\n",
       "</table>\n",
       "</div>"
      ],
      "text/plain": [
       "                  PC1       PC2       PC3       PC4        PC5  \\\n",
       "wardCluster                                                      \n",
       "1           -0.130833  1.575830 -0.410990  0.235837  -0.244171   \n",
       "2            0.067322 -0.300632  0.216333  1.124999  -0.103841   \n",
       "3            2.319595  0.489516  0.165522 -0.679003   2.269689   \n",
       "4            3.741959  1.436095  1.671150 -0.015932  11.223892   \n",
       "5           -0.414046 -0.450735 -0.793592 -0.244968   0.267685   \n",
       "6           -0.820049 -0.067365  1.100299 -0.574326   0.094731   \n",
       "7            1.410125 -0.975889  0.046443 -0.463111  -0.601564   \n",
       "8            0.592235  1.034189  0.480369 -1.080421  -1.155118   \n",
       "\n",
       "             completeCluster  \n",
       "wardCluster                   \n",
       "1                   1.000000  \n",
       "2                   1.000000  \n",
       "3                   5.000000  \n",
       "4                   6.000000  \n",
       "5                   2.000000  \n",
       "6                   3.000000  \n",
       "7                   2.000000  \n",
       "8                   3.064516  "
      ]
     },
     "execution_count": 12,
     "metadata": {},
     "output_type": "execute_result"
    }
   ],
   "source": [
    "linkageMatrix = linkage(pcaDataScaled,'ward')\n",
    "pcaDataScaled['wardCluster'] = create_cluster(linkageMatrix,11)\n",
    "pcaDataScaled.groupby('wardCluster').mean()"
   ]
  },
  {
   "cell_type": "code",
   "execution_count": 13,
   "metadata": {},
   "outputs": [
    {
     "data": {
      "text/plain": [
       "5    113\n",
       "2     97\n",
       "6     62\n",
       "1     48\n",
       "7     32\n",
       "8     31\n",
       "3     13\n",
       "4      1\n",
       "Name: wardCluster, dtype: int64"
      ]
     },
     "execution_count": 13,
     "metadata": {},
     "output_type": "execute_result"
    }
   ],
   "source": [
    "pcaDataScaled['wardCluster'].value_counts()"
   ]
  },
  {
   "cell_type": "code",
   "execution_count": 14,
   "metadata": {},
   "outputs": [
    {
     "data": {
      "image/png": "[encoded data removed]",
      "text/plain": [
       "<Figure size 432x288 with 1 Axes>"
      ]
     },
     "metadata": {
      "needs_background": "light"
     },
     "output_type": "display_data"
    }
   ],
   "source": [
    "singleLinkage = AgglomerativeClustering(distance_threshold=0, n_clusters=None,linkage='single')\n",
    "singleLinkage = singleLinkage.fit(pcaDataScaled)\n",
    "plt.title(\"Hierarchical Clustering Dendrogram\")\n",
    "plot_dendrogram(singleLinkage, truncate_mode=\"level\", p=5)\n",
    "plt.show()"
   ]
  },
  {
   "cell_type": "code",
   "execution_count": 15,
   "metadata": {},
   "outputs": [
    {
     "data": {
      "text/html": [
       "<div>\n",
       "<style scoped>\n",
       "    .dataframe tbody tr th:only-of-type {\n",
       "        vertical-align: middle;\n",
       "    }\n",
       "\n",
       "    .dataframe tbody tr th {\n",
       "        vertical-align: top;\n",
       "    }\n",
       "\n",
       "    .dataframe thead th {\n",
       "        text-align: right;\n",
       "    }\n",
       "</style>\n",
       "<table border=\"1\" class=\"dataframe\">\n",
       "  <thead>\n",
       "    <tr style=\"text-align: right;\">\n",
       "      <th></th>\n",
       "      <th>PC1</th>\n",
       "      <th>PC2</th>\n",
       "      <th>PC3</th>\n",
       "      <th>PC4</th>\n",
       "      <th>PC5</th>\n",
       "      <th>completeCluster</th>\n",
       "      <th>wardCluster</th>\n",
       "    </tr>\n",
       "    <tr>\n",
       "      <th>singleCluster</th>\n",
       "      <th></th>\n",
       "      <th></th>\n",
       "      <th></th>\n",
       "      <th></th>\n",
       "      <th></th>\n",
       "      <th></th>\n",
       "      <th></th>\n",
       "    </tr>\n",
       "  </thead>\n",
       "  <tbody>\n",
       "    <tr>\n",
       "      <th>1</th>\n",
       "      <td>-1.633174e-16</td>\n",
       "      <td>2.852462e-17</td>\n",
       "      <td>-1.761815e-17</td>\n",
       "      <td>-3.971075e-17</td>\n",
       "      <td>-1.594023e-17</td>\n",
       "      <td>1.982368</td>\n",
       "      <td>4.267003</td>\n",
       "    </tr>\n",
       "  </tbody>\n",
       "</table>\n",
       "</div>"
      ],
      "text/plain": [
       "                        PC1           PC2           PC3           PC4  \\\n",
       "singleCluster                                                           \n",
       "1             -1.633174e-16  2.852462e-17 -1.761815e-17 -3.971075e-17   \n",
       "\n",
       "                        PC5  completeCluster  wardCluster  \n",
       "singleCluster                                              \n",
       "1             -1.594023e-17         1.982368     4.267003  "
      ]
     },
     "execution_count": 15,
     "metadata": {},
     "output_type": "execute_result"
    }
   ],
   "source": [
    "linkageMatrix = linkage(pcaDataScaled,'single')\n",
    "pcaDataScaled['singleCluster'] = create_cluster(linkageMatrix,11)\n",
    "pcaDataScaled.groupby('singleCluster').mean()"
   ]
  },
  {
   "cell_type": "code",
   "execution_count": 16,
   "metadata": {},
   "outputs": [
    {
     "data": {
      "text/plain": [
       "1    397\n",
       "Name: singleCluster, dtype: int64"
      ]
     },
     "execution_count": 16,
     "metadata": {},
     "output_type": "execute_result"
    }
   ],
   "source": [
    "pcaDataScaled['singleCluster'].value_counts()"
   ]
  },
  {
   "cell_type": "code",
   "execution_count": 17,
   "metadata": {},
   "outputs": [
    {
     "data": {
      "image/png": "[encoded data removed]",
      "text/plain": [
       "<Figure size 432x288 with 1 Axes>"
      ]
     },
     "metadata": {
      "needs_background": "light"
     },
     "output_type": "display_data"
    }
   ],
   "source": [
    "avgLinkage = AgglomerativeClustering(distance_threshold=0, n_clusters=None,linkage='average')\n",
    "avgLinkage = avgLinkage.fit(pcaDataScaled)\n",
    "plt.title(\"Hierarchical Clustering Dendrogram\")\n",
    "plot_dendrogram(avgLinkage, truncate_mode=\"level\", p=5)\n",
    "plt.show()"
   ]
  },
  {
   "cell_type": "code",
   "execution_count": 18,
   "metadata": {},
   "outputs": [
    {
     "data": {
      "text/html": [
       "<div>\n",
       "<style scoped>\n",
       "    .dataframe tbody tr th:only-of-type {\n",
       "        vertical-align: middle;\n",
       "    }\n",
       "\n",
       "    .dataframe tbody tr th {\n",
       "        vertical-align: top;\n",
       "    }\n",
       "\n",
       "    .dataframe thead th {\n",
       "        text-align: right;\n",
       "    }\n",
       "</style>\n",
       "<table border=\"1\" class=\"dataframe\">\n",
       "  <thead>\n",
       "    <tr style=\"text-align: right;\">\n",
       "      <th></th>\n",
       "      <th>PC1</th>\n",
       "      <th>PC2</th>\n",
       "      <th>PC3</th>\n",
       "      <th>PC4</th>\n",
       "      <th>PC5</th>\n",
       "      <th>completeCluster</th>\n",
       "      <th>wardCluster</th>\n",
       "      <th>singleCluster</th>\n",
       "    </tr>\n",
       "    <tr>\n",
       "      <th>averageCluster</th>\n",
       "      <th></th>\n",
       "      <th></th>\n",
       "      <th></th>\n",
       "      <th></th>\n",
       "      <th></th>\n",
       "      <th></th>\n",
       "      <th></th>\n",
       "      <th></th>\n",
       "    </tr>\n",
       "  </thead>\n",
       "  <tbody>\n",
       "    <tr>\n",
       "      <th>1</th>\n",
       "      <td>1.613018</td>\n",
       "      <td>4.076379</td>\n",
       "      <td>-1.476161</td>\n",
       "      <td>-1.047818</td>\n",
       "      <td>-0.703025</td>\n",
       "      <td>4.000000</td>\n",
       "      <td>8.000000</td>\n",
       "      <td>1.0</td>\n",
       "    </tr>\n",
       "    <tr>\n",
       "      <th>2</th>\n",
       "      <td>2.319595</td>\n",
       "      <td>0.489516</td>\n",
       "      <td>0.165522</td>\n",
       "      <td>-0.679003</td>\n",
       "      <td>2.269689</td>\n",
       "      <td>5.000000</td>\n",
       "      <td>3.000000</td>\n",
       "      <td>1.0</td>\n",
       "    </tr>\n",
       "    <tr>\n",
       "      <th>3</th>\n",
       "      <td>0.001726</td>\n",
       "      <td>0.320542</td>\n",
       "      <td>0.008668</td>\n",
       "      <td>0.830656</td>\n",
       "      <td>-0.150295</td>\n",
       "      <td>1.000000</td>\n",
       "      <td>1.668966</td>\n",
       "      <td>1.0</td>\n",
       "    </tr>\n",
       "    <tr>\n",
       "      <th>4</th>\n",
       "      <td>-0.158360</td>\n",
       "      <td>-0.264539</td>\n",
       "      <td>-0.009014</td>\n",
       "      <td>-0.464011</td>\n",
       "      <td>-0.074284</td>\n",
       "      <td>2.385593</td>\n",
       "      <td>5.902542</td>\n",
       "      <td>1.0</td>\n",
       "    </tr>\n",
       "    <tr>\n",
       "      <th>5</th>\n",
       "      <td>3.741959</td>\n",
       "      <td>1.436095</td>\n",
       "      <td>1.671150</td>\n",
       "      <td>-0.015932</td>\n",
       "      <td>11.223892</td>\n",
       "      <td>6.000000</td>\n",
       "      <td>4.000000</td>\n",
       "      <td>1.0</td>\n",
       "    </tr>\n",
       "  </tbody>\n",
       "</table>\n",
       "</div>"
      ],
      "text/plain": [
       "                     PC1       PC2       PC3       PC4        PC5  \\\n",
       "averageCluster                                                      \n",
       "1               1.613018  4.076379 -1.476161 -1.047818  -0.703025   \n",
       "2               2.319595  0.489516  0.165522 -0.679003   2.269689   \n",
       "3               0.001726  0.320542  0.008668  0.830656  -0.150295   \n",
       "4              -0.158360 -0.264539 -0.009014 -0.464011  -0.074284   \n",
       "5               3.741959  1.436095  1.671150 -0.015932  11.223892   \n",
       "\n",
       "                completeCluster  wardCluster  singleCluster  \n",
       "averageCluster                                               \n",
       "1                      4.000000     8.000000            1.0  \n",
       "2                      5.000000     3.000000            1.0  \n",
       "3                      1.000000     1.668966            1.0  \n",
       "4                      2.385593     5.902542            1.0  \n",
       "5                      6.000000     4.000000            1.0  "
      ]
     },
     "execution_count": 18,
     "metadata": {},
     "output_type": "execute_result"
    }
   ],
   "source": [
    "linkageMatrix = linkage(pcaDataScaled,'average')\n",
    "pcaDataScaled['averageCluster'] = create_cluster(linkageMatrix,4)\n",
    "pcaDataScaled.groupby('averageCluster').mean()"
   ]
  },
  {
   "cell_type": "code",
   "execution_count": 19,
   "metadata": {},
   "outputs": [
    {
     "data": {
      "text/plain": [
       "4    236\n",
       "3    145\n",
       "2     13\n",
       "1      2\n",
       "5      1\n",
       "Name: averageCluster, dtype: int64"
      ]
     },
     "execution_count": 19,
     "metadata": {},
     "output_type": "execute_result"
    }
   ],
   "source": [
    "pcaDataScaled['averageCluster'].value_counts()"
   ]
  },
  {
   "cell_type": "code",
   "execution_count": 20,
   "metadata": {},
   "outputs": [
    {
     "data": {
      "image/png": "[encoded data removed]",
      "text/plain": [
       "<Figure size 720x720 with 1 Axes>"
      ]
     },
     "metadata": {
      "needs_background": "light"
     },
     "output_type": "display_data"
    }
   ],
   "source": [
    "\n",
    "fig = plt.figure(figsize = (10,10))\n",
    "ax = fig.add_subplot(111, projection='3d')\n",
    "for i in pcaDataScaled['wardCluster']:\n",
    "    x = np.array(pcaDataScaled[pcaDataScaled['wardCluster'] == i]['PC1'])\n",
    "    y = np.array(pcaDataScaled[pcaDataScaled['wardCluster'] == i]['PC2'])\n",
    "    z = np.array(pcaDataScaled[pcaDataScaled['wardCluster'] == i]['PC3'])\n",
    "    ax.scatter(x, y, z, marker = 'o', s = 40)\n",
    "plt.title('Scatterplot of Clusters')\n",
    "ax.set_xlabel('PC1')\n",
    "ax.set_ylabel('PC2')\n",
    "ax.set_zlabel('PC3')\n",
    "ax.legend([1,2,3,4,5,6,7,8])\n",
    "plt.show()"
   ]
  },
  {
   "cell_type": "code",
   "execution_count": 21,
   "metadata": {},
   "outputs": [
    {
     "data": {
      "application/vnd.plotly.v1+json": {
       "config": {
        "plotlyServerURL": "https://plot.ly"
       },
       "data": [
        {
         "hovertemplate": "PC1=%{x}<br>PC2=%{y}<br>PC3=%{z}<br>wardCluster=%{marker.color}<extra></extra>",
         "legendgroup": "",
         "marker": {
          "color": [
           7,
           7,
           7,
           8,
           3,
           3,
           7,
           8,
           8,
           7,
           7,
           7,
           3,
           7,
           3,
           2,
           3,
           7,
           8,
           7,
           3,
           2,
           3,
           7,
           2,
           2,
           7,
           7,
           2,
           4,
           8,
           2,
           3,
           2,
           7,
           7,
           8,
           2,
           2,
           7,
           3,
           7,
           8,
           2,
           7,
           7,
           2,
           7,
           2,
           7,
           2,
           8,
           2,
           3,
           2,
           2,
           5,
           8,
           7,
           8,
           2,
           2,
           7,
           2,
           7,
           1,
           5,
           5,
           2,
           2,
           3,
           7,
           7,
           7,
           7,
           2,
           5,
           6,
           2,
           7,
           7,
           2,
           8,
           6,
           2,
           8,
           1,
           7,
           5,
           2,
           2,
           1,
           8,
           8,
           8,
           3,
           1,
           8,
           1,
           5,
           2,
           2,
           2,
           8,
           2,
           2,
           8,
           2,
           1,
           5,
           5,
           5,
           5,
           2,
           5,
           5,
           7,
           2,
           5,
           2,
           2,
           2,
           1,
           2,
           2,
           5,
           5,
           5,
           8,
           5,
           2,
           6,
           5,
           2,
           5,
           8,
           2,
           1,
           5,
           2,
           2,
           6,
           1,
           5,
           1,
           8,
           1,
           2,
           5,
           5,
           2,
           6,
           1,
           2,
           1,
           6,
           2,
           8,
           6,
           5,
           5,
           2,
           5,
           8,
           5,
           6,
           5,
           2,
           2,
           5,
           2,
           1,
           1,
           5,
           5,
           5,
           2,
           5,
           5,
           5,
           6,
           5,
           6,
           5,
           5,
           8,
           1,
           2,
           2,
           5,
           6,
           6,
           5,
           5,
           1,
           6,
           1,
           2,
           6,
           2,
           6,
           2,
           5,
           2,
           1,
           1,
           2,
           5,
           5,
           6,
           6,
           1,
           6,
           5,
           2,
           2,
           5,
           6,
           5,
           1,
           1,
           5,
           5,
           2,
           5,
           6,
           6,
           8,
           5,
           5,
           2,
           2,
           8,
           5,
           5,
           1,
           5,
           1,
           2,
           5,
           2,
           2,
           1,
           2,
           2,
           5,
           5,
           6,
           6,
           5,
           2,
           1,
           5,
           1,
           5,
           5,
           2,
           1,
           1,
           5,
           6,
           2,
           1,
           5,
           2,
           6,
           2,
           2,
           5,
           1,
           8,
           5,
           3,
           5,
           1,
           6,
           5,
           1,
           5,
           2,
           2,
           6,
           1,
           5,
           5,
           2,
           2,
           5,
           5,
           2,
           6,
           5,
           6,
           5,
           8,
           1,
           1,
           5,
           5,
           5,
           5,
           2,
           6,
           5,
           5,
           2,
           2,
           5,
           6,
           5,
           6,
           5,
           5,
           2,
           1,
           1,
           5,
           6,
           1,
           5,
           8,
           6,
           2,
           8,
           6,
           6,
           2,
           5,
           2,
           5,
           1,
           6,
           5,
           5,
           2,
           6,
           2,
           8,
           5,
           6,
           1,
           6,
           6,
           6,
           6,
           5,
           1,
           5,
           1,
           2,
           1,
           5,
           2,
           2,
           6,
           2,
           5,
           6,
           6,
           6,
           5,
           5,
           5,
           5,
           6,
           6,
           2,
           5,
           5,
           1,
           5,
           5,
           6,
           6,
           2,
           5,
           5,
           6,
           5,
           5,
           6,
           1,
           6,
           6,
           6,
           6,
           5,
           1,
           6,
           5,
           6,
           5,
           5,
           6,
           6,
           5,
           6
          ],
          "coloraxis": "coloraxis",
          "symbol": "circle"
         },
         "mode": "markers",
         "name": "",
         "scene": "scene",
         "showlegend": false,
         "type": "scatter3d",
         "x": [
          2.651246827147298,
          2.32165408388106,
          2.4145665407846293,
          2.863134722868931,
          3.1908717724346896,
          2.9849783527900215,
          1.9445264084632037,
          1.9519476852527653,
          2.218749820438472,
          2.004127159060545,
          2.1912357791427315,
          1.915400260476956,
          3.28327820428979,
          1.7656239842165626,
          2.3678616110125446,
          1.9625992057870285,
          2.318442208032873,
          1.9340827227338424,
          2.510889282795028,
          1.792248204717494,
          2.9856927498211085,
          1.4247964460429106,
          2.750010872840634,
          1.5519904242145413,
          1.4820005471855882,
          2.1169140905114983,
          1.943045813022739,
          1.2395649760819119,
          1.3335768417491092,
          3.741959302263645,
          1.5830258383029818,
          1.447290124591836,
          2.041876884203428,
          1.7587142851890152,
          1.2953108889683436,
          1.3231989462535423,
          1.4365773615861404,
          1.3057610812190361,
          1.2178993919164727,
          1.5375814787310855,
          2.562658607708011,
          1.2455047792234093,
          1.2661312554029196,
          1.2051368715887265,
          1.1532627063264467,
          1.5101962436841043,
          0.651851724962418,
          1.2464169446548383,
          1.043855786463254,
          1.0182134265534417,
          1.348225512902032,
          1.072993075529878,
          0.8785965424230637,
          1.7756501564734166,
          0.8573499306944378,
          0.9717678474108208,
          0.7808874550633725,
          0.41615070321744657,
          1.1822256518156453,
          0.9805718016126393,
          1.021806673056107,
          0.8046538406088507,
          1.382123068045225,
          0.7930342554732418,
          0.6398817693273423,
          1.5239929843679214,
          0.7217196853423187,
          0.3641018871917366,
          0.7379251863968952,
          0.918301973881032,
          1.413540734526098,
          0.5361932223622577,
          0.9817781796058738,
          0.8312243310002814,
          0.8411448663544858,
          1.1367062594254327,
          1.101932149550906,
          0.383819424538919,
          0.6081924519144354,
          0.9343137811491149,
          0.4926520551328951,
          0.19268260235188775,
          1.4908880652011727,
          0.4554871536241463,
          0.7115518075916802,
          0.4047994371769078,
          1.353180921809561,
          0.5504527277823098,
          0.24671047381993438,
          0.8811113767485522,
          0.2526044722040155,
          1.0803501687801769,
          0.45439946873587933,
          0.08967395609259451,
          1.7351484881272772,
          1.4288933176065897,
          0.8064001966483316,
          0.33858282605952,
          0.329932162953903,
          0.2723045868428007,
          0.30562433886975027,
          0.28414513712078315,
          0.45575334870736034,
          0.5923463803093276,
          0.06891972978447161,
          -0.13237149650356475,
          -0.008646831695815897,
          0.848406015251501,
          0.25033121210473924,
          0.43208350401746654,
          0.38457852859752484,
          0.11423223909006885,
          0.1397518887195111,
          0.43818084670968394,
          0.1748885761348833,
          0.28884829510543053,
          0.7529989737454442,
          0.31053479605535994,
          0.08953013072031055,
          0.7691161320584665,
          0.25676491477208124,
          0.4062801282540361,
          0.7792911351308404,
          0.27280918140006255,
          0.47907437379106393,
          0.19207603294656525,
          0.34956143962794944,
          0.03787884226677109,
          0.7974989927558391,
          0.05946519438174398,
          0.5143678235433468,
          0.35762219101531,
          0.28434244701245154,
          0.09448228659814234,
          0.26951695299233214,
          0.15890396125408432,
          0.1831312287048383,
          0.43965973381888046,
          0.3642992144013972,
          -0.2864402536243851,
          0.2697630020085095,
          -0.3614928929292159,
          0.13183477409399863,
          -0.06641651797366728,
          -0.14906346421887878,
          0.6669275091141125,
          0.13126340327706149,
          -0.19203015297217937,
          0.012938681300373716,
          -0.10783124184397631,
          0.33584166276733,
          0.06999031252783143,
          0.3646865007779094,
          -0.12396710345630295,
          0.6863162140009256,
          -0.43633237019836024,
          -0.3016513686659771,
          0.02131273677216494,
          -0.16044383090506767,
          -0.04041555705259084,
          0.13456249354066968,
          -0.3357630883331873,
          -0.01544047129830927,
          -0.049847367881964234,
          -0.2738077690435771,
          -0.32979068141036005,
          -0.11692346360486591,
          -0.15421599996701682,
          0.04304473209959032,
          0.28725304976400845,
          -0.08691550509126975,
          0.6379547426886821,
          -0.11089084777685891,
          0.18277103989913163,
          -0.3842744088673091,
          -0.214103230989916,
          -0.0330950325112165,
          -0.2667089704139932,
          0.08372274650379209,
          -0.629548613593436,
          -0.41711697301379275,
          0.08861372563902498,
          -0.6900033782210327,
          -0.10272749134163432,
          -0.5981895687013736,
          -0.33407060898796087,
          -0.02061291377832947,
          -0.09216035543130688,
          -0.6360621115683704,
          -0.31241255937546625,
          -0.6484589537295298,
          -0.3390931803711013,
          0.08942210580962698,
          -0.1393586172342491,
          -0.06571229412866168,
          0.23680302944991463,
          -0.31081026463072203,
          -0.467818651867367,
          0.21752265418790404,
          -0.1196246235225861,
          -0.4219142360544397,
          -0.39278428329745013,
          -0.4979944400055091,
          -0.23143722326282362,
          -0.5006624091178534,
          0.11031695430165941,
          -0.7117467389309539,
          -0.23669337456958936,
          -0.16482872757363068,
          -0.0393551754739455,
          -0.058478052337904,
          -0.13909115706288241,
          -0.4699746333339205,
          -0.3992813755543348,
          -0.08116315364950005,
          -0.5676247100511752,
          -0.38443454715728514,
          -0.6243763907797785,
          0.20362379645185977,
          -0.14222794762427887,
          0.21954220107942318,
          0.15357199545871597,
          0.432550564895856,
          -0.5774872883530794,
          -0.4320395956920535,
          -0.39303318160742673,
          -0.7641059939912412,
          -0.07747186461568158,
          -0.6377370070475515,
          -0.3118066250240717,
          -0.4421764742180261,
          -0.3907581004435902,
          -0.5740174407041826,
          -0.3643242346425806,
          -0.07050658532705158,
          -0.18566154601090432,
          -0.8299829165775772,
          -0.5244796643992322,
          -0.4048490772248209,
          -0.5975229809152847,
          -0.13597853828019824,
          -0.726932232034691,
          -0.42009137214184605,
          -0.4898467838528045,
          -0.613743194258147,
          -0.3653783024731985,
          -0.5057110711118441,
          -0.7057673820801356,
          -0.3612180132759789,
          -0.6131857175272774,
          -0.826410214398877,
          -0.1959728083425896,
          -0.35429776706739524,
          0.10198140397443241,
          -0.8019002129643704,
          -0.33526297721421017,
          -0.6320458544327096,
          -0.6454824957891254,
          -0.21639210149950483,
          -0.8997385894655126,
          -1.1077704815867084,
          -0.6720550542655697,
          -0.535299250179964,
          -0.4945259774694708,
          -0.8173102691812005,
          -0.9529132364080779,
          -0.723734904037226,
          -0.337061917211638,
          -0.3366625563544844,
          -0.7149720257041613,
          -0.67224339121768,
          -0.31144952947847704,
          1.0509820990985752,
          -0.5867956204544648,
          -0.6531237751964434,
          -0.9551916098110605,
          0.19546029394049586,
          0.05073339863072471,
          -0.700648517709611,
          -0.8340182526353276,
          -0.6883364977132971,
          -0.6839117197502312,
          -0.5861883031354791,
          -0.7377187128842956,
          -0.4444566120517628,
          -0.5336648288257384,
          -0.322418116040986,
          -0.7453784345828183,
          -0.6413607374685495,
          -1.014597032878917,
          -0.6997218530038828,
          -0.5937432292971699,
          -0.9791454618902001,
          -0.9940397617809521,
          -0.5748045767769608,
          -0.5957522096531771,
          -0.6802899990747917,
          -0.7932529741383495,
          -0.7653667681842281,
          -0.6920456269970038,
          -0.8362333040315709,
          -0.9071791756594796,
          -0.8627589984640207,
          -0.4602747577022303,
          -0.8101865594733997,
          -0.8967485687182836,
          -0.5534277409766133,
          -0.7551634013756597,
          -1.0059272125537342,
          -0.6854220041873285,
          -1.0475985678047535,
          -0.37850422407741713,
          -1.3192370455317397,
          -0.8370813564051472,
          -0.6069384023992337,
          -0.713417013064198,
          -0.6813306578310191,
          -1.3897895790440724,
          -0.4772753632025689,
          -1.2670143325679764,
          -0.9933746588731698,
          -1.1758872084126275,
          -0.8422407549515999,
          -0.8622306416464445,
          -1.1164802552259872,
          -1.2888851370511683,
          -1.0225527194666668,
          -0.7871176713428624,
          -0.904977305964203,
          -0.848145805724051,
          -0.6352877790599698,
          -0.9219588528060274,
          -1.0971629322216268,
          -0.6697979471990122,
          -0.5431692437799888,
          -1.3337708243846567,
          -0.7614710231077595,
          -0.5446500632138422,
          -0.9305849779108064,
          -1.1154300877689742,
          -0.7681684957433941,
          -1.3296401148660661,
          -0.8521055366009351,
          -1.172746865461873,
          -0.9858715573474738,
          -1.1846416033001808,
          -0.9865046626567361,
          -1.2370947544761985,
          -0.8704735495858353,
          -1.0724121508894013,
          -0.19629677585761535,
          -0.5614074321358673,
          -0.8808597527106575,
          -0.682688167615836,
          -1.3101361195867658,
          -1.0989021745457073,
          -1.0224710670693178,
          -1.1870276081084508,
          -1.0889760148555623,
          -1.290916785042917,
          -1.2298172675409664,
          -1.1895188529802332,
          -0.9657504658206806,
          -1.1192390390612452,
          -1.1868069616880697,
          -1.0537244998793716,
          -0.8651210197008444,
          -1.1473630518155966,
          -1.2469241307007588,
          -1.0986429336155372,
          -1.1538107950411183,
          -0.8028844065287453,
          -1.2790826150056578,
          -0.876769762854628,
          -0.8717472795476386,
          -0.6646370154956698,
          -1.0971447606872244,
          -1.2222934122223972,
          -1.1312596452347075,
          -1.1347755413230236,
          -1.3177469233870247,
          -0.7547100950876179,
          -1.2930367335956712,
          -1.2709566354725137,
          -1.2837797009969156,
          -1.7816521236343723,
          -1.0638874212201102,
          -0.7772746770377311,
          -1.3404952701518171,
          -0.7385472705493664,
          -1.5132445091843694,
          -1.362288709281495,
          -1.3389599183953427,
          -1.2905633070454385,
          -1.5605354605075374,
          -1.4935631946778645,
          -1.2181007307579814
         ],
         "y": [
          -2.1683010862695586,
          -0.9137044438825284,
          -1.8723619880629256,
          1.1982433367669303,
          1.555063136873436,
          -0.3142414921398483,
          -1.1690645013441767,
          1.25255051352619,
          -0.3520848817386143,
          -0.9886058853834727,
          -0.7278653093444223,
          -1.4372013033306992,
          1.436816913926537,
          -0.8956337530302333,
          -1.0458098602164692,
          -0.5949900611726429,
          -0.3086571994481099,
          -0.5765558338879598,
          0.9154863809990147,
          -0.4705655758056449,
          -0.338192102607779,
          -0.722925664550034,
          0.3531631967803901,
          -0.8411500224636919,
          -0.6056916064988748,
          0.7350413824918202,
          -0.9748553167399595,
          -1.4746774768311994,
          -0.5283583611996665,
          1.4360945955283688,
          0.9261175836606412,
          -0.10404557088261866,
          0.2770883315232739,
          0.31375398041285935,
          -1.1918270436778415,
          -0.9535626482793224,
          1.014825637378155,
          -1.0046382287722602,
          -1.2261387085947502,
          -0.7697654179364304,
          1.8123003269796372,
          -0.6240872308734867,
          0.5525019856100842,
          -0.9315719074973059,
          -0.6677269714756775,
          -1.4262551803055803,
          -1.315395721312891,
          0.0207774502155695,
          -0.7560723967641196,
          -1.5333834089201657,
          -0.4304427283277736,
          0.09694872964173068,
          -1.3209440839634883,
          1.6901654264245616,
          -1.0478438298801418,
          -0.14368230103394727,
          -1.4587532925390347,
          -1.2586130204561652,
          -0.5356936654661327,
          0.8975657881168829,
          -0.2529142947906259,
          -1.1491996063727419,
          -0.8859157677611715,
          -0.7105024522332936,
          -1.103129696294758,
          2.6264401192303164,
          -1.184817816884522,
          -1.2579743787204878,
          -0.6557768215107952,
          -1.4344099243327124,
          -0.6177414635900366,
          -1.3400104956685568,
          -1.2937637959179467,
          -0.26033616207130433,
          -0.2662849985378959,
          -0.2132807588854897,
          0.0747162257195808,
          -0.9061945546932874,
          0.2213387015516319,
          -0.6293571393287007,
          -0.8258874159734485,
          -1.2692124839542245,
          4.089708920049381,
          -0.6532194789568408,
          -0.9811128260686535,
          -0.1370080790196317,
          2.9034190986714075,
          -1.6945238941958045,
          -0.7848083158663219,
          -1.0289715479481263,
          -1.0047450655328978,
          2.5697450281005847,
          0.5276606051665119,
          1.071478498809569,
          4.063049154959036,
          1.1905851678107595,
          2.305493860754602,
          -0.21134618652710818,
          1.1621269363047222,
          -1.0183952592211856,
          -0.6488551342606016,
          0.11262255560494129,
          0.12042088780895231,
          1.0719337022306477,
          -0.49728746721688855,
          -0.45855256675354983,
          -0.11245189287456167,
          0.2226758880637321,
          1.7533782083102718,
          -0.26169048852440524,
          -0.8620584436873597,
          -0.7795386930044366,
          -0.8280977834678036,
          0.0674990524286635,
          -0.8273898551784995,
          -1.256510255921195,
          -0.7371798657401338,
          -0.8780068950508189,
          -0.5837050778845603,
          0.3952781897866289,
          -0.326690036796021,
          0.11200739314198936,
          2.3349372197979337,
          0.42380152733611615,
          0.12258137834234836,
          -0.7088458375908465,
          -0.6952292484978212,
          -0.47952893777784267,
          1.3702653429289038,
          -1.2445950042155043,
          -0.02200901707568807,
          0.3395029325898354,
          0.3706115195057189,
          -0.8179216619032671,
          -0.6313713239410528,
          -0.5259230733776903,
          -0.6484303357633155,
          1.1792845036293982,
          -1.1187991679421068,
          -0.9940017052527389,
          -0.7180849333969066,
          -1.027560668266158,
          0.684530513290674,
          -1.1962582018194985,
          1.2249307042986632,
          1.598887190853099,
          0.5772887351969131,
          -0.9863704584701548,
          -0.3633518706678116,
          -0.9943209292970628,
          0.6833937123093202,
          -0.36867066297985274,
          1.5399044609089365,
          0.7531285314403274,
          2.527231263449387,
          -0.8166106229453594,
          -0.7721103631506493,
          0.737547086537615,
          -0.5444015986436922,
          -0.37247652447266005,
          -0.23467442094811955,
          -0.4379179811758201,
          -1.0826700332313497,
          0.24975357268593945,
          -1.4598736251326372,
          -0.8615607140382789,
          -0.871591247603387,
          -1.0009681947774354,
          -0.8232715170773122,
          -0.3347837403923322,
          -0.6940658770169218,
          2.5187925188748608,
          0.8953669057969686,
          -0.24908163763057428,
          -0.6869085054703737,
          -0.007472000236126956,
          -0.6798148612376672,
          -0.4878756384426962,
          -0.682126697149484,
          -1.0548210779969438,
          -0.6699322708664434,
          -0.10417580694577613,
          -0.7201741982237394,
          -0.8463714199201804,
          -0.6743563509696789,
          -0.2910785252683631,
          0.8965515030188416,
          0.031936198547890746,
          -1.1315225809746636,
          -0.79091885854664,
          0.15633388704047357,
          -0.5243678263483782,
          -0.7421063037105129,
          -0.3274339046837148,
          1.5566074505255967,
          0.463790341110538,
          0.7885140740690627,
          -1.1019902138289501,
          0.3972828881475383,
          0.2752859887233198,
          0.5102145574250567,
          -0.5981873362269683,
          -0.8935533591736264,
          -0.5625745211926796,
          1.0142130917939838,
          1.8898323327078124,
          -0.4556606872547475,
          -0.10820771650728198,
          0.2775199828778929,
          0.47894234816523584,
          0.398397758120453,
          0.902398004835839,
          -0.26257221245334106,
          -0.22874688266701274,
          0.7794767570971765,
          -0.7050176033785766,
          -0.6348252998750546,
          -0.6220773883972706,
          0.20799052139466423,
          2.69023643659374,
          2.904871149913041,
          -0.6607949511516593,
          0.11622702441366635,
          -0.7163865852462558,
          -0.6737933343321493,
          -0.15143020707267632,
          0.3218856946753846,
          2.953086133024875,
          -0.7608874030689069,
          -0.2294724150385637,
          -0.39374892576627624,
          -0.10688592538340408,
          2.0594205903094656,
          0.08836168654529988,
          -0.3663862373916494,
          2.6251954818307817,
          -0.38956712246863523,
          1.0323654565994913,
          0.43389334611475955,
          -0.687134561276319,
          1.653591481708948,
          -0.8760902168632958,
          1.7551221266361121,
          -0.18591742927000357,
          -0.7649105304499193,
          -0.374517177183272,
          -0.013649673931275485,
          -0.7589225022557107,
          -0.04636664791051145,
          -1.1340145966922952,
          -0.789847183326017,
          2.1299514685997734,
          -0.4165887362674555,
          2.719687208537497,
          -0.26022069456583335,
          -0.23532176692898804,
          -0.7005882455403953,
          0.8491559224225287,
          2.588850030859356,
          -1.1265759696594195,
          -0.6975691898720772,
          0.2829660623103855,
          1.3917951707952572,
          0.4218654049518892,
          0.015074836688271778,
          -0.6237236073672519,
          -0.7486935805170527,
          1.2159857026683683,
          -0.11244277010131133,
          1.8459166732866836,
          1.439158934871766,
          -0.26711817982444014,
          0.6731676707434103,
          0.03725402918177312,
          1.9527721316346205,
          -0.0691119429780147,
          0.09865739500247468,
          2.203505670959452,
          -0.9060890703620836,
          0.14648881511593007,
          0.07637190061880916,
          0.4321847823096792,
          0.5894424219661663,
          0.022498288298414403,
          -0.23781072076372975,
          0.4557107637605556,
          -0.5291282505046363,
          -0.7044931549478117,
          0.02365930981752347,
          -0.4977617959497459,
          -0.2218532320389619,
          -0.03586667629314786,
          -0.1565126004777779,
          -0.832697737207899,
          1.7621476400241343,
          0.8335635488394697,
          1.199482551807908,
          0.3036717760657023,
          -0.7955064575720915,
          -0.580717803294546,
          -0.000016695071815588726,
          -0.6275009584500477,
          -0.6768476549231301,
          -0.21673214000978253,
          -0.6872022013316005,
          -0.6022222969393664,
          0.2608498452406448,
          -0.7066592055088929,
          0.3907244169287667,
          0.6644849256690947,
          0.8524717536042439,
          -0.8287251761626616,
          -0.5183226451777992,
          -0.26346356345332606,
          0.9883832257846589,
          0.26697612497365997,
          0.33006918041585664,
          -0.3484421623820663,
          0.3654461790990166,
          -0.5804397860411659,
          1.8799678381644709,
          -0.5637869758054735,
          0.0608097387687052,
          1.6614051387877882,
          -0.2841127721486085,
          0.5721883387066337,
          -0.6949726200439907,
          -0.3727051287855995,
          -0.32199982846477876,
          0.20935914045760742,
          1.845314319013885,
          0.528079632797979,
          -0.8424529769829747,
          -0.7913291918031837,
          1.6539415959989014,
          0.7107170776011115,
          0.18043656210933187,
          1.5586437479735884,
          -0.75973174142584,
          0.4384255704284538,
          1.5706937436404478,
          -0.5076444724360544,
          -0.015874714627374404,
          0.03343907524505472,
          -0.060247460370639175,
          -0.4492374007553096,
          0.7725837780816411,
          -0.009978956886564944,
          1.0959674523397203,
          0.09497052317913225,
          2.3948253707691074,
          0.2498098449750054,
          -0.5048181319383893,
          2.154643925864238,
          0.07647393290959675,
          1.4375031587913358,
          -0.03681772740035528,
          -0.33536025562096244,
          -0.4106306172294128,
          0.7457224319079712,
          -0.45585361389646756,
          -0.7171397501737724,
          -0.7850218962526229,
          -0.10571082874088773,
          0.05346758824357035,
          1.1703480013664775,
          0.29233260196107813,
          -0.4175801969763123,
          0.0064058446303966515,
          1.5677145366973606,
          -0.5208043921349471,
          -0.3878314398894668,
          -0.45467261064863496,
          0.268210869139358,
          -0.2300016217028346,
          -0.1522126521315318,
          -0.1367149013400074,
          -0.22914171558069835,
          -0.04620400611259181,
          -0.40965500845749775,
          0.43647379323757973,
          1.2306392228879373,
          -0.7246940864578215,
          -0.19888558706761333,
          0.32594637108436775,
          0.5027864208748982,
          0.3355107945135962,
          0.37841565882322675,
          -0.12748434305911785,
          0.020315550980574113,
          -0.032223872264998725,
          -0.3719386509125949,
          -0.22656911070369742,
          -0.6809472216799897,
          0.30515870798600647,
          -0.045750981300900745,
          1.2680166894296387
         ],
         "z": [
          -0.12437013354660655,
          0.8872167341219451,
          0.0621045361354153,
          0.29403062304787425,
          0.30003099365512714,
          0.8683297600881779,
          0.7216450413621179,
          0.8957525439679748,
          0.5768310391120182,
          -0.18922877042809427,
          0.20831539887837552,
          0.25679949481819536,
          -0.4762884849110199,
          -0.33495927827009475,
          0.9040823143157625,
          1.6181732765234824,
          0.36471786559401687,
          -0.4616097936832426,
          1.0192660548478738,
          0.32301982856257677,
          1.3154850528861626,
          1.716468430651851,
          -0.031050958584711186,
          0.5050026454959662,
          2.3568617184242022,
          -0.04839181927225527,
          -0.5900894120031369,
          -0.07761748348559253,
          1.1814093442584788,
          1.6711504335335292,
          0.9495189461934161,
          0.7624329970502074,
          0.5173520828010836,
          0.5363303124135683,
          -0.07758759634086748,
          0.3057452177402357,
          1.3323743244699366,
          2.1219737605652833,
          -0.22174620396108297,
          -0.9895062197302605,
          0.7528368700478187,
          0.8480118863151188,
          0.2964836025781094,
          1.7199766710912672,
          0.5084829132029371,
          0.35253224766215885,
          1.563606044491088,
          -1.1040083227717898,
          0.6228220623177821,
          0.4438785523264478,
          0.7085982550318475,
          -1.2586141995849127,
          1.6423273148487922,
          0.2074919849115988,
          -0.6039165024408988,
          -0.5786922874559383,
          -1.3971804367260108,
          1.5859058796576153,
          -1.0826674805833707,
          -0.8011299598946685,
          -0.5434504421647668,
          1.2420154158173362,
          0.619033793386101,
          -0.5660669688284368,
          0.724618953681633,
          -0.9226993778230418,
          -1.7557133609618858,
          -1.145351530200293,
          3.094626320300122,
          -0.6597645880835254,
          -1.5667672181976666,
          -0.4298571895020052,
          -1.219080599058772,
          0.048909389701476055,
          0.32340261004778986,
          1.0862877093110488,
          -0.26179265992733175,
          0.9673335918476371,
          0.42182556819053535,
          -0.11334179182944998,
          0.6387609199317694,
          -0.05888863976526716,
          -0.83910949290633,
          0.40108951840372514,
          -0.01838742661546919,
          1.1087746672888368,
          1.1517047365664717,
          0.13104231688947918,
          -0.29907841268056146,
          0.2054123824332894,
          -0.4119859003684914,
          -1.4694889788784702,
          2.6041752643993474,
          1.7277903170710651,
          -2.1132118093285865,
          -0.26258970492804584,
          -0.5996267543171697,
          0.8420545422078718,
          0.8292472171400758,
          -1.9704681186199304,
          1.0287465084154026,
          0.1320245670049053,
          1.5519624655759818,
          -0.7041800628862718,
          0.0834541054091452,
          -0.9365658153085192,
          0.5873447099095754,
          -0.5799024470184985,
          -0.8179802093957519,
          -1.946465281043573,
          -0.22067998911989467,
          -1.1951796773348264,
          -1.3818315833114316,
          0.6128718685316397,
          -0.5156868435778678,
          -1.4304478140026622,
          0.3715872338788939,
          0.2269263120059989,
          -0.7714440862800603,
          -0.3518716663160775,
          1.6463236764207996,
          -0.8402562028665935,
          0.2064072406356079,
          -0.2133659963427956,
          -0.6763405108601712,
          -0.3881993795406984,
          -0.8323851368967913,
          -1.0276414491093149,
          0.037086102538155016,
          -1.4138983427776992,
          -0.830215314793894,
          0.15298524155863388,
          -2.0651252651858223,
          -0.054052043620457055,
          -0.5371587257185892,
          1.2792140692104235,
          -0.4821377050002014,
          -0.9621967371570287,
          -2.054151613547276,
          0.01943055065642147,
          -0.9216504659245549,
          0.4255650659310879,
          0.8942863094314704,
          -0.7609705079541159,
          1.1690402491790712,
          0.29415952916259214,
          -1.5397617702721085,
          -0.7585864391085568,
          -1.0914621440426595,
          -1.1388719118154864,
          -0.08962287126262936,
          1.736403033727353,
          0.6188384720150765,
          -0.051975825425764614,
          -1.6931580950863012,
          2.104012564967541,
          0.04776590832144255,
          -0.5320251415913945,
          0.5804840702455134,
          -1.6336825654484435,
          -0.07455151120977487,
          0.16256539809019632,
          -1.4553325150750283,
          0.8882950952585388,
          -1.1060966099900906,
          1.364499750378148,
          -1.6345307954933954,
          -0.10089529343206502,
          -1.257613640764818,
          -1.3149544889031228,
          0.5746272827130965,
          0.4060933098253058,
          -0.43518609990494556,
          -0.19918958644908122,
          -0.44157657317184457,
          -0.30140894954422365,
          1.1398648037875152,
          0.29214150394649807,
          -1.3722442966697657,
          -1.6195040954551498,
          0.7724673678692674,
          -1.3352583125824375,
          0.5765457721672284,
          -1.3097187368071628,
          0.1357047081177285,
          0.8427117540404976,
          -0.8044335507255609,
          0.5339806237270804,
          -0.058173602717610996,
          -1.2238545973804593,
          0.7530354221277646,
          0.6552612924524785,
          -2.1185251156838034,
          0.09962075684644041,
          -0.020285443052615214,
          1.0097018530460666,
          1.0748090067398202,
          -0.8780654258802233,
          0.07707817790526486,
          -0.20813639769620565,
          0.934696255986666,
          -1.0600723903606886,
          -0.6840297051925613,
          -0.3813356594541322,
          -1.3908524476400757,
          -1.701540263831965,
          0.8780467625255104,
          -0.44490580833756255,
          -1.218785698712159,
          0.3049422558325115,
          1.3923230719250257,
          -1.207166183826225,
          1.335599004888728,
          -0.8604881363865301,
          0.5915661085881453,
          -0.3809009893048181,
          -0.880177446421709,
          0.33005023582125376,
          -0.8674478561458859,
          1.6224041240253646,
          -0.875426888084567,
          -0.11543905326918322,
          -1.7840002525212426,
          0.15872643761891594,
          -1.3098189937239835,
          0.34279715004125383,
          2.278583170521068,
          0.762916212136351,
          -1.215333976519952,
          -0.3111769334775144,
          0.10779362821238218,
          1.6945692549451774,
          0.7558930022956974,
          -1.3284129042611423,
          -2.061757201821869,
          -0.33872123179170277,
          -0.5942520433896091,
          0.7220330445591316,
          -0.3653091051192736,
          0.29813390868869244,
          -0.4819568850354404,
          -0.9346132174608873,
          0.07597293023375908,
          0.7473296503074708,
          -0.9859035615690619,
          -0.42563182153476986,
          -0.5772286330096262,
          1.4243601617319914,
          1.1191063085913127,
          -0.5774526450514816,
          -0.018918111101936183,
          -0.2793674825866494,
          -0.8139826223905835,
          -0.2363128882330895,
          -0.25921726461461725,
          -0.5213643785918844,
          0.48624666402191163,
          -0.537786772195373,
          -0.8587042964147625,
          -0.46660240684785076,
          1.4194733922842435,
          0.5446614626258854,
          -0.022637963135854217,
          0.00161209400734503,
          0.16594467050231212,
          0.7596245027854115,
          -0.6160953251652987,
          -0.5554789637457862,
          -1.3755755973200259,
          0.38035740688909947,
          0.2868833001052002,
          -1.053523669130913,
          -0.741839686756353,
          -1.3809103057676009,
          -0.4270154332660341,
          1.7871705286110424,
          -2.3579432128092375,
          -1.4688604339048743,
          -2.414071526849484,
          0.830906070673717,
          0.4698192225843329,
          1.594882341141915,
          -0.49518569120080386,
          0.15332558056181614,
          -1.8170717054052647,
          -0.11557915380959274,
          2.2543809809103594,
          -0.6973217422411453,
          -0.12973258268115193,
          0.7514589072369302,
          1.4286722203985418,
          -0.9127127603500355,
          0.5116737799878625,
          -1.0294878536085794,
          0.08193568946474815,
          -0.6817996287378756,
          -0.8325626345449353,
          -0.521365552540717,
          -0.8082189217275649,
          -0.9383575775991858,
          0.3383603127640556,
          1.0449425635399854,
          1.251479170835448,
          -0.71078350238279,
          -0.7401730009919959,
          -0.03787085656178331,
          0.039565857812837064,
          -0.9313035922744167,
          0.5861482752803677,
          -0.39266518886734286,
          2.1110913206569553,
          -1.270840642358839,
          0.39391731697564064,
          -0.20984566105652327,
          -1.1319769919171625,
          -0.6598544078477259,
          -0.08494888673502222,
          0.9800810491405378,
          -0.8467089991392995,
          -1.0227062662471755,
          1.6402205943086374,
          1.463987097689097,
          0.6614415053921664,
          1.6136985212421122,
          1.4698213050523796,
          1.4159775798160115,
          -0.7301318970688334,
          -0.3573306167050044,
          -0.5118501968944742,
          -0.7115297780032943,
          -1.6911428019218744,
          1.9206533433965467,
          -0.3976865313863066,
          -0.5738486629538652,
          -0.25993349976007984,
          1.0897915694739517,
          0.15688656923639577,
          -1.1636206163518539,
          -1.1633163015494228,
          1.3951105626617566,
          -0.7872206841725139,
          1.2553857234576904,
          0.4060627480690192,
          0.7783331118582885,
          0.8790062684661483,
          -0.4140161530794513,
          0.2492394555414286,
          0.28155503251930397,
          0.04394455539850143,
          0.4727807962688828,
          -1.0866376652540022,
          -1.1564657359909678,
          0.36167469370610106,
          -0.26184080227176765,
          1.3001929952442426,
          -0.06852498157543874,
          0.14866351151910906,
          0.17918220497394177,
          2.1098255868550324,
          0.5570333197835575,
          0.2139529064622798,
          -0.16630445750388237,
          -1.1579085098786628,
          -0.04855509587186225,
          0.667493267985472,
          0.01070081141687614,
          -0.5341003568405613,
          -0.6358867868459532,
          -0.1720034440632447,
          -0.04769642277391004,
          -0.387774921914335,
          -1.483185726154417,
          2.1889710009422285,
          1.2144161443682948,
          -0.28516121326805954,
          -1.155781874681924,
          -0.4184109630939849,
          1.049035193095235,
          -0.28066908564482723,
          -0.7934113110467466,
          0.8191830668632556,
          -1.0804905850568753,
          1.121151581497242,
          0.8544556194635834,
          2.5290661040161337,
          2.2707521265636723,
          -0.16272221138271037,
          -1.2213886672764305,
          1.1701916350732555,
          -0.551017712359847,
          1.6405241892565474,
          0.6107997988926439,
          -0.3263909389452531,
          1.5033406700268217,
          0.6160573918145126,
          0.5193815757975121,
          0.8736137475221142
         ]
        }
       ],
       "layout": {
        "coloraxis": {
         "colorbar": {
          "title": {
           "text": "wardCluster"
          }
         },
         "colorscale": [
          [
           0,
           "#0d0887"
          ],
          [
           0.1111111111111111,
           "#46039f"
          ],
          [
           0.2222222222222222,
           "#7201a8"
          ],
          [
           0.3333333333333333,
           "#9c179e"
          ],
          [
           0.4444444444444444,
           "#bd3786"
          ],
          [
           0.5555555555555556,
           "#d8576b"
          ],
          [
           0.6666666666666666,
           "#ed7953"
          ],
          [
           0.7777777777777778,
           "#fb9f3a"
          ],
          [
           0.8888888888888888,
           "#fdca26"
          ],
          [
           1,
           "#f0f921"
          ]
         ]
        },
        "legend": {
         "tracegroupgap": 0
        },
        "margin": {
         "t": 60
        },
        "scene": {
         "domain": {
          "x": [
           0,
           1
          ],
          "y": [
           0,
           1
          ]
         },
         "xaxis": {
          "title": {
           "text": "PC1"
          }
         },
         "yaxis": {
          "title": {
           "text": "PC2"
          }
         },
         "zaxis": {
          "title": {
           "text": "PC3"
          }
         }
        },
        "template": {
         "data": {
          "bar": [
           {
            "error_x": {
             "color": "#2a3f5f"
            },
            "error_y": {
             "color": "#2a3f5f"
            },
            "marker": {
             "line": {
              "color": "#E5ECF6",
              "width": 0.5
             },
             "pattern": {
              "fillmode": "overlay",
              "size": 10,
              "solidity": 0.2
             }
            },
            "type": "bar"
           }
          ],
          "barpolar": [
           {
            "marker": {
             "line": {
              "color": "#E5ECF6",
              "width": 0.5
             },
             "pattern": {
              "fillmode": "overlay",
              "size": 10,
              "solidity": 0.2
             }
            },
            "type": "barpolar"
           }
          ],
          "carpet": [
           {
            "aaxis": {
             "endlinecolor": "#2a3f5f",
             "gridcolor": "white",
             "linecolor": "white",
             "minorgridcolor": "white",
             "startlinecolor": "#2a3f5f"
            },
            "baxis": {
             "endlinecolor": "#2a3f5f",
             "gridcolor": "white",
             "linecolor": "white",
             "minorgridcolor": "white",
             "startlinecolor": "#2a3f5f"
            },
            "type": "carpet"
           }
          ],
          "choropleth": [
           {
            "colorbar": {
             "outlinewidth": 0,
             "ticks": ""
            },
            "type": "choropleth"
           }
          ],
          "contour": [
           {
            "colorbar": {
             "outlinewidth": 0,
             "ticks": ""
            },
            "colorscale": [
             [
              0,
              "#0d0887"
             ],
             [
              0.1111111111111111,
              "#46039f"
             ],
             [
              0.2222222222222222,
              "#7201a8"
             ],
             [
              0.3333333333333333,
              "#9c179e"
             ],
             [
              0.4444444444444444,
              "#bd3786"
             ],
             [
              0.5555555555555556,
              "#d8576b"
             ],
             [
              0.6666666666666666,
              "#ed7953"
             ],
             [
              0.7777777777777778,
              "#fb9f3a"
             ],
             [
              0.8888888888888888,
              "#fdca26"
             ],
             [
              1,
              "#f0f921"
             ]
            ],
            "type": "contour"
           }
          ],
          "contourcarpet": [
           {
            "colorbar": {
             "outlinewidth": 0,
             "ticks": ""
            },
            "type": "contourcarpet"
           }
          ],
          "heatmap": [
           {
            "colorbar": {
             "outlinewidth": 0,
             "ticks": ""
            },
            "colorscale": [
             [
              0,
              "#0d0887"
             ],
             [
              0.1111111111111111,
              "#46039f"
             ],
             [
              0.2222222222222222,
              "#7201a8"
             ],
             [
              0.3333333333333333,
              "#9c179e"
             ],
             [
              0.4444444444444444,
              "#bd3786"
             ],
             [
              0.5555555555555556,
              "#d8576b"
             ],
             [
              0.6666666666666666,
              "#ed7953"
             ],
             [
              0.7777777777777778,
              "#fb9f3a"
             ],
             [
              0.8888888888888888,
              "#fdca26"
             ],
             [
              1,
              "#f0f921"
             ]
            ],
            "type": "heatmap"
           }
          ],
          "heatmapgl": [
           {
            "colorbar": {
             "outlinewidth": 0,
             "ticks": ""
            },
            "colorscale": [
             [
              0,
              "#0d0887"
             ],
             [
              0.1111111111111111,
              "#46039f"
             ],
             [
              0.2222222222222222,
              "#7201a8"
             ],
             [
              0.3333333333333333,
              "#9c179e"
             ],
             [
              0.4444444444444444,
              "#bd3786"
             ],
             [
              0.5555555555555556,
              "#d8576b"
             ],
             [
              0.6666666666666666,
              "#ed7953"
             ],
             [
              0.7777777777777778,
              "#fb9f3a"
             ],
             [
              0.8888888888888888,
              "#fdca26"
             ],
             [
              1,
              "#f0f921"
             ]
            ],
            "type": "heatmapgl"
           }
          ],
          "histogram": [
           {
            "marker": {
             "pattern": {
              "fillmode": "overlay",
              "size": 10,
              "solidity": 0.2
             }
            },
            "type": "histogram"
           }
          ],
          "histogram2d": [
           {
            "colorbar": {
             "outlinewidth": 0,
             "ticks": ""
            },
            "colorscale": [
             [
              0,
              "#0d0887"
             ],
             [
              0.1111111111111111,
              "#46039f"
             ],
             [
              0.2222222222222222,
              "#7201a8"
             ],
             [
              0.3333333333333333,
              "#9c179e"
             ],
             [
              0.4444444444444444,
              "#bd3786"
             ],
             [
              0.5555555555555556,
              "#d8576b"
             ],
             [
              0.6666666666666666,
              "#ed7953"
             ],
             [
              0.7777777777777778,
              "#fb9f3a"
             ],
             [
              0.8888888888888888,
              "#fdca26"
             ],
             [
              1,
              "#f0f921"
             ]
            ],
            "type": "histogram2d"
           }
          ],
          "histogram2dcontour": [
           {
            "colorbar": {
             "outlinewidth": 0,
             "ticks": ""
            },
            "colorscale": [
             [
              0,
              "#0d0887"
             ],
             [
              0.1111111111111111,
              "#46039f"
             ],
             [
              0.2222222222222222,
              "#7201a8"
             ],
             [
              0.3333333333333333,
              "#9c179e"
             ],
             [
              0.4444444444444444,
              "#bd3786"
             ],
             [
              0.5555555555555556,
              "#d8576b"
             ],
             [
              0.6666666666666666,
              "#ed7953"
             ],
             [
              0.7777777777777778,
              "#fb9f3a"
             ],
             [
              0.8888888888888888,
              "#fdca26"
             ],
             [
              1,
              "#f0f921"
             ]
            ],
            "type": "histogram2dcontour"
           }
          ],
          "mesh3d": [
           {
            "colorbar": {
             "outlinewidth": 0,
             "ticks": ""
            },
            "type": "mesh3d"
           }
          ],
          "parcoords": [
           {
            "line": {
             "colorbar": {
              "outlinewidth": 0,
              "ticks": ""
             }
            },
            "type": "parcoords"
           }
          ],
          "pie": [
           {
            "automargin": true,
            "type": "pie"
           }
          ],
          "scatter": [
           {
            "fillpattern": {
             "fillmode": "overlay",
             "size": 10,
             "solidity": 0.2
            },
            "type": "scatter"
           }
          ],
          "scatter3d": [
           {
            "line": {
             "colorbar": {
              "outlinewidth": 0,
              "ticks": ""
             }
            },
            "marker": {
             "colorbar": {
              "outlinewidth": 0,
              "ticks": ""
             }
            },
            "type": "scatter3d"
           }
          ],
          "scattercarpet": [
           {
            "marker": {
             "colorbar": {
              "outlinewidth": 0,
              "ticks": ""
             }
            },
            "type": "scattercarpet"
           }
          ],
          "scattergeo": [
           {
            "marker": {
             "colorbar": {
              "outlinewidth": 0,
              "ticks": ""
             }
            },
            "type": "scattergeo"
           }
          ],
          "scattergl": [
           {
            "marker": {
             "colorbar": {
              "outlinewidth": 0,
              "ticks": ""
             }
            },
            "type": "scattergl"
           }
          ],
          "scattermapbox": [
           {
            "marker": {
             "colorbar": {
              "outlinewidth": 0,
              "ticks": ""
             }
            },
            "type": "scattermapbox"
           }
          ],
          "scatterpolar": [
           {
            "marker": {
             "colorbar": {
              "outlinewidth": 0,
              "ticks": ""
             }
            },
            "type": "scatterpolar"
           }
          ],
          "scatterpolargl": [
           {
            "marker": {
             "colorbar": {
              "outlinewidth": 0,
              "ticks": ""
             }
            },
            "type": "scatterpolargl"
           }
          ],
          "scatterternary": [
           {
            "marker": {
             "colorbar": {
              "outlinewidth": 0,
              "ticks": ""
             }
            },
            "type": "scatterternary"
           }
          ],
          "surface": [
           {
            "colorbar": {
             "outlinewidth": 0,
             "ticks": ""
            },
            "colorscale": [
             [
              0,
              "#0d0887"
             ],
             [
              0.1111111111111111,
              "#46039f"
             ],
             [
              0.2222222222222222,
              "#7201a8"
             ],
             [
              0.3333333333333333,
              "#9c179e"
             ],
             [
              0.4444444444444444,
              "#bd3786"
             ],
             [
              0.5555555555555556,
              "#d8576b"
             ],
             [
              0.6666666666666666,
              "#ed7953"
             ],
             [
              0.7777777777777778,
              "#fb9f3a"
             ],
             [
              0.8888888888888888,
              "#fdca26"
             ],
             [
              1,
              "#f0f921"
             ]
            ],
            "type": "surface"
           }
          ],
          "table": [
           {
            "cells": {
             "fill": {
              "color": "#EBF0F8"
             },
             "line": {
              "color": "white"
             }
            },
            "header": {
             "fill": {
              "color": "#C8D4E3"
             },
             "line": {
              "color": "white"
             }
            },
            "type": "table"
           }
          ]
         },
         "layout": {
          "annotationdefaults": {
           "arrowcolor": "#2a3f5f",
           "arrowhead": 0,
           "arrowwidth": 1
          },
          "autotypenumbers": "strict",
          "coloraxis": {
           "colorbar": {
            "outlinewidth": 0,
            "ticks": ""
           }
          },
          "colorscale": {
           "diverging": [
            [
             0,
             "#8e0152"
            ],
            [
             0.1,
             "#c51b7d"
            ],
            [
             0.2,
             "#de77ae"
            ],
            [
             0.3,
             "#f1b6da"
            ],
            [
             0.4,
             "#fde0ef"
            ],
            [
             0.5,
             "#f7f7f7"
            ],
            [
             0.6,
             "#e6f5d0"
            ],
            [
             0.7,
             "#b8e186"
            ],
            [
             0.8,
             "#7fbc41"
            ],
            [
             0.9,
             "#4d9221"
            ],
            [
             1,
             "#276419"
            ]
           ],
           "sequential": [
            [
             0,
             "#0d0887"
            ],
            [
             0.1111111111111111,
             "#46039f"
            ],
            [
             0.2222222222222222,
             "#7201a8"
            ],
            [
             0.3333333333333333,
             "#9c179e"
            ],
            [
             0.4444444444444444,
             "#bd3786"
            ],
            [
             0.5555555555555556,
             "#d8576b"
            ],
            [
             0.6666666666666666,
             "#ed7953"
            ],
            [
             0.7777777777777778,
             "#fb9f3a"
            ],
            [
             0.8888888888888888,
             "#fdca26"
            ],
            [
             1,
             "#f0f921"
            ]
           ],
           "sequentialminus": [
            [
             0,
             "#0d0887"
            ],
            [
             0.1111111111111111,
             "#46039f"
            ],
            [
             0.2222222222222222,
             "#7201a8"
            ],
            [
             0.3333333333333333,
             "#9c179e"
            ],
            [
             0.4444444444444444,
             "#bd3786"
            ],
            [
             0.5555555555555556,
             "#d8576b"
            ],
            [
             0.6666666666666666,
             "#ed7953"
            ],
            [
             0.7777777777777778,
             "#fb9f3a"
            ],
            [
             0.8888888888888888,
             "#fdca26"
            ],
            [
             1,
             "#f0f921"
            ]
           ]
          },
          "colorway": [
           "#636efa",
           "#EF553B",
           "#00cc96",
           "#ab63fa",
           "#FFA15A",
           "#19d3f3",
           "#FF6692",
           "#B6E880",
           "#FF97FF",
           "#FECB52"
          ],
          "font": {
           "color": "#2a3f5f"
          },
          "geo": {
           "bgcolor": "white",
           "lakecolor": "white",
           "landcolor": "#E5ECF6",
           "showlakes": true,
           "showland": true,
           "subunitcolor": "white"
          },
          "hoverlabel": {
           "align": "left"
          },
          "hovermode": "closest",
          "mapbox": {
           "style": "light"
          },
          "paper_bgcolor": "white",
          "plot_bgcolor": "#E5ECF6",
          "polar": {
           "angularaxis": {
            "gridcolor": "white",
            "linecolor": "white",
            "ticks": ""
           },
           "bgcolor": "#E5ECF6",
           "radialaxis": {
            "gridcolor": "white",
            "linecolor": "white",
            "ticks": ""
           }
          },
          "scene": {
           "xaxis": {
            "backgroundcolor": "#E5ECF6",
            "gridcolor": "white",
            "gridwidth": 2,
            "linecolor": "white",
            "showbackground": true,
            "ticks": "",
            "zerolinecolor": "white"
           },
           "yaxis": {
            "backgroundcolor": "#E5ECF6",
            "gridcolor": "white",
            "gridwidth": 2,
            "linecolor": "white",
            "showbackground": true,
            "ticks": "",
            "zerolinecolor": "white"
           },
           "zaxis": {
            "backgroundcolor": "#E5ECF6",
            "gridcolor": "white",
            "gridwidth": 2,
            "linecolor": "white",
            "showbackground": true,
            "ticks": "",
            "zerolinecolor": "white"
           }
          },
          "shapedefaults": {
           "line": {
            "color": "#2a3f5f"
           }
          },
          "ternary": {
           "aaxis": {
            "gridcolor": "white",
            "linecolor": "white",
            "ticks": ""
           },
           "baxis": {
            "gridcolor": "white",
            "linecolor": "white",
            "ticks": ""
           },
           "bgcolor": "#E5ECF6",
           "caxis": {
            "gridcolor": "white",
            "linecolor": "white",
            "ticks": ""
           }
          },
          "title": {
           "x": 0.05
          },
          "xaxis": {
           "automargin": true,
           "gridcolor": "white",
           "linecolor": "white",
           "ticks": "",
           "title": {
            "standoff": 15
           },
           "zerolinecolor": "white",
           "zerolinewidth": 2
          },
          "yaxis": {
           "automargin": true,
           "gridcolor": "white",
           "linecolor": "white",
           "ticks": "",
           "title": {
            "standoff": 15
           },
           "zerolinecolor": "white",
           "zerolinewidth": 2
          }
         }
        }
       }
      }
     },
     "metadata": {},
     "output_type": "display_data"
    }
   ],
   "source": [
    "fig2 = px.scatter_3d(pcaDataScaled, x='PC1', y='PC2', z='PC3', color='wardCluster')\n",
    "fig2"
   ]
  },
  {
   "cell_type": "code",
   "execution_count": 25,
   "metadata": {},
   "outputs": [],
   "source": [
    "pcaDataFull = pd.read_csv('./Data/PCAData.csv')\n",
    "pcaDataScaled['PLAYER'] = pcaDataFull['PLAYER'].values\n",
    "pcaDataScaled['TEAM'] = pcaDataFull['TEAM'].values\n",
    "pcaDataScaled = pcaDataScaled[['PLAYER','TEAM','wardCluster','PC1','PC2','PC3','PC4','PC5']]\n",
    "pcaDataScaled.rename({'wardCluster':'CLUSTER'},axis=1,inplace=True)\n",
    "pcaDataScaled.to_csv('Data/clusteredData.csv', index = False)"
   ]
  }
 ],
 "metadata": {
  "interpreter": {
   "hash": "aee8b7b246df8f9039afb4144a1f6fd8d2ca17a180786b69acc140d282b71a49"
  },
  "kernelspec": {
   "display_name": "Python 3.9.1 64-bit",
   "language": "python",
   "name": "python3"
  },
  "language_info": {
   "codemirror_mode": {
    "name": "ipython",
    "version": 3
   },
   "file_extension": ".py",
   "mimetype": "text/x-python",
   "name": "python",
   "nbconvert_exporter": "python",
   "pygments_lexer": "ipython3",
   "version": "3.9.1"
  },
  "orig_nbformat": 4
 },
 "nbformat": 4,
 "nbformat_minor": 2
}
