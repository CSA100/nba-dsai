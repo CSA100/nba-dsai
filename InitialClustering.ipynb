{
 "cells": [
  {
   "cell_type": "code",
   "execution_count": 742,
   "metadata": {},
   "outputs": [],
   "source": [
    "import pandas as pd\n",
    "import matplotlib.pyplot as plt\n",
    "from sklearn.preprocessing import StandardScaler\n",
    "from pyclustertend import hopkins\n",
    "from sklearn.cluster import AgglomerativeClustering\n",
    "import numpy as np\n",
    "from scipy.cluster.hierarchy import dendrogram, linkage\n",
    "from scipy.cluster.hierarchy import fcluster\n",
    "import plotly.express as px\n",
    "from mpl_toolkits.mplot3d import Axes3D\n",
    "import numpy as np"
   ]
  },
  {
   "cell_type": "code",
   "execution_count": 743,
   "metadata": {},
   "outputs": [],
   "source": [
    "def create_cluster(model, max_d):\n",
    "    # create linkage matrix\n",
    "    counts = np.zeros(model.children_.shape[0])\n",
    "    linkage_matrix = np.column_stack(\n",
    "        [model.children_, model.distances_, counts]\n",
    "    ).astype(float)\n",
    "    clusters = fcluster(linkage_matrix, max_d, criterion='distance')\n",
    "    return clusters\n",
    "\n",
    "\n",
    "def plotDendrogram(model):\n",
    "    # create linkage matrix and then plot the dendrogram\n",
    "\n",
    "    counts = np.zeros(model.children_.shape[0])\n",
    "    linkage_matrix = np.column_stack(\n",
    "        [model.children_, model.distances_, counts]\n",
    "    ).astype(float)    \n",
    "    plt.figure(figsize=(15, 6)) \n",
    "    plt.title('Hierarchical Clustering Dendrogram')\n",
    "    plt.xlabel('Data Points')\n",
    "    plt.ylabel('distance')\n",
    "    dendrogram(linkage_matrix,\n",
    "                   orientation='top', #The direction to plot the dendrogram\n",
    "                              #The root at the top, and descendent links going downwards\n",
    "                   #labels=statesList,\n",
    "                   distance_sort='descending',\n",
    "                   show_leaf_counts=True)\n",
    "    plt.show()\n",
    "\n",
    "def truncatedDendrogram(model, n, y_min = 0, max_d = 0):\n",
    "    # truncated dendrogram plot\n",
    "\n",
    "    counts = np.zeros(model.children_.shape[0])\n",
    "    linkage_matrix = np.column_stack(\n",
    "        [model.children_, model.distances_, counts]\n",
    "    ).astype(float)    \n",
    "    plt.title('Hierarchical Clustering Dendrogram (truncated)')\n",
    "    plt.xlabel('sample index')\n",
    "    plt.ylabel('distance')\n",
    "    dendro = dendrogram(\n",
    "                    linkage_matrix,\n",
    "                    truncate_mode='lastp',  # show only the last p merged clusters\n",
    "                    p=n,  # show only the last p merged clusters\n",
    "                    leaf_rotation=90.,\n",
    "                    leaf_font_size=12.,\n",
    "                    show_contracted=True,  # to get a distribution impression in truncated branches\n",
    "                )\n",
    "    for i, d, c in zip(dendro['icoord'], dendro['dcoord'], dendro['color_list']):\n",
    "        x = 0.5 * sum(i[1:3])\n",
    "        y = d[1]\n",
    "        #if y > annotate_above:\n",
    "        plt.plot(x, y, 'o', c=c)\n",
    "        plt.annotate(\"%.3g\" % y, (x, y), xytext=(0, -5),\n",
    "                            textcoords='offset points',\n",
    "                            va='top', ha='center')\n",
    "    if max_d:\n",
    "            plt.axhline(y=max_d, c='k')\n",
    "\n",
    "    plt.ylim(ymin = y_min)\n",
    "    plt.show()"
   ]
  },
  {
   "cell_type": "code",
   "execution_count": 744,
   "metadata": {},
   "outputs": [
    {
     "data": {
      "text/html": [
       "<div>\n",
       "<style scoped>\n",
       "    .dataframe tbody tr th:only-of-type {\n",
       "        vertical-align: middle;\n",
       "    }\n",
       "\n",
       "    .dataframe tbody tr th {\n",
       "        vertical-align: top;\n",
       "    }\n",
       "\n",
       "    .dataframe thead th {\n",
       "        text-align: right;\n",
       "    }\n",
       "</style>\n",
       "<table border=\"1\" class=\"dataframe\">\n",
       "  <thead>\n",
       "    <tr style=\"text-align: right;\">\n",
       "      <th></th>\n",
       "      <th>PC1</th>\n",
       "      <th>PC2</th>\n",
       "      <th>PC3</th>\n",
       "      <th>PC4</th>\n",
       "      <th>PC5</th>\n",
       "    </tr>\n",
       "  </thead>\n",
       "  <tbody>\n",
       "    <tr>\n",
       "      <th>count</th>\n",
       "      <td>397.0</td>\n",
       "      <td>397.0</td>\n",
       "      <td>397.0</td>\n",
       "      <td>397.0</td>\n",
       "      <td>397.0</td>\n",
       "    </tr>\n",
       "    <tr>\n",
       "      <th>mean</th>\n",
       "      <td>-0.0</td>\n",
       "      <td>0.0</td>\n",
       "      <td>0.0</td>\n",
       "      <td>-0.0</td>\n",
       "      <td>0.0</td>\n",
       "    </tr>\n",
       "    <tr>\n",
       "      <th>std</th>\n",
       "      <td>5.4</td>\n",
       "      <td>4.7</td>\n",
       "      <td>2.8</td>\n",
       "      <td>2.5</td>\n",
       "      <td>2.1</td>\n",
       "    </tr>\n",
       "    <tr>\n",
       "      <th>min</th>\n",
       "      <td>-10.4</td>\n",
       "      <td>-8.2</td>\n",
       "      <td>-7.1</td>\n",
       "      <td>-6.3</td>\n",
       "      <td>-5.7</td>\n",
       "    </tr>\n",
       "    <tr>\n",
       "      <th>25%</th>\n",
       "      <td>-4.1</td>\n",
       "      <td>-3.3</td>\n",
       "      <td>-1.9</td>\n",
       "      <td>-1.6</td>\n",
       "      <td>-1.5</td>\n",
       "    </tr>\n",
       "    <tr>\n",
       "      <th>50%</th>\n",
       "      <td>-1.2</td>\n",
       "      <td>-1.0</td>\n",
       "      <td>-0.2</td>\n",
       "      <td>-0.0</td>\n",
       "      <td>-0.0</td>\n",
       "    </tr>\n",
       "    <tr>\n",
       "      <th>75%</th>\n",
       "      <td>3.3</td>\n",
       "      <td>2.3</td>\n",
       "      <td>1.9</td>\n",
       "      <td>1.6</td>\n",
       "      <td>1.3</td>\n",
       "    </tr>\n",
       "    <tr>\n",
       "      <th>max</th>\n",
       "      <td>16.9</td>\n",
       "      <td>16.5</td>\n",
       "      <td>8.1</td>\n",
       "      <td>8.9</td>\n",
       "      <td>9.6</td>\n",
       "    </tr>\n",
       "  </tbody>\n",
       "</table>\n",
       "</div>"
      ],
      "text/plain": [
       "         PC1    PC2    PC3    PC4    PC5\n",
       "count  397.0  397.0  397.0  397.0  397.0\n",
       "mean    -0.0    0.0    0.0   -0.0    0.0\n",
       "std      5.4    4.7    2.8    2.5    2.1\n",
       "min    -10.4   -8.2   -7.1   -6.3   -5.7\n",
       "25%     -4.1   -3.3   -1.9   -1.6   -1.5\n",
       "50%     -1.2   -1.0   -0.2   -0.0   -0.0\n",
       "75%      3.3    2.3    1.9    1.6    1.3\n",
       "max     16.9   16.5    8.1    8.9    9.6"
      ]
     },
     "execution_count": 744,
     "metadata": {},
     "output_type": "execute_result"
    }
   ],
   "source": [
    "pcaData = pd.read_csv('./Data/PCAData.csv')\n",
    "pcaData.drop(['Player','Team'],axis=1,inplace=True)\n",
    "pcaData.describe().round(1)"
   ]
  },
  {
   "cell_type": "code",
   "execution_count": 745,
   "metadata": {},
   "outputs": [],
   "source": [
    "# to standardise the principle components\n",
    "scaler = StandardScaler()\n",
    "pcaDataScaled = scaler.fit_transform(pcaData)"
   ]
  },
  {
   "cell_type": "code",
   "execution_count": 746,
   "metadata": {},
   "outputs": [
    {
     "data": {
      "text/html": [
       "<div>\n",
       "<style scoped>\n",
       "    .dataframe tbody tr th:only-of-type {\n",
       "        vertical-align: middle;\n",
       "    }\n",
       "\n",
       "    .dataframe tbody tr th {\n",
       "        vertical-align: top;\n",
       "    }\n",
       "\n",
       "    .dataframe thead th {\n",
       "        text-align: right;\n",
       "    }\n",
       "</style>\n",
       "<table border=\"1\" class=\"dataframe\">\n",
       "  <thead>\n",
       "    <tr style=\"text-align: right;\">\n",
       "      <th></th>\n",
       "      <th>PC1</th>\n",
       "      <th>PC2</th>\n",
       "      <th>PC3</th>\n",
       "      <th>PC4</th>\n",
       "      <th>PC5</th>\n",
       "    </tr>\n",
       "  </thead>\n",
       "  <tbody>\n",
       "    <tr>\n",
       "      <th>count</th>\n",
       "      <td>397.0</td>\n",
       "      <td>397.0</td>\n",
       "      <td>397.0</td>\n",
       "      <td>397.0</td>\n",
       "      <td>397.0</td>\n",
       "    </tr>\n",
       "    <tr>\n",
       "      <th>mean</th>\n",
       "      <td>-0.0</td>\n",
       "      <td>0.0</td>\n",
       "      <td>-0.0</td>\n",
       "      <td>-0.0</td>\n",
       "      <td>0.0</td>\n",
       "    </tr>\n",
       "    <tr>\n",
       "      <th>std</th>\n",
       "      <td>1.0</td>\n",
       "      <td>1.0</td>\n",
       "      <td>1.0</td>\n",
       "      <td>1.0</td>\n",
       "      <td>1.0</td>\n",
       "    </tr>\n",
       "    <tr>\n",
       "      <th>min</th>\n",
       "      <td>-1.9</td>\n",
       "      <td>-1.8</td>\n",
       "      <td>-2.5</td>\n",
       "      <td>-2.5</td>\n",
       "      <td>-2.7</td>\n",
       "    </tr>\n",
       "    <tr>\n",
       "      <th>25%</th>\n",
       "      <td>-0.8</td>\n",
       "      <td>-0.7</td>\n",
       "      <td>-0.7</td>\n",
       "      <td>-0.6</td>\n",
       "      <td>-0.7</td>\n",
       "    </tr>\n",
       "    <tr>\n",
       "      <th>50%</th>\n",
       "      <td>-0.2</td>\n",
       "      <td>-0.2</td>\n",
       "      <td>-0.1</td>\n",
       "      <td>-0.0</td>\n",
       "      <td>-0.0</td>\n",
       "    </tr>\n",
       "    <tr>\n",
       "      <th>75%</th>\n",
       "      <td>0.6</td>\n",
       "      <td>0.5</td>\n",
       "      <td>0.7</td>\n",
       "      <td>0.6</td>\n",
       "      <td>0.6</td>\n",
       "    </tr>\n",
       "    <tr>\n",
       "      <th>max</th>\n",
       "      <td>3.1</td>\n",
       "      <td>3.5</td>\n",
       "      <td>2.9</td>\n",
       "      <td>3.6</td>\n",
       "      <td>4.5</td>\n",
       "    </tr>\n",
       "  </tbody>\n",
       "</table>\n",
       "</div>"
      ],
      "text/plain": [
       "         PC1    PC2    PC3    PC4    PC5\n",
       "count  397.0  397.0  397.0  397.0  397.0\n",
       "mean    -0.0    0.0   -0.0   -0.0    0.0\n",
       "std      1.0    1.0    1.0    1.0    1.0\n",
       "min     -1.9   -1.8   -2.5   -2.5   -2.7\n",
       "25%     -0.8   -0.7   -0.7   -0.6   -0.7\n",
       "50%     -0.2   -0.2   -0.1   -0.0   -0.0\n",
       "75%      0.6    0.5    0.7    0.6    0.6\n",
       "max      3.1    3.5    2.9    3.6    4.5"
      ]
     },
     "execution_count": 746,
     "metadata": {},
     "output_type": "execute_result"
    }
   ],
   "source": [
    "# check if components are standardised\n",
    "pcaDataScaled = pd.DataFrame(pcaDataScaled, columns = ['PC1','PC2','PC3','PC4','PC5'])\n",
    "pcaDataScaled.describe().round(1)"
   ]
  },
  {
   "cell_type": "code",
   "execution_count": 747,
   "metadata": {},
   "outputs": [
    {
     "data": {
      "text/plain": [
       "0.2776856115054058"
      ]
     },
     "execution_count": 747,
     "metadata": {},
     "output_type": "execute_result"
    }
   ],
   "source": [
    "# conducting hopkins test\n",
    "hopkins(pcaDataScaled,pcaDataScaled.shape[0])"
   ]
  },
  {
   "cell_type": "code",
   "execution_count": 748,
   "metadata": {},
   "outputs": [
    {
     "data": {
      "image/png": "[encoded data removed]",
      "text/plain": [
       "<Figure size 1080x432 with 1 Axes>"
      ]
     },
     "metadata": {
      "needs_background": "light"
     },
     "output_type": "display_data"
    }
   ],
   "source": [
    "completeLinkage = AgglomerativeClustering(distance_threshold=0, n_clusters=None,linkage='complete')\n",
    "completeLinknage = completeLinkage.fit(pcaDataScaled)\n",
    "plotDendrogram(completeLinkage)"
   ]
  },
  {
   "cell_type": "code",
   "execution_count": 749,
   "metadata": {},
   "outputs": [
    {
     "data": {
      "image/png": "[encoded data removed]",
      "text/plain": [
       "<Figure size 432x288 with 1 Axes>"
      ]
     },
     "metadata": {
      "needs_background": "light"
     },
     "output_type": "display_data"
    }
   ],
   "source": [
    "truncatedDendrogram(completeLinkage,5,6.5)"
   ]
  },
  {
   "cell_type": "code",
   "execution_count": 750,
   "metadata": {},
   "outputs": [
    {
     "data": {
      "text/html": [
       "<div>\n",
       "<style scoped>\n",
       "    .dataframe tbody tr th:only-of-type {\n",
       "        vertical-align: middle;\n",
       "    }\n",
       "\n",
       "    .dataframe tbody tr th {\n",
       "        vertical-align: top;\n",
       "    }\n",
       "\n",
       "    .dataframe thead th {\n",
       "        text-align: right;\n",
       "    }\n",
       "</style>\n",
       "<table border=\"1\" class=\"dataframe\">\n",
       "  <thead>\n",
       "    <tr style=\"text-align: right;\">\n",
       "      <th></th>\n",
       "      <th>PC1</th>\n",
       "      <th>PC2</th>\n",
       "      <th>PC3</th>\n",
       "      <th>PC4</th>\n",
       "      <th>PC5</th>\n",
       "    </tr>\n",
       "    <tr>\n",
       "      <th>completeCluster</th>\n",
       "      <th></th>\n",
       "      <th></th>\n",
       "      <th></th>\n",
       "      <th></th>\n",
       "      <th></th>\n",
       "    </tr>\n",
       "  </thead>\n",
       "  <tbody>\n",
       "    <tr>\n",
       "      <th>1</th>\n",
       "      <td>1.794286</td>\n",
       "      <td>1.658494</td>\n",
       "      <td>0.084947</td>\n",
       "      <td>0.920019</td>\n",
       "      <td>0.958354</td>\n",
       "    </tr>\n",
       "    <tr>\n",
       "      <th>2</th>\n",
       "      <td>0.275816</td>\n",
       "      <td>-0.009909</td>\n",
       "      <td>0.177366</td>\n",
       "      <td>0.154350</td>\n",
       "      <td>-0.799383</td>\n",
       "    </tr>\n",
       "    <tr>\n",
       "      <th>3</th>\n",
       "      <td>-0.329754</td>\n",
       "      <td>-0.159734</td>\n",
       "      <td>-0.105606</td>\n",
       "      <td>-0.176160</td>\n",
       "      <td>0.342399</td>\n",
       "    </tr>\n",
       "  </tbody>\n",
       "</table>\n",
       "</div>"
      ],
      "text/plain": [
       "                      PC1       PC2       PC3       PC4       PC5\n",
       "completeCluster                                                  \n",
       "1                1.794286  1.658494  0.084947  0.920019  0.958354\n",
       "2                0.275816 -0.009909  0.177366  0.154350 -0.799383\n",
       "3               -0.329754 -0.159734 -0.105606 -0.176160  0.342399"
      ]
     },
     "execution_count": 750,
     "metadata": {},
     "output_type": "execute_result"
    }
   ],
   "source": [
    "pcaDataScaled['completeCluster'] = create_cluster(completeLinkage,6.5)\n",
    "pcaDataScaled.groupby('completeCluster').mean()"
   ]
  },
  {
   "cell_type": "code",
   "execution_count": 751,
   "metadata": {},
   "outputs": [
    {
     "data": {
      "text/plain": [
       "3    241\n",
       "2    132\n",
       "1     24\n",
       "Name: completeCluster, dtype: int64"
      ]
     },
     "execution_count": 751,
     "metadata": {},
     "output_type": "execute_result"
    }
   ],
   "source": [
    "pcaDataScaled['completeCluster'].value_counts()"
   ]
  },
  {
   "cell_type": "code",
   "execution_count": 752,
   "metadata": {},
   "outputs": [
    {
     "data": {
      "image/png": "[encoded data removed]",
      "text/plain": [
       "<Figure size 1080x432 with 1 Axes>"
      ]
     },
     "metadata": {
      "needs_background": "light"
     },
     "output_type": "display_data"
    }
   ],
   "source": [
    "wardLinkage = AgglomerativeClustering(distance_threshold=0, n_clusters=None,linkage='ward')\n",
    "wardLinkage = wardLinkage.fit(pcaDataScaled)\n",
    "plotDendrogram(wardLinkage)"
   ]
  },
  {
   "cell_type": "code",
   "execution_count": 753,
   "metadata": {},
   "outputs": [
    {
     "data": {
      "image/png": "[encoded data removed]",
      "text/plain": [
       "<Figure size 432x288 with 1 Axes>"
      ]
     },
     "metadata": {
      "needs_background": "light"
     },
     "output_type": "display_data"
    }
   ],
   "source": [
    "truncatedDendrogram(wardLinkage,10,10.2)"
   ]
  },
  {
   "cell_type": "code",
   "execution_count": 754,
   "metadata": {},
   "outputs": [
    {
     "data": {
      "text/html": [
       "<div>\n",
       "<style scoped>\n",
       "    .dataframe tbody tr th:only-of-type {\n",
       "        vertical-align: middle;\n",
       "    }\n",
       "\n",
       "    .dataframe tbody tr th {\n",
       "        vertical-align: top;\n",
       "    }\n",
       "\n",
       "    .dataframe thead th {\n",
       "        text-align: right;\n",
       "    }\n",
       "</style>\n",
       "<table border=\"1\" class=\"dataframe\">\n",
       "  <thead>\n",
       "    <tr style=\"text-align: right;\">\n",
       "      <th></th>\n",
       "      <th>PC1</th>\n",
       "      <th>PC2</th>\n",
       "      <th>PC3</th>\n",
       "      <th>PC4</th>\n",
       "      <th>PC5</th>\n",
       "      <th>completeCluster</th>\n",
       "    </tr>\n",
       "    <tr>\n",
       "      <th>wardCluster</th>\n",
       "      <th></th>\n",
       "      <th></th>\n",
       "      <th></th>\n",
       "      <th></th>\n",
       "      <th></th>\n",
       "      <th></th>\n",
       "    </tr>\n",
       "  </thead>\n",
       "  <tbody>\n",
       "    <tr>\n",
       "      <th>1</th>\n",
       "      <td>1.374749</td>\n",
       "      <td>-0.492201</td>\n",
       "      <td>0.670865</td>\n",
       "      <td>-0.369166</td>\n",
       "      <td>-0.712699</td>\n",
       "      <td>2</td>\n",
       "    </tr>\n",
       "    <tr>\n",
       "      <th>2</th>\n",
       "      <td>1.794286</td>\n",
       "      <td>1.658494</td>\n",
       "      <td>0.084947</td>\n",
       "      <td>0.920019</td>\n",
       "      <td>0.958354</td>\n",
       "      <td>1</td>\n",
       "    </tr>\n",
       "    <tr>\n",
       "      <th>3</th>\n",
       "      <td>0.250158</td>\n",
       "      <td>0.009704</td>\n",
       "      <td>-1.143834</td>\n",
       "      <td>-0.943381</td>\n",
       "      <td>-0.076434</td>\n",
       "      <td>3</td>\n",
       "    </tr>\n",
       "    <tr>\n",
       "      <th>4</th>\n",
       "      <td>-0.137073</td>\n",
       "      <td>-0.862932</td>\n",
       "      <td>-0.080835</td>\n",
       "      <td>-0.434244</td>\n",
       "      <td>0.722331</td>\n",
       "      <td>3</td>\n",
       "    </tr>\n",
       "    <tr>\n",
       "      <th>5</th>\n",
       "      <td>-0.233339</td>\n",
       "      <td>-0.448583</td>\n",
       "      <td>-0.747564</td>\n",
       "      <td>0.720470</td>\n",
       "      <td>0.242417</td>\n",
       "      <td>3</td>\n",
       "    </tr>\n",
       "    <tr>\n",
       "      <th>6</th>\n",
       "      <td>-0.565495</td>\n",
       "      <td>0.607674</td>\n",
       "      <td>0.011039</td>\n",
       "      <td>-0.157252</td>\n",
       "      <td>-0.608755</td>\n",
       "      <td>2</td>\n",
       "    </tr>\n",
       "    <tr>\n",
       "      <th>7</th>\n",
       "      <td>-0.380791</td>\n",
       "      <td>-0.043142</td>\n",
       "      <td>-0.391181</td>\n",
       "      <td>1.389066</td>\n",
       "      <td>-1.183752</td>\n",
       "      <td>2</td>\n",
       "    </tr>\n",
       "    <tr>\n",
       "      <th>8</th>\n",
       "      <td>-0.821388</td>\n",
       "      <td>1.826704</td>\n",
       "      <td>0.401026</td>\n",
       "      <td>-1.026791</td>\n",
       "      <td>0.011560</td>\n",
       "      <td>3</td>\n",
       "    </tr>\n",
       "    <tr>\n",
       "      <th>9</th>\n",
       "      <td>-0.917509</td>\n",
       "      <td>-0.369041</td>\n",
       "      <td>1.261179</td>\n",
       "      <td>0.428549</td>\n",
       "      <td>0.529520</td>\n",
       "      <td>3</td>\n",
       "    </tr>\n",
       "  </tbody>\n",
       "</table>\n",
       "</div>"
      ],
      "text/plain": [
       "                  PC1       PC2       PC3       PC4       PC5  completeCluster\n",
       "wardCluster                                                                   \n",
       "1            1.374749 -0.492201  0.670865 -0.369166 -0.712699                2\n",
       "2            1.794286  1.658494  0.084947  0.920019  0.958354                1\n",
       "3            0.250158  0.009704 -1.143834 -0.943381 -0.076434                3\n",
       "4           -0.137073 -0.862932 -0.080835 -0.434244  0.722331                3\n",
       "5           -0.233339 -0.448583 -0.747564  0.720470  0.242417                3\n",
       "6           -0.565495  0.607674  0.011039 -0.157252 -0.608755                2\n",
       "7           -0.380791 -0.043142 -0.391181  1.389066 -1.183752                2\n",
       "8           -0.821388  1.826704  0.401026 -1.026791  0.011560                3\n",
       "9           -0.917509 -0.369041  1.261179  0.428549  0.529520                3"
      ]
     },
     "execution_count": 754,
     "metadata": {},
     "output_type": "execute_result"
    }
   ],
   "source": [
    "pcaDataScaled['wardCluster'] = create_cluster(wardLinkage,10.2)\n",
    "pcaDataScaled.groupby('wardCluster').mean()"
   ]
  },
  {
   "cell_type": "code",
   "execution_count": 755,
   "metadata": {},
   "outputs": [
    {
     "data": {
      "text/plain": [
       "4    67\n",
       "5    56\n",
       "1    54\n",
       "6    44\n",
       "9    44\n",
       "3    41\n",
       "7    34\n",
       "8    33\n",
       "2    24\n",
       "Name: wardCluster, dtype: int64"
      ]
     },
     "execution_count": 755,
     "metadata": {},
     "output_type": "execute_result"
    }
   ],
   "source": [
    "pcaDataScaled['wardCluster'].value_counts()"
   ]
  },
  {
   "cell_type": "code",
   "execution_count": 756,
   "metadata": {},
   "outputs": [
    {
     "data": {
      "image/png": "[encoded data removed]",
      "text/plain": [
       "<Figure size 1080x432 with 1 Axes>"
      ]
     },
     "metadata": {
      "needs_background": "light"
     },
     "output_type": "display_data"
    }
   ],
   "source": [
    "singleLinkage = AgglomerativeClustering(distance_threshold=0, n_clusters=None,linkage='single')\n",
    "singleLinkage = singleLinkage.fit(pcaDataScaled)\n",
    "plotDendrogram(singleLinkage)"
   ]
  },
  {
   "cell_type": "code",
   "execution_count": 757,
   "metadata": {},
   "outputs": [
    {
     "data": {
      "image/png": "[encoded data removed]",
      "text/plain": [
       "<Figure size 432x288 with 1 Axes>"
      ]
     },
     "metadata": {
      "needs_background": "light"
     },
     "output_type": "display_data"
    }
   ],
   "source": [
    "truncatedDendrogram(singleLinkage,5,2)"
   ]
  },
  {
   "cell_type": "code",
   "execution_count": 758,
   "metadata": {},
   "outputs": [
    {
     "data": {
      "text/html": [
       "<div>\n",
       "<style scoped>\n",
       "    .dataframe tbody tr th:only-of-type {\n",
       "        vertical-align: middle;\n",
       "    }\n",
       "\n",
       "    .dataframe tbody tr th {\n",
       "        vertical-align: top;\n",
       "    }\n",
       "\n",
       "    .dataframe thead th {\n",
       "        text-align: right;\n",
       "    }\n",
       "</style>\n",
       "<table border=\"1\" class=\"dataframe\">\n",
       "  <thead>\n",
       "    <tr style=\"text-align: right;\">\n",
       "      <th></th>\n",
       "      <th>PC1</th>\n",
       "      <th>PC2</th>\n",
       "      <th>PC3</th>\n",
       "      <th>PC4</th>\n",
       "      <th>PC5</th>\n",
       "      <th>completeCluster</th>\n",
       "      <th>wardCluster</th>\n",
       "    </tr>\n",
       "    <tr>\n",
       "      <th>singleCluster</th>\n",
       "      <th></th>\n",
       "      <th></th>\n",
       "      <th></th>\n",
       "      <th></th>\n",
       "      <th></th>\n",
       "      <th></th>\n",
       "      <th></th>\n",
       "    </tr>\n",
       "  </thead>\n",
       "  <tbody>\n",
       "    <tr>\n",
       "      <th>1</th>\n",
       "      <td>-0.876314</td>\n",
       "      <td>0.571993</td>\n",
       "      <td>0.892542</td>\n",
       "      <td>-0.195168</td>\n",
       "      <td>0.307537</td>\n",
       "      <td>3.000000</td>\n",
       "      <td>8.571429</td>\n",
       "    </tr>\n",
       "    <tr>\n",
       "      <th>2</th>\n",
       "      <td>-0.205881</td>\n",
       "      <td>-0.236646</td>\n",
       "      <td>-0.442112</td>\n",
       "      <td>0.053233</td>\n",
       "      <td>-0.033864</td>\n",
       "      <td>2.677686</td>\n",
       "      <td>4.847107</td>\n",
       "    </tr>\n",
       "    <tr>\n",
       "      <th>3</th>\n",
       "      <td>1.475965</td>\n",
       "      <td>0.086860</td>\n",
       "      <td>0.514567</td>\n",
       "      <td>-0.040500</td>\n",
       "      <td>-0.291911</td>\n",
       "      <td>1.710526</td>\n",
       "      <td>1.289474</td>\n",
       "    </tr>\n",
       "    <tr>\n",
       "      <th>4</th>\n",
       "      <td>2.532788</td>\n",
       "      <td>3.533143</td>\n",
       "      <td>0.364886</td>\n",
       "      <td>3.582430</td>\n",
       "      <td>2.157317</td>\n",
       "      <td>1.000000</td>\n",
       "      <td>2.000000</td>\n",
       "    </tr>\n",
       "    <tr>\n",
       "      <th>5</th>\n",
       "      <td>2.593196</td>\n",
       "      <td>3.090430</td>\n",
       "      <td>-1.206564</td>\n",
       "      <td>1.641014</td>\n",
       "      <td>4.542649</td>\n",
       "      <td>1.000000</td>\n",
       "      <td>2.000000</td>\n",
       "    </tr>\n",
       "  </tbody>\n",
       "</table>\n",
       "</div>"
      ],
      "text/plain": [
       "                    PC1       PC2       PC3       PC4       PC5  \\\n",
       "singleCluster                                                     \n",
       "1             -0.876314  0.571993  0.892542 -0.195168  0.307537   \n",
       "2             -0.205881 -0.236646 -0.442112  0.053233 -0.033864   \n",
       "3              1.475965  0.086860  0.514567 -0.040500 -0.291911   \n",
       "4              2.532788  3.533143  0.364886  3.582430  2.157317   \n",
       "5              2.593196  3.090430 -1.206564  1.641014  4.542649   \n",
       "\n",
       "               completeCluster  wardCluster  \n",
       "singleCluster                                \n",
       "1                     3.000000     8.571429  \n",
       "2                     2.677686     4.847107  \n",
       "3                     1.710526     1.289474  \n",
       "4                     1.000000     2.000000  \n",
       "5                     1.000000     2.000000  "
      ]
     },
     "execution_count": 758,
     "metadata": {},
     "output_type": "execute_result"
    }
   ],
   "source": [
    "pcaDataScaled['singleCluster'] = create_cluster(singleLinkage,2)\n",
    "pcaDataScaled.groupby('singleCluster').mean()"
   ]
  },
  {
   "cell_type": "code",
   "execution_count": 759,
   "metadata": {},
   "outputs": [
    {
     "data": {
      "text/plain": [
       "2    242\n",
       "1     77\n",
       "3     76\n",
       "4      1\n",
       "5      1\n",
       "Name: singleCluster, dtype: int64"
      ]
     },
     "execution_count": 759,
     "metadata": {},
     "output_type": "execute_result"
    }
   ],
   "source": [
    "pcaDataScaled['singleCluster'].value_counts()"
   ]
  },
  {
   "cell_type": "code",
   "execution_count": 760,
   "metadata": {},
   "outputs": [
    {
     "data": {
      "image/png": "[encoded data removed]",
      "text/plain": [
       "<Figure size 1080x432 with 1 Axes>"
      ]
     },
     "metadata": {
      "needs_background": "light"
     },
     "output_type": "display_data"
    }
   ],
   "source": [
    "avgLinkage = AgglomerativeClustering(distance_threshold=0, n_clusters=None,linkage='average')\n",
    "avgLinkage = avgLinkage.fit(pcaDataScaled)\n",
    "plotDendrogram(avgLinkage)"
   ]
  },
  {
   "cell_type": "code",
   "execution_count": 761,
   "metadata": {},
   "outputs": [
    {
     "data": {
      "image/png": "[encoded data removed]",
      "text/plain": [
       "<Figure size 432x288 with 1 Axes>"
      ]
     },
     "metadata": {
      "needs_background": "light"
     },
     "output_type": "display_data"
    }
   ],
   "source": [
    "truncatedDendrogram(avgLinkage,10,3.5)"
   ]
  },
  {
   "cell_type": "code",
   "execution_count": 762,
   "metadata": {},
   "outputs": [
    {
     "data": {
      "text/html": [
       "<div>\n",
       "<style scoped>\n",
       "    .dataframe tbody tr th:only-of-type {\n",
       "        vertical-align: middle;\n",
       "    }\n",
       "\n",
       "    .dataframe tbody tr th {\n",
       "        vertical-align: top;\n",
       "    }\n",
       "\n",
       "    .dataframe thead th {\n",
       "        text-align: right;\n",
       "    }\n",
       "</style>\n",
       "<table border=\"1\" class=\"dataframe\">\n",
       "  <thead>\n",
       "    <tr style=\"text-align: right;\">\n",
       "      <th></th>\n",
       "      <th>PC1</th>\n",
       "      <th>PC2</th>\n",
       "      <th>PC3</th>\n",
       "      <th>PC4</th>\n",
       "      <th>PC5</th>\n",
       "      <th>completeCluster</th>\n",
       "      <th>wardCluster</th>\n",
       "      <th>singleCluster</th>\n",
       "    </tr>\n",
       "    <tr>\n",
       "      <th>averageCluster</th>\n",
       "      <th></th>\n",
       "      <th></th>\n",
       "      <th></th>\n",
       "      <th></th>\n",
       "      <th></th>\n",
       "      <th></th>\n",
       "      <th></th>\n",
       "      <th></th>\n",
       "    </tr>\n",
       "  </thead>\n",
       "  <tbody>\n",
       "    <tr>\n",
       "      <th>1</th>\n",
       "      <td>1.503377</td>\n",
       "      <td>-0.317305</td>\n",
       "      <td>0.653566</td>\n",
       "      <td>-0.238613</td>\n",
       "      <td>-0.585599</td>\n",
       "      <td>1.84375</td>\n",
       "      <td>1.156250</td>\n",
       "      <td>3.000000</td>\n",
       "    </tr>\n",
       "    <tr>\n",
       "      <th>2</th>\n",
       "      <td>1.422306</td>\n",
       "      <td>2.341698</td>\n",
       "      <td>-0.181250</td>\n",
       "      <td>1.213513</td>\n",
       "      <td>1.342339</td>\n",
       "      <td>1.00000</td>\n",
       "      <td>2.000000</td>\n",
       "      <td>3.076923</td>\n",
       "    </tr>\n",
       "    <tr>\n",
       "      <th>3</th>\n",
       "      <td>2.593196</td>\n",
       "      <td>3.090430</td>\n",
       "      <td>-1.206564</td>\n",
       "      <td>1.641014</td>\n",
       "      <td>4.542649</td>\n",
       "      <td>1.00000</td>\n",
       "      <td>2.000000</td>\n",
       "      <td>5.000000</td>\n",
       "    </tr>\n",
       "    <tr>\n",
       "      <th>4</th>\n",
       "      <td>-0.821388</td>\n",
       "      <td>1.826704</td>\n",
       "      <td>0.401026</td>\n",
       "      <td>-1.026791</td>\n",
       "      <td>0.011560</td>\n",
       "      <td>3.00000</td>\n",
       "      <td>8.000000</td>\n",
       "      <td>1.000000</td>\n",
       "    </tr>\n",
       "    <tr>\n",
       "      <th>5</th>\n",
       "      <td>-0.917509</td>\n",
       "      <td>-0.369041</td>\n",
       "      <td>1.261179</td>\n",
       "      <td>0.428549</td>\n",
       "      <td>0.529520</td>\n",
       "      <td>3.00000</td>\n",
       "      <td>9.000000</td>\n",
       "      <td>1.000000</td>\n",
       "    </tr>\n",
       "    <tr>\n",
       "      <th>6</th>\n",
       "      <td>-0.073137</td>\n",
       "      <td>-0.503288</td>\n",
       "      <td>-0.574248</td>\n",
       "      <td>-0.167236</td>\n",
       "      <td>0.358767</td>\n",
       "      <td>3.00000</td>\n",
       "      <td>4.091463</td>\n",
       "      <td>2.000000</td>\n",
       "    </tr>\n",
       "    <tr>\n",
       "      <th>7</th>\n",
       "      <td>-0.484983</td>\n",
       "      <td>0.323985</td>\n",
       "      <td>-0.164287</td>\n",
       "      <td>0.516784</td>\n",
       "      <td>-0.859395</td>\n",
       "      <td>2.00000</td>\n",
       "      <td>6.435897</td>\n",
       "      <td>2.000000</td>\n",
       "    </tr>\n",
       "  </tbody>\n",
       "</table>\n",
       "</div>"
      ],
      "text/plain": [
       "                     PC1       PC2       PC3       PC4       PC5  \\\n",
       "averageCluster                                                     \n",
       "1               1.503377 -0.317305  0.653566 -0.238613 -0.585599   \n",
       "2               1.422306  2.341698 -0.181250  1.213513  1.342339   \n",
       "3               2.593196  3.090430 -1.206564  1.641014  4.542649   \n",
       "4              -0.821388  1.826704  0.401026 -1.026791  0.011560   \n",
       "5              -0.917509 -0.369041  1.261179  0.428549  0.529520   \n",
       "6              -0.073137 -0.503288 -0.574248 -0.167236  0.358767   \n",
       "7              -0.484983  0.323985 -0.164287  0.516784 -0.859395   \n",
       "\n",
       "                completeCluster  wardCluster  singleCluster  \n",
       "averageCluster                                               \n",
       "1                       1.84375     1.156250       3.000000  \n",
       "2                       1.00000     2.000000       3.076923  \n",
       "3                       1.00000     2.000000       5.000000  \n",
       "4                       3.00000     8.000000       1.000000  \n",
       "5                       3.00000     9.000000       1.000000  \n",
       "6                       3.00000     4.091463       2.000000  \n",
       "7                       2.00000     6.435897       2.000000  "
      ]
     },
     "execution_count": 762,
     "metadata": {},
     "output_type": "execute_result"
    }
   ],
   "source": [
    "pcaDataScaled['averageCluster'] = create_cluster(avgLinkage,3.5)\n",
    "pcaDataScaled.groupby('averageCluster').mean()"
   ]
  },
  {
   "cell_type": "code",
   "execution_count": 763,
   "metadata": {},
   "outputs": [
    {
     "data": {
      "text/plain": [
       "6    164\n",
       "7     78\n",
       "1     64\n",
       "5     44\n",
       "4     33\n",
       "2     13\n",
       "3      1\n",
       "Name: averageCluster, dtype: int64"
      ]
     },
     "execution_count": 763,
     "metadata": {},
     "output_type": "execute_result"
    }
   ],
   "source": [
    "pcaDataScaled['averageCluster'].value_counts()"
   ]
  },
  {
   "cell_type": "code",
   "execution_count": 764,
   "metadata": {},
   "outputs": [
    {
     "data": {
      "image/png": "[encoded data removed]",
      "text/plain": [
       "<Figure size 720x720 with 1 Axes>"
      ]
     },
     "metadata": {
      "needs_background": "light"
     },
     "output_type": "display_data"
    }
   ],
   "source": [
    "\n",
    "fig = plt.figure(figsize = (10,10))\n",
    "ax = fig.add_subplot(111, projection='3d')\n",
    "for i in pcaDataScaled['wardCluster']:\n",
    "    x = np.array(pcaDataScaled[pcaDataScaled['wardCluster'] == i]['PC1'])\n",
    "    y = np.array(pcaDataScaled[pcaDataScaled['wardCluster'] == i]['PC2'])\n",
    "    z = np.array(pcaDataScaled[pcaDataScaled['wardCluster'] == i]['PC3'])\n",
    "    ax.scatter(x, y, z, marker = 'o', s = 40)\n",
    "plt.title('Scatterplot of Clusters')\n",
    "ax.set_xlabel('PC1')\n",
    "ax.set_ylabel('PC2')\n",
    "ax.set_zlabel('PC3')\n",
    "ax.legend([1,2,3,4,5,6,7,8])\n",
    "plt.show()"
   ]
  },
  {
   "cell_type": "code",
   "execution_count": 765,
   "metadata": {},
   "outputs": [
    {
     "data": {
      "application/vnd.plotly.v1+json": {
       "config": {
        "plotlyServerURL": "https://plot.ly"
       },
       "data": [
        {
         "hovertemplate": "PC1=%{x}<br>PC2=%{y}<br>PC3=%{z}<br>wardCluster=%{marker.color}<extra></extra>",
         "legendgroup": "",
         "marker": {
          "color": [
           8,
           8,
           8,
           2,
           2,
           8,
           8,
           2,
           2,
           8,
           8,
           8,
           2,
           8,
           8,
           8,
           2,
           2,
           2,
           6,
           8,
           8,
           2,
           8,
           8,
           2,
           8,
           8,
           3,
           8,
           2,
           8,
           8,
           6,
           8,
           8,
           3,
           8,
           6,
           8,
           2,
           8,
           5,
           6,
           6,
           6,
           3,
           6,
           3,
           6,
           8,
           3,
           8,
           2,
           3,
           6,
           3,
           6,
           6,
           3,
           6,
           6,
           6,
           6,
           3,
           2,
           3,
           3,
           8,
           7,
           8,
           7,
           6,
           6,
           7,
           6,
           6,
           4,
           1,
           6,
           7,
           3,
           1,
           6,
           6,
           3,
           2,
           7,
           8,
           7,
           6,
           2,
           3,
           1,
           1,
           8,
           2,
           5,
           3,
           7,
           6,
           3,
           3,
           3,
           3,
           3,
           5,
           7,
           2,
           7,
           6,
           5,
           5,
           6,
           5,
           7,
           6,
           9,
           6,
           7,
           8,
           5,
           2,
           3,
           7,
           4,
           6,
           6,
           1,
           5,
           6,
           6,
           3,
           3,
           6,
           5,
           6,
           2,
           7,
           3,
           7,
           4,
           3,
           5,
           3,
           2,
           3,
           6,
           5,
           8,
           1,
           3,
           2,
           3,
           2,
           5,
           4,
           5,
           6,
           3,
           5,
           3,
           5,
           1,
           5,
           9,
           9,
           5,
           7,
           7,
           5,
           1,
           1,
           9,
           6,
           9,
           9,
           3,
           7,
           5,
           5,
           7,
           4,
           7,
           5,
           4,
           1,
           6,
           5,
           5,
           4,
           4,
           7,
           5,
           1,
           7,
           3,
           5,
           5,
           5,
           3,
           5,
           5,
           7,
           1,
           2,
           4,
           9,
           5,
           5,
           9,
           1,
           6,
           5,
           6,
           5,
           3,
           9,
           9,
           1,
           1,
           9,
           7,
           5,
           9,
           5,
           9,
           1,
           4,
           9,
           5,
           4,
           1,
           5,
           7,
           1,
           4,
           4,
           6,
           9,
           1,
           9,
           1,
           4,
           9,
           9,
           5,
           9,
           6,
           9,
           5,
           1,
           5,
           1,
           3,
           7,
           9,
           1,
           1,
           5,
           9,
           3,
           1,
           4,
           3,
           4,
           4,
           1,
           5,
           1,
           1,
           5,
           7,
           4,
           1,
           4,
           7,
           1,
           5,
           4,
           4,
           4,
           1,
           4,
           5,
           1,
           9,
           9,
           9,
           4,
           9,
           5,
           4,
           9,
           1,
           1,
           1,
           4,
           5,
           5,
           4,
           4,
           5,
           7,
           5,
           9,
           5,
           9,
           4,
           1,
           1,
           7,
           4,
           5,
           1,
           4,
           6,
           4,
           7,
           4,
           1,
           9,
           9,
           1,
           4,
           4,
           3,
           9,
           4,
           4,
           1,
           1,
           5,
           9,
           1,
           1,
           6,
           1,
           5,
           4,
           1,
           4,
           4,
           4,
           4,
           4,
           4,
           3,
           1,
           3,
           1,
           7,
           9,
           1,
           4,
           1,
           4,
           4,
           4,
           4,
           4,
           4,
           5,
           4,
           4,
           1,
           4,
           4,
           4,
           1,
           9,
           5,
           4,
           9,
           9,
           7,
           4,
           4,
           4,
           4,
           4,
           1,
           9,
           4,
           4,
           9,
           9,
           7,
           4,
           7,
           4,
           9,
           9,
           9,
           9,
           4,
           1
          ],
          "coloraxis": "coloraxis",
          "symbol": "circle"
         },
         "mode": "markers",
         "name": "",
         "scene": "scene",
         "showlegend": false,
         "type": "scatter3d",
         "x": [
          -1.101113375322639,
          -0.3640951979658799,
          -1.3145911562848849,
          2.59319626764657,
          1.4898875845707915,
          -0.7523333915800658,
          -0.6002318853316211,
          1.7008527208417425,
          0.09347651671298154,
          -0.701572469837238,
          -0.23014965544442217,
          -1.2785462536328958,
          2.5327881483532697,
          -0.441894683598955,
          -1.7676915631099437,
          -1.314084941163611,
          -0.10517819869947369,
          0.06143113606373872,
          1.9251501213587001,
          -0.2235255922993277,
          -1.145354454688807,
          -0.5487431279707286,
          0.39566581962466946,
          -0.6215947599356719,
          -1.195408429052474,
          1.541265940890506,
          -0.6065847407053025,
          -1.2274023136630827,
          -0.06121151897299976,
          -0.6393528955727684,
          1.9843995918850874,
          -0.7711999999115736,
          0.11828629591595188,
          0.46167819816055566,
          -0.8143503454518894,
          -0.9831117777790266,
          1.6212187769333268,
          -1.0601595885377721,
          -0.9998635935011947,
          -0.48862341895818906,
          2.292148648824269,
          -0.8124431285883686,
          1.518044305570003,
          -0.8910628954366498,
          -0.20086725261983723,
          -1.3849993952405366,
          -0.40399754704094093,
          0.10533361346132368,
          -0.4239400870505525,
          -1.3904052428539895,
          -0.7601276240852485,
          0.7235057685206372,
          -0.955015038675617,
          1.9484190125689744,
          -0.6109595675011936,
          -0.008311793953863897,
          -0.7367300788133159,
          -1.0831244524829284,
          -0.6383138644910263,
          1.5757135739038672,
          -0.24824016624198858,
          -1.3411337600477573,
          -1.0597899172090286,
          -0.5109237195975322,
          -0.5907857047703517,
          2.6296684882704304,
          -0.3589474092537539,
          -0.35655014877431035,
          -0.8586929782104123,
          -0.949887480280067,
          -1.4815506992774767,
          -0.8638135504751326,
          -1.4160496929876585,
          0.2817654978605542,
          0.1256004653591801,
          -0.8038226990494515,
          -0.6897089546384105,
          -0.5631620640721074,
          0.443845852606679,
          -1.1739470931508187,
          -0.7634475462503103,
          -0.8319658297707448,
          2.8484796468678515,
          -0.7445670932580228,
          -1.1167096864155888,
          0.2414776393785779,
          2.5890050708171883,
          -1.4990690764584809,
          -1.0419480938463583,
          -0.847935269383851,
          -0.75015385897053,
          2.522010999003321,
          1.311595330593026,
          1.3049971090552177,
          3.1124283213836246,
          0.23011226633760343,
          2.4329844174974697,
          0.6318814334985858,
          1.320640940500923,
          -0.40179121596365636,
          -0.7081916783777571,
          0.6909830511510752,
          0.11778518659862414,
          1.3651700247311405,
          0.4859372282481422,
          0.2651511875820952,
          0.8787476795235885,
          0.6089287274847022,
          2.063242928676727,
          -0.01020000009574832,
          -0.8368346854366248,
          0.11385312245708985,
          -0.000053272717793980986,
          -0.14122666019855498,
          0.3910644599514243,
          -0.8324259450439886,
          -0.544224692309706,
          -1.3957889383459552,
          -0.8698663063710488,
          0.8764281887217393,
          -0.5436052026071696,
          0.015283611762205628,
          2.5687679425719168,
          0.23949069846270182,
          0.36258855924102856,
          -0.59998632004112,
          -0.35747902397064407,
          -0.921351610996357,
          1.5146646885144268,
          -1.1741867224052982,
          -0.1848501621845519,
          0.45866813371951815,
          1.2291041202361077,
          -0.2182340642664009,
          -1.0765476548958735,
          0.3794230740711854,
          -0.7134183428234051,
          1.3708034137522584,
          -1.3837304891027449,
          -0.7937165976014251,
          -0.7579017787874169,
          -0.7777888282845743,
          0.23048754335428887,
          -0.5897456839695604,
          1.4499769030642464,
          1.8815642272714186,
          0.9761729584068948,
          -1.1759236660029657,
          -0.028691156521047517,
          -1.0326156778806295,
          0.5497502450387745,
          -0.13281158388017972,
          2.103740879787623,
          1.3914508142232391,
          2.231688561679409,
          -0.7924987017776465,
          -0.8882871853993758,
          1.30244227817537,
          -0.7470908641617238,
          0.2526812996232921,
          0.41003940275029266,
          -0.48690778727376677,
          -0.8526252745380216,
          0.5116416946911266,
          -1.4161178280445437,
          -0.9941475331564933,
          -0.843675071879293,
          -1.0242433579268249,
          -0.5846937536875694,
          -0.5222778446014578,
          -0.6430302387782441,
          1.7707883206121986,
          0.9651550532248582,
          -0.9314435204913503,
          -1.0691312586684159,
          -0.5274599632457413,
          -1.2417077031168435,
          -0.2983914284142855,
          -0.2966864771586055,
          -0.8611694121861007,
          -0.6412649213196372,
          -0.0957243853251873,
          -0.36700871154060094,
          -0.7444250566843768,
          0.32284666592193245,
          -0.09524811301905813,
          1.1100885035185368,
          -0.1471154281465378,
          -0.9659490199218922,
          -0.46590670186743943,
          0.4573670476511626,
          -0.22062286659797653,
          -0.5063181925449276,
          0.026005062778286916,
          1.5536842566211422,
          0.730687172719172,
          0.8561172317757062,
          -0.8313041149808351,
          -0.04414176580089507,
          0.06829127439928909,
          0.292856663580379,
          -0.5919018528144072,
          -0.764025807448842,
          -0.7083508397252589,
          1.697640054047471,
          2.215884537367638,
          -0.5263801515385909,
          -0.6136051588988164,
          0.5287263451279685,
          0.6258312327941573,
          -0.43845563584246844,
          0.6592683372649758,
          -0.3496116774464316,
          0.8466217409135771,
          0.6399795370598966,
          -0.6348139831747182,
          -0.5636966337663598,
          -0.7749057963320043,
          -1.165865731553873,
          2.0446245291424616,
          2.039227737314149,
          -1.2995007266196248,
          -0.07006375996153108,
          -0.8700016176514396,
          -1.1496715071239954,
          -0.2032633844456395,
          0.18277713722846126,
          1.7126673007814297,
          -0.7117158883461483,
          -0.8663147644534377,
          -0.3575695663921879,
          -0.3626772695581263,
          2.050034255728007,
          0.5576372477612508,
          -0.16534848922529596,
          1.7787619485758677,
          -0.9329307187540049,
          1.1687765469416262,
          -0.08730298138011797,
          -1.1488574023168536,
          1.5976109207471978,
          -0.991422630515416,
          1.6896365275155296,
          -0.07927385019600197,
          -0.9712075521950889,
          -0.7171601014195487,
          -0.26337410680107565,
          -1.3748379732254006,
          -0.22118288023058083,
          -1.4839662572481185,
          -0.4149752565765865,
          1.6211881904520364,
          -0.5515659685525722,
          1.867824566508873,
          -0.22684996425484624,
          -0.839234469529739,
          -1.380362619180727,
          1.1617917007578593,
          1.9707680911754506,
          -1.260957809407928,
          -0.9933462437847302,
          0.3204877256701227,
          1.503831807085511,
          0.06701542184950199,
          0.5570453643199353,
          -0.5255699887880578,
          -0.9785910827331542,
          1.1735512353553694,
          -0.17685754208315788,
          1.788419001320811,
          1.6391214421448543,
          -0.01757168646215386,
          0.1619478413863591,
          -0.18444407689084666,
          1.981252694029174,
          -0.0971217232839753,
          -0.36800930331212756,
          1.8637934761024368,
          -0.36349426650413197,
          -0.48153952344271633,
          0.6492528024269351,
          -0.03651890610886113,
          0.2862309356982624,
          0.6073221282969529,
          -0.20127331493566386,
          0.1217689301485138,
          -1.2180351877745548,
          -1.042898778971492,
          -1.0174202655795375,
          -0.8835028521375757,
          -0.7502778584269734,
          0.19646837669112313,
          0.01692791729578217,
          -1.1607788136030546,
          1.518693427811738,
          0.8172291409177639,
          1.5060891723133119,
          0.6392402128107126,
          -0.6622965265187418,
          -0.443362136835774,
          0.09082298128760327,
          -1.0137329618167514,
          -0.603241232874132,
          -0.6149036531276255,
          -0.25147973682035396,
          -1.0057534877198857,
          0.1158488358937526,
          -1.3214668006387071,
          0.782568229062934,
          0.8771280568637014,
          0.7141525977084279,
          -1.3338183767081815,
          -0.49268291756882143,
          -0.12741606796318178,
          1.137012332819776,
          1.1031111665901407,
          -0.13989731754790535,
          -0.24018439963172097,
          0.04096434073556382,
          -0.4793780602784294,
          1.6350495914123542,
          -1.9093834945687242,
          -0.962454047565659,
          1.447362097205642,
          -0.12903753246370195,
          0.7330859085128629,
          -0.4966128527293623,
          -0.6809325402371662,
          -0.2637500023901845,
          0.11929042464987022,
          1.6322062715207135,
          0.7919206712051688,
          -1.0010493518605985,
          -1.115857798392245,
          0.9408174618254429,
          1.0718969442954855,
          0.13756376573481016,
          1.2703166640052221,
          -0.8931317986317465,
          0.1471904917126476,
          1.0608500695395149,
          -0.3077038090153594,
          -0.006267499274472426,
          0.2626165703186398,
          -0.16933738099232876,
          0.06517474070918317,
          0.9981080607535574,
          0.04822713176327911,
          1.2190061698563797,
          0.28550679237041543,
          1.3905653367521378,
          0.4522737501428065,
          -1.1818906349097729,
          1.3241090672813376,
          0.24081491991854215,
          1.2368119309146093,
          -0.3595196829317739,
          -0.4067900917537019,
          -0.8161585158876047,
          0.6255278525717086,
          -1.1419739454045372,
          -0.756193702307451,
          -0.6237441359770676,
          -0.11382873902633464,
          -0.13476245085746233,
          1.3933962339582469,
          0.10087971062854909,
          -0.25304113562443414,
          0.009153522264983673,
          1.632822901964049,
          -0.5690677375738348,
          -0.3877417839082146,
          -0.547216691599499,
          0.12367718675610266,
          -0.5364688234550307,
          -0.4746058434071013,
          -0.14015435068662638,
          0.1478669646869813,
          -0.16060580221877996,
          -0.16352969754848332,
          0.5090329913591406,
          0.8157420608778364,
          -1.4445192931251076,
          -0.14507764602279496,
          -0.552924959127902,
          -1.0441364866261171,
          -0.21803976373956832,
          -0.4629491873516733,
          -0.22479659646035993,
          -0.20869782386464206,
          -0.09121954896450812,
          -0.4111406531073856,
          -0.32571867882768296,
          -1.0592354199644867,
          -0.3976845245180808,
          -0.3028289497694192,
          0.8687155667055677
         ],
         "y": [
          2.2203510646233156,
          2.0813268093793136,
          2.4688443397144257,
          3.090429941226224,
          2.944500093677974,
          2.994857742634009,
          1.9455213419368376,
          1.9679375811605977,
          2.308874697653522,
          2.0663159617094813,
          2.154843791264064,
          1.9167454069357515,
          3.5331430132732313,
          2.0951610429682894,
          2.4539280487987707,
          2.0046413390979843,
          2.4055486323371107,
          2.6042045732567707,
          2.2458123527923757,
          1.4200506851164207,
          2.752575836037667,
          1.7214128702321358,
          2.5729215808084094,
          1.7936650708462472,
          2.152566033484131,
          2.109502354088024,
          1.8965716939383932,
          1.4078493879543954,
          1.1402183756380548,
          2.8183091330345693,
          2.014881439321929,
          2.0174613666048877,
          2.315944356498896,
          1.938070230981014,
          1.6044900565011437,
          1.5872052299704231,
          1.0678292713749378,
          1.4254082788797164,
          1.0283063796997753,
          1.590043520090016,
          2.480151998386933,
          1.4643184195531163,
          1.051939314898812,
          1.1282797905594144,
          1.2971860768334362,
          1.5503639221905015,
          0.41032137392119467,
          1.4428083154066844,
          0.9344149159762861,
          1.1300136363745368,
          1.7257495368543923,
          0.4714321019504472,
          1.158846790408176,
          1.9835766200667064,
          0.5538205663132262,
          0.87659135110871,
          0.9519641239077364,
          0.3970395005599533,
          1.3857972972492247,
          0.7811958324984636,
          0.8656292374743965,
          1.2132307425116133,
          1.411871325315673,
          0.5063055315890476,
          0.6826305406897403,
          1.2710197320399583,
          0.6675674467708872,
          0.25472185177453077,
          1.065096980210983,
          0.5025573891223046,
          2.0166602025009728,
          0.6175383056780703,
          1.394496564427756,
          0.9643212879456389,
          0.4611180837933402,
          1.1272190147386423,
          1.161262471010533,
          0.3562249692511472,
          0.1262260726314466,
          1.240463148639087,
          0.5536593085181846,
          0.007907502004715447,
          0.5436049745968486,
          0.5774529438753779,
          0.8134294302635654,
          0.6282314140406745,
          1.10120673878155,
          0.5843601501471439,
          0.8943716140682874,
          0.599760119284534,
          0.2754674036714571,
          0.9002832694195829,
          0.16614156881993256,
          0.03129904320918343,
          0.8749100132915173,
          1.4713005243718442,
          0.8354628558285438,
          0.48957803348244955,
          0.04375394674397493,
          0.01611566993641587,
          0.05911960875843529,
          0.4120667603163901,
          0.2015708772435315,
          0.04491318787733754,
          -0.07125535093127197,
          -0.2557495244552181,
          0.38165679125202745,
          0.4517006973139511,
          0.4964002859181746,
          0.13655412225924576,
          0.627274934880461,
          0.17561094065512475,
          0.3354390451027331,
          0.169680937643297,
          0.30439224433185097,
          -0.15354940616770824,
          0.881490588252363,
          0.5624117383302105,
          0.37371605801301283,
          0.5257502518577094,
          0.61677441838653,
          -0.04540443169255264,
          0.5164890177424772,
          0.006907478942677214,
          0.26261070545666765,
          0.3258545580434403,
          0.39466599257376617,
          0.437730790939229,
          0.24898811269202661,
          0.1912066584812757,
          0.42479854056647703,
          0.6107473922034127,
          0.033984154534199194,
          -0.172209806034864,
          0.27536443187253556,
          0.18832840975102091,
          0.22989652712469405,
          0.8154678922376477,
          0.5886782760945682,
          -0.20763366843670353,
          0.21942837554959,
          -0.23502691070710136,
          -0.04443224137374453,
          -0.7543216455881883,
          -0.2666250173235933,
          0.7422814427969731,
          -0.04527556807508589,
          -0.012475004965924328,
          -0.06518902693987713,
          0.38208136177181073,
          0.20868634721015866,
          -0.1931361282476396,
          0.49427163171375804,
          -0.24559819675002914,
          0.22608650879864933,
          -0.6149063468530276,
          -0.3462096866863102,
          0.07736956844368133,
          -0.15755472364106096,
          -0.07265332953822515,
          0.416591282628107,
          -0.07758003119695234,
          -0.3780385612194081,
          -0.3545459028565865,
          -0.22472937669707635,
          0.06137901173070674,
          0.019453656167616018,
          -0.3857629582017279,
          -0.3500561776577325,
          -0.010065264639206001,
          -0.18677228096780626,
          0.608234846900613,
          -0.22818292242048924,
          0.4915738885255364,
          0.11629900135093336,
          0.023229069100374686,
          0.030972716876020857,
          -0.07296991623971726,
          -0.2849771916100338,
          -0.8443158121237466,
          -0.21222029401770937,
          -0.32168962053600464,
          -0.6504367646561635,
          -0.42571740254600754,
          -0.6726659111440947,
          -0.3584326306315726,
          -0.20318760716163253,
          -0.16866483631680892,
          -0.8041161650419988,
          -0.6390639923237208,
          -0.26477810879322017,
          -0.3327246855794408,
          -0.4021954844486425,
          -0.33000739880583246,
          -0.08056834077009314,
          0.3574370105441967,
          -0.5389050279902117,
          -0.6198874105180936,
          -0.12904893263128728,
          -0.33649251155612214,
          -0.641008248761646,
          -0.5920720602188408,
          -0.6178112827430875,
          -0.22437652507351713,
          -0.3066809367905186,
          0.14339120562294477,
          -0.5292602950659487,
          0.048404534049858866,
          -0.20728423555035794,
          -0.043106407692238786,
          0.04641580373498526,
          -0.3808908946963599,
          -0.40563209077428647,
          -0.19694960516187313,
          -0.12415017603287587,
          -0.6992145215636781,
          -0.11445092231724964,
          -0.2935306039261327,
          0.624192638400422,
          -0.4735116353020814,
          -0.0374396630406577,
          0.414172175099954,
          -0.2227458071350771,
          -0.5858561755214761,
          -0.00536959829246906,
          -0.5429159088448179,
          -0.1978833531478883,
          -0.6582504172037117,
          -0.5320204613306122,
          -0.06490493529500087,
          -0.6565599795111912,
          -0.49977731668245734,
          -0.4202127723928426,
          -0.7190273607067242,
          -0.41732382984337085,
          -0.40304474495736353,
          -0.46272798121389547,
          -0.7178739823379527,
          -0.28793573196116184,
          -0.4183709825169868,
          -0.35275995962961626,
          -0.6565186589792288,
          -0.49836629968937923,
          -0.318544595672411,
          -0.598763118011584,
          0.07910184917955536,
          -0.43906298423759155,
          0.07205535533738845,
          -0.3206450984535753,
          -0.30249205436233667,
          -1.270697082116889,
          -0.20443128853280262,
          -0.49767482569291555,
          0.059865642973379284,
          -0.8042142406482574,
          -0.4762222272433091,
          -0.31747253244629003,
          -0.7552907049441999,
          -0.3641117714618239,
          -1.103324283002144,
          -0.8782123779668086,
          -0.7063348082606097,
          -0.4470074806340528,
          -0.4564241478685786,
          -0.9808513347328213,
          -0.7169787308082164,
          -0.605383833325257,
          -0.34834365185505606,
          -0.5223946822465577,
          -0.6557447399775413,
          -0.560382863990331,
          -0.6690372577712186,
          0.9273505689366448,
          -0.5143155097101388,
          -0.753959216428593,
          -0.7343414186020996,
          -0.19341352694721772,
          -0.3394818131275008,
          -1.0505402976173572,
          -0.6670620426296795,
          -0.6819455873175896,
          -0.6852194832844823,
          -1.0267431850307938,
          -0.5437904650120264,
          -0.9058568796687774,
          -0.8874838294416948,
          0.15013714903480777,
          -0.14770516187516822,
          -0.12896840111652494,
          -0.7115921660114456,
          -0.1505298059538358,
          -0.5793385387124678,
          -0.985308364101131,
          -0.8036273389183315,
          -0.6824849483814044,
          -0.6677510451090046,
          -0.7089492686782798,
          -0.5883043719806716,
          -0.7166869244590757,
          -0.9081891799319416,
          -0.6521737855141163,
          -0.6658310656815757,
          -0.9354878995669971,
          -0.3466654701540321,
          -1.0203403125208275,
          -0.6219015977392921,
          -0.784005188435757,
          -0.281543564563573,
          -0.7984860615236936,
          -0.9863197378120525,
          -0.7339625496698884,
          -0.39770110612593035,
          -1.3337516017700004,
          -0.9911078657479279,
          -0.4770871605162253,
          -0.6357181052950834,
          -0.6139010507968632,
          -1.1219127783648197,
          -0.4594180724942576,
          -1.511316659112588,
          -0.9770417837219482,
          -0.5232282387802095,
          -0.25618151764951486,
          -0.886717322854328,
          -1.1214921351666673,
          -0.7967023809523492,
          -1.239925168077866,
          -0.4299946694495885,
          -0.9987027860799557,
          -1.0458586011133384,
          -0.8273463320019496,
          -1.150375762884456,
          -1.0260548792073263,
          -0.09831542573903354,
          -0.8233841097765006,
          -0.9198707184303522,
          -0.9178070049435187,
          -0.5541747055038334,
          -1.0114403665234695,
          -1.1199121381344503,
          -0.9313297426906931,
          -1.2085756488066395,
          -0.8459353310219117,
          -1.1413726787818828,
          -1.0029510287494918,
          -1.1255465873801827,
          -1.1558054588299078,
          -1.218226838625318,
          -0.7298435898261841,
          -1.094680498836532,
          -0.5545511592848229,
          -0.572075956018418,
          -0.5711372672701895,
          -0.937769771372188,
          -1.3098824950408083,
          -1.1858401859128254,
          -1.069991173289064,
          -0.7409767614375141,
          -1.0750981118887912,
          -1.055392836388363,
          -0.7653702895322436,
          -1.0540126042098654,
          -1.1689847674205014,
          -1.3123179914250536,
          -1.147123715422008,
          -0.94156833731767,
          -1.0826220037155523,
          -1.2924835497645406,
          -1.1757824038679567,
          -1.0705064978640892,
          -0.9683665441327938,
          -1.0287936730053306,
          -1.4683079156342735,
          -0.7191891464427536,
          -1.0588156209240365,
          -0.7697419103415397,
          -1.2347650185156454,
          -1.0869307240958963,
          -1.1258323220516733,
          -1.3489086687016436,
          -1.1063762296401525,
          -0.6578804911889492,
          -0.8563061151925864,
          -1.2131981346768892,
          -1.249255154431829,
          -1.0575661837265202,
          -1.0136036166147533,
          -1.2365654520241394,
          -1.0948604030024722,
          -1.0069514707979417,
          -1.3624411721489176,
          -1.585745827004294,
          -1.3125460187108875,
          -0.7749775272776939,
          -1.7675460864784265,
          -1.7060905022738668,
          -1.1353166278123745
         ],
         "z": [
          -1.6016444945861092,
          -0.8411408655250918,
          -0.22181387234349767,
          -1.2065642111448114,
          0.7492890897481496,
          1.1408404287012062,
          -1.0238790776803661,
          -0.03337986778953586,
          -1.0942201053554796,
          -0.3083517513030137,
          -0.6471550738092082,
          0.24153405272779738,
          0.36488568928915877,
          -0.38646234866402146,
          1.6158818861564619,
          0.9458131784148438,
          0.21587284611751242,
          -0.23312882423935083,
          -1.0340135949408547,
          -1.256556840203825,
          1.976432337221473,
          -0.23371596849504003,
          -0.27197807889437947,
          -0.7497809792321304,
          1.4146674262037944,
          -1.3427378793267954,
          -0.46817282935853727,
          -0.5938339150989197,
          -1.1555745759001366,
          2.3242146673063977,
          -0.3089698308835051,
          1.1427511163722563,
          1.5158742397113447,
          0.045321259264220294,
          -0.37600825206884375,
          -0.11610764487109149,
          -1.2681306351640216,
          0.8226152789292853,
          -0.9487447513304523,
          -0.4740158269177399,
          0.5128496983653227,
          0.37942125981565245,
          -1.673199070698595,
          0.10109245285715336,
          -1.0680713927077186,
          0.3883256067326599,
          -2.2007334386551376,
          -0.44911436555164147,
          -0.6302762348298494,
          0.5286274803463094,
          1.3336942501453126,
          -2.32938189995213,
          -0.17437865502365246,
          0.4374755077324111,
          -1.4710901871873678,
          -0.9812227729316081,
          -0.8639919283239484,
          -0.37868344049212405,
          0.7409834258727799,
          -1.5461346711227704,
          -0.8399941644194427,
          0.6639879144585065,
          0.662228854759435,
          -0.8383464711343014,
          -1.387940547141121,
          -0.3181976386670674,
          -1.9164406994832743,
          -2.2771355379155414,
          0.7815131582139938,
          -1.4427656233052328,
          1.6119483058452735,
          -1.1957672802845194,
          0.37778362111838787,
          -0.6349521019038997,
          -0.9953551545349814,
          0.9499009854156465,
          0.8652261130166943,
          -0.9410716060715228,
          -1.2438118459104412,
          1.170817602684377,
          -0.45098524222958164,
          -1.5726729444254177,
          1.0286416903270714,
          -0.3739127885468685,
          0.05936022178024733,
          -1.5070474372970675,
          1.6956276393608103,
          -0.26802933776481463,
          0.883432928604383,
          -0.480543880147414,
          -1.0051746742530108,
          0.1134836524477928,
          -0.938331232964964,
          -0.740391005286121,
          0.5846729639914713,
          1.7013478141481175,
          -0.4655678871176827,
          -0.26712179336473385,
          -0.8993149323521926,
          -2.485581008046126,
          -0.36642393329887835,
          -0.9852877424963722,
          -0.3610546680842238,
          -1.4463815163878115,
          -1.9819953385365265,
          -2.2148866145668173,
          -1.3028804850581368,
          -0.7533755231641107,
          0.3267532469137567,
          -1.6346865203066983,
          0.35746800572364995,
          -1.772994556596745,
          -1.1064749093839361,
          -0.04428975440532112,
          -1.9547980102331017,
          -2.4120939276126876,
          0.6574783433721558,
          0.7304973366341664,
          0.28288479013332996,
          -0.5189413677906247,
          0.8650260531209332,
          -0.8963732278950827,
          0.5497275544386103,
          -0.7061229832779558,
          -0.7569549875737119,
          -0.5180112256825578,
          -0.355308073904619,
          0.42952040728970536,
          -1.5343977337477468,
          -0.9298157625747402,
          -0.07822304614635947,
          0.255407479901619,
          -1.785481881983067,
          -1.8874072946124372,
          -0.02229869327873929,
          -0.6717073053117987,
          -0.06139057868664847,
          1.4991982151952097,
          0.19959479639330346,
          -1.1775191977068702,
          -0.5666311576398178,
          -0.6211833996316166,
          -0.10338509005260967,
          -2.185433010535481,
          -0.511332035430099,
          0.5681979875887304,
          -0.8825925123819222,
          0.12506805606982904,
          -0.7613320649834915,
          0.753318835561967,
          0.10517359739467667,
          -0.96231742730427,
          0.392408440768886,
          -0.6815608274258425,
          0.47629884206747314,
          -0.9099139060425885,
          -0.5438695373131851,
          -0.32840309196394846,
          -0.1863062104954226,
          -1.442229943069026,
          -0.08592859588409005,
          -0.199091453554766,
          -1.8853949596985635,
          -1.5876973306571636,
          -0.6699611965452897,
          0.307602256250328,
          0.1635677031936863,
          -0.5503987344570713,
          -1.2595777717703018,
          -0.06437191641505234,
          -0.024301984359542034,
          2.004447301365893,
          0.0382721479482531,
          1.197764170326892,
          0.3911629407806883,
          1.3910785977494016,
          1.2987358726589995,
          -0.6864575505857197,
          -1.0291475434124693,
          -1.0235145666187084,
          0.23912214954543898,
          -0.8126147980120696,
          -1.1062931611260032,
          -0.9135719335501107,
          -1.6963403654682023,
          -0.6914742838816331,
          -0.5668220622337695,
          -0.1643472200421732,
          -1.4538681655979817,
          -1.193948182602185,
          -0.24031734996236956,
          -0.7750872817660802,
          -1.1784460072163652,
          -0.8983308199997203,
          0.87283177848865,
          0.6178414016204602,
          -0.6149829877932713,
          -1.2613352932148667,
          -0.42528516524277027,
          -0.578342072580055,
          -0.45102162949401825,
          -1.2311594901042375,
          -0.9835840813992079,
          0.2733148845235002,
          -0.05291248568340951,
          0.4454135303917658,
          -0.4116411719406612,
          1.0213694178764054,
          -0.06419119139260054,
          0.0012938072276306148,
          1.5552715078989932,
          0.4714988136274654,
          -0.41068288821446775,
          -0.39389762317881455,
          0.49266036048281203,
          -0.4548394836560389,
          -0.5113384648598496,
          0.6607907841471277,
          2.5234254359953847,
          0.6437314167365354,
          1.5741029345444009,
          1.4291733180144572,
          -0.6610334052987737,
          -0.38156188617649933,
          0.8117607017921603,
          -0.7193216791535196,
          1.6905982876171255,
          1.704165003470363,
          -0.8060207332190745,
          1.3387349812486378,
          -0.7961945112205242,
          0.23285403070954566,
          0.55555327029789,
          -0.5191458388413345,
          -0.5375403265914467,
          1.6896625070854367,
          0.8570664747124632,
          -0.20936884481980875,
          0.023985140295120555,
          0.6225221086020266,
          0.27209077091849937,
          0.16431237350265013,
          0.9846503544667076,
          0.17183009180884193,
          0.36413018095539784,
          1.1402199521509155,
          0.1858388896563611,
          2.3685403668006857,
          0.20546396614207282,
          0.9631502416910235,
          -1.324187111102171,
          1.52324765267595,
          -0.4779056751469291,
          1.8720785949678957,
          -0.7393437314278473,
          0.43122430305566356,
          1.9087865776765014,
          -0.23418380512185114,
          1.5130883212980109,
          -0.1457730257014187,
          0.4999536862071591,
          -0.4257190682640735,
          0.7721644520877187,
          0.2618118237177599,
          -1.043538091537634,
          -0.6353258563794005,
          -0.08600941845283584,
          0.6592102438419403,
          -0.3843897621158769,
          0.946950978859194,
          0.5499636969885399,
          -1.1075920178307546,
          2.0298360887301667,
          0.3332592198678912,
          0.5748873625014675,
          0.08820486312799126,
          -0.19496498697490802,
          1.1921789956726374,
          -1.4015144636721848,
          0.5838027940484183,
          -0.490587102668994,
          0.839979869028193,
          -0.33760361004436107,
          -0.11979467714739803,
          -0.902997020826439,
          -0.5712272491198952,
          1.835727656986713,
          1.448995232496056,
          1.5705916667974174,
          0.338719280020324,
          1.7317020922158506,
          -0.24692961069877764,
          -0.6118195814452815,
          0.49974654241007116,
          0.6406095284793939,
          0.12056713453323267,
          0.10162369729410484,
          0.17863501968911136,
          -0.1478920974060175,
          -0.7927761323475495,
          0.17908014845199743,
          0.6789805188827818,
          -0.27824348785715447,
          0.7202184398280076,
          -0.8431415988155097,
          0.8067048541699379,
          -0.9055491999051141,
          1.6714975961865397,
          -0.2139492426755935,
          0.20442372830775632,
          1.1341471707185382,
          0.9714444215143316,
          -1.0104193530542762,
          -0.4614804078012435,
          0.17717328405590643,
          -0.43342328468929114,
          1.0948465534543894,
          -0.07482087211320763,
          0.26556507488702963,
          -1.6424405537694218,
          1.4688555996276447,
          2.06442200417167,
          1.7279050538588772,
          1.0722882967071974,
          -0.22257099631139324,
          0.03788392085367083,
          -2.207592065852024,
          1.1972647741500781,
          -0.7138800167037762,
          0.16827985014443653,
          1.1129799554670619,
          0.29078267498171206,
          0.10422515940768043,
          2.1361987311903334,
          1.304070728005792,
          0.3798668063993559,
          0.08018041251265416,
          0.7999885313795353,
          -0.70184971067069,
          0.394136454271677,
          0.792556531124238,
          -0.312212481240077,
          -0.14861397536124363,
          -0.09487069055119082,
          -0.03590997791361905,
          -1.1053285844441907,
          0.28962857869027514,
          -0.7315992721176148,
          1.0321777120912787,
          -0.19275718426495456,
          1.473777777974562,
          0.49533502363763054,
          1.32593979731085,
          1.9440947438678189,
          -0.27385759609560256,
          1.279487783984452,
          0.5651232071292135,
          0.749962817630179,
          1.034154427916994,
          0.350776093588337,
          1.1786255532460215,
          -0.007789076960589859,
          -0.23998034963746454,
          -0.47065263157680204,
          -0.19557543332420024,
          0.38286300269091667,
          -0.026775867545228378,
          -0.627751944957191,
          -0.2602302017217344,
          0.9174538371643917,
          1.0395380339409437,
          0.019435620785653567,
          0.5689784031684503,
          1.5179711940433627,
          0.8522201557929805,
          0.9268512958789212,
          -0.12305593759926627,
          -0.5392874602967981,
          -0.25718710794017613,
          -0.5515283306635663,
          0.2246527576184025,
          1.4740878366376815,
          2.0248913406352966,
          -0.5026806099415639,
          1.150543099561155,
          1.733039511881278,
          1.1441116141988186,
          0.22412703102853096,
          0.5046774142221273,
          0.157469367611379,
          0.6374330471009474,
          0.6153177686021505,
          0.8504348626373629,
          2.6285311094439203,
          0.9171313267043582,
          0.6376363686105794,
          2.8586111259370512
         ]
        }
       ],
       "layout": {
        "coloraxis": {
         "colorbar": {
          "title": {
           "text": "wardCluster"
          }
         },
         "colorscale": [
          [
           0,
           "#0d0887"
          ],
          [
           0.1111111111111111,
           "#46039f"
          ],
          [
           0.2222222222222222,
           "#7201a8"
          ],
          [
           0.3333333333333333,
           "#9c179e"
          ],
          [
           0.4444444444444444,
           "#bd3786"
          ],
          [
           0.5555555555555556,
           "#d8576b"
          ],
          [
           0.6666666666666666,
           "#ed7953"
          ],
          [
           0.7777777777777778,
           "#fb9f3a"
          ],
          [
           0.8888888888888888,
           "#fdca26"
          ],
          [
           1,
           "#f0f921"
          ]
         ]
        },
        "legend": {
         "tracegroupgap": 0
        },
        "margin": {
         "t": 60
        },
        "scene": {
         "domain": {
          "x": [
           0,
           1
          ],
          "y": [
           0,
           1
          ]
         },
         "xaxis": {
          "title": {
           "text": "PC1"
          }
         },
         "yaxis": {
          "title": {
           "text": "PC2"
          }
         },
         "zaxis": {
          "title": {
           "text": "PC3"
          }
         }
        },
        "template": {
         "data": {
          "bar": [
           {
            "error_x": {
             "color": "#2a3f5f"
            },
            "error_y": {
             "color": "#2a3f5f"
            },
            "marker": {
             "line": {
              "color": "#E5ECF6",
              "width": 0.5
             },
             "pattern": {
              "fillmode": "overlay",
              "size": 10,
              "solidity": 0.2
             }
            },
            "type": "bar"
           }
          ],
          "barpolar": [
           {
            "marker": {
             "line": {
              "color": "#E5ECF6",
              "width": 0.5
             },
             "pattern": {
              "fillmode": "overlay",
              "size": 10,
              "solidity": 0.2
             }
            },
            "type": "barpolar"
           }
          ],
          "carpet": [
           {
            "aaxis": {
             "endlinecolor": "#2a3f5f",
             "gridcolor": "white",
             "linecolor": "white",
             "minorgridcolor": "white",
             "startlinecolor": "#2a3f5f"
            },
            "baxis": {
             "endlinecolor": "#2a3f5f",
             "gridcolor": "white",
             "linecolor": "white",
             "minorgridcolor": "white",
             "startlinecolor": "#2a3f5f"
            },
            "type": "carpet"
           }
          ],
          "choropleth": [
           {
            "colorbar": {
             "outlinewidth": 0,
             "ticks": ""
            },
            "type": "choropleth"
           }
          ],
          "contour": [
           {
            "colorbar": {
             "outlinewidth": 0,
             "ticks": ""
            },
            "colorscale": [
             [
              0,
              "#0d0887"
             ],
             [
              0.1111111111111111,
              "#46039f"
             ],
             [
              0.2222222222222222,
              "#7201a8"
             ],
             [
              0.3333333333333333,
              "#9c179e"
             ],
             [
              0.4444444444444444,
              "#bd3786"
             ],
             [
              0.5555555555555556,
              "#d8576b"
             ],
             [
              0.6666666666666666,
              "#ed7953"
             ],
             [
              0.7777777777777778,
              "#fb9f3a"
             ],
             [
              0.8888888888888888,
              "#fdca26"
             ],
             [
              1,
              "#f0f921"
             ]
            ],
            "type": "contour"
           }
          ],
          "contourcarpet": [
           {
            "colorbar": {
             "outlinewidth": 0,
             "ticks": ""
            },
            "type": "contourcarpet"
           }
          ],
          "heatmap": [
           {
            "colorbar": {
             "outlinewidth": 0,
             "ticks": ""
            },
            "colorscale": [
             [
              0,
              "#0d0887"
             ],
             [
              0.1111111111111111,
              "#46039f"
             ],
             [
              0.2222222222222222,
              "#7201a8"
             ],
             [
              0.3333333333333333,
              "#9c179e"
             ],
             [
              0.4444444444444444,
              "#bd3786"
             ],
             [
              0.5555555555555556,
              "#d8576b"
             ],
             [
              0.6666666666666666,
              "#ed7953"
             ],
             [
              0.7777777777777778,
              "#fb9f3a"
             ],
             [
              0.8888888888888888,
              "#fdca26"
             ],
             [
              1,
              "#f0f921"
             ]
            ],
            "type": "heatmap"
           }
          ],
          "heatmapgl": [
           {
            "colorbar": {
             "outlinewidth": 0,
             "ticks": ""
            },
            "colorscale": [
             [
              0,
              "#0d0887"
             ],
             [
              0.1111111111111111,
              "#46039f"
             ],
             [
              0.2222222222222222,
              "#7201a8"
             ],
             [
              0.3333333333333333,
              "#9c179e"
             ],
             [
              0.4444444444444444,
              "#bd3786"
             ],
             [
              0.5555555555555556,
              "#d8576b"
             ],
             [
              0.6666666666666666,
              "#ed7953"
             ],
             [
              0.7777777777777778,
              "#fb9f3a"
             ],
             [
              0.8888888888888888,
              "#fdca26"
             ],
             [
              1,
              "#f0f921"
             ]
            ],
            "type": "heatmapgl"
           }
          ],
          "histogram": [
           {
            "marker": {
             "pattern": {
              "fillmode": "overlay",
              "size": 10,
              "solidity": 0.2
             }
            },
            "type": "histogram"
           }
          ],
          "histogram2d": [
           {
            "colorbar": {
             "outlinewidth": 0,
             "ticks": ""
            },
            "colorscale": [
             [
              0,
              "#0d0887"
             ],
             [
              0.1111111111111111,
              "#46039f"
             ],
             [
              0.2222222222222222,
              "#7201a8"
             ],
             [
              0.3333333333333333,
              "#9c179e"
             ],
             [
              0.4444444444444444,
              "#bd3786"
             ],
             [
              0.5555555555555556,
              "#d8576b"
             ],
             [
              0.6666666666666666,
              "#ed7953"
             ],
             [
              0.7777777777777778,
              "#fb9f3a"
             ],
             [
              0.8888888888888888,
              "#fdca26"
             ],
             [
              1,
              "#f0f921"
             ]
            ],
            "type": "histogram2d"
           }
          ],
          "histogram2dcontour": [
           {
            "colorbar": {
             "outlinewidth": 0,
             "ticks": ""
            },
            "colorscale": [
             [
              0,
              "#0d0887"
             ],
             [
              0.1111111111111111,
              "#46039f"
             ],
             [
              0.2222222222222222,
              "#7201a8"
             ],
             [
              0.3333333333333333,
              "#9c179e"
             ],
             [
              0.4444444444444444,
              "#bd3786"
             ],
             [
              0.5555555555555556,
              "#d8576b"
             ],
             [
              0.6666666666666666,
              "#ed7953"
             ],
             [
              0.7777777777777778,
              "#fb9f3a"
             ],
             [
              0.8888888888888888,
              "#fdca26"
             ],
             [
              1,
              "#f0f921"
             ]
            ],
            "type": "histogram2dcontour"
           }
          ],
          "mesh3d": [
           {
            "colorbar": {
             "outlinewidth": 0,
             "ticks": ""
            },
            "type": "mesh3d"
           }
          ],
          "parcoords": [
           {
            "line": {
             "colorbar": {
              "outlinewidth": 0,
              "ticks": ""
             }
            },
            "type": "parcoords"
           }
          ],
          "pie": [
           {
            "automargin": true,
            "type": "pie"
           }
          ],
          "scatter": [
           {
            "fillpattern": {
             "fillmode": "overlay",
             "size": 10,
             "solidity": 0.2
            },
            "type": "scatter"
           }
          ],
          "scatter3d": [
           {
            "line": {
             "colorbar": {
              "outlinewidth": 0,
              "ticks": ""
             }
            },
            "marker": {
             "colorbar": {
              "outlinewidth": 0,
              "ticks": ""
             }
            },
            "type": "scatter3d"
           }
          ],
          "scattercarpet": [
           {
            "marker": {
             "colorbar": {
              "outlinewidth": 0,
              "ticks": ""
             }
            },
            "type": "scattercarpet"
           }
          ],
          "scattergeo": [
           {
            "marker": {
             "colorbar": {
              "outlinewidth": 0,
              "ticks": ""
             }
            },
            "type": "scattergeo"
           }
          ],
          "scattergl": [
           {
            "marker": {
             "colorbar": {
              "outlinewidth": 0,
              "ticks": ""
             }
            },
            "type": "scattergl"
           }
          ],
          "scattermapbox": [
           {
            "marker": {
             "colorbar": {
              "outlinewidth": 0,
              "ticks": ""
             }
            },
            "type": "scattermapbox"
           }
          ],
          "scatterpolar": [
           {
            "marker": {
             "colorbar": {
              "outlinewidth": 0,
              "ticks": ""
             }
            },
            "type": "scatterpolar"
           }
          ],
          "scatterpolargl": [
           {
            "marker": {
             "colorbar": {
              "outlinewidth": 0,
              "ticks": ""
             }
            },
            "type": "scatterpolargl"
           }
          ],
          "scatterternary": [
           {
            "marker": {
             "colorbar": {
              "outlinewidth": 0,
              "ticks": ""
             }
            },
            "type": "scatterternary"
           }
          ],
          "surface": [
           {
            "colorbar": {
             "outlinewidth": 0,
             "ticks": ""
            },
            "colorscale": [
             [
              0,
              "#0d0887"
             ],
             [
              0.1111111111111111,
              "#46039f"
             ],
             [
              0.2222222222222222,
              "#7201a8"
             ],
             [
              0.3333333333333333,
              "#9c179e"
             ],
             [
              0.4444444444444444,
              "#bd3786"
             ],
             [
              0.5555555555555556,
              "#d8576b"
             ],
             [
              0.6666666666666666,
              "#ed7953"
             ],
             [
              0.7777777777777778,
              "#fb9f3a"
             ],
             [
              0.8888888888888888,
              "#fdca26"
             ],
             [
              1,
              "#f0f921"
             ]
            ],
            "type": "surface"
           }
          ],
          "table": [
           {
            "cells": {
             "fill": {
              "color": "#EBF0F8"
             },
             "line": {
              "color": "white"
             }
            },
            "header": {
             "fill": {
              "color": "#C8D4E3"
             },
             "line": {
              "color": "white"
             }
            },
            "type": "table"
           }
          ]
         },
         "layout": {
          "annotationdefaults": {
           "arrowcolor": "#2a3f5f",
           "arrowhead": 0,
           "arrowwidth": 1
          },
          "autotypenumbers": "strict",
          "coloraxis": {
           "colorbar": {
            "outlinewidth": 0,
            "ticks": ""
           }
          },
          "colorscale": {
           "diverging": [
            [
             0,
             "#8e0152"
            ],
            [
             0.1,
             "#c51b7d"
            ],
            [
             0.2,
             "#de77ae"
            ],
            [
             0.3,
             "#f1b6da"
            ],
            [
             0.4,
             "#fde0ef"
            ],
            [
             0.5,
             "#f7f7f7"
            ],
            [
             0.6,
             "#e6f5d0"
            ],
            [
             0.7,
             "#b8e186"
            ],
            [
             0.8,
             "#7fbc41"
            ],
            [
             0.9,
             "#4d9221"
            ],
            [
             1,
             "#276419"
            ]
           ],
           "sequential": [
            [
             0,
             "#0d0887"
            ],
            [
             0.1111111111111111,
             "#46039f"
            ],
            [
             0.2222222222222222,
             "#7201a8"
            ],
            [
             0.3333333333333333,
             "#9c179e"
            ],
            [
             0.4444444444444444,
             "#bd3786"
            ],
            [
             0.5555555555555556,
             "#d8576b"
            ],
            [
             0.6666666666666666,
             "#ed7953"
            ],
            [
             0.7777777777777778,
             "#fb9f3a"
            ],
            [
             0.8888888888888888,
             "#fdca26"
            ],
            [
             1,
             "#f0f921"
            ]
           ],
           "sequentialminus": [
            [
             0,
             "#0d0887"
            ],
            [
             0.1111111111111111,
             "#46039f"
            ],
            [
             0.2222222222222222,
             "#7201a8"
            ],
            [
             0.3333333333333333,
             "#9c179e"
            ],
            [
             0.4444444444444444,
             "#bd3786"
            ],
            [
             0.5555555555555556,
             "#d8576b"
            ],
            [
             0.6666666666666666,
             "#ed7953"
            ],
            [
             0.7777777777777778,
             "#fb9f3a"
            ],
            [
             0.8888888888888888,
             "#fdca26"
            ],
            [
             1,
             "#f0f921"
            ]
           ]
          },
          "colorway": [
           "#636efa",
           "#EF553B",
           "#00cc96",
           "#ab63fa",
           "#FFA15A",
           "#19d3f3",
           "#FF6692",
           "#B6E880",
           "#FF97FF",
           "#FECB52"
          ],
          "font": {
           "color": "#2a3f5f"
          },
          "geo": {
           "bgcolor": "white",
           "lakecolor": "white",
           "landcolor": "#E5ECF6",
           "showlakes": true,
           "showland": true,
           "subunitcolor": "white"
          },
          "hoverlabel": {
           "align": "left"
          },
          "hovermode": "closest",
          "mapbox": {
           "style": "light"
          },
          "paper_bgcolor": "white",
          "plot_bgcolor": "#E5ECF6",
          "polar": {
           "angularaxis": {
            "gridcolor": "white",
            "linecolor": "white",
            "ticks": ""
           },
           "bgcolor": "#E5ECF6",
           "radialaxis": {
            "gridcolor": "white",
            "linecolor": "white",
            "ticks": ""
           }
          },
          "scene": {
           "xaxis": {
            "backgroundcolor": "#E5ECF6",
            "gridcolor": "white",
            "gridwidth": 2,
            "linecolor": "white",
            "showbackground": true,
            "ticks": "",
            "zerolinecolor": "white"
           },
           "yaxis": {
            "backgroundcolor": "#E5ECF6",
            "gridcolor": "white",
            "gridwidth": 2,
            "linecolor": "white",
            "showbackground": true,
            "ticks": "",
            "zerolinecolor": "white"
           },
           "zaxis": {
            "backgroundcolor": "#E5ECF6",
            "gridcolor": "white",
            "gridwidth": 2,
            "linecolor": "white",
            "showbackground": true,
            "ticks": "",
            "zerolinecolor": "white"
           }
          },
          "shapedefaults": {
           "line": {
            "color": "#2a3f5f"
           }
          },
          "ternary": {
           "aaxis": {
            "gridcolor": "white",
            "linecolor": "white",
            "ticks": ""
           },
           "baxis": {
            "gridcolor": "white",
            "linecolor": "white",
            "ticks": ""
           },
           "bgcolor": "#E5ECF6",
           "caxis": {
            "gridcolor": "white",
            "linecolor": "white",
            "ticks": ""
           }
          },
          "title": {
           "x": 0.05
          },
          "xaxis": {
           "automargin": true,
           "gridcolor": "white",
           "linecolor": "white",
           "ticks": "",
           "title": {
            "standoff": 15
           },
           "zerolinecolor": "white",
           "zerolinewidth": 2
          },
          "yaxis": {
           "automargin": true,
           "gridcolor": "white",
           "linecolor": "white",
           "ticks": "",
           "title": {
            "standoff": 15
           },
           "zerolinecolor": "white",
           "zerolinewidth": 2
          }
         }
        }
       }
      }
     },
     "metadata": {},
     "output_type": "display_data"
    }
   ],
   "source": [
    "fig2 = px.scatter_3d(pcaDataScaled, x='PC1', y='PC2', z='PC3', color='wardCluster')\n",
    "fig2"
   ]
  },
  {
   "cell_type": "code",
   "execution_count": 766,
   "metadata": {},
   "outputs": [],
   "source": [
    "pcaDataFull = pd.read_csv('./Data/PCAData.csv')\n",
    "pcaDataScaled['PLAYER'] = pcaDataFull['Player'].values\n",
    "pcaDataScaled['TEAM'] = pcaDataFull['Team'].values\n",
    "pcaDataScaled = pcaDataScaled[['PLAYER','TEAM','wardCluster','PC1','PC2','PC3','PC4','PC5']]\n",
    "pcaDataScaled.rename({'wardCluster':'CLUSTER'},axis=1,inplace=True)\n",
    "pcaDataScaled.to_csv('Data/clusteredData.csv', index = False)"
   ]
  },
  {
   "cell_type": "code",
   "execution_count": null,
   "metadata": {},
   "outputs": [],
   "source": []
  }
 ],
 "metadata": {
  "interpreter": {
   "hash": "aee8b7b246df8f9039afb4144a1f6fd8d2ca17a180786b69acc140d282b71a49"
  },
  "kernelspec": {
   "display_name": "Python 3.9.1 64-bit",
   "language": "python",
   "name": "python3"
  },
  "language_info": {
   "codemirror_mode": {
    "name": "ipython",
    "version": 3
   },
   "file_extension": ".py",
   "mimetype": "text/x-python",
   "name": "python",
   "nbconvert_exporter": "python",
   "pygments_lexer": "ipython3",
   "version": "3.9.1"
  },
  "orig_nbformat": 4
 },
 "nbformat": 4,
 "nbformat_minor": 2
}
