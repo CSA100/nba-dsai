{
 "cells": [
  {
   "cell_type": "code",
   "execution_count": 393,
   "metadata": {},
   "outputs": [],
   "source": [
    "import pandas as pd\n",
    "import matplotlib.pyplot as plt\n",
    "from sklearn.preprocessing import StandardScaler\n",
    "from pyclustertend import hopkins\n",
    "from sklearn.cluster import AgglomerativeClustering\n",
    "import numpy as np\n",
    "from scipy.cluster.hierarchy import dendrogram, linkage\n",
    "from scipy.cluster.hierarchy import fcluster\n",
    "import plotly.express as px\n",
    "from mpl_toolkits.mplot3d import Axes3D\n",
    "import numpy as np"
   ]
  },
  {
   "cell_type": "code",
   "execution_count": 394,
   "metadata": {},
   "outputs": [],
   "source": [
    "def create_cluster(model, max_d):\n",
    "    # create linkage matrix\n",
    "    counts = np.zeros(model.children_.shape[0])\n",
    "    linkage_matrix = np.column_stack(\n",
    "        [model.children_, model.distances_, counts]\n",
    "    ).astype(float)\n",
    "    clusters = fcluster(linkage_matrix, max_d, criterion='distance')\n",
    "    return clusters\n",
    "\n",
    "\n",
    "def plotDendrogram(model):\n",
    "    # create linkage matrix and then plot the dendrogram\n",
    "\n",
    "    counts = np.zeros(model.children_.shape[0])\n",
    "    linkage_matrix = np.column_stack(\n",
    "        [model.children_, model.distances_, counts]\n",
    "    ).astype(float)    \n",
    "    plt.figure(figsize=(15, 6)) \n",
    "    plt.title('Hierarchical Clustering Dendrogram')\n",
    "    plt.xlabel('Data Points')\n",
    "    plt.ylabel('distance')\n",
    "    dendrogram(linkage_matrix,\n",
    "                   orientation='top', #The direction to plot the dendrogram\n",
    "                              #The root at the top, and descendent links going downwards\n",
    "                   #labels=statesList,\n",
    "                   distance_sort='descending',\n",
    "                   show_leaf_counts=True)\n",
    "    plt.show()\n",
    "\n",
    "def truncatedDendrogram(model, n, y_min = 0, max_d = 0):\n",
    "    # truncated dendrogram plot\n",
    "\n",
    "    counts = np.zeros(model.children_.shape[0])\n",
    "    linkage_matrix = np.column_stack(\n",
    "        [model.children_, model.distances_, counts]\n",
    "    ).astype(float)    \n",
    "    plt.title('Hierarchical Clustering Dendrogram (truncated)')\n",
    "    plt.xlabel('sample index')\n",
    "    plt.ylabel('distance')\n",
    "    dendro = dendrogram(\n",
    "                    linkage_matrix,\n",
    "                    truncate_mode='lastp',  # show only the last p merged clusters\n",
    "                    p=n,  # show only the last p merged clusters\n",
    "                    leaf_rotation=90.,\n",
    "                    leaf_font_size=12.,\n",
    "                    show_contracted=True,  # to get a distribution impression in truncated branches\n",
    "                )\n",
    "    for i, d, c in zip(dendro['icoord'], dendro['dcoord'], dendro['color_list']):\n",
    "        x = 0.5 * sum(i[1:3])\n",
    "        y = d[1]\n",
    "        #if y > annotate_above:\n",
    "        plt.plot(x, y, 'o', c=c)\n",
    "        plt.annotate(\"%.3g\" % y, (x, y), xytext=(0, -5),\n",
    "                            textcoords='offset points',\n",
    "                            va='top', ha='center')\n",
    "    if max_d:\n",
    "            plt.axhline(y=max_d, c='k')\n",
    "\n",
    "    plt.ylim(ymin = y_min)\n",
    "    plt.show()"
   ]
  },
  {
   "cell_type": "code",
   "execution_count": 395,
   "metadata": {},
   "outputs": [
    {
     "data": {
      "text/html": [
       "<div>\n",
       "<style scoped>\n",
       "    .dataframe tbody tr th:only-of-type {\n",
       "        vertical-align: middle;\n",
       "    }\n",
       "\n",
       "    .dataframe tbody tr th {\n",
       "        vertical-align: top;\n",
       "    }\n",
       "\n",
       "    .dataframe thead th {\n",
       "        text-align: right;\n",
       "    }\n",
       "</style>\n",
       "<table border=\"1\" class=\"dataframe\">\n",
       "  <thead>\n",
       "    <tr style=\"text-align: right;\">\n",
       "      <th></th>\n",
       "      <th>PC1</th>\n",
       "      <th>PC2</th>\n",
       "      <th>PC3</th>\n",
       "      <th>PC4</th>\n",
       "      <th>PC5</th>\n",
       "    </tr>\n",
       "  </thead>\n",
       "  <tbody>\n",
       "    <tr>\n",
       "      <th>count</th>\n",
       "      <td>397.0</td>\n",
       "      <td>397.0</td>\n",
       "      <td>397.0</td>\n",
       "      <td>397.0</td>\n",
       "      <td>397.0</td>\n",
       "    </tr>\n",
       "    <tr>\n",
       "      <th>mean</th>\n",
       "      <td>-0.0</td>\n",
       "      <td>0.0</td>\n",
       "      <td>0.0</td>\n",
       "      <td>0.0</td>\n",
       "      <td>0.0</td>\n",
       "    </tr>\n",
       "    <tr>\n",
       "      <th>std</th>\n",
       "      <td>4.4</td>\n",
       "      <td>3.9</td>\n",
       "      <td>2.5</td>\n",
       "      <td>2.1</td>\n",
       "      <td>1.8</td>\n",
       "    </tr>\n",
       "    <tr>\n",
       "      <th>min</th>\n",
       "      <td>-11.1</td>\n",
       "      <td>-7.0</td>\n",
       "      <td>-5.6</td>\n",
       "      <td>-5.6</td>\n",
       "      <td>-3.9</td>\n",
       "    </tr>\n",
       "    <tr>\n",
       "      <th>25%</th>\n",
       "      <td>-3.2</td>\n",
       "      <td>-2.9</td>\n",
       "      <td>-1.6</td>\n",
       "      <td>-1.5</td>\n",
       "      <td>-1.3</td>\n",
       "    </tr>\n",
       "    <tr>\n",
       "      <th>50%</th>\n",
       "      <td>-0.2</td>\n",
       "      <td>-0.7</td>\n",
       "      <td>-0.2</td>\n",
       "      <td>-0.1</td>\n",
       "      <td>-0.1</td>\n",
       "    </tr>\n",
       "    <tr>\n",
       "      <th>75%</th>\n",
       "      <td>2.7</td>\n",
       "      <td>2.0</td>\n",
       "      <td>1.7</td>\n",
       "      <td>1.4</td>\n",
       "      <td>1.1</td>\n",
       "    </tr>\n",
       "    <tr>\n",
       "      <th>max</th>\n",
       "      <td>11.2</td>\n",
       "      <td>15.4</td>\n",
       "      <td>7.5</td>\n",
       "      <td>7.1</td>\n",
       "      <td>6.3</td>\n",
       "    </tr>\n",
       "  </tbody>\n",
       "</table>\n",
       "</div>"
      ],
      "text/plain": [
       "         PC1    PC2    PC3    PC4    PC5\n",
       "count  397.0  397.0  397.0  397.0  397.0\n",
       "mean    -0.0    0.0    0.0    0.0    0.0\n",
       "std      4.4    3.9    2.5    2.1    1.8\n",
       "min    -11.1   -7.0   -5.6   -5.6   -3.9\n",
       "25%     -3.2   -2.9   -1.6   -1.5   -1.3\n",
       "50%     -0.2   -0.7   -0.2   -0.1   -0.1\n",
       "75%      2.7    2.0    1.7    1.4    1.1\n",
       "max     11.2   15.4    7.5    7.1    6.3"
      ]
     },
     "execution_count": 395,
     "metadata": {},
     "output_type": "execute_result"
    }
   ],
   "source": [
    "pcaData = pd.read_csv('./Data/PCAData.csv')\n",
    "pcaData.drop(['Player','Team'],axis=1,inplace=True)\n",
    "pcaData.describe().round(1)"
   ]
  },
  {
   "cell_type": "code",
   "execution_count": 396,
   "metadata": {},
   "outputs": [],
   "source": [
    "# to standardise the principle components\n",
    "scaler = StandardScaler()\n",
    "pcaDataScaled = scaler.fit_transform(pcaData)"
   ]
  },
  {
   "cell_type": "code",
   "execution_count": 397,
   "metadata": {},
   "outputs": [
    {
     "data": {
      "text/html": [
       "<div>\n",
       "<style scoped>\n",
       "    .dataframe tbody tr th:only-of-type {\n",
       "        vertical-align: middle;\n",
       "    }\n",
       "\n",
       "    .dataframe tbody tr th {\n",
       "        vertical-align: top;\n",
       "    }\n",
       "\n",
       "    .dataframe thead th {\n",
       "        text-align: right;\n",
       "    }\n",
       "</style>\n",
       "<table border=\"1\" class=\"dataframe\">\n",
       "  <thead>\n",
       "    <tr style=\"text-align: right;\">\n",
       "      <th></th>\n",
       "      <th>PC1</th>\n",
       "      <th>PC2</th>\n",
       "      <th>PC3</th>\n",
       "      <th>PC4</th>\n",
       "      <th>PC5</th>\n",
       "    </tr>\n",
       "  </thead>\n",
       "  <tbody>\n",
       "    <tr>\n",
       "      <th>count</th>\n",
       "      <td>397.0</td>\n",
       "      <td>397.0</td>\n",
       "      <td>397.0</td>\n",
       "      <td>397.0</td>\n",
       "      <td>397.0</td>\n",
       "    </tr>\n",
       "    <tr>\n",
       "      <th>mean</th>\n",
       "      <td>-0.0</td>\n",
       "      <td>-0.0</td>\n",
       "      <td>-0.0</td>\n",
       "      <td>0.0</td>\n",
       "      <td>0.0</td>\n",
       "    </tr>\n",
       "    <tr>\n",
       "      <th>std</th>\n",
       "      <td>1.0</td>\n",
       "      <td>1.0</td>\n",
       "      <td>1.0</td>\n",
       "      <td>1.0</td>\n",
       "      <td>1.0</td>\n",
       "    </tr>\n",
       "    <tr>\n",
       "      <th>min</th>\n",
       "      <td>-2.5</td>\n",
       "      <td>-1.8</td>\n",
       "      <td>-2.3</td>\n",
       "      <td>-2.7</td>\n",
       "      <td>-2.2</td>\n",
       "    </tr>\n",
       "    <tr>\n",
       "      <th>25%</th>\n",
       "      <td>-0.7</td>\n",
       "      <td>-0.8</td>\n",
       "      <td>-0.7</td>\n",
       "      <td>-0.7</td>\n",
       "      <td>-0.8</td>\n",
       "    </tr>\n",
       "    <tr>\n",
       "      <th>50%</th>\n",
       "      <td>-0.0</td>\n",
       "      <td>-0.2</td>\n",
       "      <td>-0.1</td>\n",
       "      <td>-0.0</td>\n",
       "      <td>-0.1</td>\n",
       "    </tr>\n",
       "    <tr>\n",
       "      <th>75%</th>\n",
       "      <td>0.6</td>\n",
       "      <td>0.5</td>\n",
       "      <td>0.7</td>\n",
       "      <td>0.7</td>\n",
       "      <td>0.6</td>\n",
       "    </tr>\n",
       "    <tr>\n",
       "      <th>max</th>\n",
       "      <td>2.5</td>\n",
       "      <td>4.0</td>\n",
       "      <td>3.0</td>\n",
       "      <td>3.4</td>\n",
       "      <td>3.5</td>\n",
       "    </tr>\n",
       "  </tbody>\n",
       "</table>\n",
       "</div>"
      ],
      "text/plain": [
       "         PC1    PC2    PC3    PC4    PC5\n",
       "count  397.0  397.0  397.0  397.0  397.0\n",
       "mean    -0.0   -0.0   -0.0    0.0    0.0\n",
       "std      1.0    1.0    1.0    1.0    1.0\n",
       "min     -2.5   -1.8   -2.3   -2.7   -2.2\n",
       "25%     -0.7   -0.8   -0.7   -0.7   -0.8\n",
       "50%     -0.0   -0.2   -0.1   -0.0   -0.1\n",
       "75%      0.6    0.5    0.7    0.7    0.6\n",
       "max      2.5    4.0    3.0    3.4    3.5"
      ]
     },
     "execution_count": 397,
     "metadata": {},
     "output_type": "execute_result"
    }
   ],
   "source": [
    "# check if components are standardised\n",
    "pcaDataScaled = pd.DataFrame(pcaDataScaled, columns = ['PC1','PC2','PC3','PC4','PC5'])\n",
    "pcaDataScaled.describe().round(1)"
   ]
  },
  {
   "cell_type": "code",
   "execution_count": 398,
   "metadata": {},
   "outputs": [
    {
     "data": {
      "text/plain": [
       "0.30076476797285745"
      ]
     },
     "execution_count": 398,
     "metadata": {},
     "output_type": "execute_result"
    }
   ],
   "source": [
    "# conducting hopkins test\n",
    "hopkins(pcaDataScaled,pcaDataScaled.shape[0])"
   ]
  },
  {
   "cell_type": "code",
   "execution_count": 399,
   "metadata": {},
   "outputs": [
    {
     "data": {
      "image/png": "[encoded data removed]",
      "text/plain": [
       "<Figure size 1080x432 with 1 Axes>"
      ]
     },
     "metadata": {
      "needs_background": "light"
     },
     "output_type": "display_data"
    }
   ],
   "source": [
    "completeLinkage = AgglomerativeClustering(distance_threshold=0, n_clusters=None,linkage='complete')\n",
    "completeLinknage = completeLinkage.fit(pcaDataScaled)\n",
    "plotDendrogram(completeLinkage)"
   ]
  },
  {
   "cell_type": "code",
   "execution_count": 400,
   "metadata": {},
   "outputs": [
    {
     "data": {
      "image/png": "[encoded data removed]",
      "text/plain": [
       "<Figure size 432x288 with 1 Axes>"
      ]
     },
     "metadata": {
      "needs_background": "light"
     },
     "output_type": "display_data"
    }
   ],
   "source": [
    "truncatedDendrogram(completeLinkage,5,6.5)"
   ]
  },
  {
   "cell_type": "code",
   "execution_count": 401,
   "metadata": {},
   "outputs": [
    {
     "data": {
      "text/html": [
       "<div>\n",
       "<style scoped>\n",
       "    .dataframe tbody tr th:only-of-type {\n",
       "        vertical-align: middle;\n",
       "    }\n",
       "\n",
       "    .dataframe tbody tr th {\n",
       "        vertical-align: top;\n",
       "    }\n",
       "\n",
       "    .dataframe thead th {\n",
       "        text-align: right;\n",
       "    }\n",
       "</style>\n",
       "<table border=\"1\" class=\"dataframe\">\n",
       "  <thead>\n",
       "    <tr style=\"text-align: right;\">\n",
       "      <th></th>\n",
       "      <th>PC1</th>\n",
       "      <th>PC2</th>\n",
       "      <th>PC3</th>\n",
       "      <th>PC4</th>\n",
       "      <th>PC5</th>\n",
       "    </tr>\n",
       "    <tr>\n",
       "      <th>completeCluster</th>\n",
       "      <th></th>\n",
       "      <th></th>\n",
       "      <th></th>\n",
       "      <th></th>\n",
       "      <th></th>\n",
       "    </tr>\n",
       "  </thead>\n",
       "  <tbody>\n",
       "    <tr>\n",
       "      <th>1</th>\n",
       "      <td>20</td>\n",
       "      <td>20</td>\n",
       "      <td>20</td>\n",
       "      <td>20</td>\n",
       "      <td>20</td>\n",
       "    </tr>\n",
       "    <tr>\n",
       "      <th>2</th>\n",
       "      <td>30</td>\n",
       "      <td>30</td>\n",
       "      <td>30</td>\n",
       "      <td>30</td>\n",
       "      <td>30</td>\n",
       "    </tr>\n",
       "    <tr>\n",
       "      <th>3</th>\n",
       "      <td>45</td>\n",
       "      <td>45</td>\n",
       "      <td>45</td>\n",
       "      <td>45</td>\n",
       "      <td>45</td>\n",
       "    </tr>\n",
       "    <tr>\n",
       "      <th>4</th>\n",
       "      <td>168</td>\n",
       "      <td>168</td>\n",
       "      <td>168</td>\n",
       "      <td>168</td>\n",
       "      <td>168</td>\n",
       "    </tr>\n",
       "    <tr>\n",
       "      <th>5</th>\n",
       "      <td>134</td>\n",
       "      <td>134</td>\n",
       "      <td>134</td>\n",
       "      <td>134</td>\n",
       "      <td>134</td>\n",
       "    </tr>\n",
       "  </tbody>\n",
       "</table>\n",
       "</div>"
      ],
      "text/plain": [
       "                 PC1  PC2  PC3  PC4  PC5\n",
       "completeCluster                         \n",
       "1                 20   20   20   20   20\n",
       "2                 30   30   30   30   30\n",
       "3                 45   45   45   45   45\n",
       "4                168  168  168  168  168\n",
       "5                134  134  134  134  134"
      ]
     },
     "execution_count": 401,
     "metadata": {},
     "output_type": "execute_result"
    }
   ],
   "source": [
    "pcaDataScaled['completeCluster'] = create_cluster(completeLinkage,6.5)\n",
    "pcaDataScaled.groupby('completeCluster').count()"
   ]
  },
  {
   "cell_type": "code",
   "execution_count": 402,
   "metadata": {},
   "outputs": [
    {
     "data": {
      "image/png": "[encoded data removed]",
      "text/plain": [
       "<Figure size 1080x432 with 1 Axes>"
      ]
     },
     "metadata": {
      "needs_background": "light"
     },
     "output_type": "display_data"
    }
   ],
   "source": [
    "wardLinkage = AgglomerativeClustering(distance_threshold=0, n_clusters=None,linkage='ward')\n",
    "wardLinkage = wardLinkage.fit(pcaDataScaled)\n",
    "plotDendrogram(wardLinkage)"
   ]
  },
  {
   "cell_type": "code",
   "execution_count": 403,
   "metadata": {},
   "outputs": [
    {
     "data": {
      "image/png": "[encoded data removed]",
      "text/plain": [
       "<Figure size 432x288 with 1 Axes>"
      ]
     },
     "metadata": {
      "needs_background": "light"
     },
     "output_type": "display_data"
    }
   ],
   "source": [
    "truncatedDendrogram(wardLinkage,10,10.2)"
   ]
  },
  {
   "cell_type": "code",
   "execution_count": 404,
   "metadata": {},
   "outputs": [
    {
     "data": {
      "text/html": [
       "<div>\n",
       "<style scoped>\n",
       "    .dataframe tbody tr th:only-of-type {\n",
       "        vertical-align: middle;\n",
       "    }\n",
       "\n",
       "    .dataframe tbody tr th {\n",
       "        vertical-align: top;\n",
       "    }\n",
       "\n",
       "    .dataframe thead th {\n",
       "        text-align: right;\n",
       "    }\n",
       "</style>\n",
       "<table border=\"1\" class=\"dataframe\">\n",
       "  <thead>\n",
       "    <tr style=\"text-align: right;\">\n",
       "      <th></th>\n",
       "      <th>PC1</th>\n",
       "      <th>PC2</th>\n",
       "      <th>PC3</th>\n",
       "      <th>PC4</th>\n",
       "      <th>PC5</th>\n",
       "      <th>completeCluster</th>\n",
       "    </tr>\n",
       "    <tr>\n",
       "      <th>wardCluster</th>\n",
       "      <th></th>\n",
       "      <th></th>\n",
       "      <th></th>\n",
       "      <th></th>\n",
       "      <th></th>\n",
       "      <th></th>\n",
       "    </tr>\n",
       "  </thead>\n",
       "  <tbody>\n",
       "    <tr>\n",
       "      <th>1</th>\n",
       "      <td>20</td>\n",
       "      <td>20</td>\n",
       "      <td>20</td>\n",
       "      <td>20</td>\n",
       "      <td>20</td>\n",
       "      <td>20</td>\n",
       "    </tr>\n",
       "    <tr>\n",
       "      <th>2</th>\n",
       "      <td>30</td>\n",
       "      <td>30</td>\n",
       "      <td>30</td>\n",
       "      <td>30</td>\n",
       "      <td>30</td>\n",
       "      <td>30</td>\n",
       "    </tr>\n",
       "    <tr>\n",
       "      <th>3</th>\n",
       "      <td>45</td>\n",
       "      <td>45</td>\n",
       "      <td>45</td>\n",
       "      <td>45</td>\n",
       "      <td>45</td>\n",
       "      <td>45</td>\n",
       "    </tr>\n",
       "    <tr>\n",
       "      <th>4</th>\n",
       "      <td>80</td>\n",
       "      <td>80</td>\n",
       "      <td>80</td>\n",
       "      <td>80</td>\n",
       "      <td>80</td>\n",
       "      <td>80</td>\n",
       "    </tr>\n",
       "    <tr>\n",
       "      <th>5</th>\n",
       "      <td>17</td>\n",
       "      <td>17</td>\n",
       "      <td>17</td>\n",
       "      <td>17</td>\n",
       "      <td>17</td>\n",
       "      <td>17</td>\n",
       "    </tr>\n",
       "    <tr>\n",
       "      <th>6</th>\n",
       "      <td>71</td>\n",
       "      <td>71</td>\n",
       "      <td>71</td>\n",
       "      <td>71</td>\n",
       "      <td>71</td>\n",
       "      <td>71</td>\n",
       "    </tr>\n",
       "    <tr>\n",
       "      <th>7</th>\n",
       "      <td>25</td>\n",
       "      <td>25</td>\n",
       "      <td>25</td>\n",
       "      <td>25</td>\n",
       "      <td>25</td>\n",
       "      <td>25</td>\n",
       "    </tr>\n",
       "    <tr>\n",
       "      <th>8</th>\n",
       "      <td>39</td>\n",
       "      <td>39</td>\n",
       "      <td>39</td>\n",
       "      <td>39</td>\n",
       "      <td>39</td>\n",
       "      <td>39</td>\n",
       "    </tr>\n",
       "    <tr>\n",
       "      <th>9</th>\n",
       "      <td>70</td>\n",
       "      <td>70</td>\n",
       "      <td>70</td>\n",
       "      <td>70</td>\n",
       "      <td>70</td>\n",
       "      <td>70</td>\n",
       "    </tr>\n",
       "  </tbody>\n",
       "</table>\n",
       "</div>"
      ],
      "text/plain": [
       "             PC1  PC2  PC3  PC4  PC5  completeCluster\n",
       "wardCluster                                          \n",
       "1             20   20   20   20   20               20\n",
       "2             30   30   30   30   30               30\n",
       "3             45   45   45   45   45               45\n",
       "4             80   80   80   80   80               80\n",
       "5             17   17   17   17   17               17\n",
       "6             71   71   71   71   71               71\n",
       "7             25   25   25   25   25               25\n",
       "8             39   39   39   39   39               39\n",
       "9             70   70   70   70   70               70"
      ]
     },
     "execution_count": 404,
     "metadata": {},
     "output_type": "execute_result"
    }
   ],
   "source": [
    "pcaDataScaled['wardCluster'] = create_cluster(wardLinkage,10.2)\n",
    "pcaDataScaled.groupby('wardCluster').count()"
   ]
  },
  {
   "cell_type": "code",
   "execution_count": 405,
   "metadata": {},
   "outputs": [
    {
     "data": {
      "image/png": "[encoded data removed]",
      "text/plain": [
       "<Figure size 1080x432 with 1 Axes>"
      ]
     },
     "metadata": {
      "needs_background": "light"
     },
     "output_type": "display_data"
    }
   ],
   "source": [
    "singleLinkage = AgglomerativeClustering(distance_threshold=0, n_clusters=None,linkage='single')\n",
    "singleLinkage = singleLinkage.fit(pcaDataScaled)\n",
    "plotDendrogram(singleLinkage)"
   ]
  },
  {
   "cell_type": "code",
   "execution_count": 406,
   "metadata": {},
   "outputs": [
    {
     "data": {
      "image/png": "[encoded data removed]",
      "text/plain": [
       "<Figure size 432x288 with 1 Axes>"
      ]
     },
     "metadata": {
      "needs_background": "light"
     },
     "output_type": "display_data"
    }
   ],
   "source": [
    "truncatedDendrogram(singleLinkage,5,2)"
   ]
  },
  {
   "cell_type": "code",
   "execution_count": 407,
   "metadata": {},
   "outputs": [
    {
     "data": {
      "text/html": [
       "<div>\n",
       "<style scoped>\n",
       "    .dataframe tbody tr th:only-of-type {\n",
       "        vertical-align: middle;\n",
       "    }\n",
       "\n",
       "    .dataframe tbody tr th {\n",
       "        vertical-align: top;\n",
       "    }\n",
       "\n",
       "    .dataframe thead th {\n",
       "        text-align: right;\n",
       "    }\n",
       "</style>\n",
       "<table border=\"1\" class=\"dataframe\">\n",
       "  <thead>\n",
       "    <tr style=\"text-align: right;\">\n",
       "      <th></th>\n",
       "      <th>PC1</th>\n",
       "      <th>PC2</th>\n",
       "      <th>PC3</th>\n",
       "      <th>PC4</th>\n",
       "      <th>PC5</th>\n",
       "      <th>completeCluster</th>\n",
       "      <th>wardCluster</th>\n",
       "    </tr>\n",
       "    <tr>\n",
       "      <th>singleCluster</th>\n",
       "      <th></th>\n",
       "      <th></th>\n",
       "      <th></th>\n",
       "      <th></th>\n",
       "      <th></th>\n",
       "      <th></th>\n",
       "      <th></th>\n",
       "    </tr>\n",
       "  </thead>\n",
       "  <tbody>\n",
       "    <tr>\n",
       "      <th>1</th>\n",
       "      <td>267</td>\n",
       "      <td>267</td>\n",
       "      <td>267</td>\n",
       "      <td>267</td>\n",
       "      <td>267</td>\n",
       "      <td>267</td>\n",
       "      <td>267</td>\n",
       "    </tr>\n",
       "    <tr>\n",
       "      <th>2</th>\n",
       "      <td>109</td>\n",
       "      <td>109</td>\n",
       "      <td>109</td>\n",
       "      <td>109</td>\n",
       "      <td>109</td>\n",
       "      <td>109</td>\n",
       "      <td>109</td>\n",
       "    </tr>\n",
       "    <tr>\n",
       "      <th>3</th>\n",
       "      <td>17</td>\n",
       "      <td>17</td>\n",
       "      <td>17</td>\n",
       "      <td>17</td>\n",
       "      <td>17</td>\n",
       "      <td>17</td>\n",
       "      <td>17</td>\n",
       "    </tr>\n",
       "    <tr>\n",
       "      <th>4</th>\n",
       "      <td>1</td>\n",
       "      <td>1</td>\n",
       "      <td>1</td>\n",
       "      <td>1</td>\n",
       "      <td>1</td>\n",
       "      <td>1</td>\n",
       "      <td>1</td>\n",
       "    </tr>\n",
       "    <tr>\n",
       "      <th>5</th>\n",
       "      <td>1</td>\n",
       "      <td>1</td>\n",
       "      <td>1</td>\n",
       "      <td>1</td>\n",
       "      <td>1</td>\n",
       "      <td>1</td>\n",
       "      <td>1</td>\n",
       "    </tr>\n",
       "    <tr>\n",
       "      <th>6</th>\n",
       "      <td>1</td>\n",
       "      <td>1</td>\n",
       "      <td>1</td>\n",
       "      <td>1</td>\n",
       "      <td>1</td>\n",
       "      <td>1</td>\n",
       "      <td>1</td>\n",
       "    </tr>\n",
       "    <tr>\n",
       "      <th>7</th>\n",
       "      <td>1</td>\n",
       "      <td>1</td>\n",
       "      <td>1</td>\n",
       "      <td>1</td>\n",
       "      <td>1</td>\n",
       "      <td>1</td>\n",
       "      <td>1</td>\n",
       "    </tr>\n",
       "  </tbody>\n",
       "</table>\n",
       "</div>"
      ],
      "text/plain": [
       "               PC1  PC2  PC3  PC4  PC5  completeCluster  wardCluster\n",
       "singleCluster                                                       \n",
       "1              267  267  267  267  267              267          267\n",
       "2              109  109  109  109  109              109          109\n",
       "3               17   17   17   17   17               17           17\n",
       "4                1    1    1    1    1                1            1\n",
       "5                1    1    1    1    1                1            1\n",
       "6                1    1    1    1    1                1            1\n",
       "7                1    1    1    1    1                1            1"
      ]
     },
     "execution_count": 407,
     "metadata": {},
     "output_type": "execute_result"
    }
   ],
   "source": [
    "pcaDataScaled['singleCluster'] = create_cluster(singleLinkage,2)\n",
    "pcaDataScaled.groupby('singleCluster').count()"
   ]
  },
  {
   "cell_type": "code",
   "execution_count": 408,
   "metadata": {},
   "outputs": [
    {
     "data": {
      "image/png": "[encoded data removed]",
      "text/plain": [
       "<Figure size 1080x432 with 1 Axes>"
      ]
     },
     "metadata": {
      "needs_background": "light"
     },
     "output_type": "display_data"
    }
   ],
   "source": [
    "avgLinkage = AgglomerativeClustering(distance_threshold=0, n_clusters=None,linkage='average')\n",
    "avgLinkage = avgLinkage.fit(pcaDataScaled)\n",
    "plotDendrogram(avgLinkage)"
   ]
  },
  {
   "cell_type": "code",
   "execution_count": 409,
   "metadata": {},
   "outputs": [
    {
     "data": {
      "image/png": "[encoded data removed]",
      "text/plain": [
       "<Figure size 432x288 with 1 Axes>"
      ]
     },
     "metadata": {
      "needs_background": "light"
     },
     "output_type": "display_data"
    }
   ],
   "source": [
    "truncatedDendrogram(avgLinkage,10,3.5)"
   ]
  },
  {
   "cell_type": "code",
   "execution_count": 410,
   "metadata": {},
   "outputs": [
    {
     "data": {
      "text/html": [
       "<div>\n",
       "<style scoped>\n",
       "    .dataframe tbody tr th:only-of-type {\n",
       "        vertical-align: middle;\n",
       "    }\n",
       "\n",
       "    .dataframe tbody tr th {\n",
       "        vertical-align: top;\n",
       "    }\n",
       "\n",
       "    .dataframe thead th {\n",
       "        text-align: right;\n",
       "    }\n",
       "</style>\n",
       "<table border=\"1\" class=\"dataframe\">\n",
       "  <thead>\n",
       "    <tr style=\"text-align: right;\">\n",
       "      <th></th>\n",
       "      <th>PC1</th>\n",
       "      <th>PC2</th>\n",
       "      <th>PC3</th>\n",
       "      <th>PC4</th>\n",
       "      <th>PC5</th>\n",
       "      <th>completeCluster</th>\n",
       "      <th>wardCluster</th>\n",
       "      <th>singleCluster</th>\n",
       "    </tr>\n",
       "    <tr>\n",
       "      <th>averageCluster</th>\n",
       "      <th></th>\n",
       "      <th></th>\n",
       "      <th></th>\n",
       "      <th></th>\n",
       "      <th></th>\n",
       "      <th></th>\n",
       "      <th></th>\n",
       "      <th></th>\n",
       "    </tr>\n",
       "  </thead>\n",
       "  <tbody>\n",
       "    <tr>\n",
       "      <th>1</th>\n",
       "      <td>25</td>\n",
       "      <td>25</td>\n",
       "      <td>25</td>\n",
       "      <td>25</td>\n",
       "      <td>25</td>\n",
       "      <td>25</td>\n",
       "      <td>25</td>\n",
       "      <td>25</td>\n",
       "    </tr>\n",
       "    <tr>\n",
       "      <th>2</th>\n",
       "      <td>109</td>\n",
       "      <td>109</td>\n",
       "      <td>109</td>\n",
       "      <td>109</td>\n",
       "      <td>109</td>\n",
       "      <td>109</td>\n",
       "      <td>109</td>\n",
       "      <td>109</td>\n",
       "    </tr>\n",
       "    <tr>\n",
       "      <th>3</th>\n",
       "      <td>168</td>\n",
       "      <td>168</td>\n",
       "      <td>168</td>\n",
       "      <td>168</td>\n",
       "      <td>168</td>\n",
       "      <td>168</td>\n",
       "      <td>168</td>\n",
       "      <td>168</td>\n",
       "    </tr>\n",
       "    <tr>\n",
       "      <th>4</th>\n",
       "      <td>74</td>\n",
       "      <td>74</td>\n",
       "      <td>74</td>\n",
       "      <td>74</td>\n",
       "      <td>74</td>\n",
       "      <td>74</td>\n",
       "      <td>74</td>\n",
       "      <td>74</td>\n",
       "    </tr>\n",
       "    <tr>\n",
       "      <th>5</th>\n",
       "      <td>2</td>\n",
       "      <td>2</td>\n",
       "      <td>2</td>\n",
       "      <td>2</td>\n",
       "      <td>2</td>\n",
       "      <td>2</td>\n",
       "      <td>2</td>\n",
       "      <td>2</td>\n",
       "    </tr>\n",
       "    <tr>\n",
       "      <th>6</th>\n",
       "      <td>17</td>\n",
       "      <td>17</td>\n",
       "      <td>17</td>\n",
       "      <td>17</td>\n",
       "      <td>17</td>\n",
       "      <td>17</td>\n",
       "      <td>17</td>\n",
       "      <td>17</td>\n",
       "    </tr>\n",
       "    <tr>\n",
       "      <th>7</th>\n",
       "      <td>1</td>\n",
       "      <td>1</td>\n",
       "      <td>1</td>\n",
       "      <td>1</td>\n",
       "      <td>1</td>\n",
       "      <td>1</td>\n",
       "      <td>1</td>\n",
       "      <td>1</td>\n",
       "    </tr>\n",
       "    <tr>\n",
       "      <th>8</th>\n",
       "      <td>1</td>\n",
       "      <td>1</td>\n",
       "      <td>1</td>\n",
       "      <td>1</td>\n",
       "      <td>1</td>\n",
       "      <td>1</td>\n",
       "      <td>1</td>\n",
       "      <td>1</td>\n",
       "    </tr>\n",
       "  </tbody>\n",
       "</table>\n",
       "</div>"
      ],
      "text/plain": [
       "                PC1  PC2  PC3  PC4  PC5  completeCluster  wardCluster  \\\n",
       "averageCluster                                                          \n",
       "1                25   25   25   25   25               25           25   \n",
       "2               109  109  109  109  109              109          109   \n",
       "3               168  168  168  168  168              168          168   \n",
       "4                74   74   74   74   74               74           74   \n",
       "5                 2    2    2    2    2                2            2   \n",
       "6                17   17   17   17   17               17           17   \n",
       "7                 1    1    1    1    1                1            1   \n",
       "8                 1    1    1    1    1                1            1   \n",
       "\n",
       "                singleCluster  \n",
       "averageCluster                 \n",
       "1                          25  \n",
       "2                         109  \n",
       "3                         168  \n",
       "4                          74  \n",
       "5                           2  \n",
       "6                          17  \n",
       "7                           1  \n",
       "8                           1  "
      ]
     },
     "execution_count": 410,
     "metadata": {},
     "output_type": "execute_result"
    }
   ],
   "source": [
    "pcaDataScaled['averageCluster'] = create_cluster(avgLinkage,3.5)\n",
    "pcaDataScaled.groupby('averageCluster').count()"
   ]
  },
  {
   "cell_type": "code",
   "execution_count": 411,
   "metadata": {},
   "outputs": [
    {
     "data": {
      "image/png": "[encoded data removed]",
      "text/plain": [
       "<Figure size 720x720 with 1 Axes>"
      ]
     },
     "metadata": {
      "needs_background": "light"
     },
     "output_type": "display_data"
    }
   ],
   "source": [
    "\n",
    "fig = plt.figure(figsize = (10,10))\n",
    "ax = fig.add_subplot(111, projection='3d')\n",
    "for i in pcaDataScaled['wardCluster']:\n",
    "    x = np.array(pcaDataScaled[pcaDataScaled['wardCluster'] == i]['PC1'])\n",
    "    y = np.array(pcaDataScaled[pcaDataScaled['wardCluster'] == i]['PC2'])\n",
    "    z = np.array(pcaDataScaled[pcaDataScaled['wardCluster'] == i]['PC3'])\n",
    "    ax.scatter(x, y, z, marker = 'o', s = 40)\n",
    "plt.title('Scatterplot of Clusters')\n",
    "ax.set_xlabel('PC1')\n",
    "ax.set_ylabel('PC2')\n",
    "ax.set_zlabel('PC3')\n",
    "ax.legend([1,2,3,4,5,6,7,8])\n",
    "plt.show()"
   ]
  },
  {
   "cell_type": "code",
   "execution_count": 412,
   "metadata": {},
   "outputs": [
    {
     "data": {
      "application/vnd.plotly.v1+json": {
       "config": {
        "plotlyServerURL": "https://plot.ly"
       },
       "data": [
        {
         "hovertemplate": "PC1=%{x}<br>PC2=%{y}<br>PC3=%{z}<br>wardCluster=%{marker.color}<extra></extra>",
         "legendgroup": "",
         "marker": {
          "color": [
           7,
           7,
           7,
           1,
           1,
           7,
           7,
           1,
           1,
           7,
           7,
           7,
           1,
           7,
           7,
           7,
           1,
           1,
           1,
           4,
           7,
           7,
           1,
           7,
           7,
           1,
           1,
           7,
           4,
           3,
           1,
           7,
           3,
           1,
           3,
           3,
           4,
           7,
           4,
           1,
           1,
           7,
           5,
           3,
           4,
           3,
           4,
           1,
           7,
           3,
           7,
           4,
           7,
           1,
           4,
           4,
           7,
           7,
           3,
           4,
           4,
           3,
           3,
           4,
           4,
           1,
           4,
           4,
           7,
           4,
           3,
           4,
           3,
           4,
           4,
           3,
           3,
           9,
           4,
           3,
           4,
           4,
           8,
           4,
           3,
           4,
           8,
           3,
           2,
           3,
           4,
           1,
           9,
           4,
           8,
           3,
           4,
           5,
           9,
           6,
           4,
           4,
           4,
           9,
           4,
           4,
           5,
           4,
           8,
           6,
           3,
           5,
           5,
           4,
           5,
           6,
           3,
           3,
           4,
           4,
           9,
           6,
           8,
           4,
           4,
           5,
           4,
           2,
           4,
           6,
           4,
           4,
           9,
           4,
           4,
           5,
           4,
           3,
           3,
           9,
           4,
           9,
           4,
           6,
           9,
           1,
           9,
           2,
           5,
           2,
           4,
           4,
           8,
           9,
           8,
           6,
           6,
           5,
           4,
           9,
           5,
           9,
           6,
           4,
           6,
           2,
           6,
           6,
           6,
           6,
           4,
           8,
           4,
           3,
           2,
           9,
           3,
           9,
           6,
           6,
           4,
           6,
           9,
           6,
           6,
           9,
           4,
           4,
           6,
           6,
           9,
           9,
           6,
           6,
           4,
           3,
           9,
           6,
           6,
           4,
           4,
           6,
           6,
           6,
           8,
           8,
           9,
           9,
           5,
           5,
           9,
           4,
           4,
           5,
           4,
           6,
           4,
           2,
           3,
           8,
           8,
           3,
           6,
           6,
           2,
           6,
           2,
           8,
           6,
           3,
           6,
           6,
           8,
           5,
           6,
           8,
           2,
           9,
           4,
           2,
           4,
           2,
           8,
           6,
           6,
           3,
           6,
           2,
           4,
           2,
           9,
           8,
           6,
           8,
           4,
           6,
           2,
           9,
           8,
           6,
           2,
           4,
           8,
           6,
           9,
           9,
           6,
           4,
           6,
           8,
           8,
           6,
           3,
           9,
           8,
           6,
           3,
           8,
           6,
           9,
           9,
           9,
           4,
           9,
           6,
           4,
           3,
           2,
           2,
           9,
           2,
           5,
           9,
           2,
           4,
           4,
           8,
           5,
           6,
           6,
           9,
           2,
           6,
           3,
           6,
           9,
           4,
           2,
           9,
           4,
           8,
           3,
           9,
           6,
           8,
           9,
           9,
           9,
           3,
           9,
           8,
           2,
           9,
           8,
           6,
           9,
           9,
           9,
           6,
           6,
           8,
           4,
           6,
           2,
           8,
           9,
           4,
           3,
           6,
           9,
           4,
           9,
           6,
           9,
           6,
           9,
           8,
           4,
           8,
           4,
           8,
           3,
           3,
           8,
           9,
           8,
           9,
           2,
           9,
           9,
           2,
           9,
           6,
           6,
           6,
           8,
           6,
           6,
           9,
           8,
           2,
           6,
           9,
           3,
           9,
           3,
           6,
           9,
           6,
           9,
           9,
           3,
           2,
           9,
           9,
           2,
           9,
           3,
           9,
           3,
           9,
           6,
           6,
           2,
           9,
           9,
           8
          ],
          "coloraxis": "coloraxis",
          "symbol": "circle"
         },
         "mode": "markers",
         "name": "",
         "scene": "scene",
         "showlegend": false,
         "type": "scatter3d",
         "x": [
          -1.7963735836754782,
          -0.9614252910222166,
          -2.0444733407008466,
          1.4542584629897133,
          0.05745877552088843,
          -1.5491148281107996,
          -1.1875037091916136,
          0.6326368767236309,
          -0.6638431371372083,
          -1.2881440623547955,
          -0.9937375407268686,
          -1.7482581205419214,
          0.6501203365107836,
          -1.1580578475333236,
          -2.5110687028192022,
          -1.8779153319499584,
          -0.8664223391435897,
          -0.9646856075632235,
          1.0047508676870918,
          -0.573945463160419,
          -1.9774539392988972,
          -1.091744483758809,
          -0.45929766266497973,
          -1.1527014586009412,
          -1.7703283019803058,
          0.5518523604543821,
          -1.1246627313000443,
          -1.4809212068351663,
          -0.3155349928770499,
          -1.4783534408619696,
          1.0892162526137101,
          -1.3826411413207225,
          -0.7539111288737786,
          -0.2744333518224423,
          -1.3441939181361222,
          -1.4616785561723595,
          1.1331527463520732,
          -1.3454177775719551,
          -1.2146642710293036,
          -0.9832939808936672,
          1.0068393256536587,
          -1.1680902552298684,
          1.1418077000848923,
          -1.15500608627314,
          -0.5982931959660879,
          -1.8374934698209564,
          -0.5055713111595905,
          -0.31482823912601793,
          -0.6856172670315163,
          -1.6664460199481748,
          -1.3132762795938955,
          0.5688575766604995,
          -1.2627181608723195,
          0.8237310510676557,
          -0.7019692458299445,
          -0.1710999069616461,
          -1.0075993916488293,
          -1.0647197004620437,
          -1.0501896077850565,
          1.2447404807275508,
          -0.46228641486934335,
          -1.7123350612246462,
          -1.4615240711763182,
          -0.5752340746123156,
          -0.695239216752857,
          1.9287732719887278,
          -0.4283197670304498,
          -0.3237360577004926,
          -1.1742798991244285,
          -0.9489319034479122,
          -2.122083362721238,
          -1.0306468763651497,
          -1.8222378917271385,
          -0.10021085050535702,
          0.02373489083129489,
          -1.1332675826102627,
          -0.9665341681013486,
          -0.6859774112775824,
          0.4686083695146978,
          -1.4913813321680203,
          -0.8434595069391507,
          -0.6792258253055117,
          2.507234175046226,
          -0.868575320399054,
          -1.3032349346423362,
          0.039363344092887664,
          2.08855208088293,
          -1.62277170434906,
          -1.2331098400959084,
          -0.9669942536462025,
          -0.7923686585972016,
          2.0445413809661566,
          1.2196916419948176,
          1.144921767734674,
          2.5184551134333972,
          -0.36446306312382526,
          1.7963483195339511,
          0.3558138462754347,
          1.2448194313908114,
          -0.3682349239448147,
          -0.5701130141396393,
          0.5156989878853836,
          0.14427833925665343,
          1.2765731189569538,
          0.6305111543325131,
          0.3102922040020715,
          0.7527714633524751,
          0.44193790690228507,
          1.7204915022680027,
          -0.13773290592943302,
          -0.9844399064690058,
          0.11514734623077132,
          -0.04918482255871858,
          -0.07105816399197085,
          0.2994694074752444,
          -0.7551197434887287,
          -0.7966832126048987,
          -1.5569308806534599,
          -0.9144518075168506,
          0.584203682377638,
          -0.6617689199440967,
          0.0865095894953964,
          2.0948575015816493,
          0.35043535684564386,
          0.23156902804079493,
          -0.6788055097272272,
          -0.4522577173454014,
          -0.9977247288922605,
          1.4251240734348853,
          -1.1362960965267321,
          -0.29615156704508955,
          0.25029725193734975,
          1.2639423565880705,
          -0.04934902613249304,
          -1.0658254916325545,
          0.3685584314193623,
          -0.6858827033727491,
          0.7409671774950181,
          -1.5165385239407063,
          -0.699681461754999,
          -0.7238119045548457,
          -0.5823112917395656,
          0.23127535671202723,
          -0.27174459381660776,
          1.4737508037650977,
          1.3508344760535675,
          0.9117888257371097,
          -1.1089791477328004,
          0.10574098346020161,
          -1.1416509800113779,
          0.386998326366948,
          -0.05221826028015521,
          1.611593925172859,
          1.329533757200374,
          2.026510445245122,
          -0.4322237859468931,
          -0.7068201671759808,
          1.1750899138502169,
          -0.6115132733836808,
          0.2361801466081784,
          0.1489169810036659,
          -0.3879185932011942,
          -0.6216334098678589,
          0.5936335785588499,
          -1.309724028802672,
          -0.9797900748931332,
          -0.7528861526779176,
          -0.821124559661832,
          -0.325733285415181,
          -0.4930853948415193,
          -0.5715692171081863,
          1.4911146407245564,
          0.9081224481020711,
          -1.1150692454471296,
          -1.1120138804184434,
          -0.4435972745954998,
          -1.145201077564115,
          -0.2988864090324418,
          -0.08953630798852302,
          -0.46097036746553305,
          -0.6564931916511667,
          0.061594012327841854,
          -0.14089631503717429,
          -0.5878320085117268,
          0.6010227421580898,
          0.027079898248714,
          1.1909563374201797,
          0.003419344894017897,
          -0.6590439766843217,
          -0.2371418775064579,
          0.5415386221748522,
          -0.055610890452149654,
          -0.2237308827301043,
          0.1344594414343229,
          1.4014613218126475,
          0.4370443227308422,
          0.9872683708285583,
          -0.5642862782651699,
          0.04437822222299281,
          0.2444219464174653,
          0.5386336838939343,
          -0.40849808359567236,
          -0.5351968597038099,
          -0.631789085472963,
          1.6986910247317195,
          1.9603771373829255,
          -0.3393279107566091,
          -0.5876143999806778,
          0.6318233288362941,
          0.7033857614092508,
          -0.35716875243564683,
          0.6362689030735179,
          -0.21767613810743403,
          0.7815596442539692,
          0.5908435392789392,
          -0.395368352969565,
          -0.6341399193922166,
          -0.6225392410035945,
          -1.4120957844180382,
          2.219300960083886,
          1.8434552489962124,
          -1.4527895486299194,
          0.1624635282755682,
          -0.6659324010245112,
          -1.132936865735123,
          0.06066938305257566,
          0.2563008020153515,
          1.8757317505042879,
          -0.5801294533597025,
          -0.812547133815135,
          -0.11538077822484848,
          -0.04919407382767244,
          2.22848730144525,
          0.8026486877401158,
          0.02653526100148947,
          1.9482528120537965,
          -0.6923627653624426,
          1.499775064603757,
          -0.12432530724159979,
          -1.0004682750593006,
          1.7334664513230769,
          -0.6395562855786389,
          1.7818144312024535,
          -0.0000049307579726692194,
          -0.7466058337749074,
          -0.8450103697637166,
          -0.05743704044202437,
          -1.412953083642472,
          -0.10201513564838742,
          -1.3742229752722415,
          0.08740759204779351,
          1.7090059477549964,
          -0.3160139214511527,
          1.571520709289712,
          -0.01280291624224134,
          -0.6439270366586942,
          -1.269774616230538,
          1.3599962830838694,
          2.028536538216364,
          -0.8478555827619029,
          -0.6317993794284975,
          0.589855022441841,
          1.5707616961874797,
          0.23865229260320756,
          0.8600621824479505,
          -0.22802488853173514,
          -0.7499495780310247,
          1.1014256037048347,
          0.049278467060917736,
          1.9632410686591966,
          1.8443548199525606,
          0.2650034016269093,
          -0.19221858468612762,
          -0.06742085422053073,
          2.216354736554783,
          0.21150599116264746,
          -0.28123942459353063,
          2.009895324500455,
          0.061950055122686025,
          -0.2528187422608767,
          0.8504565436972507,
          0.1948887799830279,
          0.6989686901432467,
          0.6645374364363333,
          0.14478544324146483,
          0.4613876044706857,
          -1.2981425432601188,
          -0.9602858089048071,
          -0.9988165782815163,
          -0.6390512886687936,
          -0.744859162231939,
          0.4561568848800055,
          0.49988962407944065,
          -0.8070693040247149,
          1.5846501783058478,
          0.9743487856421341,
          1.7229070820006593,
          0.749029264656113,
          -0.4610441526077905,
          -0.1311280343894534,
          0.31423551730960675,
          -0.8029938594719678,
          -0.2391717837757328,
          -0.5192148524839344,
          -0.03180899424281925,
          -0.83073703445955,
          0.46687644559895897,
          -1.2578787729312233,
          1.043650026839259,
          1.0879865781400602,
          0.8741793149544611,
          -1.2110120968912463,
          -0.07438798563968711,
          0.17940399161447407,
          1.2882979589513994,
          1.2509744453991685,
          0.04932187219670243,
          0.07370487469666348,
          0.10788841090045187,
          0.1642921766071238,
          1.8304742564249146,
          -1.7424036410610666,
          -0.9301532432539121,
          1.7939864212794867,
          0.28752231237425124,
          1.0605228922129992,
          -0.16503741684864387,
          -0.5647895459148413,
          0.06898709263019408,
          0.5368666293185874,
          1.8233014818443176,
          1.0219826623782258,
          -0.711940043672461,
          -1.1508771188358895,
          1.0770096870375185,
          1.3965056180354751,
          0.4069209162290973,
          1.3060874592928002,
          -0.5639483084552186,
          0.5817974144822732,
          1.4563022966161545,
          0.08663584501128006,
          0.321370604253403,
          0.6819008907564984,
          0.23177786986031415,
          0.40312617889626023,
          1.366264296922171,
          0.4148251738626624,
          1.3483876129610013,
          0.5976645017074963,
          1.7459152844717631,
          0.6091273191255089,
          -1.0856633356659893,
          1.5932007553161405,
          0.8334159924405065,
          1.7388503353100866,
          0.010870406076999866,
          -0.2737856540656284,
          -0.3352698640513451,
          0.9276380169532547,
          -0.9184002592625061,
          -0.47672125329702725,
          -0.24286727768929517,
          0.35976257587578764,
          0.20677623146481972,
          1.584436514084408,
          0.4739590375642776,
          0.16632750363843934,
          0.503691426255467,
          2.066047870025281,
          -0.24955170004995314,
          -0.006788028017255753,
          -0.021597693867914144,
          0.44627782034805985,
          -0.10051411849003357,
          -0.2639490125575621,
          0.2650939098739512,
          0.49396842823014186,
          0.1374360287801678,
          0.42698099012203855,
          0.8452334743626695,
          1.0021575829849252,
          -1.1838450734183388,
          0.21986241357142877,
          -0.005104679895361322,
          -0.660499488504544,
          0.07692049828977265,
          -0.01843858711654243,
          0.07526508792837287,
          0.18412279077800545,
          0.3185653967935029,
          0.1648075984465447,
          0.1272916210952544,
          -0.8980198091575405,
          0.2990145951319356,
          0.3861868881230292,
          1.2425469894201144
         ],
         "y": [
          1.6888384556032774,
          1.8908872036277302,
          2.020989542032436,
          3.9649148915864125,
          2.931892870364852,
          2.905345024048492,
          1.602980438424374,
          2.0092725415690262,
          2.2341692419823085,
          1.7779960214045871,
          1.8777692142788798,
          1.5589541657844503,
          3.5738198104065098,
          1.7173892483017001,
          1.809442844050396,
          1.5179174920731398,
          2.366129792142785,
          2.277505695497936,
          2.7837677621068657,
          1.2713796904782864,
          2.616983571475484,
          1.4177932634495773,
          2.638681683873516,
          1.4761690736002127,
          1.8578668122752102,
          2.2777662800129574,
          1.700834954892083,
          0.911345464982956,
          1.2161356820432625,
          2.6788228348313243,
          2.341212019928041,
          1.7290483562165355,
          2.360083696475195,
          1.888464761041009,
          1.05635811869982,
          1.111221751411933,
          1.427141108297057,
          1.2065322571290182,
          0.5239691380207346,
          1.2362112851216434,
          2.728918569931634,
          1.2130695266962914,
          1.4831945528623898,
          0.8216779767129445,
          1.0700235425305562,
          0.947927339325398,
          0.09044571227842248,
          1.4572163946315126,
          0.7346168443757468,
          0.6068855579386956,
          1.4174268976797384,
          0.512299567075092,
          0.8405575270068172,
          2.1305212187046516,
          0.3364471288276511,
          0.9159438936192618,
          0.6553277473489292,
          0.16066307547064926,
          1.0809747992075514,
          1.192307840760397,
          0.6551839097280016,
          0.5614640304833751,
          1.1055436324060697,
          0.2586062126830202,
          0.5206660260412562,
          2.0056276202950896,
          0.6121365886095327,
          0.1612036208255298,
          0.7574777900533683,
          0.10868676324764709,
          1.523574020930644,
          0.1613483078043706,
          0.8096568868937852,
          0.9181098188532549,
          0.48101394360927036,
          0.8556870763543032,
          0.8338890927003805,
          0.006783942128991461,
          0.24150503375773114,
          0.8755308384944888,
          0.32635679428500136,
          -0.330661208736805,
          1.4244981818994626,
          0.19794589296890566,
          0.3556328814980872,
          0.6884243307022275,
          1.930030635249753,
          -0.020027262141771692,
          0.5325498847788146,
          0.16444413636103977,
          -0.10562040847197599,
          1.6253269795831378,
          0.7553303320748093,
          0.30845846295465806,
          1.7084766439588734,
          1.372503743579617,
          1.293052230641552,
          0.5251232280832046,
          0.35925972296069014,
          -0.33649071139914266,
          -0.09526823610131002,
          0.42554966153950313,
          0.33644571062921574,
          0.5295082363371602,
          0.136917470470827,
          -0.3333881309658413,
          0.7354194404788112,
          0.7027253606949926,
          1.1591987065356637,
          -0.1767773494186956,
          0.32566057136764126,
          0.1987280212018468,
          0.4576595097017377,
          0.2692623560304183,
          0.5687497644014309,
          -0.6314267869294247,
          0.7165275013285257,
          -0.06853859551120037,
          0.1188384985692043,
          0.6995877452065491,
          0.47010376217023747,
          -0.0899038075972419,
          1.270382638199154,
          0.15812436575065097,
          0.31856992501377945,
          0.14086315617284542,
          0.2019468293125082,
          0.11137229090456444,
          0.8001626816447053,
          -0.28158659922799617,
          0.3756562947526485,
          0.7475091645177605,
          0.49853306662308056,
          -0.17036049999098965,
          -0.1459917872726507,
          0.45028081644114065,
          -0.03659463012984798,
          0.9441528849390718,
          0.11400026303189825,
          -0.5230479746282596,
          -0.11329164012771006,
          -0.4552060285192456,
          0.10830106881860652,
          -0.9896153121765292,
          0.13428349142980717,
          1.1859848889973363,
          0.24506179942958659,
          -0.38546490397139255,
          0.023616516797845922,
          0.12053928919004868,
          0.40652902314508776,
          -0.3137129239849803,
          1.0100610583872618,
          0.22707865715986147,
          1.065574417500962,
          -0.8257053262836476,
          -0.7077044040525803,
          0.5201815480779681,
          -0.424046088246884,
          -0.02360883249417981,
          0.5773167142787969,
          -0.15422030597357306,
          -0.784943614389587,
          -0.15272193248583474,
          -0.8803994809501656,
          -0.31396263450141054,
          -0.22143335675168235,
          -0.8107420962252343,
          -0.5865932455517273,
          -0.3010295099433756,
          -0.4424720141630764,
          1.2780286899162243,
          -0.036872038118093566,
          0.12280783479760672,
          -0.3339453007154081,
          -0.11807386676227405,
          -0.3454224715739719,
          -0.10331015611379478,
          -0.2877631245018685,
          -1.1266126787807995,
          -0.6206084510903985,
          -0.3965546926661475,
          -0.7863346194515403,
          -0.7670261295582214,
          -0.5293809615094038,
          -0.4431601239078292,
          0.24372379765677213,
          -0.1373547720981615,
          -1.2459391843357095,
          -0.8931958082839137,
          -0.048246391480714454,
          -0.2772748963410549,
          -0.5415595235322002,
          -0.410039940322602,
          0.38518086953139363,
          0.41338987466117494,
          -0.19824951543550565,
          -0.9399215354285382,
          -0.13459838039775726,
          -0.32047081989610415,
          -0.4563469503671218,
          -0.9072101496119398,
          -0.9006059158133163,
          -0.43552402179782507,
          0.2605380773374701,
          0.7700247313408408,
          -0.7213444531279353,
          -0.0068611275345498565,
          0.1437913383020357,
          0.44821111355318805,
          -0.08879610758165433,
          -0.3489841517487698,
          -0.5734192288289125,
          0.12305218361651078,
          0.0933451106772148,
          -0.8482346348159743,
          -0.425445092569693,
          -0.48401933936153996,
          0.06318700859397232,
          0.6182952398878672,
          0.5101339777763402,
          -0.11062419620919457,
          -0.08330355931947192,
          -0.9606541478933923,
          -0.3582703018432132,
          -0.5611644225517117,
          -0.003770950706630942,
          0.05495996278698005,
          -0.8960205290280401,
          -0.28417093393315657,
          -0.7530791756682708,
          -0.47256366775361275,
          0.5654026803043485,
          -0.41750401657887126,
          -0.49321358183477454,
          0.4586506895927462,
          -0.6778072369114424,
          -0.051030834694770946,
          -0.39927346191368523,
          -0.8611096865091407,
          0.3409214759815887,
          -0.9052348298921998,
          0.12935484767721653,
          -0.34084682398523164,
          -0.9193756003122285,
          -0.3487778720867898,
          -0.4901752293989356,
          -0.23156587038311174,
          -0.2997230203671295,
          -0.8191316951579323,
          -1.402466918684066,
          0.511061097079149,
          -0.7311948147752407,
          0.5370477199508646,
          -0.8390814078160255,
          -0.7432892840760391,
          -0.7460655477233896,
          -0.24117516360784239,
          0.4487710979926338,
          -1.598214000559663,
          -1.0891283131105882,
          -0.5262651426246122,
          0.20644173864660761,
          -0.3625402453298438,
          -0.6970509125388802,
          -0.8408071663912998,
          -0.9604832416085526,
          -0.03720220058995417,
          -0.4901698425946341,
          0.12479346891949014,
          0.28914073958012326,
          -0.6163519618897499,
          1.0674007142450246,
          -0.5820540053383684,
          0.18236576665362134,
          -0.7016746618799843,
          -0.3442394153901931,
          0.7726228384892179,
          -1.1124915511095859,
          -0.7997180959932882,
          -0.2955899733709405,
          -0.7816568717570764,
          -0.8734436810127183,
          -0.2138688611726208,
          -0.9851061527453384,
          -0.8659293391862166,
          -0.40431211531523786,
          -0.3035139590030971,
          -0.5622212113234488,
          -1.0296735221065925,
          -0.26464643525623144,
          -0.35375202158810964,
          -0.7571544459180987,
          -1.1044306047353556,
          -0.2200504469016631,
          -0.45682507947364265,
          -0.029778070947068445,
          -0.28799160397138907,
          -0.9385039442784014,
          -1.061998508836386,
          -0.48037629594247727,
          -1.029615017389099,
          -1.1006238038443323,
          -0.581670158856351,
          -1.2251152314668545,
          -1.001860092611868,
          -0.7149905547878697,
          -0.8214260115823938,
          -0.383190741702549,
          -0.6937449395506915,
          -0.4042320442259373,
          -0.8876552869990177,
          -1.5070724539629805,
          -0.9833107035079172,
          0.051722123922736375,
          -0.12839894410559266,
          -0.5859122148987136,
          -1.139139772060763,
          -0.4602624834000264,
          -1.6619415176212442,
          -0.28884715966252983,
          -1.1718635654430496,
          -0.6075028871038995,
          -0.14988544714925967,
          -1.030974476241885,
          -0.2996016400674128,
          -1.47101661184459,
          -0.4623459361381241,
          -1.0989028647871997,
          -0.8608662170739823,
          -0.12631643177614563,
          -0.8956519362130306,
          -1.4560007939724988,
          -0.4333238503728283,
          -0.46053490441572303,
          -0.29267581089552935,
          -0.8182471620006102,
          -0.12846449205183494,
          -1.3726263461360657,
          -0.9254352797564019,
          -0.38217419780919676,
          -1.2862872725911219,
          -0.7221226889142864,
          -0.8682769965053703,
          -0.9367934878453884,
          -1.0789447154715563,
          -0.6498211488520577,
          -1.1651587947472295,
          -0.1884083110529826,
          -0.9264430003991688,
          0.29965333025985724,
          -0.262419674883691,
          -1.1224646562039649,
          -0.3605589582556796,
          -0.9574446714127257,
          -0.5212956285880909,
          -1.1013667359845944,
          -0.9859230845423234,
          -1.3358809537747918,
          -0.7456324133930086,
          -1.1160801202197264,
          -1.3362182302785928,
          -1.3694221279813557,
          -1.2483478411243807,
          -1.291008055624977,
          -0.39238664705971255,
          -0.9654585143182001,
          -1.3768497378029785,
          -0.9482396198584432,
          -0.2836022919814547,
          -1.114177059899926,
          -1.1018477824853437,
          -1.6676509187638873,
          -0.45469253675163646,
          -1.0471916704479776,
          -0.9525285040507943,
          -1.220148162476276,
          -1.009342037763958,
          -1.2350527343541526,
          -1.270744119482941,
          -0.7958577318330544,
          -0.22259763008972494,
          -1.3446431699455457,
          -1.2960165265990233,
          -1.2906122815882557,
          -1.4745616498479626,
          -1.1158339483190456,
          -1.3846596140376402,
          -1.0619746447964968,
          -1.0130607347155034,
          -1.3689537770449312,
          -1.6295682212342717,
          -1.2761778291440333,
          -1.1115316155801693,
          -1.8034023726929191,
          -1.6911608683083368,
          -0.5101369333261342
         ],
         "z": [
          -1.400482463197503,
          -0.9590477301506172,
          -0.32209825409232246,
          -1.7418545251853874,
          0.8111770478462546,
          1.006958092393857,
          -0.9057153979130927,
          -0.098218882530998,
          -1.257294296228791,
          -0.2719919111673688,
          -0.7467298717367417,
          -0.05662464059630712,
          -0.07370477695164895,
          -0.5390964773775613,
          1.65303268762411,
          1.098491503904587,
          0.2062854474328544,
          -0.2924083397115641,
          -1.44166434543387,
          -1.1950497387660743,
          1.742217085419143,
          -0.28197870657347623,
          -0.5231505904583074,
          -0.8042952789528764,
          1.2056930241750856,
          -1.7728885493602273,
          -0.44081753007859265,
          -0.849642035695186,
          -1.3143899955928489,
          2.28095833267144,
          -0.48723304737686585,
          0.9415365435969991,
          1.6589965524639094,
          0.06284498868094565,
          -0.24993904298469993,
          -0.10682213456609076,
          -1.225099483459253,
          0.5757364325210876,
          -0.8690657100265663,
          -0.47859660121300884,
          0.31823457494311796,
          0.28521821683709964,
          -1.9017514881685427,
          0.1919919937518182,
          -0.8607551613223869,
          0.5298596488355735,
          -2.0449086392492433,
          -0.5512497787142938,
          -0.5370676295812367,
          0.277719905630179,
          1.3172062251281953,
          -2.2621396655255714,
          -0.2604503156087641,
          -0.060416033034367385,
          -1.4797563172309667,
          -0.9840950441479077,
          -0.7458715034589584,
          -0.5287936471283987,
          0.8676288100279816,
          -1.478416736997058,
          -0.7569691163577151,
          0.6784632922302168,
          0.5063304059752435,
          -0.9280945628129422,
          -1.2082712708751828,
          -0.638927491907249,
          -1.9486242120219484,
          -2.1451716322555443,
          0.9206166746516101,
          -1.431739787350651,
          1.4706277936277008,
          -1.0662248942968724,
          0.5523094232482415,
          -0.676450124604845,
          -0.8511762443811955,
          1.037330927236015,
          1.0199710179741666,
          -0.9871948199863018,
          -1.1207347572328246,
          1.2722967821798365,
          -0.35173951114554325,
          -1.638900372081455,
          1.2763067075987118,
          -0.2507823491418181,
          -0.02469603999925692,
          -1.2067410960937683,
          1.7466148275951026,
          -0.2634976999601294,
          0.7007402108685599,
          -0.13760544521132134,
          -0.7818494042343404,
          -0.07463581922612014,
          -0.9236592560316189,
          -0.5726317097873193,
          0.8339729956478957,
          1.7380634773683414,
          -0.6574730601141529,
          -0.40436001016664985,
          -0.8582612075536331,
          -2.1528804119856066,
          -0.5462898642639284,
          -0.9962573804634641,
          -0.29132399572028245,
          -1.319639907524725,
          -1.8961520531323335,
          -1.9372650746187776,
          -1.8048069751705191,
          -0.6239730444265044,
          0.3623716502056796,
          -1.2534435982791086,
          0.2934167672340535,
          -1.9973672648146845,
          -1.6057168825346042,
          -0.08837503958527843,
          -2.027336094960962,
          -2.0114702612641686,
          0.7360349186995736,
          0.6494178677788174,
          0.2365816264587482,
          -0.5630858960603101,
          0.8341259145545322,
          -0.7790830873215264,
          0.2586466685594053,
          -0.6294288197048424,
          -0.6387442421751741,
          -0.5215926733407928,
          -0.37752238206906685,
          0.3924622332478052,
          -1.3483014800339437,
          -1.1869968772536896,
          0.0279652117804057,
          0.22029635446533688,
          -1.7886330911326778,
          -1.8919261325440384,
          0.1310794108321685,
          -0.9695025258810316,
          -0.03724674772847131,
          1.3871789021905714,
          0.11592774023578223,
          -0.9557343658837073,
          -0.4195448960066779,
          -0.8483201282127355,
          0.06732132176277558,
          -2.039333840043526,
          -0.5203375536537201,
          0.31548423980398216,
          -0.9163065891982242,
          0.1565255545790157,
          -0.9341390662045159,
          0.5950769591280748,
          0.26750350582039745,
          -0.6357978615594989,
          0.07133020873837374,
          -0.704911808789461,
          0.48323022581711106,
          -1.1517034339072176,
          -0.6603879640679395,
          -0.5833079749804028,
          0.011522530302023192,
          -1.5146786509580723,
          -0.2546855044774359,
          -0.24684120728101255,
          -1.781585902097094,
          -1.3382636543715838,
          -0.7655073881256258,
          0.1461819530139813,
          -0.08921276237505105,
          -0.6107878591436128,
          -1.2213786745100108,
          0.0703786225058873,
          0.01478663053753353,
          2.208109885699886,
          0.050363341810780754,
          1.3579486578702853,
          0.37241377146699883,
          1.3067606945899453,
          1.0931158907770122,
          -0.5856246454855055,
          -1.041644270269393,
          -1.5045881944985091,
          0.189433928105017,
          -0.7564662741413295,
          -1.1273730973311944,
          -0.8100988847960265,
          -1.5769767618535115,
          -0.5442174172665645,
          -0.5627215917851163,
          -0.21540147235574789,
          -1.3794088721049165,
          -1.0754670866771874,
          -0.32702399623314715,
          -0.7741196587733811,
          -1.0283774727773003,
          -0.7059554971597084,
          0.8827755873258535,
          0.5705842334492022,
          -0.5409372645063352,
          -1.2584191110010967,
          -0.23076572143992688,
          -0.5326110871900989,
          -0.2855421871309435,
          -1.0435453874758094,
          -0.9570287308374075,
          0.2531156398547975,
          -0.03412374147202243,
          0.40315022756463564,
          -0.3838541255180111,
          1.065610118854768,
          -0.15921525924528981,
          -0.12427189099746809,
          1.6300161479054605,
          0.5971109082778485,
          -0.11598513148148486,
          -0.5503803433815829,
          0.5210549751735692,
          -0.5072546859327957,
          -0.13808681286306215,
          0.4880408251598762,
          2.7682042234295112,
          0.5811167712605007,
          1.735878334967588,
          1.511368180798908,
          -0.6645816485009937,
          -0.35981969859935886,
          0.7236763075159939,
          -0.6485798576483324,
          1.583458708674639,
          2.050056047704443,
          -0.8250871579689809,
          1.2870206403736584,
          -0.7629977668546134,
          0.20189322202762003,
          0.5014662875352596,
          -0.6417046564082167,
          -0.46075165095127035,
          1.9207858518509522,
          0.5851878225923688,
          -0.3459579846786447,
          0.3491721204314441,
          0.5360629100857515,
          0.19695451757472263,
          -0.3914019112631105,
          0.8971803557527348,
          0.18655854168545158,
          0.13820802490654255,
          1.2841999876001038,
          0.3040875932183392,
          1.7821528474405544,
          0.3910265959645816,
          0.7016545486501127,
          -1.2600813410990404,
          1.5906673894514958,
          -0.35121442640961115,
          1.9864269004357538,
          -0.5339873283551706,
          0.32964086251289465,
          1.5477807418164602,
          -0.44494723506543,
          1.6819555899352485,
          -0.5397317201272159,
          -0.1183870252137755,
          -0.12138212088543676,
          0.6153968792666981,
          0.36872076822841393,
          -0.9077787408829778,
          -0.48940821846518273,
          -0.1653322786756566,
          0.6025203774776253,
          -0.1009364550570196,
          1.1304258233392062,
          0.712180650768475,
          -1.0499195857325876,
          1.9351114647797545,
          0.24397809681269003,
          0.9004902878103833,
          -0.21812448188177436,
          -0.007817529558894091,
          0.9898179277311822,
          -1.4845885333172126,
          0.4997676120223551,
          -0.5597656488598641,
          0.8822532044658377,
          -0.12766546892441716,
          -0.30186988009593024,
          -0.6590893683662195,
          -0.45023642488016463,
          2.018278362242828,
          1.095171172613271,
          1.6735873175653995,
          0.36967314836109577,
          1.8700655769602998,
          -0.40720978229704174,
          -0.688878995027982,
          0.06259934693786197,
          0.8342449910024136,
          0.22064662290388,
          0.18000919428782927,
          -0.006457046817478006,
          -0.12167466496518461,
          -0.6823307519069596,
          0.18836139362978677,
          0.7357112761051209,
          -0.31864678920713574,
          0.9694748020842792,
          -0.5645608785931412,
          0.7932416379449145,
          -0.6545388287043928,
          1.579411345336938,
          -0.3714302057233768,
          0.119898284286112,
          1.51218695065948,
          0.9942813274950923,
          -1.1834301870268544,
          -0.41793117521390755,
          0.28963647626575534,
          -0.8312555716638129,
          1.3740302337666532,
          -0.1215484893352996,
          0.5104212713069061,
          -1.665617792731091,
          1.8003068307209322,
          1.6233593771262027,
          1.7075111239225038,
          1.299252002601944,
          -0.40165331132706855,
          -0.03739006423714238,
          -1.742089502884333,
          1.2916500861244338,
          -0.5077265155731621,
          0.01494043229765947,
          1.4131864104885263,
          0.42508818331377457,
          0.013984317924920686,
          2.1026644664094407,
          1.5578974018065155,
          0.32927556903275307,
          0.1554318862307089,
          1.030106408372116,
          -0.9586117148836847,
          0.32622315049395634,
          0.9121423792275998,
          -0.49008262141470105,
          -0.19640380037677524,
          -0.23602437111703586,
          0.07846830497694258,
          -0.9263632951769586,
          0.23649193458378048,
          -0.43316233427118794,
          0.870777053258993,
          -0.15981838680020374,
          1.7356099201367279,
          0.49294468862339347,
          1.4947768670953978,
          2.0914414605146745,
          -0.6040251795041839,
          1.5406712383405607,
          0.6937471732754321,
          0.9228152062941342,
          0.8531817272996323,
          0.19297474431693032,
          1.3170182530402383,
          0.3571632215568688,
          -0.24045829530310972,
          -0.4284916287902177,
          0.044919262972969665,
          0.4973592509034459,
          -0.06702336948412053,
          -0.7065366179046694,
          -0.4695403390779457,
          1.2603267544126628,
          0.9024693001243166,
          -0.06239794425605237,
          0.2906464375725915,
          1.4981703368037798,
          0.707177151700082,
          1.0367731418554456,
          -0.10788073613685796,
          -0.5924409738733832,
          0.08449051492075467,
          -0.6987007926526474,
          0.4407279934587342,
          1.476259784191693,
          1.8346924581242832,
          -0.4460034643947732,
          1.070832304970226,
          1.6521419967407827,
          1.3214573518529253,
          0.5197372984870064,
          0.7294419064694805,
          0.2125380185279158,
          0.5703531229062256,
          0.45496857473828617,
          0.7615605546506529,
          2.41036286567577,
          0.7110365276114426,
          0.5639269143860856,
          3.025291443235136
         ]
        }
       ],
       "layout": {
        "coloraxis": {
         "colorbar": {
          "title": {
           "text": "wardCluster"
          }
         },
         "colorscale": [
          [
           0,
           "#0d0887"
          ],
          [
           0.1111111111111111,
           "#46039f"
          ],
          [
           0.2222222222222222,
           "#7201a8"
          ],
          [
           0.3333333333333333,
           "#9c179e"
          ],
          [
           0.4444444444444444,
           "#bd3786"
          ],
          [
           0.5555555555555556,
           "#d8576b"
          ],
          [
           0.6666666666666666,
           "#ed7953"
          ],
          [
           0.7777777777777778,
           "#fb9f3a"
          ],
          [
           0.8888888888888888,
           "#fdca26"
          ],
          [
           1,
           "#f0f921"
          ]
         ]
        },
        "legend": {
         "tracegroupgap": 0
        },
        "margin": {
         "t": 60
        },
        "scene": {
         "domain": {
          "x": [
           0,
           1
          ],
          "y": [
           0,
           1
          ]
         },
         "xaxis": {
          "title": {
           "text": "PC1"
          }
         },
         "yaxis": {
          "title": {
           "text": "PC2"
          }
         },
         "zaxis": {
          "title": {
           "text": "PC3"
          }
         }
        },
        "template": {
         "data": {
          "bar": [
           {
            "error_x": {
             "color": "#2a3f5f"
            },
            "error_y": {
             "color": "#2a3f5f"
            },
            "marker": {
             "line": {
              "color": "#E5ECF6",
              "width": 0.5
             },
             "pattern": {
              "fillmode": "overlay",
              "size": 10,
              "solidity": 0.2
             }
            },
            "type": "bar"
           }
          ],
          "barpolar": [
           {
            "marker": {
             "line": {
              "color": "#E5ECF6",
              "width": 0.5
             },
             "pattern": {
              "fillmode": "overlay",
              "size": 10,
              "solidity": 0.2
             }
            },
            "type": "barpolar"
           }
          ],
          "carpet": [
           {
            "aaxis": {
             "endlinecolor": "#2a3f5f",
             "gridcolor": "white",
             "linecolor": "white",
             "minorgridcolor": "white",
             "startlinecolor": "#2a3f5f"
            },
            "baxis": {
             "endlinecolor": "#2a3f5f",
             "gridcolor": "white",
             "linecolor": "white",
             "minorgridcolor": "white",
             "startlinecolor": "#2a3f5f"
            },
            "type": "carpet"
           }
          ],
          "choropleth": [
           {
            "colorbar": {
             "outlinewidth": 0,
             "ticks": ""
            },
            "type": "choropleth"
           }
          ],
          "contour": [
           {
            "colorbar": {
             "outlinewidth": 0,
             "ticks": ""
            },
            "colorscale": [
             [
              0,
              "#0d0887"
             ],
             [
              0.1111111111111111,
              "#46039f"
             ],
             [
              0.2222222222222222,
              "#7201a8"
             ],
             [
              0.3333333333333333,
              "#9c179e"
             ],
             [
              0.4444444444444444,
              "#bd3786"
             ],
             [
              0.5555555555555556,
              "#d8576b"
             ],
             [
              0.6666666666666666,
              "#ed7953"
             ],
             [
              0.7777777777777778,
              "#fb9f3a"
             ],
             [
              0.8888888888888888,
              "#fdca26"
             ],
             [
              1,
              "#f0f921"
             ]
            ],
            "type": "contour"
           }
          ],
          "contourcarpet": [
           {
            "colorbar": {
             "outlinewidth": 0,
             "ticks": ""
            },
            "type": "contourcarpet"
           }
          ],
          "heatmap": [
           {
            "colorbar": {
             "outlinewidth": 0,
             "ticks": ""
            },
            "colorscale": [
             [
              0,
              "#0d0887"
             ],
             [
              0.1111111111111111,
              "#46039f"
             ],
             [
              0.2222222222222222,
              "#7201a8"
             ],
             [
              0.3333333333333333,
              "#9c179e"
             ],
             [
              0.4444444444444444,
              "#bd3786"
             ],
             [
              0.5555555555555556,
              "#d8576b"
             ],
             [
              0.6666666666666666,
              "#ed7953"
             ],
             [
              0.7777777777777778,
              "#fb9f3a"
             ],
             [
              0.8888888888888888,
              "#fdca26"
             ],
             [
              1,
              "#f0f921"
             ]
            ],
            "type": "heatmap"
           }
          ],
          "heatmapgl": [
           {
            "colorbar": {
             "outlinewidth": 0,
             "ticks": ""
            },
            "colorscale": [
             [
              0,
              "#0d0887"
             ],
             [
              0.1111111111111111,
              "#46039f"
             ],
             [
              0.2222222222222222,
              "#7201a8"
             ],
             [
              0.3333333333333333,
              "#9c179e"
             ],
             [
              0.4444444444444444,
              "#bd3786"
             ],
             [
              0.5555555555555556,
              "#d8576b"
             ],
             [
              0.6666666666666666,
              "#ed7953"
             ],
             [
              0.7777777777777778,
              "#fb9f3a"
             ],
             [
              0.8888888888888888,
              "#fdca26"
             ],
             [
              1,
              "#f0f921"
             ]
            ],
            "type": "heatmapgl"
           }
          ],
          "histogram": [
           {
            "marker": {
             "pattern": {
              "fillmode": "overlay",
              "size": 10,
              "solidity": 0.2
             }
            },
            "type": "histogram"
           }
          ],
          "histogram2d": [
           {
            "colorbar": {
             "outlinewidth": 0,
             "ticks": ""
            },
            "colorscale": [
             [
              0,
              "#0d0887"
             ],
             [
              0.1111111111111111,
              "#46039f"
             ],
             [
              0.2222222222222222,
              "#7201a8"
             ],
             [
              0.3333333333333333,
              "#9c179e"
             ],
             [
              0.4444444444444444,
              "#bd3786"
             ],
             [
              0.5555555555555556,
              "#d8576b"
             ],
             [
              0.6666666666666666,
              "#ed7953"
             ],
             [
              0.7777777777777778,
              "#fb9f3a"
             ],
             [
              0.8888888888888888,
              "#fdca26"
             ],
             [
              1,
              "#f0f921"
             ]
            ],
            "type": "histogram2d"
           }
          ],
          "histogram2dcontour": [
           {
            "colorbar": {
             "outlinewidth": 0,
             "ticks": ""
            },
            "colorscale": [
             [
              0,
              "#0d0887"
             ],
             [
              0.1111111111111111,
              "#46039f"
             ],
             [
              0.2222222222222222,
              "#7201a8"
             ],
             [
              0.3333333333333333,
              "#9c179e"
             ],
             [
              0.4444444444444444,
              "#bd3786"
             ],
             [
              0.5555555555555556,
              "#d8576b"
             ],
             [
              0.6666666666666666,
              "#ed7953"
             ],
             [
              0.7777777777777778,
              "#fb9f3a"
             ],
             [
              0.8888888888888888,
              "#fdca26"
             ],
             [
              1,
              "#f0f921"
             ]
            ],
            "type": "histogram2dcontour"
           }
          ],
          "mesh3d": [
           {
            "colorbar": {
             "outlinewidth": 0,
             "ticks": ""
            },
            "type": "mesh3d"
           }
          ],
          "parcoords": [
           {
            "line": {
             "colorbar": {
              "outlinewidth": 0,
              "ticks": ""
             }
            },
            "type": "parcoords"
           }
          ],
          "pie": [
           {
            "automargin": true,
            "type": "pie"
           }
          ],
          "scatter": [
           {
            "fillpattern": {
             "fillmode": "overlay",
             "size": 10,
             "solidity": 0.2
            },
            "type": "scatter"
           }
          ],
          "scatter3d": [
           {
            "line": {
             "colorbar": {
              "outlinewidth": 0,
              "ticks": ""
             }
            },
            "marker": {
             "colorbar": {
              "outlinewidth": 0,
              "ticks": ""
             }
            },
            "type": "scatter3d"
           }
          ],
          "scattercarpet": [
           {
            "marker": {
             "colorbar": {
              "outlinewidth": 0,
              "ticks": ""
             }
            },
            "type": "scattercarpet"
           }
          ],
          "scattergeo": [
           {
            "marker": {
             "colorbar": {
              "outlinewidth": 0,
              "ticks": ""
             }
            },
            "type": "scattergeo"
           }
          ],
          "scattergl": [
           {
            "marker": {
             "colorbar": {
              "outlinewidth": 0,
              "ticks": ""
             }
            },
            "type": "scattergl"
           }
          ],
          "scattermapbox": [
           {
            "marker": {
             "colorbar": {
              "outlinewidth": 0,
              "ticks": ""
             }
            },
            "type": "scattermapbox"
           }
          ],
          "scatterpolar": [
           {
            "marker": {
             "colorbar": {
              "outlinewidth": 0,
              "ticks": ""
             }
            },
            "type": "scatterpolar"
           }
          ],
          "scatterpolargl": [
           {
            "marker": {
             "colorbar": {
              "outlinewidth": 0,
              "ticks": ""
             }
            },
            "type": "scatterpolargl"
           }
          ],
          "scatterternary": [
           {
            "marker": {
             "colorbar": {
              "outlinewidth": 0,
              "ticks": ""
             }
            },
            "type": "scatterternary"
           }
          ],
          "surface": [
           {
            "colorbar": {
             "outlinewidth": 0,
             "ticks": ""
            },
            "colorscale": [
             [
              0,
              "#0d0887"
             ],
             [
              0.1111111111111111,
              "#46039f"
             ],
             [
              0.2222222222222222,
              "#7201a8"
             ],
             [
              0.3333333333333333,
              "#9c179e"
             ],
             [
              0.4444444444444444,
              "#bd3786"
             ],
             [
              0.5555555555555556,
              "#d8576b"
             ],
             [
              0.6666666666666666,
              "#ed7953"
             ],
             [
              0.7777777777777778,
              "#fb9f3a"
             ],
             [
              0.8888888888888888,
              "#fdca26"
             ],
             [
              1,
              "#f0f921"
             ]
            ],
            "type": "surface"
           }
          ],
          "table": [
           {
            "cells": {
             "fill": {
              "color": "#EBF0F8"
             },
             "line": {
              "color": "white"
             }
            },
            "header": {
             "fill": {
              "color": "#C8D4E3"
             },
             "line": {
              "color": "white"
             }
            },
            "type": "table"
           }
          ]
         },
         "layout": {
          "annotationdefaults": {
           "arrowcolor": "#2a3f5f",
           "arrowhead": 0,
           "arrowwidth": 1
          },
          "autotypenumbers": "strict",
          "coloraxis": {
           "colorbar": {
            "outlinewidth": 0,
            "ticks": ""
           }
          },
          "colorscale": {
           "diverging": [
            [
             0,
             "#8e0152"
            ],
            [
             0.1,
             "#c51b7d"
            ],
            [
             0.2,
             "#de77ae"
            ],
            [
             0.3,
             "#f1b6da"
            ],
            [
             0.4,
             "#fde0ef"
            ],
            [
             0.5,
             "#f7f7f7"
            ],
            [
             0.6,
             "#e6f5d0"
            ],
            [
             0.7,
             "#b8e186"
            ],
            [
             0.8,
             "#7fbc41"
            ],
            [
             0.9,
             "#4d9221"
            ],
            [
             1,
             "#276419"
            ]
           ],
           "sequential": [
            [
             0,
             "#0d0887"
            ],
            [
             0.1111111111111111,
             "#46039f"
            ],
            [
             0.2222222222222222,
             "#7201a8"
            ],
            [
             0.3333333333333333,
             "#9c179e"
            ],
            [
             0.4444444444444444,
             "#bd3786"
            ],
            [
             0.5555555555555556,
             "#d8576b"
            ],
            [
             0.6666666666666666,
             "#ed7953"
            ],
            [
             0.7777777777777778,
             "#fb9f3a"
            ],
            [
             0.8888888888888888,
             "#fdca26"
            ],
            [
             1,
             "#f0f921"
            ]
           ],
           "sequentialminus": [
            [
             0,
             "#0d0887"
            ],
            [
             0.1111111111111111,
             "#46039f"
            ],
            [
             0.2222222222222222,
             "#7201a8"
            ],
            [
             0.3333333333333333,
             "#9c179e"
            ],
            [
             0.4444444444444444,
             "#bd3786"
            ],
            [
             0.5555555555555556,
             "#d8576b"
            ],
            [
             0.6666666666666666,
             "#ed7953"
            ],
            [
             0.7777777777777778,
             "#fb9f3a"
            ],
            [
             0.8888888888888888,
             "#fdca26"
            ],
            [
             1,
             "#f0f921"
            ]
           ]
          },
          "colorway": [
           "#636efa",
           "#EF553B",
           "#00cc96",
           "#ab63fa",
           "#FFA15A",
           "#19d3f3",
           "#FF6692",
           "#B6E880",
           "#FF97FF",
           "#FECB52"
          ],
          "font": {
           "color": "#2a3f5f"
          },
          "geo": {
           "bgcolor": "white",
           "lakecolor": "white",
           "landcolor": "#E5ECF6",
           "showlakes": true,
           "showland": true,
           "subunitcolor": "white"
          },
          "hoverlabel": {
           "align": "left"
          },
          "hovermode": "closest",
          "mapbox": {
           "style": "light"
          },
          "paper_bgcolor": "white",
          "plot_bgcolor": "#E5ECF6",
          "polar": {
           "angularaxis": {
            "gridcolor": "white",
            "linecolor": "white",
            "ticks": ""
           },
           "bgcolor": "#E5ECF6",
           "radialaxis": {
            "gridcolor": "white",
            "linecolor": "white",
            "ticks": ""
           }
          },
          "scene": {
           "xaxis": {
            "backgroundcolor": "#E5ECF6",
            "gridcolor": "white",
            "gridwidth": 2,
            "linecolor": "white",
            "showbackground": true,
            "ticks": "",
            "zerolinecolor": "white"
           },
           "yaxis": {
            "backgroundcolor": "#E5ECF6",
            "gridcolor": "white",
            "gridwidth": 2,
            "linecolor": "white",
            "showbackground": true,
            "ticks": "",
            "zerolinecolor": "white"
           },
           "zaxis": {
            "backgroundcolor": "#E5ECF6",
            "gridcolor": "white",
            "gridwidth": 2,
            "linecolor": "white",
            "showbackground": true,
            "ticks": "",
            "zerolinecolor": "white"
           }
          },
          "shapedefaults": {
           "line": {
            "color": "#2a3f5f"
           }
          },
          "ternary": {
           "aaxis": {
            "gridcolor": "white",
            "linecolor": "white",
            "ticks": ""
           },
           "baxis": {
            "gridcolor": "white",
            "linecolor": "white",
            "ticks": ""
           },
           "bgcolor": "#E5ECF6",
           "caxis": {
            "gridcolor": "white",
            "linecolor": "white",
            "ticks": ""
           }
          },
          "title": {
           "x": 0.05
          },
          "xaxis": {
           "automargin": true,
           "gridcolor": "white",
           "linecolor": "white",
           "ticks": "",
           "title": {
            "standoff": 15
           },
           "zerolinecolor": "white",
           "zerolinewidth": 2
          },
          "yaxis": {
           "automargin": true,
           "gridcolor": "white",
           "linecolor": "white",
           "ticks": "",
           "title": {
            "standoff": 15
           },
           "zerolinecolor": "white",
           "zerolinewidth": 2
          }
         }
        }
       }
      }
     },
     "metadata": {},
     "output_type": "display_data"
    }
   ],
   "source": [
    "fig2 = px.scatter_3d(pcaDataScaled, x='PC1', y='PC2', z='PC3', color='wardCluster')\n",
    "fig2"
   ]
  },
  {
   "cell_type": "code",
   "execution_count": 413,
   "metadata": {},
   "outputs": [],
   "source": [
    "pcaDataFull = pd.read_csv('./Data/PCAData.csv')\n",
    "pcaDataScaled['PLAYER'] = pcaDataFull['Player'].values\n",
    "pcaDataScaled['TEAM'] = pcaDataFull['Team'].values\n",
    "pcaDataScaled = pcaDataScaled[['PLAYER','TEAM','wardCluster','PC1','PC2','PC3','PC4','PC5']]\n",
    "pcaDataScaled.rename({'wardCluster':'hCLUSTER'},axis=1,inplace=True)\n",
    "pcaDataScaled.to_csv('Data/hierarchicalClustering.csv', index = False)"
   ]
  },
  {
   "cell_type": "code",
   "execution_count": null,
   "metadata": {},
   "outputs": [],
   "source": []
  }
 ],
 "metadata": {
  "interpreter": {
   "hash": "aee8b7b246df8f9039afb4144a1f6fd8d2ca17a180786b69acc140d282b71a49"
  },
  "kernelspec": {
   "display_name": "Python 3.9.1 64-bit",
   "language": "python",
   "name": "python3"
  },
  "language_info": {
   "codemirror_mode": {
    "name": "ipython",
    "version": 3
   },
   "file_extension": ".py",
   "mimetype": "text/x-python",
   "name": "python",
   "nbconvert_exporter": "python",
   "pygments_lexer": "ipython3",
   "version": "3.9.1"
  },
  "orig_nbformat": 4
 },
 "nbformat": 4,
 "nbformat_minor": 2
}
