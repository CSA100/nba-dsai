{
 "cells": [
  {
   "cell_type": "markdown",
   "metadata": {},
   "source": [
    "# Hierarchical Agglomerative Clustering (HAC)\n",
    "We chose **Hierarchical Agglomerative Clustering (HAC)** as our main method of analysis\n",
    "\n",
    "This clustering applies a *bottom-up approach*, where each data point starts in its own cluster, and all the clusters are then joined through various linkage methods. HAC will allow us to group players based on similarities in the data points generated from our *Principle Component Analysis*.\n",
    "\n",
    "We will first evaluate each linkage method by plotting a dendrogram and considering the general distribution of the data to arrive at the optimal method. The dendrogram will allow us to determine the ideal number of clusters, while the value counts of the respective clusters will let us know the suitability of the clusters found in continuing our anaylsis."
   ]
  },
  {
   "cell_type": "code",
   "execution_count": null,
   "metadata": {},
   "outputs": [],
   "source": [
    "import pandas as pd\n",
    "import matplotlib.pyplot as plt\n",
    "from sklearn.preprocessing import StandardScaler\n",
    "from pyclustertend import hopkins\n",
    "from sklearn.cluster import AgglomerativeClustering\n",
    "import numpy as np\n",
    "from scipy.cluster.hierarchy import dendrogram, linkage\n",
    "from scipy.cluster.hierarchy import fcluster\n",
    "import plotly.express as px\n",
    "from mpl_toolkits.mplot3d import Axes3D\n",
    "import numpy as np"
   ]
  },
  {
   "cell_type": "code",
   "execution_count": null,
   "metadata": {},
   "outputs": [],
   "source": [
    "def create_cluster(model, max_d):\n",
    "    # create linkage matrix\n",
    "    counts = np.zeros(model.children_.shape[0])\n",
    "    linkage_matrix = np.column_stack(\n",
    "        [model.children_, model.distances_, counts]\n",
    "    ).astype(float)\n",
    "    clusters = fcluster(linkage_matrix, max_d, criterion='distance')\n",
    "    return clusters\n",
    "\n",
    "\n",
    "def plotDendrogram(model):\n",
    "    # create linkage matrix and then plot the dendrogram\n",
    "\n",
    "    counts = np.zeros(model.children_.shape[0])\n",
    "    linkage_matrix = np.column_stack(\n",
    "        [model.children_, model.distances_, counts]\n",
    "    ).astype(float)    \n",
    "    plt.figure(figsize=(15, 6)) \n",
    "    plt.title('Hierarchical Clustering Dendrogram')\n",
    "    plt.xlabel('Data Points')\n",
    "    plt.ylabel('distance')\n",
    "    dendrogram(linkage_matrix,\n",
    "                   orientation='top', #The direction to plot the dendrogram\n",
    "                              #The root at the top, and descendent links going downwards\n",
    "                   #labels=statesList,\n",
    "                   distance_sort='descending',\n",
    "                   show_leaf_counts=True)\n",
    "    plt.show()\n",
    "\n",
    "def truncatedDendrogram(model, n, y_min = 0, max_d = 0):\n",
    "    # truncated dendrogram plot\n",
    "\n",
    "    counts = np.zeros(model.children_.shape[0])\n",
    "    linkage_matrix = np.column_stack(\n",
    "        [model.children_, model.distances_, counts]\n",
    "    ).astype(float)    \n",
    "    plt.title('Hierarchical Clustering Dendrogram (truncated)')\n",
    "    plt.xlabel('sample index')\n",
    "    plt.ylabel('distance')\n",
    "    dendro = dendrogram(\n",
    "                    linkage_matrix,\n",
    "                    truncate_mode='lastp',  # show only the last p merged clusters\n",
    "                    p=n,  # show only the last p merged clusters\n",
    "                    leaf_rotation=90.,\n",
    "                    leaf_font_size=12.,\n",
    "                    show_contracted=True,  # to get a distribution impression in truncated branches\n",
    "                )\n",
    "    for i, d, c in zip(dendro['icoord'], dendro['dcoord'], dendro['color_list']):\n",
    "        x = 0.5 * sum(i[1:3])\n",
    "        y = d[1]\n",
    "        #if y > annotate_above:\n",
    "        plt.plot(x, y, 'o', c=c)\n",
    "        plt.annotate(\"%.3g\" % y, (x, y), xytext=(0, -5),\n",
    "                            textcoords='offset points',\n",
    "                            va='top', ha='center')\n",
    "    if max_d:\n",
    "            plt.axhline(y=max_d, c='k')\n",
    "\n",
    "    plt.ylim(ymin = y_min)\n",
    "    plt.show()"
   ]
  },
  {
   "cell_type": "markdown",
   "metadata": {},
   "source": [
    "These helper functions will be used to support our hierarchical clustering analysis"
   ]
  },
  {
   "cell_type": "code",
   "execution_count": null,
   "metadata": {},
   "outputs": [],
   "source": [
    "pcaData = pd.read_csv('./Data/PCAData.csv')\n",
    "pcaData.drop(['Player','Team'],axis=1,inplace=True)\n",
    "pcaData.describe().round(1)"
   ]
  },
  {
   "cell_type": "code",
   "execution_count": null,
   "metadata": {},
   "outputs": [],
   "source": [
    "# to standardise the principle components\n",
    "scaler = StandardScaler()\n",
    "pcaDataScaled = scaler.fit_transform(pcaData)"
   ]
  },
  {
   "cell_type": "code",
   "execution_count": null,
   "metadata": {},
   "outputs": [],
   "source": [
    "# check if components are standardised\n",
    "pcaDataScaled = pd.DataFrame(pcaDataScaled, columns = ['PC1','PC2','PC3','PC4','PC5'])\n",
    "pcaDataScaled.describe().round(1)"
   ]
  },
  {
   "cell_type": "markdown",
   "metadata": {},
   "source": [
    "The **Principle Components** are standardised before commencing on clustering the data"
   ]
  },
  {
   "cell_type": "markdown",
   "metadata": {},
   "source": [
    "## Complete Linkage"
   ]
  },
  {
   "cell_type": "code",
   "execution_count": null,
   "metadata": {},
   "outputs": [],
   "source": [
    "completeLinkage = AgglomerativeClustering(distance_threshold=0, n_clusters=None,linkage='complete')\n",
    "completeLinknage = completeLinkage.fit(pcaDataScaled)\n",
    "plotDendrogram(completeLinkage)"
   ]
  },
  {
   "cell_type": "code",
   "execution_count": null,
   "metadata": {},
   "outputs": [],
   "source": [
    "truncatedDendrogram(completeLinkage,5,6.5)"
   ]
  },
  {
   "cell_type": "code",
   "execution_count": null,
   "metadata": {},
   "outputs": [],
   "source": [
    "pcaDataScaled['completeCluster'] = create_cluster(completeLinkage,6.5)\n",
    "pcaDataScaled.groupby('completeCluster').count()"
   ]
  },
  {
   "cell_type": "markdown",
   "metadata": {},
   "source": [
    "## Ward Linkage"
   ]
  },
  {
   "cell_type": "code",
   "execution_count": null,
   "metadata": {},
   "outputs": [],
   "source": [
    "wardLinkage = AgglomerativeClustering(distance_threshold=0, n_clusters=None,linkage='ward')\n",
    "wardLinkage = wardLinkage.fit(pcaDataScaled)\n",
    "plotDendrogram(wardLinkage)"
   ]
  },
  {
   "cell_type": "code",
   "execution_count": null,
   "metadata": {},
   "outputs": [],
   "source": [
    "truncatedDendrogram(wardLinkage,10,10.2)"
   ]
  },
  {
   "cell_type": "code",
   "execution_count": null,
   "metadata": {},
   "outputs": [],
   "source": [
    "pcaDataScaled['wardCluster'] = create_cluster(wardLinkage,10.2)\n",
    "pcaDataScaled.groupby('wardCluster').count()"
   ]
  },
  {
   "cell_type": "markdown",
   "metadata": {},
   "source": [
    "## Single Linkage"
   ]
  },
  {
   "cell_type": "code",
   "execution_count": null,
   "metadata": {},
   "outputs": [],
   "source": [
    "singleLinkage = AgglomerativeClustering(distance_threshold=0, n_clusters=None,linkage='single')\n",
    "singleLinkage = singleLinkage.fit(pcaDataScaled)\n",
    "plotDendrogram(singleLinkage)"
   ]
  },
  {
   "cell_type": "code",
   "execution_count": null,
   "metadata": {},
   "outputs": [],
   "source": [
    "truncatedDendrogram(singleLinkage,5,2)"
   ]
  },
  {
   "cell_type": "code",
   "execution_count": null,
   "metadata": {},
   "outputs": [],
   "source": [
    "pcaDataScaled['singleCluster'] = create_cluster(singleLinkage,2)\n",
    "pcaDataScaled.groupby('singleCluster').count()"
   ]
  },
  {
   "cell_type": "markdown",
   "metadata": {},
   "source": [
    "## Average Linkage"
   ]
  },
  {
   "cell_type": "code",
   "execution_count": null,
   "metadata": {},
   "outputs": [],
   "source": [
    "avgLinkage = AgglomerativeClustering(distance_threshold=0, n_clusters=None,linkage='average')\n",
    "avgLinkage = avgLinkage.fit(pcaDataScaled)\n",
    "plotDendrogram(avgLinkage)"
   ]
  },
  {
   "cell_type": "code",
   "execution_count": null,
   "metadata": {},
   "outputs": [],
   "source": [
    "truncatedDendrogram(avgLinkage,10,3.5)"
   ]
  },
  {
   "cell_type": "code",
   "execution_count": null,
   "metadata": {},
   "outputs": [],
   "source": [
    "pcaDataScaled['averageCluster'] = create_cluster(avgLinkage,3.5)\n",
    "pcaDataScaled.groupby('averageCluster').count()"
   ]
  },
  {
   "cell_type": "markdown",
   "metadata": {},
   "source": [
    "## Chosen Linkage Method: Ward Linkage\n",
    "\n",
    "Our ideal results would include clusters that are best able to explain the variance in player behaviour within their teams. Basketball teams field **9-10 players** every game, hence our desired number of clusters should be close to this number. Based on this, we eliminate *Complete Linkage* as a method. Next, by observation we notice that *Average* and *Single Linkage* methods produce a desirable number of clusters, but they are not well distributed (Several Clusters with only 1-2 data points). Hence, the best method to deploy would be **Wards Linkage**, which returns 9 Clusters that are fairly well distributed, and should account for the maximum variance in the data."
   ]
  },
  {
   "cell_type": "code",
   "execution_count": null,
   "metadata": {},
   "outputs": [],
   "source": [
    "\n",
    "fig = plt.figure(figsize = (10,10))\n",
    "ax = fig.add_subplot(111, projection='3d')\n",
    "for i in pcaDataScaled['wardCluster']:\n",
    "    x = np.array(pcaDataScaled[pcaDataScaled['wardCluster'] == i]['PC1'])\n",
    "    y = np.array(pcaDataScaled[pcaDataScaled['wardCluster'] == i]['PC2'])\n",
    "    z = np.array(pcaDataScaled[pcaDataScaled['wardCluster'] == i]['PC3'])\n",
    "    ax.scatter(x, y, z, marker = 'o', s = 40)\n",
    "plt.title('Scatterplot of Clusters')\n",
    "ax.set_xlabel('PC1')\n",
    "ax.set_ylabel('PC2')\n",
    "ax.set_zlabel('PC3')\n",
    "ax.legend([1,2,3,4,5,6,7,8])\n",
    "plt.show()"
   ]
  },
  {
   "cell_type": "code",
   "execution_count": null,
   "metadata": {},
   "outputs": [],
   "source": [
    "fig2 = px.scatter_3d(pcaDataScaled, x='PC1', y='PC2', z='PC3', color='wardCluster')\n",
    "fig2"
   ]
  },
  {
   "cell_type": "markdown",
   "metadata": {},
   "source": [
    "Plotting the first 3 Principle Components gives us a preliminary glance at the clustering that we can achieve using the *Ward Linkage* method for **Hierarchical Agglomerative Clustering**\n",
    "\n",
    "We can observe that there is noticeable separation in clusters."
   ]
  },
  {
   "cell_type": "code",
   "execution_count": null,
   "metadata": {},
   "outputs": [],
   "source": [
    "pcaDataFull = pd.read_csv('./Data/PCAData.csv')\n",
    "pcaDataScaled['PLAYER'] = pcaDataFull['Player'].values\n",
    "pcaDataScaled['TEAM'] = pcaDataFull['Team'].values\n",
    "pcaDataScaled = pcaDataScaled[['PLAYER','TEAM','wardCluster','PC1','PC2','PC3','PC4','PC5']]\n",
    "pcaDataScaled.rename({'wardCluster':'hCLUSTER'},axis=1,inplace=True)\n",
    "pcaDataScaled.to_csv('Data/hierarchicalClustering.csv', index = False)"
   ]
  }
 ],
 "metadata": {
  "interpreter": {
   "hash": "aee8b7b246df8f9039afb4144a1f6fd8d2ca17a180786b69acc140d282b71a49"
  },
  "kernelspec": {
   "display_name": "Python 3.9.1 64-bit",
   "language": "python",
   "name": "python3"
  },
  "language_info": {
   "codemirror_mode": {
    "name": "ipython",
    "version": 3
   },
   "file_extension": ".py",
   "mimetype": "text/x-python",
   "name": "python",
   "nbconvert_exporter": "python",
   "pygments_lexer": "ipython3",
   "version": "3.9.1"
  },
  "orig_nbformat": 4
 },
 "nbformat": 4,
 "nbformat_minor": 2
}
