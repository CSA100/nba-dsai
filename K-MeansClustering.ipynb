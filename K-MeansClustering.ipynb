{
 "cells": [
  {
   "cell_type": "code",
   "execution_count": 2,
   "metadata": {},
   "outputs": [],
   "source": [
    "import numpy as np\n",
    "import pandas as pd \n",
    "import seaborn as sns\n",
    "import matplotlib.pyplot as plt\n",
    "%matplotlib inline\n",
    "\n",
    "# Import Sci-Kit Learn\n",
    "from sklearn.manifold import TSNE\n",
    "from sklearn.cluster import KMeans\n",
    "from sklearn.decomposition import PCA\n",
    "from sklearn.preprocessing import StandardScaler\n",
    "from sklearn import metrics\n",
    "from sklearn import datasets\n",
    "from kneed import KneeLocator\n",
    "import plotly.express as px\n",
    "\n",
    "# Default plot params\n",
    "plt.style.use('seaborn')\n",
    "cmap = 'tab10'"
   ]
  },
  {
   "cell_type": "markdown",
   "metadata": {},
   "source": []
  },
  {
   "cell_type": "code",
   "execution_count": 3,
   "metadata": {},
   "outputs": [
    {
     "data": {
      "text/html": [
       "<div>\n",
       "<style scoped>\n",
       "    .dataframe tbody tr th:only-of-type {\n",
       "        vertical-align: middle;\n",
       "    }\n",
       "\n",
       "    .dataframe tbody tr th {\n",
       "        vertical-align: top;\n",
       "    }\n",
       "\n",
       "    .dataframe thead th {\n",
       "        text-align: right;\n",
       "    }\n",
       "</style>\n",
       "<table border=\"1\" class=\"dataframe\">\n",
       "  <thead>\n",
       "    <tr style=\"text-align: right;\">\n",
       "      <th></th>\n",
       "      <th>PC1</th>\n",
       "      <th>PC2</th>\n",
       "      <th>PC3</th>\n",
       "      <th>PC4</th>\n",
       "      <th>PC5</th>\n",
       "    </tr>\n",
       "  </thead>\n",
       "  <tbody>\n",
       "    <tr>\n",
       "      <th>count</th>\n",
       "      <td>397.0</td>\n",
       "      <td>397.0</td>\n",
       "      <td>397.0</td>\n",
       "      <td>397.0</td>\n",
       "      <td>397.0</td>\n",
       "    </tr>\n",
       "    <tr>\n",
       "      <th>mean</th>\n",
       "      <td>-0.0</td>\n",
       "      <td>0.0</td>\n",
       "      <td>-0.0</td>\n",
       "      <td>0.0</td>\n",
       "      <td>-0.0</td>\n",
       "    </tr>\n",
       "    <tr>\n",
       "      <th>std</th>\n",
       "      <td>4.4</td>\n",
       "      <td>3.9</td>\n",
       "      <td>2.5</td>\n",
       "      <td>2.1</td>\n",
       "      <td>1.8</td>\n",
       "    </tr>\n",
       "    <tr>\n",
       "      <th>min</th>\n",
       "      <td>-11.2</td>\n",
       "      <td>-7.0</td>\n",
       "      <td>-5.6</td>\n",
       "      <td>-5.4</td>\n",
       "      <td>-3.7</td>\n",
       "    </tr>\n",
       "    <tr>\n",
       "      <th>25%</th>\n",
       "      <td>-3.2</td>\n",
       "      <td>-2.9</td>\n",
       "      <td>-1.6</td>\n",
       "      <td>-1.6</td>\n",
       "      <td>-1.3</td>\n",
       "    </tr>\n",
       "    <tr>\n",
       "      <th>50%</th>\n",
       "      <td>-0.2</td>\n",
       "      <td>-0.7</td>\n",
       "      <td>-0.2</td>\n",
       "      <td>-0.1</td>\n",
       "      <td>-0.2</td>\n",
       "    </tr>\n",
       "    <tr>\n",
       "      <th>75%</th>\n",
       "      <td>2.8</td>\n",
       "      <td>2.0</td>\n",
       "      <td>1.7</td>\n",
       "      <td>1.3</td>\n",
       "      <td>1.0</td>\n",
       "    </tr>\n",
       "    <tr>\n",
       "      <th>max</th>\n",
       "      <td>11.2</td>\n",
       "      <td>15.4</td>\n",
       "      <td>7.5</td>\n",
       "      <td>7.1</td>\n",
       "      <td>7.1</td>\n",
       "    </tr>\n",
       "  </tbody>\n",
       "</table>\n",
       "</div>"
      ],
      "text/plain": [
       "         PC1    PC2    PC3    PC4    PC5\n",
       "count  397.0  397.0  397.0  397.0  397.0\n",
       "mean    -0.0    0.0   -0.0    0.0   -0.0\n",
       "std      4.4    3.9    2.5    2.1    1.8\n",
       "min    -11.2   -7.0   -5.6   -5.4   -3.7\n",
       "25%     -3.2   -2.9   -1.6   -1.6   -1.3\n",
       "50%     -0.2   -0.7   -0.2   -0.1   -0.2\n",
       "75%      2.8    2.0    1.7    1.3    1.0\n",
       "max     11.2   15.4    7.5    7.1    7.1"
      ]
     },
     "execution_count": 3,
     "metadata": {},
     "output_type": "execute_result"
    }
   ],
   "source": [
    "pcaData = pd.read_csv('./Data/PCAData.csv')\n",
    "pcaData.drop(['Player','Team'],axis=1,inplace=True)\n",
    "pcaData.describe().round(1)"
   ]
  },
  {
   "cell_type": "code",
   "execution_count": 4,
   "metadata": {},
   "outputs": [
    {
     "data": {
      "text/html": [
       "<div>\n",
       "<style scoped>\n",
       "    .dataframe tbody tr th:only-of-type {\n",
       "        vertical-align: middle;\n",
       "    }\n",
       "\n",
       "    .dataframe tbody tr th {\n",
       "        vertical-align: top;\n",
       "    }\n",
       "\n",
       "    .dataframe thead th {\n",
       "        text-align: right;\n",
       "    }\n",
       "</style>\n",
       "<table border=\"1\" class=\"dataframe\">\n",
       "  <thead>\n",
       "    <tr style=\"text-align: right;\">\n",
       "      <th></th>\n",
       "      <th>PC1</th>\n",
       "      <th>PC2</th>\n",
       "      <th>PC3</th>\n",
       "      <th>PC4</th>\n",
       "      <th>PC5</th>\n",
       "    </tr>\n",
       "  </thead>\n",
       "  <tbody>\n",
       "    <tr>\n",
       "      <th>0</th>\n",
       "      <td>-7.937506</td>\n",
       "      <td>6.538865</td>\n",
       "      <td>-3.463275</td>\n",
       "      <td>-2.545460</td>\n",
       "      <td>-2.152836</td>\n",
       "    </tr>\n",
       "    <tr>\n",
       "      <th>1</th>\n",
       "      <td>-4.254931</td>\n",
       "      <td>7.347971</td>\n",
       "      <td>-2.386292</td>\n",
       "      <td>-4.267921</td>\n",
       "      <td>-2.230382</td>\n",
       "    </tr>\n",
       "    <tr>\n",
       "      <th>2</th>\n",
       "      <td>-9.050960</td>\n",
       "      <td>7.846904</td>\n",
       "      <td>-0.803615</td>\n",
       "      <td>-4.675235</td>\n",
       "      <td>0.191907</td>\n",
       "    </tr>\n",
       "    <tr>\n",
       "      <th>3</th>\n",
       "      <td>6.485586</td>\n",
       "      <td>15.372255</td>\n",
       "      <td>-4.301402</td>\n",
       "      <td>1.813892</td>\n",
       "      <td>7.064400</td>\n",
       "    </tr>\n",
       "    <tr>\n",
       "      <th>4</th>\n",
       "      <td>0.268335</td>\n",
       "      <td>11.387311</td>\n",
       "      <td>1.997607</td>\n",
       "      <td>-1.461920</td>\n",
       "      <td>0.566734</td>\n",
       "    </tr>\n",
       "    <tr>\n",
       "      <th>...</th>\n",
       "      <td>...</td>\n",
       "      <td>...</td>\n",
       "      <td>...</td>\n",
       "      <td>...</td>\n",
       "      <td>...</td>\n",
       "    </tr>\n",
       "    <tr>\n",
       "      <th>392</th>\n",
       "      <td>0.578235</td>\n",
       "      <td>-4.981868</td>\n",
       "      <td>1.902548</td>\n",
       "      <td>2.529845</td>\n",
       "      <td>2.565431</td>\n",
       "    </tr>\n",
       "    <tr>\n",
       "      <th>393</th>\n",
       "      <td>-3.973016</td>\n",
       "      <td>-4.334199</td>\n",
       "      <td>5.979366</td>\n",
       "      <td>1.584614</td>\n",
       "      <td>4.677171</td>\n",
       "    </tr>\n",
       "    <tr>\n",
       "      <th>394</th>\n",
       "      <td>1.295650</td>\n",
       "      <td>-6.978208</td>\n",
       "      <td>1.753030</td>\n",
       "      <td>0.083624</td>\n",
       "      <td>0.821960</td>\n",
       "    </tr>\n",
       "    <tr>\n",
       "      <th>395</th>\n",
       "      <td>1.700019</td>\n",
       "      <td>-6.561837</td>\n",
       "      <td>1.388867</td>\n",
       "      <td>-1.807182</td>\n",
       "      <td>-1.021137</td>\n",
       "    </tr>\n",
       "    <tr>\n",
       "      <th>396</th>\n",
       "      <td>5.541327</td>\n",
       "      <td>-2.024050</td>\n",
       "      <td>7.495931</td>\n",
       "      <td>-0.558761</td>\n",
       "      <td>0.557076</td>\n",
       "    </tr>\n",
       "  </tbody>\n",
       "</table>\n",
       "<p>397 rows × 5 columns</p>\n",
       "</div>"
      ],
      "text/plain": [
       "          PC1        PC2       PC3       PC4       PC5\n",
       "0   -7.937506   6.538865 -3.463275 -2.545460 -2.152836\n",
       "1   -4.254931   7.347971 -2.386292 -4.267921 -2.230382\n",
       "2   -9.050960   7.846904 -0.803615 -4.675235  0.191907\n",
       "3    6.485586  15.372255 -4.301402  1.813892  7.064400\n",
       "4    0.268335  11.387311  1.997607 -1.461920  0.566734\n",
       "..        ...        ...       ...       ...       ...\n",
       "392  0.578235  -4.981868  1.902548  2.529845  2.565431\n",
       "393 -3.973016  -4.334199  5.979366  1.584614  4.677171\n",
       "394  1.295650  -6.978208  1.753030  0.083624  0.821960\n",
       "395  1.700019  -6.561837  1.388867 -1.807182 -1.021137\n",
       "396  5.541327  -2.024050  7.495931 -0.558761  0.557076\n",
       "\n",
       "[397 rows x 5 columns]"
      ]
     },
     "execution_count": 4,
     "metadata": {},
     "output_type": "execute_result"
    }
   ],
   "source": [
    "pcaData"
   ]
  },
  {
   "cell_type": "code",
   "execution_count": 5,
   "metadata": {},
   "outputs": [],
   "source": [
    "# to standardise the principle components\n",
    "scaler = StandardScaler()\n",
    "pcaDataScaled = scaler.fit_transform(pcaData)\n"
   ]
  },
  {
   "cell_type": "code",
   "execution_count": 6,
   "metadata": {},
   "outputs": [
    {
     "data": {
      "image/png": "[encoded data removed]",
      "text/plain": [
       "<Figure size 1080x576 with 1 Axes>"
      ]
     },
     "metadata": {},
     "output_type": "display_data"
    }
   ],
   "source": [
    "# Picking Best number of k part, using elbow method \n",
    "# Specifying the dataset and initializing variables\n",
    "X = pcaDataScaled\n",
    "distorsions = []\n",
    "\n",
    "# Calculate SSE for different K\n",
    "for k in range(2, 10):\n",
    "    kmeans = KMeans(n_clusters=k, random_state = 301)\n",
    "    kmeans.fit(X)\n",
    "    distorsions.append(kmeans.inertia_)\n",
    "\n",
    "# Plot values of SSE\n",
    "plt.figure(figsize=(15,8))\n",
    "plt.subplot(121, title='Elbow curve')\n",
    "plt.xlabel('k')\n",
    "plt.plot(range(2, 10), distorsions)\n",
    "plt.grid(True)"
   ]
  },
  {
   "cell_type": "code",
   "execution_count": 7,
   "metadata": {},
   "outputs": [],
   "source": [
    "# Generate silhouette coefficient for each k\n",
    "X = pcaDataScaled\n",
    "silhouette_plot = []\n",
    "for k in range(2, 10):\n",
    "    clusters = KMeans(n_clusters=k, random_state=10)\n",
    "    cluster_labels = clusters.fit_predict(X)\n",
    "    silhouette_avg = metrics.silhouette_score(X, cluster_labels)\n",
    "    silhouette_plot.append(silhouette_avg)"
   ]
  },
  {
   "cell_type": "code",
   "execution_count": 8,
   "metadata": {},
   "outputs": [
    {
     "data": {
      "image/png": "[encoded data removed]",
      "text/plain": [
       "<Figure size 1080x576 with 1 Axes>"
      ]
     },
     "metadata": {},
     "output_type": "display_data"
    }
   ],
   "source": [
    "# Plot Silhouette coefficient\n",
    "plt.figure(figsize=(15,8))\n",
    "plt.subplot(121, title='Silhouette coefficients over k')\n",
    "plt.xlabel('k')\n",
    "plt.ylabel('silhouette coefficient')\n",
    "plt.plot(range(2, 10), silhouette_plot)\n",
    "plt.axhline(y=np.mean(silhouette_plot), color=\"red\", linestyle=\"--\")\n",
    "plt.grid(True)"
   ]
  },
  {
   "cell_type": "code",
   "execution_count": 9,
   "metadata": {},
   "outputs": [],
   "source": [
    "# # check if components are standardised\n",
    "# pcaDataScaled = pd.DataFrame(pcaDataScaled, columns = ['PC1','PC2','PC3','PC4','PC5'])\n",
    "# pcaDataScaled.describe().round(1)"
   ]
  },
  {
   "cell_type": "code",
   "execution_count": 10,
   "metadata": {},
   "outputs": [
    {
     "data": {
      "text/plain": [
       "<matplotlib.collections.PathCollection at 0x153b16dc0>"
      ]
     },
     "execution_count": 10,
     "metadata": {},
     "output_type": "execute_result"
    },
    {
     "data": {
      "image/png": "[encoded data removed]",
      "text/plain": [
       "<Figure size 1080x576 with 1 Axes>"
      ]
     },
     "metadata": {},
     "output_type": "display_data"
    }
   ],
   "source": [
    "#Predict K-Means cluster membership\n",
    "km_neat = KMeans(n_clusters=6, random_state=2).fit_predict(pcaDataScaled)\n",
    "#km_messy = KMeans(n_clusters=3, random_state=2).fit_predict(x_messy)\n",
    "\n",
    "plt.figure(figsize=(15,8))\n",
    "plt.subplot(121, title='Cluster with PCA test1')\n",
    "\n",
    "plt.scatter(pcaDataScaled[:,0], pcaDataScaled[:,1], c=km_neat, cmap=cmap)"
   ]
  },
  {
   "cell_type": "code",
   "execution_count": 11,
   "metadata": {},
   "outputs": [
    {
     "data": {
      "text/plain": [
       "array([2, 2, 2, 3, 2, 2, 2, 2, 3, 2, 2, 2, 3, 2, 2, 2, 3, 3, 3, 2, 2, 2,\n",
       "       3, 2, 2, 3, 2, 2, 2, 2, 3, 2, 2, 2, 2, 2, 3, 2, 2, 2, 3, 2, 3, 2,\n",
       "       2, 2, 5, 3, 2, 2, 2, 5, 2, 3, 2, 2, 2, 2, 2, 3, 2, 2, 2, 1, 2, 3,\n",
       "       5, 5, 2, 1, 0, 1, 2, 1, 1, 2, 2, 5, 1, 2, 1, 5, 4, 2, 2, 5, 4, 1,\n",
       "       0, 1, 1, 3, 5, 1, 4, 1, 4, 3, 5, 1, 1, 5, 5, 5, 5, 5, 3, 1, 4, 1,\n",
       "       0, 5, 5, 5, 5, 1, 1, 0, 2, 1, 2, 1, 4, 5, 1, 5, 1, 0, 1, 5, 1, 3,\n",
       "       5, 5, 1, 3, 1, 3, 1, 5, 1, 5, 5, 1, 4, 3, 5, 0, 5, 0, 1, 5, 4, 5,\n",
       "       4, 5, 5, 3, 5, 5, 3, 5, 1, 1, 5, 0, 0, 1, 1, 1, 1, 4, 1, 0, 0, 0,\n",
       "       0, 5, 1, 5, 1, 1, 5, 1, 1, 5, 1, 1, 5, 1, 5, 5, 1, 1, 4, 1, 5, 1,\n",
       "       1, 1, 5, 1, 5, 1, 4, 4, 5, 0, 5, 3, 0, 1, 1, 5, 4, 5, 5, 0, 0, 4,\n",
       "       4, 0, 1, 5, 0, 5, 0, 4, 5, 0, 1, 5, 4, 5, 1, 4, 0, 5, 1, 0, 4, 0,\n",
       "       4, 0, 0, 0, 1, 0, 1, 0, 5, 4, 1, 4, 5, 1, 0, 5, 4, 5, 0, 5, 4, 5,\n",
       "       5, 5, 5, 4, 1, 4, 4, 1, 1, 5, 4, 5, 1, 4, 5, 5, 5, 0, 1, 5, 1, 1,\n",
       "       0, 0, 0, 0, 0, 5, 5, 0, 4, 1, 4, 5, 0, 1, 5, 0, 1, 1, 1, 0, 1, 0,\n",
       "       5, 1, 4, 0, 5, 1, 4, 5, 1, 5, 1, 5, 4, 0, 0, 4, 5, 5, 5, 0, 5, 5,\n",
       "       4, 1, 0, 0, 4, 5, 5, 4, 0, 5, 4, 5, 5, 5, 5, 5, 4, 5, 4, 5, 4, 1,\n",
       "       0, 4, 5, 4, 0, 0, 0, 5, 0, 0, 1, 5, 5, 4, 1, 5, 5, 4, 0, 1, 5, 0,\n",
       "       0, 1, 5, 5, 1, 5, 5, 4, 0, 5, 0, 0, 0, 1, 0, 1, 5, 0, 0, 0, 0, 5,\n",
       "       4], dtype=int32)"
      ]
     },
     "execution_count": 11,
     "metadata": {},
     "output_type": "execute_result"
    }
   ],
   "source": [
    "km_neat"
   ]
  },
  {
   "cell_type": "code",
   "execution_count": 12,
   "metadata": {},
   "outputs": [
    {
     "data": {
      "text/plain": [
       "array([3, 3, 3, 4, 3, 3, 3, 3, 4, 3, 3, 3, 4, 3, 3, 3, 4, 4, 4, 3, 3, 3,\n",
       "       4, 3, 3, 4, 3, 3, 3, 3, 4, 3, 3, 3, 3, 3, 4, 3, 3, 3, 4, 3, 4, 3,\n",
       "       3, 3, 6, 4, 3, 3, 3, 6, 3, 4, 3, 3, 3, 3, 3, 4, 3, 3, 3, 2, 3, 4,\n",
       "       6, 6, 3, 2, 1, 2, 3, 2, 2, 3, 3, 6, 2, 3, 2, 6, 5, 3, 3, 6, 5, 2,\n",
       "       1, 2, 2, 4, 6, 2, 5, 2, 5, 4, 6, 2, 2, 6, 6, 6, 6, 6, 4, 2, 5, 2,\n",
       "       1, 6, 6, 6, 6, 2, 2, 1, 3, 2, 3, 2, 5, 6, 2, 6, 2, 1, 2, 6, 2, 4,\n",
       "       6, 6, 2, 4, 2, 4, 2, 6, 2, 6, 6, 2, 5, 4, 6, 1, 6, 1, 2, 6, 5, 6,\n",
       "       5, 6, 6, 4, 6, 6, 4, 6, 2, 2, 6, 1, 1, 2, 2, 2, 2, 5, 2, 1, 1, 1,\n",
       "       1, 6, 2, 6, 2, 2, 6, 2, 2, 6, 2, 2, 6, 2, 6, 6, 2, 2, 5, 2, 6, 2,\n",
       "       2, 2, 6, 2, 6, 2, 5, 5, 6, 1, 6, 4, 1, 2, 2, 6, 5, 6, 6, 1, 1, 5,\n",
       "       5, 1, 2, 6, 1, 6, 1, 5, 6, 1, 2, 6, 5, 6, 2, 5, 1, 6, 2, 1, 5, 1,\n",
       "       5, 1, 1, 1, 2, 1, 2, 1, 6, 5, 2, 5, 6, 2, 1, 6, 5, 6, 1, 6, 5, 6,\n",
       "       6, 6, 6, 5, 2, 5, 5, 2, 2, 6, 5, 6, 2, 5, 6, 6, 6, 1, 2, 6, 2, 2,\n",
       "       1, 1, 1, 1, 1, 6, 6, 1, 5, 2, 5, 6, 1, 2, 6, 1, 2, 2, 2, 1, 2, 1,\n",
       "       6, 2, 5, 1, 6, 2, 5, 6, 2, 6, 2, 6, 5, 1, 1, 5, 6, 6, 6, 1, 6, 6,\n",
       "       5, 2, 1, 1, 5, 6, 6, 5, 1, 6, 5, 6, 6, 6, 6, 6, 5, 6, 5, 6, 5, 2,\n",
       "       1, 5, 6, 5, 1, 1, 1, 6, 1, 1, 2, 6, 6, 5, 2, 6, 6, 5, 1, 2, 6, 1,\n",
       "       1, 2, 6, 6, 2, 6, 6, 5, 1, 6, 1, 1, 1, 2, 1, 2, 6, 1, 1, 1, 1, 6,\n",
       "       5], dtype=int32)"
      ]
     },
     "execution_count": 12,
     "metadata": {},
     "output_type": "execute_result"
    }
   ],
   "source": [
    "for i in range(len(km_neat)):\n",
    "    km_neat[i] += 1\n",
    "km_neat"
   ]
  },
  {
   "cell_type": "code",
   "execution_count": 13,
   "metadata": {},
   "outputs": [],
   "source": [
    "pcaDataScaled = pd.DataFrame(pcaDataScaled, columns = ['PC1','PC2','PC3','PC4','PC5'])"
   ]
  },
  {
   "cell_type": "code",
   "execution_count": 14,
   "metadata": {},
   "outputs": [
    {
     "data": {
      "application/vnd.plotly.v1+json": {
       "config": {
        "plotlyServerURL": "https://plot.ly"
       },
       "data": [
        {
         "hovertemplate": "PC1=%{x}<br>PC2=%{y}<br>PC3=%{z}<br>color=%{marker.color}<extra></extra>",
         "legendgroup": "",
         "marker": {
          "color": [
           3,
           3,
           3,
           4,
           3,
           3,
           3,
           3,
           4,
           3,
           3,
           3,
           4,
           3,
           3,
           3,
           4,
           4,
           4,
           3,
           3,
           3,
           4,
           3,
           3,
           4,
           3,
           3,
           3,
           3,
           4,
           3,
           3,
           3,
           3,
           3,
           4,
           3,
           3,
           3,
           4,
           3,
           4,
           3,
           3,
           3,
           6,
           4,
           3,
           3,
           3,
           6,
           3,
           4,
           3,
           3,
           3,
           3,
           3,
           4,
           3,
           3,
           3,
           2,
           3,
           4,
           6,
           6,
           3,
           2,
           1,
           2,
           3,
           2,
           2,
           3,
           3,
           6,
           2,
           3,
           2,
           6,
           5,
           3,
           3,
           6,
           5,
           2,
           1,
           2,
           2,
           4,
           6,
           2,
           5,
           2,
           5,
           4,
           6,
           2,
           2,
           6,
           6,
           6,
           6,
           6,
           4,
           2,
           5,
           2,
           1,
           6,
           6,
           6,
           6,
           2,
           2,
           1,
           3,
           2,
           3,
           2,
           5,
           6,
           2,
           6,
           2,
           1,
           2,
           6,
           2,
           4,
           6,
           6,
           2,
           4,
           2,
           4,
           2,
           6,
           2,
           6,
           6,
           2,
           5,
           4,
           6,
           1,
           6,
           1,
           2,
           6,
           5,
           6,
           5,
           6,
           6,
           4,
           6,
           6,
           4,
           6,
           2,
           2,
           6,
           1,
           1,
           2,
           2,
           2,
           2,
           5,
           2,
           1,
           1,
           1,
           1,
           6,
           2,
           6,
           2,
           2,
           6,
           2,
           2,
           6,
           2,
           2,
           6,
           2,
           6,
           6,
           2,
           2,
           5,
           2,
           6,
           2,
           2,
           2,
           6,
           2,
           6,
           2,
           5,
           5,
           6,
           1,
           6,
           4,
           1,
           2,
           2,
           6,
           5,
           6,
           6,
           1,
           1,
           5,
           5,
           1,
           2,
           6,
           1,
           6,
           1,
           5,
           6,
           1,
           2,
           6,
           5,
           6,
           2,
           5,
           1,
           6,
           2,
           1,
           5,
           1,
           5,
           1,
           1,
           1,
           2,
           1,
           2,
           1,
           6,
           5,
           2,
           5,
           6,
           2,
           1,
           6,
           5,
           6,
           1,
           6,
           5,
           6,
           6,
           6,
           6,
           5,
           2,
           5,
           5,
           2,
           2,
           6,
           5,
           6,
           2,
           5,
           6,
           6,
           6,
           1,
           2,
           6,
           2,
           2,
           1,
           1,
           1,
           1,
           1,
           6,
           6,
           1,
           5,
           2,
           5,
           6,
           1,
           2,
           6,
           1,
           2,
           2,
           2,
           1,
           2,
           1,
           6,
           2,
           5,
           1,
           6,
           2,
           5,
           6,
           2,
           6,
           2,
           6,
           5,
           1,
           1,
           5,
           6,
           6,
           6,
           1,
           6,
           6,
           5,
           2,
           1,
           1,
           5,
           6,
           6,
           5,
           1,
           6,
           5,
           6,
           6,
           6,
           6,
           6,
           5,
           6,
           5,
           6,
           5,
           2,
           1,
           5,
           6,
           5,
           1,
           1,
           1,
           6,
           1,
           1,
           2,
           6,
           6,
           5,
           2,
           6,
           6,
           5,
           1,
           2,
           6,
           1,
           1,
           2,
           6,
           6,
           2,
           6,
           6,
           5,
           1,
           6,
           1,
           1,
           1,
           2,
           1,
           2,
           6,
           1,
           1,
           1,
           1,
           6,
           5
          ],
          "coloraxis": "coloraxis",
          "symbol": "circle"
         },
         "mode": "markers",
         "name": "",
         "scene": "scene",
         "showlegend": false,
         "type": "scatter3d",
         "x": [
          -1.7883494360251702,
          -0.9586515409687787,
          -2.0392145193261935,
          1.4612265167354055,
          0.06045690440564519,
          -1.5512576561174114,
          -1.187326252988479,
          0.6274595695379539,
          -0.6548993551300833,
          -1.2837015559573015,
          -0.9957563317944693,
          -1.7497470830786819,
          0.6556714190415369,
          -1.1592929121089233,
          -2.5152680163573278,
          -1.8816507536327474,
          -0.8527672665128608,
          -0.9579462901397192,
          1.0074965071913402,
          -0.5754724348647853,
          -1.9698851132556652,
          -1.0962382106372601,
          -0.4559669845643121,
          -1.1552879496938513,
          -1.7744603203441092,
          0.5600095920879697,
          -1.1177387943392518,
          -1.4775465005927022,
          -0.31391539938937885,
          -1.4695487135424374,
          1.0951129057829976,
          -1.3765497431799942,
          -0.7462584217628957,
          -0.2717174478973699,
          -1.34611882253546,
          -1.4594891770609457,
          1.1336229332624084,
          -1.3409911634979295,
          -1.214204170464522,
          -0.9792562529880305,
          1.0095135080305133,
          -1.1682115865802434,
          1.143097840934739,
          -1.1521781767067327,
          -0.5925727665086313,
          -1.836394358186713,
          -0.5089294913775162,
          -0.31112159051857613,
          -0.6938933166983279,
          -1.6614682328129917,
          -1.3186442058085501,
          0.5660476160671297,
          -1.2640607793962924,
          0.8235471643066831,
          -0.7006483825527543,
          -0.1707703356917654,
          -1.004615871328697,
          -1.0589067309286815,
          -1.0442138934925305,
          1.2430775160433767,
          -0.46791156757270413,
          -1.7186873210626568,
          -1.4510909178126705,
          -0.5770507871229054,
          -0.6935145405859899,
          1.9351795815638217,
          -0.4216640848849835,
          -0.32100753559964873,
          -1.180693762684558,
          -0.9474976774566213,
          -2.109672535715744,
          -1.0288114914443065,
          -1.8143141290420661,
          -0.0965441100575743,
          0.02089959357592381,
          -1.1413322734396296,
          -0.9686620686000404,
          -0.6828011914596142,
          0.466822144630703,
          -1.4903931290155856,
          -0.8435820447511508,
          -0.6850965630276313,
          2.510565439116825,
          -0.8749045838959997,
          -1.3093053693187156,
          0.03655272047923002,
          2.092354873474144,
          -1.6234290880998685,
          -1.2265612890861872,
          -0.9707414231523427,
          -0.7943957685425586,
          2.04305567355053,
          1.2146411959042007,
          1.1418444639065453,
          2.5246281494334024,
          -0.36541851265066116,
          1.7993883281734255,
          0.36691691800389703,
          1.240079509329677,
          -0.3657827559794082,
          -0.5756581831050864,
          0.5122071459241782,
          0.13801904461394607,
          1.2793408021624784,
          0.6283177663053057,
          0.3119327672326221,
          0.7640384595332023,
          0.4471044001440658,
          1.723285348764268,
          -0.14062524094098597,
          -0.9748790336412272,
          0.12098877077057572,
          -0.0367184620605595,
          -0.07382136276520082,
          0.3067704725737167,
          -0.7551507517524154,
          -0.7948810243660536,
          -1.5636840468816413,
          -0.9175002492387807,
          0.58096326635833,
          -0.6683292086553188,
          0.08497062025458446,
          2.0935234351159724,
          0.34410769365838173,
          0.22832597020235681,
          -0.6757843200972209,
          -0.44828004706193636,
          -1.0004929155491415,
          1.4250987106358655,
          -1.1326275722226107,
          -0.2951589718912664,
          0.24994664785766685,
          1.2723801105688313,
          -0.0544817016202516,
          -1.0616895363593002,
          0.3761568753794896,
          -0.6856515432413786,
          0.7501621184774954,
          -1.509011703589048,
          -0.7055337554101712,
          -0.7289595237082703,
          -0.5871952672027964,
          0.22567924673581707,
          -0.27126521866211617,
          1.4666784857330342,
          1.3527419639421319,
          0.9120917987587344,
          -1.1148505691140866,
          0.11441443457376099,
          -1.1337208016286413,
          0.3859990254327345,
          -0.05953257862769188,
          1.6086033157818638,
          1.3239076251272768,
          2.0313707887139985,
          -0.437371318003197,
          -0.713182714823679,
          1.1819882431285078,
          -0.6177685302061205,
          0.24469335738525835,
          0.1565525220447826,
          -0.39062331761972313,
          -0.6183597525107487,
          0.5894604850848995,
          -1.304930591453644,
          -0.9842602149777228,
          -0.7480742712672426,
          -0.8241621669190323,
          -0.3204829519014683,
          -0.4962042036601281,
          -0.573123089670573,
          1.4984481202658424,
          0.9055496533651681,
          -1.1128082272061417,
          -1.1130027525646804,
          -0.44365892516996236,
          -1.153434492655403,
          -0.29653137779516386,
          -0.08504936476276406,
          -0.4618764593102643,
          -0.6581603620643219,
          0.06330758722448497,
          -0.14591042314823227,
          -0.5870467832571298,
          0.6038448440418602,
          0.028193461566422225,
          1.1947657490298207,
          -0.004187048177317578,
          -0.6535024266804923,
          -0.23945086218918865,
          0.538594091157729,
          -0.055593748345938394,
          -0.2159223605803528,
          0.14477314687840834,
          1.403971887175602,
          0.44021848352922877,
          0.9797243213884493,
          -0.5684504224281063,
          0.04382507262821409,
          0.23555315169670876,
          0.5391923044013011,
          -0.41364516842951643,
          -0.5404201853470025,
          -0.6361025815661773,
          1.706772802632728,
          1.9596295448192906,
          -0.34693454497252657,
          -0.5950846599717619,
          0.6430939910041286,
          0.7087846694404287,
          -0.35504166515265634,
          0.6331712017281567,
          -0.21743665801706039,
          0.7831782556126664,
          0.5868172590339206,
          -0.39960043174131304,
          -0.6324960549057768,
          -0.6137811855323166,
          -1.4098714884704366,
          2.213773743991535,
          1.8433921750820073,
          -1.4494856988901739,
          0.1669964806675714,
          -0.6705000555632117,
          -1.1339745308051277,
          0.06341972068402259,
          0.2557739270581974,
          1.8728577810508922,
          -0.5829433490840163,
          -0.8106203675367379,
          -0.11680666583933491,
          -0.05844588372774024,
          2.235617663386639,
          0.8079141133060502,
          0.03303823490857874,
          1.9459435174068733,
          -0.7010491961717159,
          1.4963165769126237,
          -0.12581602618342005,
          -1.0000558257156804,
          1.7276240185003564,
          -0.6457267135846254,
          1.783056023675108,
          -0.00493317903419362,
          -0.7516120674069162,
          -0.8429641349782916,
          -0.06045389862333364,
          -1.410004940677706,
          -0.10655719477883946,
          -1.3684772616746457,
          0.08705285479464549,
          1.7140649508852361,
          -0.30756576623997944,
          1.5733964292228755,
          -0.01629663280121123,
          -0.6384602069381247,
          -1.2749125174678893,
          1.3538831097954143,
          2.03589042946507,
          -0.8385287305790471,
          -0.6384150097904298,
          0.5850236387591252,
          1.5787825314227382,
          0.2462143305975837,
          0.8572101213943978,
          -0.22991143091905725,
          -0.7545019067267902,
          1.1035051638206475,
          0.053747732903456705,
          1.960051731827001,
          1.8509586983629769,
          0.26814191738477505,
          -0.18485450953361438,
          -0.07095729031495676,
          2.2121583251840193,
          0.2053031692484406,
          -0.279376014104271,
          2.0208916865374746,
          0.0628789592647011,
          -0.2619588280437459,
          0.8473967992988182,
          0.1917259871701854,
          0.6950060549774688,
          0.669592607500576,
          0.14571953971097398,
          0.4531250919516066,
          -1.307413920642119,
          -0.9537649234162807,
          -0.9938151731231613,
          -0.6401265119466553,
          -0.7491551205536325,
          0.4615907334682207,
          0.4995869845322138,
          -0.8070060011191393,
          1.580032439178977,
          0.969356333923875,
          1.724692704335809,
          0.7511602762156353,
          -0.46154289797075837,
          -0.13071288818440113,
          0.32082849850648604,
          -0.8034323583046122,
          -0.2370045858268934,
          -0.5191050269943042,
          -0.03407988403271563,
          -0.8397264013271368,
          0.4586879034864979,
          -1.2607191976524323,
          1.040567181019457,
          1.0959938110810357,
          0.8682571732576778,
          -1.2084057141796811,
          -0.07815219850127537,
          0.17588672300425678,
          1.2917052923387398,
          1.248545737959303,
          0.047851364419384125,
          0.07460260192887808,
          0.10938455270589802,
          0.16265632024742202,
          1.826563918132387,
          -1.7420941408293047,
          -0.9368822189948934,
          1.7912384881891201,
          0.2823695032235996,
          1.0600878244580456,
          -0.17015543729796312,
          -0.5608072907424777,
          0.06035318868243938,
          0.5397559711773078,
          1.8265155335636951,
          1.018548130611226,
          -0.7106505691997083,
          -1.141810611526314,
          1.0714207851164042,
          1.394873617188639,
          0.4005402643163776,
          1.317628888747936,
          -0.5622092991988868,
          0.5753262065713975,
          1.4571375459754747,
          0.08500898756547044,
          0.32207367940695547,
          0.6793758574774414,
          0.22770425253147197,
          0.40838620264009245,
          1.3598382513681417,
          0.4133827358136763,
          1.3450124381921915,
          0.5891379728625988,
          1.747565102273447,
          0.6209762495836021,
          -1.089475439979601,
          1.5949382878319793,
          0.830437100914299,
          1.732087208895439,
          0.007458102336832248,
          -0.269151959187162,
          -0.3404702355437875,
          0.9230636268192185,
          -0.9220379160542319,
          -0.48040160327417575,
          -0.23577250242426692,
          0.3522514130404138,
          0.1990954100624823,
          1.5838331195364146,
          0.46819580384950177,
          0.1644076217319539,
          0.4964822535526529,
          2.058811446913304,
          -0.2493866385866824,
          -0.0038593464181420722,
          -0.02714960188788554,
          0.4500623276227857,
          -0.10356645059496901,
          -0.2527111761704025,
          0.2630540376151055,
          0.4906212551709656,
          0.13425208472020733,
          0.4320695824313681,
          0.840131337489332,
          1.0013419775693908,
          -1.1933330570750074,
          0.2144280669290656,
          -0.014857377729063375,
          -0.6663626530873427,
          0.07370166456306462,
          -0.02276132917592141,
          0.07081077979214853,
          0.19371865463444157,
          0.3106620882666016,
          0.16260458452915516,
          0.13027836673542606,
          -0.8951351547629453,
          0.2919148084972653,
          0.383020506824178,
          1.2484813650682287
         ],
         "y": [
          1.6852212619899256,
          1.8937473511356875,
          2.022334260745363,
          3.9617964484710444,
          2.934781313698283,
          2.9180891609186306,
          1.6090683848501373,
          2.020545360688166,
          2.228169360430176,
          1.7783893274003764,
          1.8868393116939475,
          1.567781043422934,
          3.5728098516078077,
          1.7253117019061233,
          1.8242067079531463,
          1.5305084687763997,
          2.354185333838221,
          2.275098483589595,
          2.784600967066685,
          1.2775860323818404,
          2.616204941396316,
          1.4297538560155438,
          2.6407627496328234,
          1.4853330628925916,
          1.871533831815432,
          2.270293246198985,
          1.6971505437945356,
          0.9114153265975026,
          1.2175484790357456,
          2.67566397064424,
          2.336323284077494,
          1.7274812671625865,
          2.356470254997737,
          1.8897488710094679,
          1.0638415226593838,
          1.1135299713461781,
          1.4280084932330102,
          1.2058984007650617,
          0.5268007841135318,
          1.2352440132467608,
          2.7296845926552082,
          1.2185178551310458,
          1.4826360596016903,
          0.821998121716009,
          1.0659086797259925,
          0.951769297269377,
          0.09642430850914468,
          1.4559401632308848,
          0.7493417891731222,
          0.6043986670407352,
          1.430807029407313,
          0.5163076543886365,
          0.8467608774068944,
          2.1340556349305535,
          0.33690760660990765,
          0.9180774135953865,
          0.6546462214262212,
          0.15492501104880146,
          1.077104474441648,
          1.1951740351923472,
          0.6653958562856905,
          0.574666634680839,
          1.0961791413704345,
          0.2628598469677152,
          0.5209178996715623,
          1.9980513604412031,
          0.6051762175433686,
          0.15846346589065666,
          0.7706234462494882,
          0.10856948828536062,
          1.5133262970783878,
          0.1607480906596074,
          0.803562120208224,
          0.9155145041010928,
          0.4857869257846834,
          0.8710282967308182,
          0.840484926950419,
          0.0038438970324599074,
          0.24406430609749538,
          0.8788610576353552,
          0.32856973144329055,
          -0.3220583819842615,
          1.4190076232097695,
          0.20872700261594057,
          0.36704636839592014,
          0.6938115672009424,
          1.9258138984940203,
          -0.016696030975769317,
          0.5267840249549307,
          0.17148110848016018,
          -0.10175969005291738,
          1.627395034542044,
          0.7622391927534616,
          0.3114829288324775,
          1.69959752167624,
          1.3775883164270133,
          1.2887827808433967,
          0.509943979732173,
          0.36488585549044533,
          -0.34021452969655114,
          -0.08675033797663827,
          0.4306748004142455,
          0.3459945216191747,
          0.5247945645159344,
          0.13910256272102955,
          -0.3365468724371596,
          0.7199765917969123,
          0.6963671570064012,
          1.155139051603276,
          -0.17308347647836392,
          0.31485970389586665,
          0.1906415297190882,
          0.44152191386925,
          0.27401595894119163,
          0.5593468254137688,
          -0.6319183190564852,
          0.7167691138471907,
          -0.05674041635866809,
          0.12495811158280233,
          0.7043574087267735,
          0.48187603922627287,
          -0.0882746885336715,
          1.2716009308409018,
          0.16695486483841976,
          0.32331788184408744,
          0.13802419723927573,
          0.19771007096327434,
          0.11704607682434838,
          0.7996138287468547,
          -0.28569747825965236,
          0.3756551786189453,
          0.7492046508409798,
          0.4858624920255343,
          -0.16363946939942633,
          -0.15009721828726283,
          0.43981339553677395,
          -0.035816309351827134,
          0.9321424857265476,
          0.10604818413483075,
          -0.5150303933077643,
          -0.10536789117365704,
          -0.4484214772687209,
          0.11634975764672975,
          -0.9922992927302025,
          0.14216211885896088,
          1.1836245268990795,
          0.2435531825797535,
          -0.3763934170538373,
          0.011365796534299517,
          0.11192493118671244,
          0.40820624384009,
          -0.303825971116476,
          1.0137840566811844,
          0.23329467892648323,
          1.0579842634316914,
          -0.8198185419185273,
          -0.6992973259949657,
          0.509456420557284,
          -0.4151192029838213,
          -0.03588234021237724,
          0.567507597189324,
          -0.1497841441246331,
          -0.7906435890107316,
          -0.1481820875393106,
          -0.8870480906821194,
          -0.3069593074549044,
          -0.2275357150028563,
          -0.8070845694798232,
          -0.5947383566425803,
          -0.2967428100940211,
          -0.44029732681386524,
          1.2683101104258836,
          -0.034912228958983896,
          0.12199113544259098,
          -0.3316894654658586,
          -0.1173426160412389,
          -0.3328555997108498,
          -0.10619082175116491,
          -0.29505502407454776,
          -1.1273559613037587,
          -0.6186298226743723,
          -0.4002953160079886,
          -0.7809927671992009,
          -0.7691438316580652,
          -0.535854369827193,
          -0.4458067032675538,
          0.23685352333640863,
          -0.12706200221923955,
          -1.255545408455269,
          -0.8920641214694343,
          -0.04503586717321713,
          -0.277753841080131,
          -0.5534382883424598,
          -0.42564628825391254,
          0.38033870876733056,
          0.4087635036024809,
          -0.1897434049306225,
          -0.9354701841692329,
          -0.13433029358115695,
          -0.30928010410565066,
          -0.45871869180052477,
          -0.9016079148417012,
          -0.8946357221299188,
          -0.4297305894813176,
          0.2471693253659744,
          0.7693983938274606,
          -0.7117154323829906,
          0.004489409052439386,
          0.12731838697708248,
          0.44025573385929107,
          -0.09111808441019348,
          -0.34656315729600656,
          -0.5744303441056079,
          0.11945282337065807,
          0.09837967317799845,
          -0.8436194308724017,
          -0.42744795468972135,
          -0.49629741179837855,
          0.06269486721578027,
          0.6242271408922124,
          0.5081447652052719,
          -0.11303656084234755,
          -0.09044220921285516,
          -0.9553373282624992,
          -0.355966538863312,
          -0.5661815560529609,
          -0.0034288383957151044,
          0.055740109455653934,
          -0.8933961134955122,
          -0.2860331010497567,
          -0.752808241181829,
          -0.4606657490393749,
          0.5534214653679729,
          -0.42741733303125773,
          -0.5039951222531738,
          0.4595157473606929,
          -0.6660404338464433,
          -0.04887556770560762,
          -0.3977685979434907,
          -0.8621539120964246,
          0.34669105559393437,
          -0.8978908679364742,
          0.12500239125419224,
          -0.3351281140420487,
          -0.9135768628618904,
          -0.351024828695588,
          -0.487291335554254,
          -0.23370871857822864,
          -0.2938592597423608,
          -0.8267150393726063,
          -1.4053409158329833,
          0.502463497115485,
          -0.7441262158751663,
          0.5330482278700887,
          -0.8358165287276028,
          -0.7518374647551697,
          -0.7386834504492277,
          -0.2354936725966155,
          0.4363332095967892,
          -1.6134772180173613,
          -1.081488780277164,
          -0.5215824432144752,
          0.19320301875419027,
          -0.3740314269222745,
          -0.695891644135493,
          -0.8396954032654789,
          -0.955044761538623,
          -0.04207912603257065,
          -0.497655515423565,
          0.12630870979812878,
          0.2773061328345242,
          -0.6231906696508129,
          1.059494377042704,
          -0.5784483671736589,
          0.18500970084422333,
          -0.6949273709000909,
          -0.34762064563931316,
          0.7559720716615607,
          -1.1168982886297152,
          -0.7881226325487399,
          -0.293382577713494,
          -0.779180990685173,
          -0.8710733863267498,
          -0.2225252543105176,
          -0.9892700426353835,
          -0.8573344053487064,
          -0.3902939126532516,
          -0.311600174978395,
          -0.5687776900412347,
          -1.0295146676115132,
          -0.2581805939620499,
          -0.3632650939205623,
          -0.7593419792107107,
          -1.1058125142294388,
          -0.2169225848920423,
          -0.4528123031530045,
          -0.0349705701456544,
          -0.2931939594316333,
          -0.9394482924859532,
          -1.0649975647785195,
          -0.49109243990378404,
          -1.0298282551814177,
          -1.105729507442592,
          -0.5826048396381349,
          -1.22477589337025,
          -0.9903094214805015,
          -0.7060660189349113,
          -0.8174975427165211,
          -0.38149733471088915,
          -0.7084072868208814,
          -0.39806681033196634,
          -0.8914892600941277,
          -1.5052603385702696,
          -0.9813642302130184,
          0.04494138180117924,
          -0.12752218623243608,
          -0.5852537721449297,
          -1.1429758586916507,
          -0.4638526346886634,
          -1.663851445469121,
          -0.28704742760595237,
          -1.1725333964822868,
          -0.5977478688278034,
          -0.14923857653789946,
          -1.026768445228112,
          -0.3015386538429473,
          -1.4669470397265931,
          -0.4678296223747439,
          -1.0896865781960774,
          -0.8677822800759298,
          -0.13409211656790188,
          -0.8948578948059878,
          -1.4603980785482034,
          -0.44524070989467573,
          -0.45554513566027843,
          -0.29340315230230235,
          -0.8117890610415438,
          -0.14729350622624482,
          -1.3778573683236255,
          -0.9193992731794376,
          -0.38682911459681013,
          -1.2869319102611914,
          -0.7252551126177236,
          -0.868013698999044,
          -0.9337061352722231,
          -1.0896620613346513,
          -0.6448056498244409,
          -1.1662730686452822,
          -0.18660616919565742,
          -0.9176814861576099,
          0.29509657966496605,
          -0.2812237696800209,
          -1.1178838072470851,
          -0.3664845298973708,
          -0.9568107862600983,
          -0.5157709560011784,
          -1.0991162744613554,
          -0.9941392609564983,
          -1.3309992562550383,
          -0.7426141455889472,
          -1.1120327215056747,
          -1.3334295482454077,
          -1.3824211748203283,
          -1.2415892813055682,
          -1.2838284767143826,
          -0.39507358622299654,
          -0.9607646619791599,
          -1.3779412692049695,
          -0.9413173890851299,
          -0.27749941819299323,
          -1.116635051786187,
          -1.1087686658703797,
          -1.6635849787681132,
          -0.4619264038029874,
          -1.0452893513708055,
          -0.9703860541033518,
          -1.2207016177349854,
          -1.0076368085913259,
          -1.2338524128760784,
          -1.2817659687681688,
          -0.7918314413279033,
          -0.2241183104125706,
          -1.3326715246923426,
          -1.291956216950729,
          -1.2797063558687265,
          -1.4689157262509558,
          -1.1141012207228205,
          -1.3821103006001398,
          -1.0582777475653182,
          -1.0292108616701525,
          -1.3617257969164474,
          -1.6309151813110165,
          -1.2839460188949385,
          -1.1170263803484661,
          -1.7984504562007302,
          -1.6911417292117081,
          -0.5216460240134927
         ],
         "z": [
          -1.4004133051052754,
          -0.9649233707395314,
          -0.32495061707073264,
          -1.7393191006862296,
          0.8077542653649294,
          0.9980689927801125,
          -0.9124100570374523,
          -0.1084738310240461,
          -1.253973521134567,
          -0.27271618609308657,
          -0.7528773929768258,
          -0.06171663544213795,
          -0.06807965781108355,
          -0.5446436791976579,
          1.643630987820017,
          1.088565794848728,
          0.21446826369607425,
          -0.28941131994611774,
          -1.441357980323433,
          -1.1992763367726502,
          1.7432899892556377,
          -0.29206275946838656,
          -0.5213766128205739,
          -0.8102303208107738,
          1.1950079646489713,
          -1.7640409791899945,
          -0.4375599787822289,
          -0.8497215432888431,
          -1.3173736292560416,
          2.283966491709258,
          -0.4825752060915922,
          0.9402357957472738,
          1.661647380523405,
          0.0618623045636496,
          -0.25360716115655074,
          -0.10833846665089436,
          -1.2274832872474262,
          0.5743236365606792,
          -0.8704259881128089,
          -0.4776770205923604,
          0.3203415581179659,
          0.27979570910973706,
          -1.9006354011895539,
          0.19093770732273033,
          -0.8595529549812952,
          0.530346706396404,
          -2.05007175889123,
          -0.5494596202065158,
          -0.5482212244831243,
          0.2798048411192976,
          1.30812370722734,
          -2.26481581383847,
          -0.2651665372415286,
          -0.06024160360929458,
          -1.4820304792743966,
          -0.9862942231599325,
          -0.7465864882810518,
          -0.5261783737399994,
          0.8707056183272249,
          -1.480481880059058,
          -0.7631611234854254,
          0.6717662093414606,
          0.5140008638799356,
          -0.9312934898732973,
          -1.2100756408779452,
          -0.6350803649021972,
          -1.945479248625923,
          -2.1453004748881943,
          0.9106962493289199,
          -1.4305605595800746,
          1.4805450677816216,
          -1.0633417117771973,
          0.5588368280487673,
          -0.675591952897953,
          -0.8519862790519744,
          1.0284142427571463,
          1.0175765935166534,
          -0.9873792109112328,
          -1.1249541803337733,
          1.2719550113373586,
          -0.35111746121985654,
          -1.6448817498663846,
          1.2773089951447534,
          -0.2567966043276868,
          -0.02949297299290822,
          -1.2104316868364038,
          1.7474051650042446,
          -0.26152137530570324,
          0.7052829952173651,
          -0.13869626209905045,
          -0.7831273612850429,
          -0.07531547276737217,
          -0.9308931384144644,
          -0.5751132899924013,
          0.8372055547700558,
          1.7374250362563235,
          -0.6565730485685995,
          -0.3925106031199163,
          -0.865254268501286,
          -2.1492180530992466,
          -0.5513495929789599,
          -1.0007794440205535,
          -0.2994455812063631,
          -1.3189510080069577,
          -1.8979745180949623,
          -1.9391969822435677,
          -1.7949086708462711,
          -0.6194478491625895,
          0.3623917137998233,
          -1.2542692684008105,
          0.3010042759932608,
          -1.9917261405704176,
          -1.597539988547179,
          -0.09243729540420373,
          -2.022749391366829,
          -2.0077429506466395,
          0.7393169705345423,
          0.6449859253868232,
          0.23317945008799443,
          -0.5632023920649752,
          0.8245135126867302,
          -0.7789326403157015,
          0.25639961826346724,
          -0.6373751435208398,
          -0.6408113772803413,
          -0.5188225345480818,
          -0.37494398648162064,
          0.39074605648879945,
          -1.349173143592935,
          -1.1817125588966542,
          0.02843311808424734,
          0.22004826736586947,
          -1.7834213763242157,
          -1.8961039844894745,
          0.13389951774289383,
          -0.9615162608888832,
          -0.0370892476858918,
          1.3963373892625077,
          0.12528760754513654,
          -0.9603083105071211,
          -0.42204079554910184,
          -0.8532515261931342,
          0.059180893475228404,
          -2.0364845283545074,
          -0.5283299479857334,
          0.31741180974245625,
          -0.9156866193770187,
          0.15233352308261278,
          -0.9268145388292051,
          0.5996179449535324,
          0.2667455382727556,
          -0.644760719944234,
          0.0681760968541148,
          -0.7113153164820967,
          0.48483007219278307,
          -1.154578792297407,
          -0.6651470825880086,
          -0.5757178604806829,
          0.005627095526234151,
          -1.50842956217096,
          -0.2470815559024978,
          -0.25250477135963667,
          -1.7749461310142198,
          -1.3423786004870957,
          -0.7594766103113862,
          0.1438101983899417,
          -0.08343984399472239,
          -0.6116048603335277,
          -1.215400932804156,
          0.07020679444797259,
          0.013841693989761053,
          2.2138206177382314,
          0.04831889295942018,
          1.35980547224402,
          0.373687069609122,
          1.3059020745170427,
          1.0875251408060214,
          -0.5848864812742223,
          -1.0332877447058422,
          -1.5032241526810137,
          0.18906116098304002,
          -0.7514564049594283,
          -1.1311733767714574,
          -0.8061320495262855,
          -1.571905621973906,
          -0.5427154343323543,
          -0.5588780848861126,
          -0.2220139050208149,
          -1.372520947544399,
          -1.0733281113061237,
          -0.3311490399856805,
          -0.7752451339263072,
          -1.0193590322257409,
          -0.6957391169719132,
          0.8837124448208151,
          0.5773456775840023,
          -0.5485028803946393,
          -1.2602246130865178,
          -0.22985103720350455,
          -0.5399975212116075,
          -0.28778297994825996,
          -1.0458375823230308,
          -0.9598506588959335,
          0.2523187187493509,
          -0.029174202443627926,
          0.40232696712479055,
          -0.3912797458145919,
          1.0592510587172281,
          -0.1493201779105548,
          -0.11799325464135947,
          1.6307428102034973,
          0.5952794126435739,
          -0.11683795352710066,
          -0.5471619420740743,
          0.5161967034639396,
          -0.5101620590942906,
          -0.13781891780897193,
          0.4963070199555599,
          2.771573997388832,
          0.5704610501164503,
          1.7371176910345398,
          1.5155710512425424,
          -0.6572256713185763,
          -0.3629826418335976,
          0.7249777052288698,
          -0.6471770061243427,
          1.5826198399378124,
          2.049492950786872,
          -0.8253778810406752,
          1.2890739042952375,
          -0.7617731981454893,
          0.1943442601148477,
          0.5031013619195116,
          -0.6349969881126273,
          -0.449950144541208,
          1.918858798197004,
          0.577638279805515,
          -0.3496662626327317,
          0.3478711021311654,
          0.5390412542797874,
          0.19314231273019833,
          -0.3945042696935091,
          0.8972736258421077,
          0.18557990468768737,
          0.1375907985381268,
          1.287396451672238,
          0.30420611104121076,
          1.78447936616835,
          0.38726326157500013,
          0.7076900409840294,
          -1.2592732128390594,
          1.5933247212354955,
          -0.3425741842533332,
          1.9876790682368453,
          -0.5387412591810978,
          0.3381840375760109,
          1.546320658892265,
          -0.45093822364001834,
          1.685633717350598,
          -0.5300470913013638,
          -0.12265067975150494,
          -0.12641363255222934,
          0.6211636130849906,
          0.37338034584706264,
          -0.9121837042261983,
          -0.4912288899154883,
          -0.1689093973343714,
          0.6050375439423756,
          -0.09577818541354194,
          1.1258158550709487,
          0.7181947541904107,
          -1.0420672915325084,
          1.9455508714803589,
          0.24230599090207822,
          0.8948126063667989,
          -0.2236510394033396,
          -0.0006836791933623193,
          0.9959862046379329,
          -1.479769460260737,
          0.4904676533618362,
          -0.5631616789192628,
          0.879221587790603,
          -0.1304463229503139,
          -0.29779983499203677,
          -0.6543585275957032,
          -0.4550415729150332,
          2.01299023279111,
          1.1001451794356603,
          1.6794089397035392,
          0.37033091996914763,
          1.868502711619718,
          -0.3997274756717763,
          -0.6888715457885809,
          0.06409373038261158,
          0.8312848780567236,
          0.2188906043397589,
          0.17892104201425815,
          -0.0022607620604824623,
          -0.11904635023207501,
          -0.6789704734420698,
          0.19370139240743933,
          0.7351107886223786,
          -0.31563531045989124,
          0.9735058157280575,
          -0.5648654229983431,
          0.7872329141122311,
          -0.6605028096168867,
          1.5803299910586732,
          -0.3747311050888302,
          0.12819772690978862,
          1.5046916538723814,
          0.9999551341237749,
          -1.185196729452466,
          -0.4168220459772288,
          0.2914248615440154,
          -0.8328167494715941,
          1.3735565454636192,
          -0.12112998994586917,
          0.5153585283148692,
          -1.6656323256612835,
          1.7963208910865154,
          1.6288414926459809,
          1.7015415678187877,
          1.2954359196973582,
          -0.404625710950044,
          -0.03815098803582206,
          -1.7462204605644123,
          1.294066130663022,
          -0.513275396987201,
          0.018457923910035375,
          1.4153769128078921,
          0.4251024115988604,
          0.020237822129061542,
          2.1134285854131707,
          1.5539227642854163,
          0.3269586617642851,
          0.1493289323610052,
          1.0422459321558186,
          -0.9512277355657687,
          0.32001670101234486,
          0.9143072982281143,
          -0.4922636678335761,
          -0.1958746885278979,
          -0.23691353086516653,
          0.07646058425330769,
          -0.9198195463175172,
          0.23211597271502996,
          -0.4357699902741502,
          0.8691669916165442,
          -0.16709961448330374,
          1.7370143938977731,
          0.5090170256797768,
          1.4937156019264155,
          2.0935759856151406,
          -0.6070371590329251,
          1.53293450372026,
          0.6917585184347076,
          0.9275096132800208,
          0.8494786332665201,
          0.18979751339470605,
          1.3153150242518288,
          0.3557715246685998,
          -0.2296811775574902,
          -0.43237439649633425,
          0.04096758963680833,
          0.4959702200395984,
          -0.06869792058882285,
          -0.7048231051935503,
          -0.4755470093697453,
          1.2516605232535225,
          0.9043938940448051,
          -0.05603271186520478,
          0.2866955839853096,
          1.5035840101892246,
          0.706596753701091,
          1.0520875109310812,
          -0.10704096772688199,
          -0.5965173956953367,
          0.08456588645820531,
          -0.6913573505779315,
          0.43498891063193984,
          1.4796582011117945,
          1.8297706175157633,
          -0.4491780287507696,
          1.0613436749594327,
          1.650228455729887,
          1.3208346929707868,
          0.5206826081362381,
          0.7260903745516305,
          0.22361056947364702,
          0.5650232268089094,
          0.45820592281126743,
          0.7693160582733566,
          2.4178221110177316,
          0.7088567585476335,
          0.5616034746120159,
          3.0310616114913316
         ]
        }
       ],
       "layout": {
        "coloraxis": {
         "colorbar": {
          "title": {
           "text": "color"
          }
         },
         "colorscale": [
          [
           0,
           "#0d0887"
          ],
          [
           0.1111111111111111,
           "#46039f"
          ],
          [
           0.2222222222222222,
           "#7201a8"
          ],
          [
           0.3333333333333333,
           "#9c179e"
          ],
          [
           0.4444444444444444,
           "#bd3786"
          ],
          [
           0.5555555555555556,
           "#d8576b"
          ],
          [
           0.6666666666666666,
           "#ed7953"
          ],
          [
           0.7777777777777778,
           "#fb9f3a"
          ],
          [
           0.8888888888888888,
           "#fdca26"
          ],
          [
           1,
           "#f0f921"
          ]
         ]
        },
        "legend": {
         "tracegroupgap": 0
        },
        "margin": {
         "t": 60
        },
        "scene": {
         "domain": {
          "x": [
           0,
           1
          ],
          "y": [
           0,
           1
          ]
         },
         "xaxis": {
          "title": {
           "text": "PC1"
          }
         },
         "yaxis": {
          "title": {
           "text": "PC2"
          }
         },
         "zaxis": {
          "title": {
           "text": "PC3"
          }
         }
        },
        "template": {
         "data": {
          "bar": [
           {
            "error_x": {
             "color": "#2a3f5f"
            },
            "error_y": {
             "color": "#2a3f5f"
            },
            "marker": {
             "line": {
              "color": "#E5ECF6",
              "width": 0.5
             },
             "pattern": {
              "fillmode": "overlay",
              "size": 10,
              "solidity": 0.2
             }
            },
            "type": "bar"
           }
          ],
          "barpolar": [
           {
            "marker": {
             "line": {
              "color": "#E5ECF6",
              "width": 0.5
             },
             "pattern": {
              "fillmode": "overlay",
              "size": 10,
              "solidity": 0.2
             }
            },
            "type": "barpolar"
           }
          ],
          "carpet": [
           {
            "aaxis": {
             "endlinecolor": "#2a3f5f",
             "gridcolor": "white",
             "linecolor": "white",
             "minorgridcolor": "white",
             "startlinecolor": "#2a3f5f"
            },
            "baxis": {
             "endlinecolor": "#2a3f5f",
             "gridcolor": "white",
             "linecolor": "white",
             "minorgridcolor": "white",
             "startlinecolor": "#2a3f5f"
            },
            "type": "carpet"
           }
          ],
          "choropleth": [
           {
            "colorbar": {
             "outlinewidth": 0,
             "ticks": ""
            },
            "type": "choropleth"
           }
          ],
          "contour": [
           {
            "colorbar": {
             "outlinewidth": 0,
             "ticks": ""
            },
            "colorscale": [
             [
              0,
              "#0d0887"
             ],
             [
              0.1111111111111111,
              "#46039f"
             ],
             [
              0.2222222222222222,
              "#7201a8"
             ],
             [
              0.3333333333333333,
              "#9c179e"
             ],
             [
              0.4444444444444444,
              "#bd3786"
             ],
             [
              0.5555555555555556,
              "#d8576b"
             ],
             [
              0.6666666666666666,
              "#ed7953"
             ],
             [
              0.7777777777777778,
              "#fb9f3a"
             ],
             [
              0.8888888888888888,
              "#fdca26"
             ],
             [
              1,
              "#f0f921"
             ]
            ],
            "type": "contour"
           }
          ],
          "contourcarpet": [
           {
            "colorbar": {
             "outlinewidth": 0,
             "ticks": ""
            },
            "type": "contourcarpet"
           }
          ],
          "heatmap": [
           {
            "colorbar": {
             "outlinewidth": 0,
             "ticks": ""
            },
            "colorscale": [
             [
              0,
              "#0d0887"
             ],
             [
              0.1111111111111111,
              "#46039f"
             ],
             [
              0.2222222222222222,
              "#7201a8"
             ],
             [
              0.3333333333333333,
              "#9c179e"
             ],
             [
              0.4444444444444444,
              "#bd3786"
             ],
             [
              0.5555555555555556,
              "#d8576b"
             ],
             [
              0.6666666666666666,
              "#ed7953"
             ],
             [
              0.7777777777777778,
              "#fb9f3a"
             ],
             [
              0.8888888888888888,
              "#fdca26"
             ],
             [
              1,
              "#f0f921"
             ]
            ],
            "type": "heatmap"
           }
          ],
          "heatmapgl": [
           {
            "colorbar": {
             "outlinewidth": 0,
             "ticks": ""
            },
            "colorscale": [
             [
              0,
              "#0d0887"
             ],
             [
              0.1111111111111111,
              "#46039f"
             ],
             [
              0.2222222222222222,
              "#7201a8"
             ],
             [
              0.3333333333333333,
              "#9c179e"
             ],
             [
              0.4444444444444444,
              "#bd3786"
             ],
             [
              0.5555555555555556,
              "#d8576b"
             ],
             [
              0.6666666666666666,
              "#ed7953"
             ],
             [
              0.7777777777777778,
              "#fb9f3a"
             ],
             [
              0.8888888888888888,
              "#fdca26"
             ],
             [
              1,
              "#f0f921"
             ]
            ],
            "type": "heatmapgl"
           }
          ],
          "histogram": [
           {
            "marker": {
             "pattern": {
              "fillmode": "overlay",
              "size": 10,
              "solidity": 0.2
             }
            },
            "type": "histogram"
           }
          ],
          "histogram2d": [
           {
            "colorbar": {
             "outlinewidth": 0,
             "ticks": ""
            },
            "colorscale": [
             [
              0,
              "#0d0887"
             ],
             [
              0.1111111111111111,
              "#46039f"
             ],
             [
              0.2222222222222222,
              "#7201a8"
             ],
             [
              0.3333333333333333,
              "#9c179e"
             ],
             [
              0.4444444444444444,
              "#bd3786"
             ],
             [
              0.5555555555555556,
              "#d8576b"
             ],
             [
              0.6666666666666666,
              "#ed7953"
             ],
             [
              0.7777777777777778,
              "#fb9f3a"
             ],
             [
              0.8888888888888888,
              "#fdca26"
             ],
             [
              1,
              "#f0f921"
             ]
            ],
            "type": "histogram2d"
           }
          ],
          "histogram2dcontour": [
           {
            "colorbar": {
             "outlinewidth": 0,
             "ticks": ""
            },
            "colorscale": [
             [
              0,
              "#0d0887"
             ],
             [
              0.1111111111111111,
              "#46039f"
             ],
             [
              0.2222222222222222,
              "#7201a8"
             ],
             [
              0.3333333333333333,
              "#9c179e"
             ],
             [
              0.4444444444444444,
              "#bd3786"
             ],
             [
              0.5555555555555556,
              "#d8576b"
             ],
             [
              0.6666666666666666,
              "#ed7953"
             ],
             [
              0.7777777777777778,
              "#fb9f3a"
             ],
             [
              0.8888888888888888,
              "#fdca26"
             ],
             [
              1,
              "#f0f921"
             ]
            ],
            "type": "histogram2dcontour"
           }
          ],
          "mesh3d": [
           {
            "colorbar": {
             "outlinewidth": 0,
             "ticks": ""
            },
            "type": "mesh3d"
           }
          ],
          "parcoords": [
           {
            "line": {
             "colorbar": {
              "outlinewidth": 0,
              "ticks": ""
             }
            },
            "type": "parcoords"
           }
          ],
          "pie": [
           {
            "automargin": true,
            "type": "pie"
           }
          ],
          "scatter": [
           {
            "fillpattern": {
             "fillmode": "overlay",
             "size": 10,
             "solidity": 0.2
            },
            "type": "scatter"
           }
          ],
          "scatter3d": [
           {
            "line": {
             "colorbar": {
              "outlinewidth": 0,
              "ticks": ""
             }
            },
            "marker": {
             "colorbar": {
              "outlinewidth": 0,
              "ticks": ""
             }
            },
            "type": "scatter3d"
           }
          ],
          "scattercarpet": [
           {
            "marker": {
             "colorbar": {
              "outlinewidth": 0,
              "ticks": ""
             }
            },
            "type": "scattercarpet"
           }
          ],
          "scattergeo": [
           {
            "marker": {
             "colorbar": {
              "outlinewidth": 0,
              "ticks": ""
             }
            },
            "type": "scattergeo"
           }
          ],
          "scattergl": [
           {
            "marker": {
             "colorbar": {
              "outlinewidth": 0,
              "ticks": ""
             }
            },
            "type": "scattergl"
           }
          ],
          "scattermapbox": [
           {
            "marker": {
             "colorbar": {
              "outlinewidth": 0,
              "ticks": ""
             }
            },
            "type": "scattermapbox"
           }
          ],
          "scatterpolar": [
           {
            "marker": {
             "colorbar": {
              "outlinewidth": 0,
              "ticks": ""
             }
            },
            "type": "scatterpolar"
           }
          ],
          "scatterpolargl": [
           {
            "marker": {
             "colorbar": {
              "outlinewidth": 0,
              "ticks": ""
             }
            },
            "type": "scatterpolargl"
           }
          ],
          "scatterternary": [
           {
            "marker": {
             "colorbar": {
              "outlinewidth": 0,
              "ticks": ""
             }
            },
            "type": "scatterternary"
           }
          ],
          "surface": [
           {
            "colorbar": {
             "outlinewidth": 0,
             "ticks": ""
            },
            "colorscale": [
             [
              0,
              "#0d0887"
             ],
             [
              0.1111111111111111,
              "#46039f"
             ],
             [
              0.2222222222222222,
              "#7201a8"
             ],
             [
              0.3333333333333333,
              "#9c179e"
             ],
             [
              0.4444444444444444,
              "#bd3786"
             ],
             [
              0.5555555555555556,
              "#d8576b"
             ],
             [
              0.6666666666666666,
              "#ed7953"
             ],
             [
              0.7777777777777778,
              "#fb9f3a"
             ],
             [
              0.8888888888888888,
              "#fdca26"
             ],
             [
              1,
              "#f0f921"
             ]
            ],
            "type": "surface"
           }
          ],
          "table": [
           {
            "cells": {
             "fill": {
              "color": "#EBF0F8"
             },
             "line": {
              "color": "white"
             }
            },
            "header": {
             "fill": {
              "color": "#C8D4E3"
             },
             "line": {
              "color": "white"
             }
            },
            "type": "table"
           }
          ]
         },
         "layout": {
          "annotationdefaults": {
           "arrowcolor": "#2a3f5f",
           "arrowhead": 0,
           "arrowwidth": 1
          },
          "autotypenumbers": "strict",
          "coloraxis": {
           "colorbar": {
            "outlinewidth": 0,
            "ticks": ""
           }
          },
          "colorscale": {
           "diverging": [
            [
             0,
             "#8e0152"
            ],
            [
             0.1,
             "#c51b7d"
            ],
            [
             0.2,
             "#de77ae"
            ],
            [
             0.3,
             "#f1b6da"
            ],
            [
             0.4,
             "#fde0ef"
            ],
            [
             0.5,
             "#f7f7f7"
            ],
            [
             0.6,
             "#e6f5d0"
            ],
            [
             0.7,
             "#b8e186"
            ],
            [
             0.8,
             "#7fbc41"
            ],
            [
             0.9,
             "#4d9221"
            ],
            [
             1,
             "#276419"
            ]
           ],
           "sequential": [
            [
             0,
             "#0d0887"
            ],
            [
             0.1111111111111111,
             "#46039f"
            ],
            [
             0.2222222222222222,
             "#7201a8"
            ],
            [
             0.3333333333333333,
             "#9c179e"
            ],
            [
             0.4444444444444444,
             "#bd3786"
            ],
            [
             0.5555555555555556,
             "#d8576b"
            ],
            [
             0.6666666666666666,
             "#ed7953"
            ],
            [
             0.7777777777777778,
             "#fb9f3a"
            ],
            [
             0.8888888888888888,
             "#fdca26"
            ],
            [
             1,
             "#f0f921"
            ]
           ],
           "sequentialminus": [
            [
             0,
             "#0d0887"
            ],
            [
             0.1111111111111111,
             "#46039f"
            ],
            [
             0.2222222222222222,
             "#7201a8"
            ],
            [
             0.3333333333333333,
             "#9c179e"
            ],
            [
             0.4444444444444444,
             "#bd3786"
            ],
            [
             0.5555555555555556,
             "#d8576b"
            ],
            [
             0.6666666666666666,
             "#ed7953"
            ],
            [
             0.7777777777777778,
             "#fb9f3a"
            ],
            [
             0.8888888888888888,
             "#fdca26"
            ],
            [
             1,
             "#f0f921"
            ]
           ]
          },
          "colorway": [
           "#636efa",
           "#EF553B",
           "#00cc96",
           "#ab63fa",
           "#FFA15A",
           "#19d3f3",
           "#FF6692",
           "#B6E880",
           "#FF97FF",
           "#FECB52"
          ],
          "font": {
           "color": "#2a3f5f"
          },
          "geo": {
           "bgcolor": "white",
           "lakecolor": "white",
           "landcolor": "#E5ECF6",
           "showlakes": true,
           "showland": true,
           "subunitcolor": "white"
          },
          "hoverlabel": {
           "align": "left"
          },
          "hovermode": "closest",
          "mapbox": {
           "style": "light"
          },
          "paper_bgcolor": "white",
          "plot_bgcolor": "#E5ECF6",
          "polar": {
           "angularaxis": {
            "gridcolor": "white",
            "linecolor": "white",
            "ticks": ""
           },
           "bgcolor": "#E5ECF6",
           "radialaxis": {
            "gridcolor": "white",
            "linecolor": "white",
            "ticks": ""
           }
          },
          "scene": {
           "xaxis": {
            "backgroundcolor": "#E5ECF6",
            "gridcolor": "white",
            "gridwidth": 2,
            "linecolor": "white",
            "showbackground": true,
            "ticks": "",
            "zerolinecolor": "white"
           },
           "yaxis": {
            "backgroundcolor": "#E5ECF6",
            "gridcolor": "white",
            "gridwidth": 2,
            "linecolor": "white",
            "showbackground": true,
            "ticks": "",
            "zerolinecolor": "white"
           },
           "zaxis": {
            "backgroundcolor": "#E5ECF6",
            "gridcolor": "white",
            "gridwidth": 2,
            "linecolor": "white",
            "showbackground": true,
            "ticks": "",
            "zerolinecolor": "white"
           }
          },
          "shapedefaults": {
           "line": {
            "color": "#2a3f5f"
           }
          },
          "ternary": {
           "aaxis": {
            "gridcolor": "white",
            "linecolor": "white",
            "ticks": ""
           },
           "baxis": {
            "gridcolor": "white",
            "linecolor": "white",
            "ticks": ""
           },
           "bgcolor": "#E5ECF6",
           "caxis": {
            "gridcolor": "white",
            "linecolor": "white",
            "ticks": ""
           }
          },
          "title": {
           "x": 0.05
          },
          "xaxis": {
           "automargin": true,
           "gridcolor": "white",
           "linecolor": "white",
           "ticks": "",
           "title": {
            "standoff": 15
           },
           "zerolinecolor": "white",
           "zerolinewidth": 2
          },
          "yaxis": {
           "automargin": true,
           "gridcolor": "white",
           "linecolor": "white",
           "ticks": "",
           "title": {
            "standoff": 15
           },
           "zerolinecolor": "white",
           "zerolinewidth": 2
          }
         }
        }
       }
      }
     },
     "metadata": {},
     "output_type": "display_data"
    }
   ],
   "source": [
    "fig2 = px.scatter_3d(pcaDataScaled, x='PC1', y='PC2', z='PC3',color=km_neat)\n",
    "fig2"
   ]
  },
  {
   "cell_type": "code",
   "execution_count": 15,
   "metadata": {},
   "outputs": [],
   "source": [
    "pcaDataFull = pd.read_csv('./Data/PCAData.csv')\n",
    "pcaDataScaled['PLAYER'] = pcaDataFull['Player'].values\n",
    "pcaDataScaled['TEAM'] = pcaDataFull['Team'].values\n",
    "pcaDataScaled['kCLUSTER'] = km_neat\n",
    "pcaDataScaled.to_csv('Data/kmeansClustering.csv', index = False)"
   ]
  },
  {
   "cell_type": "code",
   "execution_count": 16,
   "metadata": {},
   "outputs": [
    {
     "data": {
      "text/html": [
       "<div>\n",
       "<style scoped>\n",
       "    .dataframe tbody tr th:only-of-type {\n",
       "        vertical-align: middle;\n",
       "    }\n",
       "\n",
       "    .dataframe tbody tr th {\n",
       "        vertical-align: top;\n",
       "    }\n",
       "\n",
       "    .dataframe thead th {\n",
       "        text-align: right;\n",
       "    }\n",
       "</style>\n",
       "<table border=\"1\" class=\"dataframe\">\n",
       "  <thead>\n",
       "    <tr style=\"text-align: right;\">\n",
       "      <th></th>\n",
       "      <th>PC1</th>\n",
       "      <th>PC2</th>\n",
       "      <th>PC3</th>\n",
       "      <th>PC4</th>\n",
       "      <th>PC5</th>\n",
       "      <th>PLAYER</th>\n",
       "      <th>TEAM</th>\n",
       "      <th>kCLUSTER</th>\n",
       "    </tr>\n",
       "  </thead>\n",
       "  <tbody>\n",
       "    <tr>\n",
       "      <th>0</th>\n",
       "      <td>-1.788349</td>\n",
       "      <td>1.685221</td>\n",
       "      <td>-1.400413</td>\n",
       "      <td>-1.224786</td>\n",
       "      <td>-1.228969</td>\n",
       "      <td>Stephen Curry</td>\n",
       "      <td>GSW</td>\n",
       "      <td>3</td>\n",
       "    </tr>\n",
       "    <tr>\n",
       "      <th>1</th>\n",
       "      <td>-0.958652</td>\n",
       "      <td>1.893747</td>\n",
       "      <td>-0.964923</td>\n",
       "      <td>-2.053574</td>\n",
       "      <td>-1.273237</td>\n",
       "      <td>Bradley Beal</td>\n",
       "      <td>WAS</td>\n",
       "      <td>3</td>\n",
       "    </tr>\n",
       "    <tr>\n",
       "      <th>2</th>\n",
       "      <td>-2.039215</td>\n",
       "      <td>2.022334</td>\n",
       "      <td>-0.324951</td>\n",
       "      <td>-2.249559</td>\n",
       "      <td>0.109552</td>\n",
       "      <td>Damian Lillard</td>\n",
       "      <td>POR</td>\n",
       "      <td>3</td>\n",
       "    </tr>\n",
       "    <tr>\n",
       "      <th>3</th>\n",
       "      <td>1.461227</td>\n",
       "      <td>3.961796</td>\n",
       "      <td>-1.739319</td>\n",
       "      <td>0.872781</td>\n",
       "      <td>4.032789</td>\n",
       "      <td>Joel Embiid</td>\n",
       "      <td>PHI</td>\n",
       "      <td>4</td>\n",
       "    </tr>\n",
       "    <tr>\n",
       "      <th>4</th>\n",
       "      <td>0.060457</td>\n",
       "      <td>2.934781</td>\n",
       "      <td>0.807754</td>\n",
       "      <td>-0.703425</td>\n",
       "      <td>0.323526</td>\n",
       "      <td>Giannis Antetokounmpo</td>\n",
       "      <td>MIL</td>\n",
       "      <td>3</td>\n",
       "    </tr>\n",
       "    <tr>\n",
       "      <th>...</th>\n",
       "      <td>...</td>\n",
       "      <td>...</td>\n",
       "      <td>...</td>\n",
       "      <td>...</td>\n",
       "      <td>...</td>\n",
       "      <td>...</td>\n",
       "      <td>...</td>\n",
       "      <td>...</td>\n",
       "    </tr>\n",
       "    <tr>\n",
       "      <th>392</th>\n",
       "      <td>0.130278</td>\n",
       "      <td>-1.283946</td>\n",
       "      <td>0.769316</td>\n",
       "      <td>1.217272</td>\n",
       "      <td>1.464504</td>\n",
       "      <td>Nicolo Melli</td>\n",
       "      <td>DAL</td>\n",
       "      <td>1</td>\n",
       "    </tr>\n",
       "    <tr>\n",
       "      <th>393</th>\n",
       "      <td>-0.895135</td>\n",
       "      <td>-1.117026</td>\n",
       "      <td>2.417822</td>\n",
       "      <td>0.762461</td>\n",
       "      <td>2.670013</td>\n",
       "      <td>Matthew Dellavedova</td>\n",
       "      <td>CLE</td>\n",
       "      <td>1</td>\n",
       "    </tr>\n",
       "    <tr>\n",
       "      <th>394</th>\n",
       "      <td>0.291915</td>\n",
       "      <td>-1.798450</td>\n",
       "      <td>0.708857</td>\n",
       "      <td>0.040237</td>\n",
       "      <td>0.469225</td>\n",
       "      <td>KZ Okpala</td>\n",
       "      <td>MIA</td>\n",
       "      <td>1</td>\n",
       "    </tr>\n",
       "    <tr>\n",
       "      <th>395</th>\n",
       "      <td>0.383021</td>\n",
       "      <td>-1.691142</td>\n",
       "      <td>0.561603</td>\n",
       "      <td>-0.869552</td>\n",
       "      <td>-0.582927</td>\n",
       "      <td>Wes Iwundu</td>\n",
       "      <td>NOP</td>\n",
       "      <td>6</td>\n",
       "    </tr>\n",
       "    <tr>\n",
       "      <th>396</th>\n",
       "      <td>1.248481</td>\n",
       "      <td>-0.521646</td>\n",
       "      <td>3.031062</td>\n",
       "      <td>-0.268856</td>\n",
       "      <td>0.318013</td>\n",
       "      <td>Ed Davis</td>\n",
       "      <td>MIN</td>\n",
       "      <td>5</td>\n",
       "    </tr>\n",
       "  </tbody>\n",
       "</table>\n",
       "<p>397 rows × 8 columns</p>\n",
       "</div>"
      ],
      "text/plain": [
       "          PC1       PC2       PC3       PC4       PC5                 PLAYER  \\\n",
       "0   -1.788349  1.685221 -1.400413 -1.224786 -1.228969          Stephen Curry   \n",
       "1   -0.958652  1.893747 -0.964923 -2.053574 -1.273237           Bradley Beal   \n",
       "2   -2.039215  2.022334 -0.324951 -2.249559  0.109552         Damian Lillard   \n",
       "3    1.461227  3.961796 -1.739319  0.872781  4.032789            Joel Embiid   \n",
       "4    0.060457  2.934781  0.807754 -0.703425  0.323526  Giannis Antetokounmpo   \n",
       "..        ...       ...       ...       ...       ...                    ...   \n",
       "392  0.130278 -1.283946  0.769316  1.217272  1.464504           Nicolo Melli   \n",
       "393 -0.895135 -1.117026  2.417822  0.762461  2.670013    Matthew Dellavedova   \n",
       "394  0.291915 -1.798450  0.708857  0.040237  0.469225              KZ Okpala   \n",
       "395  0.383021 -1.691142  0.561603 -0.869552 -0.582927             Wes Iwundu   \n",
       "396  1.248481 -0.521646  3.031062 -0.268856  0.318013               Ed Davis   \n",
       "\n",
       "    TEAM  kCLUSTER  \n",
       "0    GSW         3  \n",
       "1    WAS         3  \n",
       "2    POR         3  \n",
       "3    PHI         4  \n",
       "4    MIL         3  \n",
       "..   ...       ...  \n",
       "392  DAL         1  \n",
       "393  CLE         1  \n",
       "394  MIA         1  \n",
       "395  NOP         6  \n",
       "396  MIN         5  \n",
       "\n",
       "[397 rows x 8 columns]"
      ]
     },
     "execution_count": 16,
     "metadata": {},
     "output_type": "execute_result"
    }
   ],
   "source": [
    "pcaDataScaled"
   ]
  },
  {
   "cell_type": "code",
   "execution_count": null,
   "metadata": {},
   "outputs": [],
   "source": []
  }
 ],
 "metadata": {
  "interpreter": {
   "hash": "4bd624a0593993fe43ac4046b27b898fb2ef75c21c08f81e89e64ea0f51df676"
  },
  "kernelspec": {
   "display_name": "Python 3.9.7 ('tensorflow')",
   "language": "python",
   "name": "python3"
  },
  "language_info": {
   "codemirror_mode": {
    "name": "ipython",
    "version": 3
   },
   "file_extension": ".py",
   "mimetype": "text/x-python",
   "name": "python",
   "nbconvert_exporter": "python",
   "pygments_lexer": "ipython3",
   "version": "3.9.7"
  },
  "orig_nbformat": 4
 },
 "nbformat": 4,
 "nbformat_minor": 2
}
