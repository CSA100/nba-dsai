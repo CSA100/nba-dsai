{
 "cells": [
  {
   "cell_type": "markdown",
   "metadata": {},
   "source": [
    "# K-Means Clustering\n",
    "\n",
    "A secondary analysis using K-Means Clustering will allow us to do check against our results from Hierarchical Agglomerative Clustering, and affirm our conclusions about the data"
   ]
  },
  {
   "cell_type": "code",
   "execution_count": 2,
   "metadata": {},
   "outputs": [],
   "source": [
    "import numpy as np\n",
    "import pandas as pd \n",
    "import seaborn as sns\n",
    "import matplotlib.pyplot as plt\n",
    "%matplotlib inline\n",
    "\n",
    "# Import Sci-Kit Learn\n",
    "from sklearn.manifold import TSNE\n",
    "from sklearn.cluster import KMeans\n",
    "from sklearn.decomposition import PCA\n",
    "from sklearn.preprocessing import StandardScaler\n",
    "from sklearn import metrics\n",
    "from sklearn import datasets\n",
    "from kneed import KneeLocator\n",
    "import plotly.express as px\n",
    "\n",
    "# Default plot params\n",
    "plt.style.use('seaborn')\n",
    "cmap = 'tab10'"
   ]
  },
  {
   "cell_type": "code",
   "execution_count": 3,
   "metadata": {},
   "outputs": [
    {
     "data": {
      "text/html": [
       "<div>\n",
       "<style scoped>\n",
       "    .dataframe tbody tr th:only-of-type {\n",
       "        vertical-align: middle;\n",
       "    }\n",
       "\n",
       "    .dataframe tbody tr th {\n",
       "        vertical-align: top;\n",
       "    }\n",
       "\n",
       "    .dataframe thead th {\n",
       "        text-align: right;\n",
       "    }\n",
       "</style>\n",
       "<table border=\"1\" class=\"dataframe\">\n",
       "  <thead>\n",
       "    <tr style=\"text-align: right;\">\n",
       "      <th></th>\n",
       "      <th>PC1</th>\n",
       "      <th>PC2</th>\n",
       "      <th>PC3</th>\n",
       "      <th>PC4</th>\n",
       "      <th>PC5</th>\n",
       "    </tr>\n",
       "  </thead>\n",
       "  <tbody>\n",
       "    <tr>\n",
       "      <th>count</th>\n",
       "      <td>397.0</td>\n",
       "      <td>397.0</td>\n",
       "      <td>397.0</td>\n",
       "      <td>397.0</td>\n",
       "      <td>397.0</td>\n",
       "    </tr>\n",
       "    <tr>\n",
       "      <th>mean</th>\n",
       "      <td>-0.0</td>\n",
       "      <td>0.0</td>\n",
       "      <td>-0.0</td>\n",
       "      <td>0.0</td>\n",
       "      <td>-0.0</td>\n",
       "    </tr>\n",
       "    <tr>\n",
       "      <th>std</th>\n",
       "      <td>4.4</td>\n",
       "      <td>3.9</td>\n",
       "      <td>2.5</td>\n",
       "      <td>2.1</td>\n",
       "      <td>1.8</td>\n",
       "    </tr>\n",
       "    <tr>\n",
       "      <th>min</th>\n",
       "      <td>-11.2</td>\n",
       "      <td>-7.0</td>\n",
       "      <td>-5.6</td>\n",
       "      <td>-5.4</td>\n",
       "      <td>-3.7</td>\n",
       "    </tr>\n",
       "    <tr>\n",
       "      <th>25%</th>\n",
       "      <td>-3.2</td>\n",
       "      <td>-2.9</td>\n",
       "      <td>-1.6</td>\n",
       "      <td>-1.6</td>\n",
       "      <td>-1.3</td>\n",
       "    </tr>\n",
       "    <tr>\n",
       "      <th>50%</th>\n",
       "      <td>-0.2</td>\n",
       "      <td>-0.7</td>\n",
       "      <td>-0.2</td>\n",
       "      <td>-0.1</td>\n",
       "      <td>-0.2</td>\n",
       "    </tr>\n",
       "    <tr>\n",
       "      <th>75%</th>\n",
       "      <td>2.8</td>\n",
       "      <td>2.0</td>\n",
       "      <td>1.7</td>\n",
       "      <td>1.3</td>\n",
       "      <td>1.0</td>\n",
       "    </tr>\n",
       "    <tr>\n",
       "      <th>max</th>\n",
       "      <td>11.2</td>\n",
       "      <td>15.4</td>\n",
       "      <td>7.5</td>\n",
       "      <td>7.1</td>\n",
       "      <td>7.1</td>\n",
       "    </tr>\n",
       "  </tbody>\n",
       "</table>\n",
       "</div>"
      ],
      "text/plain": [
       "         PC1    PC2    PC3    PC4    PC5\n",
       "count  397.0  397.0  397.0  397.0  397.0\n",
       "mean    -0.0    0.0   -0.0    0.0   -0.0\n",
       "std      4.4    3.9    2.5    2.1    1.8\n",
       "min    -11.2   -7.0   -5.6   -5.4   -3.7\n",
       "25%     -3.2   -2.9   -1.6   -1.6   -1.3\n",
       "50%     -0.2   -0.7   -0.2   -0.1   -0.2\n",
       "75%      2.8    2.0    1.7    1.3    1.0\n",
       "max     11.2   15.4    7.5    7.1    7.1"
      ]
     },
     "execution_count": 3,
     "metadata": {},
     "output_type": "execute_result"
    }
   ],
   "source": [
    "pcaData = pd.read_csv('./Data/PCAData.csv')\n",
    "pcaData.drop(['Player','Team'],axis=1,inplace=True)\n",
    "pcaData.describe().round(1)"
   ]
  },
  {
   "cell_type": "code",
   "execution_count": 4,
   "metadata": {},
   "outputs": [
    {
     "data": {
      "text/html": [
       "<div>\n",
       "<style scoped>\n",
       "    .dataframe tbody tr th:only-of-type {\n",
       "        vertical-align: middle;\n",
       "    }\n",
       "\n",
       "    .dataframe tbody tr th {\n",
       "        vertical-align: top;\n",
       "    }\n",
       "\n",
       "    .dataframe thead th {\n",
       "        text-align: right;\n",
       "    }\n",
       "</style>\n",
       "<table border=\"1\" class=\"dataframe\">\n",
       "  <thead>\n",
       "    <tr style=\"text-align: right;\">\n",
       "      <th></th>\n",
       "      <th>PC1</th>\n",
       "      <th>PC2</th>\n",
       "      <th>PC3</th>\n",
       "      <th>PC4</th>\n",
       "      <th>PC5</th>\n",
       "    </tr>\n",
       "  </thead>\n",
       "  <tbody>\n",
       "    <tr>\n",
       "      <th>0</th>\n",
       "      <td>-7.937506</td>\n",
       "      <td>6.538865</td>\n",
       "      <td>-3.463275</td>\n",
       "      <td>-2.545460</td>\n",
       "      <td>-2.152836</td>\n",
       "    </tr>\n",
       "    <tr>\n",
       "      <th>1</th>\n",
       "      <td>-4.254931</td>\n",
       "      <td>7.347971</td>\n",
       "      <td>-2.386292</td>\n",
       "      <td>-4.267921</td>\n",
       "      <td>-2.230382</td>\n",
       "    </tr>\n",
       "    <tr>\n",
       "      <th>2</th>\n",
       "      <td>-9.050960</td>\n",
       "      <td>7.846904</td>\n",
       "      <td>-0.803615</td>\n",
       "      <td>-4.675235</td>\n",
       "      <td>0.191907</td>\n",
       "    </tr>\n",
       "    <tr>\n",
       "      <th>3</th>\n",
       "      <td>6.485586</td>\n",
       "      <td>15.372255</td>\n",
       "      <td>-4.301402</td>\n",
       "      <td>1.813892</td>\n",
       "      <td>7.064400</td>\n",
       "    </tr>\n",
       "    <tr>\n",
       "      <th>4</th>\n",
       "      <td>0.268335</td>\n",
       "      <td>11.387311</td>\n",
       "      <td>1.997607</td>\n",
       "      <td>-1.461920</td>\n",
       "      <td>0.566734</td>\n",
       "    </tr>\n",
       "    <tr>\n",
       "      <th>...</th>\n",
       "      <td>...</td>\n",
       "      <td>...</td>\n",
       "      <td>...</td>\n",
       "      <td>...</td>\n",
       "      <td>...</td>\n",
       "    </tr>\n",
       "    <tr>\n",
       "      <th>392</th>\n",
       "      <td>0.578235</td>\n",
       "      <td>-4.981868</td>\n",
       "      <td>1.902548</td>\n",
       "      <td>2.529845</td>\n",
       "      <td>2.565431</td>\n",
       "    </tr>\n",
       "    <tr>\n",
       "      <th>393</th>\n",
       "      <td>-3.973016</td>\n",
       "      <td>-4.334199</td>\n",
       "      <td>5.979366</td>\n",
       "      <td>1.584614</td>\n",
       "      <td>4.677171</td>\n",
       "    </tr>\n",
       "    <tr>\n",
       "      <th>394</th>\n",
       "      <td>1.295650</td>\n",
       "      <td>-6.978208</td>\n",
       "      <td>1.753030</td>\n",
       "      <td>0.083624</td>\n",
       "      <td>0.821960</td>\n",
       "    </tr>\n",
       "    <tr>\n",
       "      <th>395</th>\n",
       "      <td>1.700019</td>\n",
       "      <td>-6.561837</td>\n",
       "      <td>1.388867</td>\n",
       "      <td>-1.807182</td>\n",
       "      <td>-1.021137</td>\n",
       "    </tr>\n",
       "    <tr>\n",
       "      <th>396</th>\n",
       "      <td>5.541327</td>\n",
       "      <td>-2.024050</td>\n",
       "      <td>7.495931</td>\n",
       "      <td>-0.558761</td>\n",
       "      <td>0.557076</td>\n",
       "    </tr>\n",
       "  </tbody>\n",
       "</table>\n",
       "<p>397 rows × 5 columns</p>\n",
       "</div>"
      ],
      "text/plain": [
       "          PC1        PC2       PC3       PC4       PC5\n",
       "0   -7.937506   6.538865 -3.463275 -2.545460 -2.152836\n",
       "1   -4.254931   7.347971 -2.386292 -4.267921 -2.230382\n",
       "2   -9.050960   7.846904 -0.803615 -4.675235  0.191907\n",
       "3    6.485586  15.372255 -4.301402  1.813892  7.064400\n",
       "4    0.268335  11.387311  1.997607 -1.461920  0.566734\n",
       "..        ...        ...       ...       ...       ...\n",
       "392  0.578235  -4.981868  1.902548  2.529845  2.565431\n",
       "393 -3.973016  -4.334199  5.979366  1.584614  4.677171\n",
       "394  1.295650  -6.978208  1.753030  0.083624  0.821960\n",
       "395  1.700019  -6.561837  1.388867 -1.807182 -1.021137\n",
       "396  5.541327  -2.024050  7.495931 -0.558761  0.557076\n",
       "\n",
       "[397 rows x 5 columns]"
      ]
     },
     "execution_count": 4,
     "metadata": {},
     "output_type": "execute_result"
    }
   ],
   "source": [
    "pcaData"
   ]
  },
  {
   "cell_type": "code",
   "execution_count": 5,
   "metadata": {},
   "outputs": [],
   "source": [
    "# to standardise the principle components\n",
    "scaler = StandardScaler()\n",
    "pcaDataScaled = scaler.fit_transform(pcaData)\n"
   ]
  },
  {
   "cell_type": "code",
   "execution_count": 6,
   "metadata": {},
   "outputs": [],
   "source": [
    "# Picking Best number of k part, using elbow method \n",
    "# Specifying the dataset and initializing variables\n",
    "X = pcaDataScaled\n",
    "distorsions = []\n",
    "\n",
    "# Calculate SSE for different K\n",
    "for k in range(2, 10):\n",
    "    kmeans = KMeans(n_clusters=k, random_state = 301)\n",
    "    kmeans.fit(X)\n",
    "    distorsions.append(kmeans.inertia_)\n",
    "\n",
    "# Plot values of SSE\n",
    "plt.figure(figsize=(15,8))\n",
    "plt.subplot(121, title='Elbow curve')\n",
    "plt.xlabel('k')\n",
    "plt.plot(range(2, 10), distorsions)\n",
    "plt.grid(True)"
   ]
  },
  {
   "cell_type": "code",
   "execution_count": 7,
   "metadata": {},
   "outputs": [],
   "source": [
    "# Generate silhouette coefficient for each k\n",
    "X = pcaDataScaled\n",
    "silhouette_plot = []\n",
    "for k in range(2, 10):\n",
    "    clusters = KMeans(n_clusters=k, random_state=10)\n",
    "    cluster_labels = clusters.fit_predict(X)\n",
    "    silhouette_avg = metrics.silhouette_score(X, cluster_labels)\n",
    "    silhouette_plot.append(silhouette_avg)"
   ]
  },
  {
   "cell_type": "code",
   "execution_count": 8,
   "metadata": {},
   "outputs": [],
   "source": [
    "# Plot Silhouette coefficient\n",
    "plt.figure(figsize=(15,8))\n",
    "plt.subplot(121, title='Silhouette coefficients over k')\n",
    "plt.xlabel('k')\n",
    "plt.ylabel('silhouette coefficient')\n",
    "plt.plot(range(2, 10), silhouette_plot)\n",
    "plt.axhline(y=np.mean(silhouette_plot), color=\"red\", linestyle=\"--\")\n",
    "plt.grid(True)"
   ]
  },
  {
   "cell_type": "code",
   "execution_count": 9,
   "metadata": {},
   "source": [
    "Based on the *Elbow Plot* and *Silhouette Coefficient*, we can conclude that the optimal number of clusters is **6**"
   ]
  },
  {
   "cell_type": "code",
   "execution_count": 10,
   "metadata": {},
   "outputs": [
    {
     "data": {
      "text/plain": [
       "<matplotlib.collections.PathCollection at 0x153b16dc0>"
      ]
     },
     "execution_count": 10,
     "metadata": {},
     "output_type": "execute_result"
    },
    {
     "data": {
      "image/png": "[encoded data removed]",
      "text/plain": [
       "<Figure size 1080x576 with 1 Axes>"
      ]
     },
     "metadata": {},
     "output_type": "display_data"
    }
   ],
   "source": [
    "#Predict K-Means cluster membership\n",
    "km_neat = KMeans(n_clusters=6, random_state=2).fit_predict(pcaDataScaled)\n",
    "#km_messy = KMeans(n_clusters=3, random_state=2).fit_predict(x_messy)\n",
    "\n",
    "plt.figure(figsize=(15,8))\n",
    "plt.subplot(121, title='Cluster with PCA test1')\n",
    "\n",
    "plt.scatter(pcaDataScaled[:,0], pcaDataScaled[:,1], c=km_neat, cmap=cmap)"
   ]
  },
  {
   "cell_type": "code",
   "execution_count": 11,
   "metadata": {},
   "outputs": [
    {
     "data": {
      "text/plain": [
       "array([2, 2, 2, 3, 2, 2, 2, 2, 3, 2, 2, 2, 3, 2, 2, 2, 3, 3, 3, 2, 2, 2,\n",
       "       3, 2, 2, 3, 2, 2, 2, 2, 3, 2, 2, 2, 2, 2, 3, 2, 2, 2, 3, 2, 3, 2,\n",
       "       2, 2, 5, 3, 2, 2, 2, 5, 2, 3, 2, 2, 2, 2, 2, 3, 2, 2, 2, 1, 2, 3,\n",
       "       5, 5, 2, 1, 0, 1, 2, 1, 1, 2, 2, 5, 1, 2, 1, 5, 4, 2, 2, 5, 4, 1,\n",
       "       0, 1, 1, 3, 5, 1, 4, 1, 4, 3, 5, 1, 1, 5, 5, 5, 5, 5, 3, 1, 4, 1,\n",
       "       0, 5, 5, 5, 5, 1, 1, 0, 2, 1, 2, 1, 4, 5, 1, 5, 1, 0, 1, 5, 1, 3,\n",
       "       5, 5, 1, 3, 1, 3, 1, 5, 1, 5, 5, 1, 4, 3, 5, 0, 5, 0, 1, 5, 4, 5,\n",
       "       4, 5, 5, 3, 5, 5, 3, 5, 1, 1, 5, 0, 0, 1, 1, 1, 1, 4, 1, 0, 0, 0,\n",
       "       0, 5, 1, 5, 1, 1, 5, 1, 1, 5, 1, 1, 5, 1, 5, 5, 1, 1, 4, 1, 5, 1,\n",
       "       1, 1, 5, 1, 5, 1, 4, 4, 5, 0, 5, 3, 0, 1, 1, 5, 4, 5, 5, 0, 0, 4,\n",
       "       4, 0, 1, 5, 0, 5, 0, 4, 5, 0, 1, 5, 4, 5, 1, 4, 0, 5, 1, 0, 4, 0,\n",
       "       4, 0, 0, 0, 1, 0, 1, 0, 5, 4, 1, 4, 5, 1, 0, 5, 4, 5, 0, 5, 4, 5,\n",
       "       5, 5, 5, 4, 1, 4, 4, 1, 1, 5, 4, 5, 1, 4, 5, 5, 5, 0, 1, 5, 1, 1,\n",
       "       0, 0, 0, 0, 0, 5, 5, 0, 4, 1, 4, 5, 0, 1, 5, 0, 1, 1, 1, 0, 1, 0,\n",
       "       5, 1, 4, 0, 5, 1, 4, 5, 1, 5, 1, 5, 4, 0, 0, 4, 5, 5, 5, 0, 5, 5,\n",
       "       4, 1, 0, 0, 4, 5, 5, 4, 0, 5, 4, 5, 5, 5, 5, 5, 4, 5, 4, 5, 4, 1,\n",
       "       0, 4, 5, 4, 0, 0, 0, 5, 0, 0, 1, 5, 5, 4, 1, 5, 5, 4, 0, 1, 5, 0,\n",
       "       0, 1, 5, 5, 1, 5, 5, 4, 0, 5, 0, 0, 0, 1, 0, 1, 5, 0, 0, 0, 0, 5,\n",
       "       4], dtype=int32)"
      ]
     },
     "execution_count": 11,
     "metadata": {},
     "output_type": "execute_result"
    }
   ],
   "source": [
    "km_neat"
   ]
  },
  {
   "cell_type": "code",
   "execution_count": 12,
   "metadata": {},
   "outputs": [
    {
     "data": {
      "text/plain": [
       "array([3, 3, 3, 4, 3, 3, 3, 3, 4, 3, 3, 3, 4, 3, 3, 3, 4, 4, 4, 3, 3, 3,\n",
       "       4, 3, 3, 4, 3, 3, 3, 3, 4, 3, 3, 3, 3, 3, 4, 3, 3, 3, 4, 3, 4, 3,\n",
       "       3, 3, 6, 4, 3, 3, 3, 6, 3, 4, 3, 3, 3, 3, 3, 4, 3, 3, 3, 2, 3, 4,\n",
       "       6, 6, 3, 2, 1, 2, 3, 2, 2, 3, 3, 6, 2, 3, 2, 6, 5, 3, 3, 6, 5, 2,\n",
       "       1, 2, 2, 4, 6, 2, 5, 2, 5, 4, 6, 2, 2, 6, 6, 6, 6, 6, 4, 2, 5, 2,\n",
       "       1, 6, 6, 6, 6, 2, 2, 1, 3, 2, 3, 2, 5, 6, 2, 6, 2, 1, 2, 6, 2, 4,\n",
       "       6, 6, 2, 4, 2, 4, 2, 6, 2, 6, 6, 2, 5, 4, 6, 1, 6, 1, 2, 6, 5, 6,\n",
       "       5, 6, 6, 4, 6, 6, 4, 6, 2, 2, 6, 1, 1, 2, 2, 2, 2, 5, 2, 1, 1, 1,\n",
       "       1, 6, 2, 6, 2, 2, 6, 2, 2, 6, 2, 2, 6, 2, 6, 6, 2, 2, 5, 2, 6, 2,\n",
       "       2, 2, 6, 2, 6, 2, 5, 5, 6, 1, 6, 4, 1, 2, 2, 6, 5, 6, 6, 1, 1, 5,\n",
       "       5, 1, 2, 6, 1, 6, 1, 5, 6, 1, 2, 6, 5, 6, 2, 5, 1, 6, 2, 1, 5, 1,\n",
       "       5, 1, 1, 1, 2, 1, 2, 1, 6, 5, 2, 5, 6, 2, 1, 6, 5, 6, 1, 6, 5, 6,\n",
       "       6, 6, 6, 5, 2, 5, 5, 2, 2, 6, 5, 6, 2, 5, 6, 6, 6, 1, 2, 6, 2, 2,\n",
       "       1, 1, 1, 1, 1, 6, 6, 1, 5, 2, 5, 6, 1, 2, 6, 1, 2, 2, 2, 1, 2, 1,\n",
       "       6, 2, 5, 1, 6, 2, 5, 6, 2, 6, 2, 6, 5, 1, 1, 5, 6, 6, 6, 1, 6, 6,\n",
       "       5, 2, 1, 1, 5, 6, 6, 5, 1, 6, 5, 6, 6, 6, 6, 6, 5, 6, 5, 6, 5, 2,\n",
       "       1, 5, 6, 5, 1, 1, 1, 6, 1, 1, 2, 6, 6, 5, 2, 6, 6, 5, 1, 2, 6, 1,\n",
       "       1, 2, 6, 6, 2, 6, 6, 5, 1, 6, 1, 1, 1, 2, 1, 2, 6, 1, 1, 1, 1, 6,\n",
       "       5], dtype=int32)"
      ]
     },
     "execution_count": 12,
     "metadata": {},
     "output_type": "execute_result"
    }
   ],
   "source": [
    "# Incrementing each value up by one for ease of analysis of the 6 Clusters\n",
    "for i in range(len(km_neat)):\n",
    "    km_neat[i] += 1\n",
    "km_neat"
   ]
  },
  {
   "cell_type": "code",
   "execution_count": 13,
   "metadata": {},
   "outputs": [],
   "source": [
    "pcaDataScaled = pd.DataFrame(pcaDataScaled, columns = ['PC1','PC2','PC3','PC4','PC5'])"
   ]
  },
  {
   "cell_type": "code",
   "execution_count": 14,
   "metadata": {},
   "outputs": [],
   "source": [
    "fig2 = px.scatter_3d(pcaDataScaled, x='PC1', y='PC2', z='PC3',color=km_neat)\n",
    "fig2"
   ]
  },
  {
   "cell_type": "markdown",
   "metadata": {},
   "source": [
    "We can observe that there is noticeable separation in clusters after plotting the first 3 Principle Components"
   ]
  },
  {
   "cell_type": "code",
   "execution_count": 15,
   "metadata": {},
   "outputs": [],
   "source": [
    "pcaDataFull = pd.read_csv('./Data/PCAData.csv')\n",
    "pcaDataScaled['PLAYER'] = pcaDataFull['Player'].values\n",
    "pcaDataScaled['TEAM'] = pcaDataFull['Team'].values\n",
    "pcaDataScaled['kCLUSTER'] = km_neat\n",
    "pcaDataScaled.to_csv('Data/kmeansClustering.csv', index = False)"
   ]
  }
 ],
 "metadata": {
  "interpreter": {
   "hash": "4bd624a0593993fe43ac4046b27b898fb2ef75c21c08f81e89e64ea0f51df676"
  },
  "kernelspec": {
   "display_name": "Python 3.9.7 ('tensorflow')",
   "language": "python",
   "name": "python3"
  },
  "language_info": {
   "codemirror_mode": {
    "name": "ipython",
    "version": 3
   },
   "file_extension": ".py",
   "mimetype": "text/x-python",
   "name": "python",
   "nbconvert_exporter": "python",
   "pygments_lexer": "ipython3",
   "version": "3.9.1"
  },
  "orig_nbformat": 4
 },
 "nbformat": 4,
 "nbformat_minor": 2
}
