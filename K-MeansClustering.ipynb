{
 "cells": [
  {
   "cell_type": "code",
<<<<<<< HEAD
<<<<<<< HEAD
<<<<<<< HEAD
   "execution_count": 14,
=======
   "execution_count": 41,
>>>>>>> f3751246e40eea9357cdb1c4db36cfa75c288540
=======
   "execution_count": 21,
>>>>>>> parent of 79a0cfa (merge pull)
=======
   "execution_count": 36,
>>>>>>> parent of 60af76c (Added scatter3d plot for k means)
   "metadata": {},
   "outputs": [],
   "source": [
    "import numpy as np\n",
    "import pandas as pd \n",
    "import seaborn as sns\n",
    "import matplotlib.pyplot as plt\n",
    "%matplotlib inline\n",
    "\n",
    "# Import Sci-Kit Learn\n",
    "from sklearn.manifold import TSNE\n",
    "from sklearn.cluster import KMeans\n",
    "from sklearn.decomposition import PCA\n",
    "from sklearn.preprocessing import StandardScaler\n",
    "from sklearn import metrics\n",
    "from sklearn import datasets\n",
<<<<<<< HEAD
    "from kneed import KneeLocator\n",
<<<<<<< HEAD
    "import plotly.express as px\n",
=======
>>>>>>> parent of 79a0cfa (merge pull)
=======
>>>>>>> parent of 60af76c (Added scatter3d plot for k means)
    "\n",
    "# Default plot params\n",
    "plt.style.use('seaborn')\n",
    "cmap = 'tab10'"
   ]
  },
  {
   "cell_type": "markdown",
   "metadata": {},
   "source": []
  },
  {
   "cell_type": "code",
<<<<<<< HEAD
<<<<<<< HEAD
<<<<<<< HEAD
   "execution_count": 15,
=======
   "execution_count": 42,
>>>>>>> f3751246e40eea9357cdb1c4db36cfa75c288540
=======
   "execution_count": 22,
>>>>>>> parent of 79a0cfa (merge pull)
=======
   "execution_count": 22,
>>>>>>> parent of 60af76c (Added scatter3d plot for k means)
   "metadata": {},
   "outputs": [
    {
     "data": {
      "text/html": [
       "<div>\n",
       "<style scoped>\n",
       "    .dataframe tbody tr th:only-of-type {\n",
       "        vertical-align: middle;\n",
       "    }\n",
       "\n",
       "    .dataframe tbody tr th {\n",
       "        vertical-align: top;\n",
       "    }\n",
       "\n",
       "    .dataframe thead th {\n",
       "        text-align: right;\n",
       "    }\n",
       "</style>\n",
       "<table border=\"1\" class=\"dataframe\">\n",
       "  <thead>\n",
       "    <tr style=\"text-align: right;\">\n",
       "      <th></th>\n",
       "      <th>PC1</th>\n",
       "      <th>PC2</th>\n",
       "      <th>PC3</th>\n",
       "      <th>PC4</th>\n",
       "      <th>PC5</th>\n",
       "    </tr>\n",
       "  </thead>\n",
       "  <tbody>\n",
       "    <tr>\n",
       "      <th>count</th>\n",
       "      <td>397.0</td>\n",
       "      <td>397.0</td>\n",
       "      <td>397.0</td>\n",
       "      <td>397.0</td>\n",
       "      <td>397.0</td>\n",
       "    </tr>\n",
       "    <tr>\n",
       "      <th>mean</th>\n",
       "      <td>-0.0</td>\n",
       "      <td>0.0</td>\n",
       "      <td>-0.0</td>\n",
       "      <td>-0.0</td>\n",
       "      <td>0.0</td>\n",
       "    </tr>\n",
       "    <tr>\n",
       "      <th>std</th>\n",
       "      <td>5.4</td>\n",
       "      <td>4.7</td>\n",
       "      <td>2.8</td>\n",
       "      <td>2.5</td>\n",
       "      <td>2.1</td>\n",
       "    </tr>\n",
       "    <tr>\n",
       "      <th>min</th>\n",
       "      <td>-10.4</td>\n",
       "      <td>-8.2</td>\n",
       "      <td>-7.1</td>\n",
       "      <td>-6.3</td>\n",
       "      <td>-5.7</td>\n",
       "    </tr>\n",
       "    <tr>\n",
       "      <th>25%</th>\n",
       "      <td>-4.1</td>\n",
       "      <td>-3.3</td>\n",
       "      <td>-1.9</td>\n",
       "      <td>-1.6</td>\n",
       "      <td>-1.5</td>\n",
       "    </tr>\n",
       "    <tr>\n",
       "      <th>50%</th>\n",
       "      <td>-1.2</td>\n",
       "      <td>-1.0</td>\n",
       "      <td>-0.2</td>\n",
       "      <td>-0.0</td>\n",
       "      <td>-0.0</td>\n",
       "    </tr>\n",
       "    <tr>\n",
       "      <th>75%</th>\n",
       "      <td>3.3</td>\n",
       "      <td>2.3</td>\n",
       "      <td>1.9</td>\n",
       "      <td>1.6</td>\n",
       "      <td>1.3</td>\n",
       "    </tr>\n",
       "    <tr>\n",
       "      <th>max</th>\n",
       "      <td>16.9</td>\n",
       "      <td>16.5</td>\n",
       "      <td>8.1</td>\n",
       "      <td>8.9</td>\n",
       "      <td>9.6</td>\n",
       "    </tr>\n",
       "  </tbody>\n",
       "</table>\n",
       "</div>"
      ],
      "text/plain": [
       "         PC1    PC2    PC3    PC4    PC5\n",
       "count  397.0  397.0  397.0  397.0  397.0\n",
       "mean    -0.0    0.0   -0.0   -0.0    0.0\n",
       "std      5.4    4.7    2.8    2.5    2.1\n",
       "min    -10.4   -8.2   -7.1   -6.3   -5.7\n",
       "25%     -4.1   -3.3   -1.9   -1.6   -1.5\n",
       "50%     -1.2   -1.0   -0.2   -0.0   -0.0\n",
       "75%      3.3    2.3    1.9    1.6    1.3\n",
       "max     16.9   16.5    8.1    8.9    9.6"
      ]
     },
<<<<<<< HEAD
<<<<<<< HEAD
<<<<<<< HEAD
     "execution_count": 15,
=======
     "execution_count": 42,
>>>>>>> f3751246e40eea9357cdb1c4db36cfa75c288540
=======
     "execution_count": 22,
>>>>>>> parent of 79a0cfa (merge pull)
=======
     "execution_count": 22,
>>>>>>> parent of 60af76c (Added scatter3d plot for k means)
     "metadata": {},
     "output_type": "execute_result"
    }
   ],
   "source": [
    "pcaData = pd.read_csv('./Data/PCAData.csv')\n",
    "pcaData.drop(['Player','Team'],axis=1,inplace=True)\n",
    "pcaData.describe().round(1)"
   ]
  },
  {
   "cell_type": "code",
<<<<<<< HEAD
<<<<<<< HEAD
<<<<<<< HEAD
   "execution_count": 16,
=======
   "execution_count": 43,
>>>>>>> f3751246e40eea9357cdb1c4db36cfa75c288540
=======
   "execution_count": 23,
>>>>>>> parent of 79a0cfa (merge pull)
=======
   "execution_count": 23,
>>>>>>> parent of 60af76c (Added scatter3d plot for k means)
   "metadata": {},
   "outputs": [
    {
     "data": {
      "text/html": [
       "<div>\n",
       "<style scoped>\n",
       "    .dataframe tbody tr th:only-of-type {\n",
       "        vertical-align: middle;\n",
       "    }\n",
       "\n",
       "    .dataframe tbody tr th {\n",
       "        vertical-align: top;\n",
       "    }\n",
       "\n",
       "    .dataframe thead th {\n",
       "        text-align: right;\n",
       "    }\n",
       "</style>\n",
       "<table border=\"1\" class=\"dataframe\">\n",
       "  <thead>\n",
       "    <tr style=\"text-align: right;\">\n",
       "      <th></th>\n",
       "      <th>PC1</th>\n",
       "      <th>PC2</th>\n",
       "      <th>PC3</th>\n",
       "      <th>PC4</th>\n",
       "      <th>PC5</th>\n",
       "    </tr>\n",
       "  </thead>\n",
       "  <tbody>\n",
       "    <tr>\n",
       "      <th>0</th>\n",
       "      <td>-5.973640</td>\n",
       "      <td>10.348598</td>\n",
       "      <td>-4.544328</td>\n",
       "      <td>-2.790883</td>\n",
       "      <td>-1.291382</td>\n",
       "    </tr>\n",
       "    <tr>\n",
       "      <th>1</th>\n",
       "      <td>-1.975250</td>\n",
       "      <td>9.700635</td>\n",
       "      <td>-2.386559</td>\n",
       "      <td>-4.657934</td>\n",
       "      <td>-0.569510</td>\n",
       "    </tr>\n",
       "    <tr>\n",
       "      <th>2</th>\n",
       "      <td>-7.131777</td>\n",
       "      <td>11.506774</td>\n",
       "      <td>-0.629350</td>\n",
       "      <td>-4.972975</td>\n",
       "      <td>1.235958</td>\n",
       "    </tr>\n",
       "    <tr>\n",
       "      <th>3</th>\n",
       "      <td>14.068326</td>\n",
       "      <td>14.403856</td>\n",
       "      <td>-3.423371</td>\n",
       "      <td>4.085493</td>\n",
       "      <td>9.550238</td>\n",
       "    </tr>\n",
       "    <tr>\n",
       "      <th>4</th>\n",
       "      <td>8.082776</td>\n",
       "      <td>13.723707</td>\n",
       "      <td>2.125949</td>\n",
       "      <td>-1.052888</td>\n",
       "      <td>1.960181</td>\n",
       "    </tr>\n",
       "    <tr>\n",
       "      <th>...</th>\n",
       "      <td>...</td>\n",
       "      <td>...</td>\n",
       "      <td>...</td>\n",
       "      <td>...</td>\n",
       "      <td>...</td>\n",
       "    </tr>\n",
       "    <tr>\n",
       "      <th>392</th>\n",
       "      <td>-1.767053</td>\n",
       "      <td>-6.117506</td>\n",
       "      <td>2.412929</td>\n",
       "      <td>3.375371</td>\n",
       "      <td>1.891360</td>\n",
       "    </tr>\n",
       "    <tr>\n",
       "      <th>393</th>\n",
       "      <td>-5.746449</td>\n",
       "      <td>-3.612010</td>\n",
       "      <td>7.457901</td>\n",
       "      <td>3.099955</td>\n",
       "      <td>3.200641</td>\n",
       "    </tr>\n",
       "    <tr>\n",
       "      <th>394</th>\n",
       "      <td>-2.157475</td>\n",
       "      <td>-8.238167</td>\n",
       "      <td>2.602166</td>\n",
       "      <td>1.469678</td>\n",
       "      <td>1.456859</td>\n",
       "    </tr>\n",
       "    <tr>\n",
       "      <th>395</th>\n",
       "      <td>-1.642875</td>\n",
       "      <td>-7.951736</td>\n",
       "      <td>1.809158</td>\n",
       "      <td>-1.508661</td>\n",
       "      <td>1.187768</td>\n",
       "    </tr>\n",
       "    <tr>\n",
       "      <th>396</th>\n",
       "      <td>4.712861</td>\n",
       "      <td>-5.291476</td>\n",
       "      <td>8.110704</td>\n",
       "      <td>-0.141387</td>\n",
       "      <td>-0.154904</td>\n",
       "    </tr>\n",
       "  </tbody>\n",
       "</table>\n",
       "<p>397 rows × 5 columns</p>\n",
       "</div>"
      ],
      "text/plain": [
       "           PC1        PC2       PC3       PC4       PC5\n",
       "0    -5.973640  10.348598 -4.544328 -2.790883 -1.291382\n",
       "1    -1.975250   9.700635 -2.386559 -4.657934 -0.569510\n",
       "2    -7.131777  11.506774 -0.629350 -4.972975  1.235958\n",
       "3    14.068326  14.403856 -3.423371  4.085493  9.550238\n",
       "4     8.082776  13.723707  2.125949 -1.052888  1.960181\n",
       "..         ...        ...       ...       ...       ...\n",
       "392  -1.767053  -6.117506  2.412929  3.375371  1.891360\n",
       "393  -5.746449  -3.612010  7.457901  3.099955  3.200641\n",
       "394  -2.157475  -8.238167  2.602166  1.469678  1.456859\n",
       "395  -1.642875  -7.951736  1.809158 -1.508661  1.187768\n",
       "396   4.712861  -5.291476  8.110704 -0.141387 -0.154904\n",
       "\n",
       "[397 rows x 5 columns]"
      ]
     },
<<<<<<< HEAD
<<<<<<< HEAD
<<<<<<< HEAD
     "execution_count": 16,
=======
     "execution_count": 43,
>>>>>>> f3751246e40eea9357cdb1c4db36cfa75c288540
=======
     "execution_count": 23,
>>>>>>> parent of 79a0cfa (merge pull)
=======
     "execution_count": 23,
>>>>>>> parent of 60af76c (Added scatter3d plot for k means)
     "metadata": {},
     "output_type": "execute_result"
    }
   ],
   "source": [
    "pcaData"
   ]
  },
  {
   "cell_type": "code",
<<<<<<< HEAD
<<<<<<< HEAD
<<<<<<< HEAD
   "execution_count": 17,
=======
   "execution_count": 44,
>>>>>>> f3751246e40eea9357cdb1c4db36cfa75c288540
=======
   "execution_count": 24,
>>>>>>> parent of 79a0cfa (merge pull)
=======
   "execution_count": 24,
>>>>>>> parent of 60af76c (Added scatter3d plot for k means)
   "metadata": {},
   "outputs": [],
   "source": [
    "# to standardise the principle components\n",
    "scaler = StandardScaler()\n",
    "pcaDataScaled = scaler.fit_transform(pcaData)\n"
   ]
  },
  {
   "cell_type": "code",
<<<<<<< HEAD
<<<<<<< HEAD
<<<<<<< HEAD
   "execution_count": 18,
=======
   "execution_count": 45,
>>>>>>> f3751246e40eea9357cdb1c4db36cfa75c288540
=======
   "execution_count": 25,
>>>>>>> parent of 79a0cfa (merge pull)
=======
   "execution_count": 25,
>>>>>>> parent of 60af76c (Added scatter3d plot for k means)
   "metadata": {},
   "outputs": [
    {
     "data": {
      "image/png": "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",
      "text/plain": [
       "<Figure size 1080x576 with 1 Axes>"
      ]
     },
     "metadata": {},
     "output_type": "display_data"
    }
   ],
   "source": [
    "# Picking Best number of k part, using elbow method \n",
    "# Specifying the dataset and initializing variables\n",
    "X = pcaDataScaled\n",
    "distorsions = []\n",
    "\n",
    "# Calculate SSE for different K\n",
    "for k in range(2, 10):\n",
    "    kmeans = KMeans(n_clusters=k, random_state = 301)\n",
    "    kmeans.fit(X)\n",
    "    distorsions.append(kmeans.inertia_)\n",
    "\n",
    "# Plot values of SSE\n",
    "plt.figure(figsize=(15,8))\n",
    "plt.subplot(121, title='Elbow curve')\n",
    "plt.xlabel('k')\n",
    "plt.plot(range(2, 10), distorsions)\n",
    "plt.grid(True)"
   ]
  },
  {
   "cell_type": "code",
<<<<<<< HEAD
<<<<<<< HEAD
<<<<<<< HEAD
   "execution_count": 19,
=======
   "execution_count": 46,
>>>>>>> f3751246e40eea9357cdb1c4db36cfa75c288540
=======
   "execution_count": 38,
>>>>>>> parent of 60af76c (Added scatter3d plot for k means)
   "metadata": {},
   "outputs": [
    {
     "data": {
      "text/plain": [
       "6"
      ]
     },
<<<<<<< HEAD
<<<<<<< HEAD
     "execution_count": 19,
=======
     "execution_count": 46,
>>>>>>> f3751246e40eea9357cdb1c4db36cfa75c288540
=======
     "execution_count": 38,
>>>>>>> parent of 60af76c (Added scatter3d plot for k means)
     "metadata": {},
     "output_type": "execute_result"
    }
   ],
   "source": [
    "kl = KneeLocator(range(2,10), distorsions, curve=\"convex\", direction=\"decreasing\")\n",
    "kl.elbow"
   ]
  },
  {
   "cell_type": "code",
<<<<<<< HEAD
<<<<<<< HEAD
   "execution_count": 20,
=======
   "execution_count": 47,
>>>>>>> f3751246e40eea9357cdb1c4db36cfa75c288540
=======
   "execution_count": 31,
>>>>>>> parent of 60af76c (Added scatter3d plot for k means)
   "metadata": {},
   "outputs": [],
   "source": [
    "# Generate silhouette coefficient for each k\n",
    "X = pcaDataScaled\n",
    "silhouette_plot = []\n",
    "for k in range(2, 10):\n",
    "    clusters = KMeans(n_clusters=k, random_state=10)\n",
    "    cluster_labels = clusters.fit_predict(X)\n",
    "    silhouette_avg = metrics.silhouette_score(X, cluster_labels)\n",
    "    silhouette_plot.append(silhouette_avg)"
   ]
  },
  {
   "cell_type": "code",
<<<<<<< HEAD
<<<<<<< HEAD
   "execution_count": 21,
=======
   "execution_count": 48,
>>>>>>> f3751246e40eea9357cdb1c4db36cfa75c288540
=======
   "execution_count": 32,
>>>>>>> parent of 60af76c (Added scatter3d plot for k means)
   "metadata": {},
   "outputs": [
    {
     "data": {
      "image/png": "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",
      "text/plain": [
       "<Figure size 1080x576 with 1 Axes>"
      ]
     },
     "metadata": {},
     "output_type": "display_data"
    }
   ],
   "source": [
    "# Plot Silhouette coefficient\n",
    "plt.figure(figsize=(15,8))\n",
    "plt.subplot(121, title='Silhouette coefficients over k')\n",
    "plt.xlabel('k')\n",
    "plt.ylabel('silhouette coefficient')\n",
    "plt.plot(range(2, 10), silhouette_plot)\n",
    "plt.axhline(y=np.mean(silhouette_plot), color=\"red\", linestyle=\"--\")\n",
    "plt.grid(True)"
   ]
  },
  {
   "cell_type": "code",
<<<<<<< HEAD
<<<<<<< HEAD
   "execution_count": 22,
=======
   "execution_count": 49,
>>>>>>> f3751246e40eea9357cdb1c4db36cfa75c288540
=======
   "execution_count": 26,
>>>>>>> parent of 79a0cfa (merge pull)
=======
   "execution_count": 33,
>>>>>>> parent of 60af76c (Added scatter3d plot for k means)
   "metadata": {},
   "outputs": [],
   "source": [
    "# # check if components are standardised\n",
    "# pcaDataScaled = pd.DataFrame(pcaDataScaled, columns = ['PC1','PC2','PC3','PC4','PC5'])\n",
    "# pcaDataScaled.describe().round(1)"
   ]
  },
  {
   "cell_type": "code",
<<<<<<< HEAD
<<<<<<< HEAD
<<<<<<< HEAD
   "execution_count": 23,
=======
   "execution_count": 50,
>>>>>>> f3751246e40eea9357cdb1c4db36cfa75c288540
=======
   "execution_count": 27,
>>>>>>> parent of 79a0cfa (merge pull)
=======
   "execution_count": 34,
>>>>>>> parent of 60af76c (Added scatter3d plot for k means)
   "metadata": {},
   "outputs": [
    {
     "data": {
      "text/plain": [
<<<<<<< HEAD
<<<<<<< HEAD
<<<<<<< HEAD
       "<matplotlib.collections.PathCollection at 0x147f2d7c0>"
      ]
     },
     "execution_count": 23,
=======
       "<matplotlib.collections.PathCollection at 0x283f380d0>"
      ]
     },
     "execution_count": 50,
>>>>>>> f3751246e40eea9357cdb1c4db36cfa75c288540
=======
       "<matplotlib.collections.PathCollection at 0x282853220>"
      ]
     },
     "execution_count": 27,
>>>>>>> parent of 79a0cfa (merge pull)
=======
       "<matplotlib.collections.PathCollection at 0x283b207f0>"
      ]
     },
     "execution_count": 34,
>>>>>>> parent of 60af76c (Added scatter3d plot for k means)
     "metadata": {},
     "output_type": "execute_result"
    },
    {
     "data": {
<<<<<<< HEAD
<<<<<<< HEAD
      "image/png": "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",
=======
      "image/png": "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",
>>>>>>> parent of 79a0cfa (merge pull)
=======
      "image/png": "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",
>>>>>>> parent of 60af76c (Added scatter3d plot for k means)
      "text/plain": [
       "<Figure size 1080x576 with 1 Axes>"
      ]
     },
     "metadata": {},
     "output_type": "display_data"
    }
   ],
   "source": [
    "#Predict K-Means cluster membership\n",
    "km_neat = KMeans(n_clusters=7, random_state=2).fit_predict(pcaDataScaled)\n",
    "#km_messy = KMeans(n_clusters=3, random_state=2).fit_predict(x_messy)\n",
    "\n",
    "plt.figure(figsize=(15,8))\n",
    "plt.subplot(121, title='Cluster with PCA test1')\n",
    "\n",
    "plt.scatter(pcaDataScaled[:,0], pcaDataScaled[:,1], c=km_neat, cmap=cmap)"
   ]
  },
  {
   "cell_type": "code",
<<<<<<< HEAD
<<<<<<< HEAD
<<<<<<< HEAD
   "execution_count": 24,
=======
   "execution_count": 51,
>>>>>>> f3751246e40eea9357cdb1c4db36cfa75c288540
=======
   "execution_count": 28,
>>>>>>> parent of 79a0cfa (merge pull)
=======
   "execution_count": 39,
>>>>>>> parent of 60af76c (Added scatter3d plot for k means)
   "metadata": {},
   "outputs": [
    {
     "data": {
      "text/plain": [
       "array([5, 5, 5, 3, 3, 5, 5, 5, 3, 5, 5, 5, 3, 5, 5, 5, 5, 3, 3, 1, 5, 5,\n",
       "       3, 5, 5, 3, 5, 5, 1, 5, 3, 5, 5, 5, 5, 5, 1, 5, 1, 5, 3, 5, 3, 5,\n",
       "       1, 5, 1, 5, 1, 5, 5, 1, 5, 3, 1, 1, 1, 1, 5, 1, 1, 5, 5, 1, 1, 3,\n",
       "       1, 1, 5, 2, 5, 2, 5, 1, 2, 5, 5, 1, 1, 5, 2, 1, 6, 1, 5, 1, 3, 2,\n",
       "       5, 2, 1, 3, 1, 6, 6, 5, 6, 3, 1, 2, 2, 1, 1, 1, 1, 1, 3, 2, 6, 2,\n",
       "       5, 0, 0, 1, 0, 2, 2, 4, 5, 2, 5, 2, 6, 1, 2, 0, 1, 4, 1, 2, 1, 0,\n",
       "       1, 1, 2, 3, 2, 3, 2, 1, 2, 0, 1, 2, 1, 3, 0, 4, 0, 4, 6, 1, 6, 1,\n",
       "       6, 2, 0, 3, 1, 1, 3, 1, 2, 1, 2, 4, 4, 2, 2, 2, 2, 6, 6, 5, 4, 4,\n",
       "       4, 1, 2, 0, 2, 2, 0, 2, 2, 0, 6, 1, 2, 2, 0, 0, 2, 2, 6, 2, 1, 2,\n",
       "       2, 1, 1, 1, 0, 2, 6, 6, 0, 4, 0, 3, 4, 6, 1, 0, 6, 0, 1, 4, 4, 6,\n",
       "       6, 4, 2, 0, 4, 1, 4, 6, 0, 4, 2, 0, 6, 0, 2, 6, 4, 0, 1, 4, 6, 4,\n",
       "       6, 0, 4, 4, 2, 4, 1, 4, 0, 6, 2, 6, 1, 2, 4, 0, 6, 4, 4, 1, 6, 0,\n",
       "       1, 0, 0, 6, 2, 6, 6, 2, 2, 0, 6, 0, 2, 6, 2, 0, 0, 0, 1, 0, 2, 2,\n",
       "       4, 4, 4, 4, 4, 0, 0, 4, 6, 6, 6, 0, 0, 2, 0, 4, 2, 2, 1, 4, 1, 4,\n",
       "       0, 6, 6, 4, 0, 2, 0, 0, 6, 0, 2, 0, 6, 4, 4, 6, 0, 0, 1, 4, 0, 0,\n",
       "       6, 6, 4, 4, 6, 0, 1, 6, 2, 0, 6, 0, 0, 0, 0, 0, 6, 1, 6, 0, 6, 2,\n",
       "       4, 6, 0, 6, 0, 0, 4, 0, 4, 0, 2, 0, 0, 6, 0, 0, 0, 6, 4, 2, 0, 4,\n",
       "       4, 2, 0, 0, 0, 0, 0, 6, 4, 0, 4, 4, 4, 2, 0, 2, 0, 4, 4, 4, 4, 0,\n",
       "       6], dtype=int32)"
      ]
     },
<<<<<<< HEAD
<<<<<<< HEAD
<<<<<<< HEAD
     "execution_count": 24,
=======
     "execution_count": 51,
>>>>>>> f3751246e40eea9357cdb1c4db36cfa75c288540
=======
     "execution_count": 28,
>>>>>>> parent of 79a0cfa (merge pull)
=======
     "execution_count": 39,
>>>>>>> parent of 60af76c (Added scatter3d plot for k means)
     "metadata": {},
     "output_type": "execute_result"
    }
   ],
   "source": [
    "km_neat"
   ]
  },
  {
   "cell_type": "code",
<<<<<<< HEAD
<<<<<<< HEAD
<<<<<<< HEAD
   "execution_count": 29,
   "metadata": {},
   "outputs": [],
   "source": [
    "pcaDataScaled = pd.DataFrame(pcaDataScaled, columns = ['PC1','PC2','PC3','PC4','PC5'])"
=======
   "execution_count": 54,
   "metadata": {},
   "outputs": [],
   "source": [
    "kmeancluster =pd.read_csv('./Data/PCAData.csv')\n",
    "kmeancluster['Cluster']=km_neat"
>>>>>>> f3751246e40eea9357cdb1c4db36cfa75c288540
   ]
  },
  {
   "cell_type": "code",
<<<<<<< HEAD
   "execution_count": 32,
=======
   "execution_count": 55,
>>>>>>> f3751246e40eea9357cdb1c4db36cfa75c288540
   "metadata": {},
   "outputs": [
    {
     "data": {
<<<<<<< HEAD
      "application/vnd.plotly.v1+json": {
       "config": {
        "plotlyServerURL": "https://plot.ly"
       },
       "data": [
        {
         "hovertemplate": "PC1=%{x}<br>PC2=%{y}<br>PC3=%{z}<br>color=%{marker.color}<extra></extra>",
         "legendgroup": "",
         "marker": {
          "color": [
           3,
           3,
           3,
           1,
           1,
           3,
           3,
           3,
           1,
           3,
           3,
           3,
           1,
           3,
           3,
           3,
           3,
           1,
           1,
           3,
           3,
           3,
           1,
           3,
           3,
           1,
           3,
           3,
           3,
           3,
           1,
           3,
           3,
           3,
           3,
           3,
           1,
           3,
           3,
           3,
           1,
           3,
           1,
           3,
           3,
           3,
           2,
           3,
           3,
           3,
           3,
           2,
           3,
           1,
           2,
           3,
           3,
           3,
           3,
           1,
           3,
           3,
           3,
           0,
           2,
           1,
           2,
           2,
           3,
           0,
           3,
           0,
           3,
           0,
           0,
           3,
           3,
           2,
           2,
           3,
           0,
           2,
           4,
           3,
           3,
           2,
           1,
           0,
           3,
           0,
           0,
           1,
           2,
           4,
           4,
           3,
           4,
           1,
           2,
           0,
           0,
           2,
           2,
           2,
           2,
           2,
           1,
           0,
           4,
           0,
           3,
           2,
           1,
           2,
           2,
           0,
           0,
           5,
           3,
           0,
           3,
           0,
           4,
           2,
           0,
           2,
           0,
           5,
           4,
           0,
           0,
           2,
           2,
           2,
           0,
           1,
           0,
           1,
           0,
           2,
           0,
           2,
           2,
           0,
           2,
           1,
           2,
           5,
           2,
           5,
           4,
           2,
           4,
           2,
           4,
           0,
           2,
           1,
           2,
           2,
           1,
           2,
           0,
           2,
           0,
           5,
           5,
           0,
           0,
           0,
           0,
           4,
           4,
           3,
           5,
           5,
           5,
           2,
           0,
           0,
           0,
           0,
           2,
           0,
           0,
           2,
           4,
           0,
           0,
           0,
           2,
           2,
           0,
           0,
           4,
           0,
           2,
           0,
           0,
           2,
           2,
           0,
           2,
           0,
           4,
           4,
           2,
           5,
           2,
           1,
           5,
           4,
           2,
           2,
           4,
           2,
           2,
           5,
           5,
           4,
           4,
           5,
           0,
           2,
           5,
           2,
           5,
           4,
           2,
           5,
           0,
           2,
           4,
           0,
           0,
           4,
           5,
           2,
           2,
           5,
           4,
           5,
           4,
           5,
           5,
           5,
           0,
           5,
           2,
           5,
           2,
           4,
           0,
           4,
           2,
           0,
           5,
           2,
           4,
           5,
           5,
           2,
           4,
           2,
           2,
           2,
           2,
           4,
           0,
           4,
           4,
           0,
           0,
           2,
           4,
           2,
           0,
           4,
           0,
           5,
           2,
           5,
           2,
           2,
           0,
           0,
           5,
           5,
           5,
           5,
           5,
           2,
           2,
           5,
           4,
           4,
           4,
           2,
           0,
           0,
           2,
           5,
           0,
           0,
           2,
           5,
           2,
           5,
           2,
           4,
           4,
           5,
           2,
           0,
           2,
           2,
           4,
           2,
           0,
           2,
           4,
           5,
           5,
           4,
           2,
           2,
           2,
           5,
           2,
           2,
           4,
           4,
           5,
           5,
           4,
           2,
           2,
           4,
           0,
           2,
           4,
           2,
           2,
           2,
           2,
           2,
           4,
           2,
           4,
           2,
           4,
           0,
           5,
           4,
           2,
           4,
           5,
           5,
           5,
           2,
           5,
           2,
           0,
           2,
           2,
           4,
           2,
           2,
           2,
           4,
           5,
           0,
           5,
           5,
           5,
           0,
           2,
           2,
           2,
           2,
           2,
           4,
           5,
           2,
           5,
           5,
           5,
           0,
           2,
           0,
           2,
           5,
           5,
           5,
           5,
           5,
           4
          ],
          "coloraxis": "coloraxis",
          "symbol": "circle"
         },
         "mode": "markers",
         "name": "",
         "scene": "scene",
         "showlegend": false,
         "type": "scatter3d",
         "x": [
          -1.101113375322639,
          -0.3640951979658799,
          -1.3145911562848849,
          2.59319626764657,
          1.4898875845707915,
          -0.7523333915800658,
          -0.6002318853316211,
          1.7008527208417425,
          0.09347651671298154,
          -0.701572469837238,
          -0.23014965544442217,
          -1.2785462536328958,
          2.5327881483532697,
          -0.441894683598955,
          -1.7676915631099437,
          -1.314084941163611,
          -0.10517819869947369,
          0.06143113606373872,
          1.9251501213587001,
          -0.2235255922993277,
          -1.145354454688807,
          -0.5487431279707286,
          0.39566581962466946,
          -0.6215947599356719,
          -1.195408429052474,
          1.541265940890506,
          -0.6065847407053025,
          -1.2274023136630827,
          -0.06121151897299976,
          -0.6393528955727684,
          1.9843995918850874,
          -0.7711999999115736,
          0.11828629591595188,
          0.46167819816055566,
          -0.8143503454518894,
          -0.9831117777790266,
          1.6212187769333268,
          -1.0601595885377721,
          -0.9998635935011947,
          -0.48862341895818906,
          2.292148648824269,
          -0.8124431285883686,
          1.518044305570003,
          -0.8910628954366498,
          -0.20086725261983723,
          -1.3849993952405366,
          -0.40399754704094093,
          0.10533361346132368,
          -0.4239400870505525,
          -1.3904052428539895,
          -0.7601276240852485,
          0.7235057685206372,
          -0.955015038675617,
          1.9484190125689744,
          -0.6109595675011936,
          -0.008311793953863897,
          -0.7367300788133159,
          -1.0831244524829284,
          -0.6383138644910263,
          1.5757135739038672,
          -0.24824016624198858,
          -1.3411337600477573,
          -1.0597899172090286,
          -0.5109237195975322,
          -0.5907857047703517,
          2.6296684882704304,
          -0.3589474092537539,
          -0.35655014877431035,
          -0.8586929782104123,
          -0.949887480280067,
          -1.4815506992774767,
          -0.8638135504751326,
          -1.4160496929876585,
          0.2817654978605542,
          0.1256004653591801,
          -0.8038226990494515,
          -0.6897089546384105,
          -0.5631620640721074,
          0.443845852606679,
          -1.1739470931508187,
          -0.7634475462503103,
          -0.8319658297707448,
          2.8484796468678515,
          -0.7445670932580228,
          -1.1167096864155888,
          0.2414776393785779,
          2.5890050708171883,
          -1.4990690764584809,
          -1.0419480938463583,
          -0.847935269383851,
          -0.75015385897053,
          2.522010999003321,
          1.311595330593026,
          1.3049971090552177,
          3.1124283213836246,
          0.23011226633760343,
          2.4329844174974697,
          0.6318814334985858,
          1.320640940500923,
          -0.40179121596365636,
          -0.7081916783777571,
          0.6909830511510752,
          0.11778518659862414,
          1.3651700247311405,
          0.4859372282481422,
          0.2651511875820952,
          0.8787476795235885,
          0.6089287274847022,
          2.063242928676727,
          -0.01020000009574832,
          -0.8368346854366248,
          0.11385312245708985,
          -0.000053272717793980986,
          -0.14122666019855498,
          0.3910644599514243,
          -0.8324259450439886,
          -0.544224692309706,
          -1.3957889383459552,
          -0.8698663063710488,
          0.8764281887217393,
          -0.5436052026071696,
          0.015283611762205628,
          2.5687679425719168,
          0.23949069846270182,
          0.36258855924102856,
          -0.59998632004112,
          -0.35747902397064407,
          -0.921351610996357,
          1.5146646885144268,
          -1.1741867224052982,
          -0.1848501621845519,
          0.45866813371951815,
          1.2291041202361077,
          -0.2182340642664009,
          -1.0765476548958735,
          0.3794230740711854,
          -0.7134183428234051,
          1.3708034137522584,
          -1.3837304891027449,
          -0.7937165976014251,
          -0.7579017787874169,
          -0.7777888282845743,
          0.23048754335428887,
          -0.5897456839695604,
          1.4499769030642464,
          1.8815642272714186,
          0.9761729584068948,
          -1.1759236660029657,
          -0.028691156521047517,
          -1.0326156778806295,
          0.5497502450387745,
          -0.13281158388017972,
          2.103740879787623,
          1.3914508142232391,
          2.231688561679409,
          -0.7924987017776465,
          -0.8882871853993758,
          1.30244227817537,
          -0.7470908641617238,
          0.2526812996232921,
          0.41003940275029266,
          -0.48690778727376677,
          -0.8526252745380216,
          0.5116416946911266,
          -1.4161178280445437,
          -0.9941475331564933,
          -0.843675071879293,
          -1.0242433579268249,
          -0.5846937536875694,
          -0.5222778446014578,
          -0.6430302387782441,
          1.7707883206121986,
          0.9651550532248582,
          -0.9314435204913503,
          -1.0691312586684159,
          -0.5274599632457413,
          -1.2417077031168435,
          -0.2983914284142855,
          -0.2966864771586055,
          -0.8611694121861007,
          -0.6412649213196372,
          -0.0957243853251873,
          -0.36700871154060094,
          -0.7444250566843768,
          0.32284666592193245,
          -0.09524811301905813,
          1.1100885035185368,
          -0.1471154281465378,
          -0.9659490199218922,
          -0.46590670186743943,
          0.4573670476511626,
          -0.22062286659797653,
          -0.5063181925449276,
          0.026005062778286916,
          1.5536842566211422,
          0.730687172719172,
          0.8561172317757062,
          -0.8313041149808351,
          -0.04414176580089507,
          0.06829127439928909,
          0.292856663580379,
          -0.5919018528144072,
          -0.764025807448842,
          -0.7083508397252589,
          1.697640054047471,
          2.215884537367638,
          -0.5263801515385909,
          -0.6136051588988164,
          0.5287263451279685,
          0.6258312327941573,
          -0.43845563584246844,
          0.6592683372649758,
          -0.3496116774464316,
          0.8466217409135771,
          0.6399795370598966,
          -0.6348139831747182,
          -0.5636966337663598,
          -0.7749057963320043,
          -1.165865731553873,
          2.0446245291424616,
          2.039227737314149,
          -1.2995007266196248,
          -0.07006375996153108,
          -0.8700016176514396,
          -1.1496715071239954,
          -0.2032633844456395,
          0.18277713722846126,
          1.7126673007814297,
          -0.7117158883461483,
          -0.8663147644534377,
          -0.3575695663921879,
          -0.3626772695581263,
          2.050034255728007,
          0.5576372477612508,
          -0.16534848922529596,
          1.7787619485758677,
          -0.9329307187540049,
          1.1687765469416262,
          -0.08730298138011797,
          -1.1488574023168536,
          1.5976109207471978,
          -0.991422630515416,
          1.6896365275155296,
          -0.07927385019600197,
          -0.9712075521950889,
          -0.7171601014195487,
          -0.26337410680107565,
          -1.3748379732254006,
          -0.22118288023058083,
          -1.4839662572481185,
          -0.4149752565765865,
          1.6211881904520364,
          -0.5515659685525722,
          1.867824566508873,
          -0.22684996425484624,
          -0.839234469529739,
          -1.380362619180727,
          1.1617917007578593,
          1.9707680911754506,
          -1.260957809407928,
          -0.9933462437847302,
          0.3204877256701227,
          1.503831807085511,
          0.06701542184950199,
          0.5570453643199353,
          -0.5255699887880578,
          -0.9785910827331542,
          1.1735512353553694,
          -0.17685754208315788,
          1.788419001320811,
          1.6391214421448543,
          -0.01757168646215386,
          0.1619478413863591,
          -0.18444407689084666,
          1.981252694029174,
          -0.0971217232839753,
          -0.36800930331212756,
          1.8637934761024368,
          -0.36349426650413197,
          -0.48153952344271633,
          0.6492528024269351,
          -0.03651890610886113,
          0.2862309356982624,
          0.6073221282969529,
          -0.20127331493566386,
          0.1217689301485138,
          -1.2180351877745548,
          -1.042898778971492,
          -1.0174202655795375,
          -0.8835028521375757,
          -0.7502778584269734,
          0.19646837669112313,
          0.01692791729578217,
          -1.1607788136030546,
          1.518693427811738,
          0.8172291409177639,
          1.5060891723133119,
          0.6392402128107126,
          -0.6622965265187418,
          -0.443362136835774,
          0.09082298128760327,
          -1.0137329618167514,
          -0.603241232874132,
          -0.6149036531276255,
          -0.25147973682035396,
          -1.0057534877198857,
          0.1158488358937526,
          -1.3214668006387071,
          0.782568229062934,
          0.8771280568637014,
          0.7141525977084279,
          -1.3338183767081815,
          -0.49268291756882143,
          -0.12741606796318178,
          1.137012332819776,
          1.1031111665901407,
          -0.13989731754790535,
          -0.24018439963172097,
          0.04096434073556382,
          -0.4793780602784294,
          1.6350495914123542,
          -1.9093834945687242,
          -0.962454047565659,
          1.447362097205642,
          -0.12903753246370195,
          0.7330859085128629,
          -0.4966128527293623,
          -0.6809325402371662,
          -0.2637500023901845,
          0.11929042464987022,
          1.6322062715207135,
          0.7919206712051688,
          -1.0010493518605985,
          -1.115857798392245,
          0.9408174618254429,
          1.0718969442954855,
          0.13756376573481016,
          1.2703166640052221,
          -0.8931317986317465,
          0.1471904917126476,
          1.0608500695395149,
          -0.3077038090153594,
          -0.006267499274472426,
          0.2626165703186398,
          -0.16933738099232876,
          0.06517474070918317,
          0.9981080607535574,
          0.04822713176327911,
          1.2190061698563797,
          0.28550679237041543,
          1.3905653367521378,
          0.4522737501428065,
          -1.1818906349097729,
          1.3241090672813376,
          0.24081491991854215,
          1.2368119309146093,
          -0.3595196829317739,
          -0.4067900917537019,
          -0.8161585158876047,
          0.6255278525717086,
          -1.1419739454045372,
          -0.756193702307451,
          -0.6237441359770676,
          -0.11382873902633464,
          -0.13476245085746233,
          1.3933962339582469,
          0.10087971062854909,
          -0.25304113562443414,
          0.009153522264983673,
          1.632822901964049,
          -0.5690677375738348,
          -0.3877417839082146,
          -0.547216691599499,
          0.12367718675610266,
          -0.5364688234550307,
          -0.4746058434071013,
          -0.14015435068662638,
          0.1478669646869813,
          -0.16060580221877996,
          -0.16352969754848332,
          0.5090329913591406,
          0.8157420608778364,
          -1.4445192931251076,
          -0.14507764602279496,
          -0.552924959127902,
          -1.0441364866261171,
          -0.21803976373956832,
          -0.4629491873516733,
          -0.22479659646035993,
          -0.20869782386464206,
          -0.09121954896450812,
          -0.4111406531073856,
          -0.32571867882768296,
          -1.0592354199644867,
          -0.3976845245180808,
          -0.3028289497694192,
          0.8687155667055677
         ],
         "y": [
          2.2203510646233156,
          2.0813268093793136,
          2.4688443397144257,
          3.090429941226224,
          2.944500093677974,
          2.994857742634009,
          1.9455213419368376,
          1.9679375811605977,
          2.308874697653522,
          2.0663159617094813,
          2.154843791264064,
          1.9167454069357515,
          3.5331430132732313,
          2.0951610429682894,
          2.4539280487987707,
          2.0046413390979843,
          2.4055486323371107,
          2.6042045732567707,
          2.2458123527923757,
          1.4200506851164207,
          2.752575836037667,
          1.7214128702321358,
          2.5729215808084094,
          1.7936650708462472,
          2.152566033484131,
          2.109502354088024,
          1.8965716939383932,
          1.4078493879543954,
          1.1402183756380548,
          2.8183091330345693,
          2.014881439321929,
          2.0174613666048877,
          2.315944356498896,
          1.938070230981014,
          1.6044900565011437,
          1.5872052299704231,
          1.0678292713749378,
          1.4254082788797164,
          1.0283063796997753,
          1.590043520090016,
          2.480151998386933,
          1.4643184195531163,
          1.051939314898812,
          1.1282797905594144,
          1.2971860768334362,
          1.5503639221905015,
          0.41032137392119467,
          1.4428083154066844,
          0.9344149159762861,
          1.1300136363745368,
          1.7257495368543923,
          0.4714321019504472,
          1.158846790408176,
          1.9835766200667064,
          0.5538205663132262,
          0.87659135110871,
          0.9519641239077364,
          0.3970395005599533,
          1.3857972972492247,
          0.7811958324984636,
          0.8656292374743965,
          1.2132307425116133,
          1.411871325315673,
          0.5063055315890476,
          0.6826305406897403,
          1.2710197320399583,
          0.6675674467708872,
          0.25472185177453077,
          1.065096980210983,
          0.5025573891223046,
          2.0166602025009728,
          0.6175383056780703,
          1.394496564427756,
          0.9643212879456389,
          0.4611180837933402,
          1.1272190147386423,
          1.161262471010533,
          0.3562249692511472,
          0.1262260726314466,
          1.240463148639087,
          0.5536593085181846,
          0.007907502004715447,
          0.5436049745968486,
          0.5774529438753779,
          0.8134294302635654,
          0.6282314140406745,
          1.10120673878155,
          0.5843601501471439,
          0.8943716140682874,
          0.599760119284534,
          0.2754674036714571,
          0.9002832694195829,
          0.16614156881993256,
          0.03129904320918343,
          0.8749100132915173,
          1.4713005243718442,
          0.8354628558285438,
          0.48957803348244955,
          0.04375394674397493,
          0.01611566993641587,
          0.05911960875843529,
          0.4120667603163901,
          0.2015708772435315,
          0.04491318787733754,
          -0.07125535093127197,
          -0.2557495244552181,
          0.38165679125202745,
          0.4517006973139511,
          0.4964002859181746,
          0.13655412225924576,
          0.627274934880461,
          0.17561094065512475,
          0.3354390451027331,
          0.169680937643297,
          0.30439224433185097,
          -0.15354940616770824,
          0.881490588252363,
          0.5624117383302105,
          0.37371605801301283,
          0.5257502518577094,
          0.61677441838653,
          -0.04540443169255264,
          0.5164890177424772,
          0.006907478942677214,
          0.26261070545666765,
          0.3258545580434403,
          0.39466599257376617,
          0.437730790939229,
          0.24898811269202661,
          0.1912066584812757,
          0.42479854056647703,
          0.6107473922034127,
          0.033984154534199194,
          -0.172209806034864,
          0.27536443187253556,
          0.18832840975102091,
          0.22989652712469405,
          0.8154678922376477,
          0.5886782760945682,
          -0.20763366843670353,
          0.21942837554959,
          -0.23502691070710136,
          -0.04443224137374453,
          -0.7543216455881883,
          -0.2666250173235933,
          0.7422814427969731,
          -0.04527556807508589,
          -0.012475004965924328,
          -0.06518902693987713,
          0.38208136177181073,
          0.20868634721015866,
          -0.1931361282476396,
          0.49427163171375804,
          -0.24559819675002914,
          0.22608650879864933,
          -0.6149063468530276,
          -0.3462096866863102,
          0.07736956844368133,
          -0.15755472364106096,
          -0.07265332953822515,
          0.416591282628107,
          -0.07758003119695234,
          -0.3780385612194081,
          -0.3545459028565865,
          -0.22472937669707635,
          0.06137901173070674,
          0.019453656167616018,
          -0.3857629582017279,
          -0.3500561776577325,
          -0.010065264639206001,
          -0.18677228096780626,
          0.608234846900613,
          -0.22818292242048924,
          0.4915738885255364,
          0.11629900135093336,
          0.023229069100374686,
          0.030972716876020857,
          -0.07296991623971726,
          -0.2849771916100338,
          -0.8443158121237466,
          -0.21222029401770937,
          -0.32168962053600464,
          -0.6504367646561635,
          -0.42571740254600754,
          -0.6726659111440947,
          -0.3584326306315726,
          -0.20318760716163253,
          -0.16866483631680892,
          -0.8041161650419988,
          -0.6390639923237208,
          -0.26477810879322017,
          -0.3327246855794408,
          -0.4021954844486425,
          -0.33000739880583246,
          -0.08056834077009314,
          0.3574370105441967,
          -0.5389050279902117,
          -0.6198874105180936,
          -0.12904893263128728,
          -0.33649251155612214,
          -0.641008248761646,
          -0.5920720602188408,
          -0.6178112827430875,
          -0.22437652507351713,
          -0.3066809367905186,
          0.14339120562294477,
          -0.5292602950659487,
          0.048404534049858866,
          -0.20728423555035794,
          -0.043106407692238786,
          0.04641580373498526,
          -0.3808908946963599,
          -0.40563209077428647,
          -0.19694960516187313,
          -0.12415017603287587,
          -0.6992145215636781,
          -0.11445092231724964,
          -0.2935306039261327,
          0.624192638400422,
          -0.4735116353020814,
          -0.0374396630406577,
          0.414172175099954,
          -0.2227458071350771,
          -0.5858561755214761,
          -0.00536959829246906,
          -0.5429159088448179,
          -0.1978833531478883,
          -0.6582504172037117,
          -0.5320204613306122,
          -0.06490493529500087,
          -0.6565599795111912,
          -0.49977731668245734,
          -0.4202127723928426,
          -0.7190273607067242,
          -0.41732382984337085,
          -0.40304474495736353,
          -0.46272798121389547,
          -0.7178739823379527,
          -0.28793573196116184,
          -0.4183709825169868,
          -0.35275995962961626,
          -0.6565186589792288,
          -0.49836629968937923,
          -0.318544595672411,
          -0.598763118011584,
          0.07910184917955536,
          -0.43906298423759155,
          0.07205535533738845,
          -0.3206450984535753,
          -0.30249205436233667,
          -1.270697082116889,
          -0.20443128853280262,
          -0.49767482569291555,
          0.059865642973379284,
          -0.8042142406482574,
          -0.4762222272433091,
          -0.31747253244629003,
          -0.7552907049441999,
          -0.3641117714618239,
          -1.103324283002144,
          -0.8782123779668086,
          -0.7063348082606097,
          -0.4470074806340528,
          -0.4564241478685786,
          -0.9808513347328213,
          -0.7169787308082164,
          -0.605383833325257,
          -0.34834365185505606,
          -0.5223946822465577,
          -0.6557447399775413,
          -0.560382863990331,
          -0.6690372577712186,
          0.9273505689366448,
          -0.5143155097101388,
          -0.753959216428593,
          -0.7343414186020996,
          -0.19341352694721772,
          -0.3394818131275008,
          -1.0505402976173572,
          -0.6670620426296795,
          -0.6819455873175896,
          -0.6852194832844823,
          -1.0267431850307938,
          -0.5437904650120264,
          -0.9058568796687774,
          -0.8874838294416948,
          0.15013714903480777,
          -0.14770516187516822,
          -0.12896840111652494,
          -0.7115921660114456,
          -0.1505298059538358,
          -0.5793385387124678,
          -0.985308364101131,
          -0.8036273389183315,
          -0.6824849483814044,
          -0.6677510451090046,
          -0.7089492686782798,
          -0.5883043719806716,
          -0.7166869244590757,
          -0.9081891799319416,
          -0.6521737855141163,
          -0.6658310656815757,
          -0.9354878995669971,
          -0.3466654701540321,
          -1.0203403125208275,
          -0.6219015977392921,
          -0.784005188435757,
          -0.281543564563573,
          -0.7984860615236936,
          -0.9863197378120525,
          -0.7339625496698884,
          -0.39770110612593035,
          -1.3337516017700004,
          -0.9911078657479279,
          -0.4770871605162253,
          -0.6357181052950834,
          -0.6139010507968632,
          -1.1219127783648197,
          -0.4594180724942576,
          -1.511316659112588,
          -0.9770417837219482,
          -0.5232282387802095,
          -0.25618151764951486,
          -0.886717322854328,
          -1.1214921351666673,
          -0.7967023809523492,
          -1.239925168077866,
          -0.4299946694495885,
          -0.9987027860799557,
          -1.0458586011133384,
          -0.8273463320019496,
          -1.150375762884456,
          -1.0260548792073263,
          -0.09831542573903354,
          -0.8233841097765006,
          -0.9198707184303522,
          -0.9178070049435187,
          -0.5541747055038334,
          -1.0114403665234695,
          -1.1199121381344503,
          -0.9313297426906931,
          -1.2085756488066395,
          -0.8459353310219117,
          -1.1413726787818828,
          -1.0029510287494918,
          -1.1255465873801827,
          -1.1558054588299078,
          -1.218226838625318,
          -0.7298435898261841,
          -1.094680498836532,
          -0.5545511592848229,
          -0.572075956018418,
          -0.5711372672701895,
          -0.937769771372188,
          -1.3098824950408083,
          -1.1858401859128254,
          -1.069991173289064,
          -0.7409767614375141,
          -1.0750981118887912,
          -1.055392836388363,
          -0.7653702895322436,
          -1.0540126042098654,
          -1.1689847674205014,
          -1.3123179914250536,
          -1.147123715422008,
          -0.94156833731767,
          -1.0826220037155523,
          -1.2924835497645406,
          -1.1757824038679567,
          -1.0705064978640892,
          -0.9683665441327938,
          -1.0287936730053306,
          -1.4683079156342735,
          -0.7191891464427536,
          -1.0588156209240365,
          -0.7697419103415397,
          -1.2347650185156454,
          -1.0869307240958963,
          -1.1258323220516733,
          -1.3489086687016436,
          -1.1063762296401525,
          -0.6578804911889492,
          -0.8563061151925864,
          -1.2131981346768892,
          -1.249255154431829,
          -1.0575661837265202,
          -1.0136036166147533,
          -1.2365654520241394,
          -1.0948604030024722,
          -1.0069514707979417,
          -1.3624411721489176,
          -1.585745827004294,
          -1.3125460187108875,
          -0.7749775272776939,
          -1.7675460864784265,
          -1.7060905022738668,
          -1.1353166278123745
         ],
         "z": [
          -1.6016444945861092,
          -0.8411408655250918,
          -0.22181387234349767,
          -1.2065642111448114,
          0.7492890897481496,
          1.1408404287012062,
          -1.0238790776803661,
          -0.03337986778953586,
          -1.0942201053554796,
          -0.3083517513030137,
          -0.6471550738092082,
          0.24153405272779738,
          0.36488568928915877,
          -0.38646234866402146,
          1.6158818861564619,
          0.9458131784148438,
          0.21587284611751242,
          -0.23312882423935083,
          -1.0340135949408547,
          -1.256556840203825,
          1.976432337221473,
          -0.23371596849504003,
          -0.27197807889437947,
          -0.7497809792321304,
          1.4146674262037944,
          -1.3427378793267954,
          -0.46817282935853727,
          -0.5938339150989197,
          -1.1555745759001366,
          2.3242146673063977,
          -0.3089698308835051,
          1.1427511163722563,
          1.5158742397113447,
          0.045321259264220294,
          -0.37600825206884375,
          -0.11610764487109149,
          -1.2681306351640216,
          0.8226152789292853,
          -0.9487447513304523,
          -0.4740158269177399,
          0.5128496983653227,
          0.37942125981565245,
          -1.673199070698595,
          0.10109245285715336,
          -1.0680713927077186,
          0.3883256067326599,
          -2.2007334386551376,
          -0.44911436555164147,
          -0.6302762348298494,
          0.5286274803463094,
          1.3336942501453126,
          -2.32938189995213,
          -0.17437865502365246,
          0.4374755077324111,
          -1.4710901871873678,
          -0.9812227729316081,
          -0.8639919283239484,
          -0.37868344049212405,
          0.7409834258727799,
          -1.5461346711227704,
          -0.8399941644194427,
          0.6639879144585065,
          0.662228854759435,
          -0.8383464711343014,
          -1.387940547141121,
          -0.3181976386670674,
          -1.9164406994832743,
          -2.2771355379155414,
          0.7815131582139938,
          -1.4427656233052328,
          1.6119483058452735,
          -1.1957672802845194,
          0.37778362111838787,
          -0.6349521019038997,
          -0.9953551545349814,
          0.9499009854156465,
          0.8652261130166943,
          -0.9410716060715228,
          -1.2438118459104412,
          1.170817602684377,
          -0.45098524222958164,
          -1.5726729444254177,
          1.0286416903270714,
          -0.3739127885468685,
          0.05936022178024733,
          -1.5070474372970675,
          1.6956276393608103,
          -0.26802933776481463,
          0.883432928604383,
          -0.480543880147414,
          -1.0051746742530108,
          0.1134836524477928,
          -0.938331232964964,
          -0.740391005286121,
          0.5846729639914713,
          1.7013478141481175,
          -0.4655678871176827,
          -0.26712179336473385,
          -0.8993149323521926,
          -2.485581008046126,
          -0.36642393329887835,
          -0.9852877424963722,
          -0.3610546680842238,
          -1.4463815163878115,
          -1.9819953385365265,
          -2.2148866145668173,
          -1.3028804850581368,
          -0.7533755231641107,
          0.3267532469137567,
          -1.6346865203066983,
          0.35746800572364995,
          -1.772994556596745,
          -1.1064749093839361,
          -0.04428975440532112,
          -1.9547980102331017,
          -2.4120939276126876,
          0.6574783433721558,
          0.7304973366341664,
          0.28288479013332996,
          -0.5189413677906247,
          0.8650260531209332,
          -0.8963732278950827,
          0.5497275544386103,
          -0.7061229832779558,
          -0.7569549875737119,
          -0.5180112256825578,
          -0.355308073904619,
          0.42952040728970536,
          -1.5343977337477468,
          -0.9298157625747402,
          -0.07822304614635947,
          0.255407479901619,
          -1.785481881983067,
          -1.8874072946124372,
          -0.02229869327873929,
          -0.6717073053117987,
          -0.06139057868664847,
          1.4991982151952097,
          0.19959479639330346,
          -1.1775191977068702,
          -0.5666311576398178,
          -0.6211833996316166,
          -0.10338509005260967,
          -2.185433010535481,
          -0.511332035430099,
          0.5681979875887304,
          -0.8825925123819222,
          0.12506805606982904,
          -0.7613320649834915,
          0.753318835561967,
          0.10517359739467667,
          -0.96231742730427,
          0.392408440768886,
          -0.6815608274258425,
          0.47629884206747314,
          -0.9099139060425885,
          -0.5438695373131851,
          -0.32840309196394846,
          -0.1863062104954226,
          -1.442229943069026,
          -0.08592859588409005,
          -0.199091453554766,
          -1.8853949596985635,
          -1.5876973306571636,
          -0.6699611965452897,
          0.307602256250328,
          0.1635677031936863,
          -0.5503987344570713,
          -1.2595777717703018,
          -0.06437191641505234,
          -0.024301984359542034,
          2.004447301365893,
          0.0382721479482531,
          1.197764170326892,
          0.3911629407806883,
          1.3910785977494016,
          1.2987358726589995,
          -0.6864575505857197,
          -1.0291475434124693,
          -1.0235145666187084,
          0.23912214954543898,
          -0.8126147980120696,
          -1.1062931611260032,
          -0.9135719335501107,
          -1.6963403654682023,
          -0.6914742838816331,
          -0.5668220622337695,
          -0.1643472200421732,
          -1.4538681655979817,
          -1.193948182602185,
          -0.24031734996236956,
          -0.7750872817660802,
          -1.1784460072163652,
          -0.8983308199997203,
          0.87283177848865,
          0.6178414016204602,
          -0.6149829877932713,
          -1.2613352932148667,
          -0.42528516524277027,
          -0.578342072580055,
          -0.45102162949401825,
          -1.2311594901042375,
          -0.9835840813992079,
          0.2733148845235002,
          -0.05291248568340951,
          0.4454135303917658,
          -0.4116411719406612,
          1.0213694178764054,
          -0.06419119139260054,
          0.0012938072276306148,
          1.5552715078989932,
          0.4714988136274654,
          -0.41068288821446775,
          -0.39389762317881455,
          0.49266036048281203,
          -0.4548394836560389,
          -0.5113384648598496,
          0.6607907841471277,
          2.5234254359953847,
          0.6437314167365354,
          1.5741029345444009,
          1.4291733180144572,
          -0.6610334052987737,
          -0.38156188617649933,
          0.8117607017921603,
          -0.7193216791535196,
          1.6905982876171255,
          1.704165003470363,
          -0.8060207332190745,
          1.3387349812486378,
          -0.7961945112205242,
          0.23285403070954566,
          0.55555327029789,
          -0.5191458388413345,
          -0.5375403265914467,
          1.6896625070854367,
          0.8570664747124632,
          -0.20936884481980875,
          0.023985140295120555,
          0.6225221086020266,
          0.27209077091849937,
          0.16431237350265013,
          0.9846503544667076,
          0.17183009180884193,
          0.36413018095539784,
          1.1402199521509155,
          0.1858388896563611,
          2.3685403668006857,
          0.20546396614207282,
          0.9631502416910235,
          -1.324187111102171,
          1.52324765267595,
          -0.4779056751469291,
          1.8720785949678957,
          -0.7393437314278473,
          0.43122430305566356,
          1.9087865776765014,
          -0.23418380512185114,
          1.5130883212980109,
          -0.1457730257014187,
          0.4999536862071591,
          -0.4257190682640735,
          0.7721644520877187,
          0.2618118237177599,
          -1.043538091537634,
          -0.6353258563794005,
          -0.08600941845283584,
          0.6592102438419403,
          -0.3843897621158769,
          0.946950978859194,
          0.5499636969885399,
          -1.1075920178307546,
          2.0298360887301667,
          0.3332592198678912,
          0.5748873625014675,
          0.08820486312799126,
          -0.19496498697490802,
          1.1921789956726374,
          -1.4015144636721848,
          0.5838027940484183,
          -0.490587102668994,
          0.839979869028193,
          -0.33760361004436107,
          -0.11979467714739803,
          -0.902997020826439,
          -0.5712272491198952,
          1.835727656986713,
          1.448995232496056,
          1.5705916667974174,
          0.338719280020324,
          1.7317020922158506,
          -0.24692961069877764,
          -0.6118195814452815,
          0.49974654241007116,
          0.6406095284793939,
          0.12056713453323267,
          0.10162369729410484,
          0.17863501968911136,
          -0.1478920974060175,
          -0.7927761323475495,
          0.17908014845199743,
          0.6789805188827818,
          -0.27824348785715447,
          0.7202184398280076,
          -0.8431415988155097,
          0.8067048541699379,
          -0.9055491999051141,
          1.6714975961865397,
          -0.2139492426755935,
          0.20442372830775632,
          1.1341471707185382,
          0.9714444215143316,
          -1.0104193530542762,
          -0.4614804078012435,
          0.17717328405590643,
          -0.43342328468929114,
          1.0948465534543894,
          -0.07482087211320763,
          0.26556507488702963,
          -1.6424405537694218,
          1.4688555996276447,
          2.06442200417167,
          1.7279050538588772,
          1.0722882967071974,
          -0.22257099631139324,
          0.03788392085367083,
          -2.207592065852024,
          1.1972647741500781,
          -0.7138800167037762,
          0.16827985014443653,
          1.1129799554670619,
          0.29078267498171206,
          0.10422515940768043,
          2.1361987311903334,
          1.304070728005792,
          0.3798668063993559,
          0.08018041251265416,
          0.7999885313795353,
          -0.70184971067069,
          0.394136454271677,
          0.792556531124238,
          -0.312212481240077,
          -0.14861397536124363,
          -0.09487069055119082,
          -0.03590997791361905,
          -1.1053285844441907,
          0.28962857869027514,
          -0.7315992721176148,
          1.0321777120912787,
          -0.19275718426495456,
          1.473777777974562,
          0.49533502363763054,
          1.32593979731085,
          1.9440947438678189,
          -0.27385759609560256,
          1.279487783984452,
          0.5651232071292135,
          0.749962817630179,
          1.034154427916994,
          0.350776093588337,
          1.1786255532460215,
          -0.007789076960589859,
          -0.23998034963746454,
          -0.47065263157680204,
          -0.19557543332420024,
          0.38286300269091667,
          -0.026775867545228378,
          -0.627751944957191,
          -0.2602302017217344,
          0.9174538371643917,
          1.0395380339409437,
          0.019435620785653567,
          0.5689784031684503,
          1.5179711940433627,
          0.8522201557929805,
          0.9268512958789212,
          -0.12305593759926627,
          -0.5392874602967981,
          -0.25718710794017613,
          -0.5515283306635663,
          0.2246527576184025,
          1.4740878366376815,
          2.0248913406352966,
          -0.5026806099415639,
          1.150543099561155,
          1.733039511881278,
          1.1441116141988186,
          0.22412703102853096,
          0.5046774142221273,
          0.157469367611379,
          0.6374330471009474,
          0.6153177686021505,
          0.8504348626373629,
          2.6285311094439203,
          0.9171313267043582,
          0.6376363686105794,
          2.8586111259370512
         ]
        }
       ],
       "layout": {
        "coloraxis": {
         "colorbar": {
          "title": {
           "text": "color"
          }
         },
         "colorscale": [
          [
           0,
           "#0d0887"
          ],
          [
           0.1111111111111111,
           "#46039f"
          ],
          [
           0.2222222222222222,
           "#7201a8"
          ],
          [
           0.3333333333333333,
           "#9c179e"
          ],
          [
           0.4444444444444444,
           "#bd3786"
          ],
          [
           0.5555555555555556,
           "#d8576b"
          ],
          [
           0.6666666666666666,
           "#ed7953"
          ],
          [
           0.7777777777777778,
           "#fb9f3a"
          ],
          [
           0.8888888888888888,
           "#fdca26"
          ],
          [
           1,
           "#f0f921"
          ]
         ]
        },
        "legend": {
         "tracegroupgap": 0
        },
        "margin": {
         "t": 60
        },
        "scene": {
         "domain": {
          "x": [
           0,
           1
          ],
          "y": [
           0,
           1
          ]
         },
         "xaxis": {
          "title": {
           "text": "PC1"
          }
         },
         "yaxis": {
          "title": {
           "text": "PC2"
          }
         },
         "zaxis": {
          "title": {
           "text": "PC3"
          }
         }
        },
        "template": {
         "data": {
          "bar": [
           {
            "error_x": {
             "color": "#2a3f5f"
            },
            "error_y": {
             "color": "#2a3f5f"
            },
            "marker": {
             "line": {
              "color": "#E5ECF6",
              "width": 0.5
             },
             "pattern": {
              "fillmode": "overlay",
              "size": 10,
              "solidity": 0.2
             }
            },
            "type": "bar"
           }
          ],
          "barpolar": [
           {
            "marker": {
             "line": {
              "color": "#E5ECF6",
              "width": 0.5
             },
             "pattern": {
              "fillmode": "overlay",
              "size": 10,
              "solidity": 0.2
             }
            },
            "type": "barpolar"
           }
          ],
          "carpet": [
           {
            "aaxis": {
             "endlinecolor": "#2a3f5f",
             "gridcolor": "white",
             "linecolor": "white",
             "minorgridcolor": "white",
             "startlinecolor": "#2a3f5f"
            },
            "baxis": {
             "endlinecolor": "#2a3f5f",
             "gridcolor": "white",
             "linecolor": "white",
             "minorgridcolor": "white",
             "startlinecolor": "#2a3f5f"
            },
            "type": "carpet"
           }
          ],
          "choropleth": [
           {
            "colorbar": {
             "outlinewidth": 0,
             "ticks": ""
            },
            "type": "choropleth"
           }
          ],
          "contour": [
           {
            "colorbar": {
             "outlinewidth": 0,
             "ticks": ""
            },
            "colorscale": [
             [
              0,
              "#0d0887"
             ],
             [
              0.1111111111111111,
              "#46039f"
             ],
             [
              0.2222222222222222,
              "#7201a8"
             ],
             [
              0.3333333333333333,
              "#9c179e"
             ],
             [
              0.4444444444444444,
              "#bd3786"
             ],
             [
              0.5555555555555556,
              "#d8576b"
             ],
             [
              0.6666666666666666,
              "#ed7953"
             ],
             [
              0.7777777777777778,
              "#fb9f3a"
             ],
             [
              0.8888888888888888,
              "#fdca26"
             ],
             [
              1,
              "#f0f921"
             ]
            ],
            "type": "contour"
           }
          ],
          "contourcarpet": [
           {
            "colorbar": {
             "outlinewidth": 0,
             "ticks": ""
            },
            "type": "contourcarpet"
           }
          ],
          "heatmap": [
           {
            "colorbar": {
             "outlinewidth": 0,
             "ticks": ""
            },
            "colorscale": [
             [
              0,
              "#0d0887"
             ],
             [
              0.1111111111111111,
              "#46039f"
             ],
             [
              0.2222222222222222,
              "#7201a8"
             ],
             [
              0.3333333333333333,
              "#9c179e"
             ],
             [
              0.4444444444444444,
              "#bd3786"
             ],
             [
              0.5555555555555556,
              "#d8576b"
             ],
             [
              0.6666666666666666,
              "#ed7953"
             ],
             [
              0.7777777777777778,
              "#fb9f3a"
             ],
             [
              0.8888888888888888,
              "#fdca26"
             ],
             [
              1,
              "#f0f921"
             ]
            ],
            "type": "heatmap"
           }
          ],
          "heatmapgl": [
           {
            "colorbar": {
             "outlinewidth": 0,
             "ticks": ""
            },
            "colorscale": [
             [
              0,
              "#0d0887"
             ],
             [
              0.1111111111111111,
              "#46039f"
             ],
             [
              0.2222222222222222,
              "#7201a8"
             ],
             [
              0.3333333333333333,
              "#9c179e"
             ],
             [
              0.4444444444444444,
              "#bd3786"
             ],
             [
              0.5555555555555556,
              "#d8576b"
             ],
             [
              0.6666666666666666,
              "#ed7953"
             ],
             [
              0.7777777777777778,
              "#fb9f3a"
             ],
             [
              0.8888888888888888,
              "#fdca26"
             ],
             [
              1,
              "#f0f921"
             ]
            ],
            "type": "heatmapgl"
           }
          ],
          "histogram": [
           {
            "marker": {
             "pattern": {
              "fillmode": "overlay",
              "size": 10,
              "solidity": 0.2
             }
            },
            "type": "histogram"
           }
          ],
          "histogram2d": [
           {
            "colorbar": {
             "outlinewidth": 0,
             "ticks": ""
            },
            "colorscale": [
             [
              0,
              "#0d0887"
             ],
             [
              0.1111111111111111,
              "#46039f"
             ],
             [
              0.2222222222222222,
              "#7201a8"
             ],
             [
              0.3333333333333333,
              "#9c179e"
             ],
             [
              0.4444444444444444,
              "#bd3786"
             ],
             [
              0.5555555555555556,
              "#d8576b"
             ],
             [
              0.6666666666666666,
              "#ed7953"
             ],
             [
              0.7777777777777778,
              "#fb9f3a"
             ],
             [
              0.8888888888888888,
              "#fdca26"
             ],
             [
              1,
              "#f0f921"
             ]
            ],
            "type": "histogram2d"
           }
          ],
          "histogram2dcontour": [
           {
            "colorbar": {
             "outlinewidth": 0,
             "ticks": ""
            },
            "colorscale": [
             [
              0,
              "#0d0887"
             ],
             [
              0.1111111111111111,
              "#46039f"
             ],
             [
              0.2222222222222222,
              "#7201a8"
             ],
             [
              0.3333333333333333,
              "#9c179e"
             ],
             [
              0.4444444444444444,
              "#bd3786"
             ],
             [
              0.5555555555555556,
              "#d8576b"
             ],
             [
              0.6666666666666666,
              "#ed7953"
             ],
             [
              0.7777777777777778,
              "#fb9f3a"
             ],
             [
              0.8888888888888888,
              "#fdca26"
             ],
             [
              1,
              "#f0f921"
             ]
            ],
            "type": "histogram2dcontour"
           }
          ],
          "mesh3d": [
           {
            "colorbar": {
             "outlinewidth": 0,
             "ticks": ""
            },
            "type": "mesh3d"
           }
          ],
          "parcoords": [
           {
            "line": {
             "colorbar": {
              "outlinewidth": 0,
              "ticks": ""
             }
            },
            "type": "parcoords"
           }
          ],
          "pie": [
           {
            "automargin": true,
            "type": "pie"
           }
          ],
          "scatter": [
           {
            "fillpattern": {
             "fillmode": "overlay",
             "size": 10,
             "solidity": 0.2
            },
            "type": "scatter"
           }
          ],
          "scatter3d": [
           {
            "line": {
             "colorbar": {
              "outlinewidth": 0,
              "ticks": ""
             }
            },
            "marker": {
             "colorbar": {
              "outlinewidth": 0,
              "ticks": ""
             }
            },
            "type": "scatter3d"
           }
          ],
          "scattercarpet": [
           {
            "marker": {
             "colorbar": {
              "outlinewidth": 0,
              "ticks": ""
             }
            },
            "type": "scattercarpet"
           }
          ],
          "scattergeo": [
           {
            "marker": {
             "colorbar": {
              "outlinewidth": 0,
              "ticks": ""
             }
            },
            "type": "scattergeo"
           }
          ],
          "scattergl": [
           {
            "marker": {
             "colorbar": {
              "outlinewidth": 0,
              "ticks": ""
             }
            },
            "type": "scattergl"
           }
          ],
          "scattermapbox": [
           {
            "marker": {
             "colorbar": {
              "outlinewidth": 0,
              "ticks": ""
             }
            },
            "type": "scattermapbox"
           }
          ],
          "scatterpolar": [
           {
            "marker": {
             "colorbar": {
              "outlinewidth": 0,
              "ticks": ""
             }
            },
            "type": "scatterpolar"
           }
          ],
          "scatterpolargl": [
           {
            "marker": {
             "colorbar": {
              "outlinewidth": 0,
              "ticks": ""
             }
            },
            "type": "scatterpolargl"
           }
          ],
          "scatterternary": [
           {
            "marker": {
             "colorbar": {
              "outlinewidth": 0,
              "ticks": ""
             }
            },
            "type": "scatterternary"
           }
          ],
          "surface": [
           {
            "colorbar": {
             "outlinewidth": 0,
             "ticks": ""
            },
            "colorscale": [
             [
              0,
              "#0d0887"
             ],
             [
              0.1111111111111111,
              "#46039f"
             ],
             [
              0.2222222222222222,
              "#7201a8"
             ],
             [
              0.3333333333333333,
              "#9c179e"
             ],
             [
              0.4444444444444444,
              "#bd3786"
             ],
             [
              0.5555555555555556,
              "#d8576b"
             ],
             [
              0.6666666666666666,
              "#ed7953"
             ],
             [
              0.7777777777777778,
              "#fb9f3a"
             ],
             [
              0.8888888888888888,
              "#fdca26"
             ],
             [
              1,
              "#f0f921"
             ]
            ],
            "type": "surface"
           }
          ],
          "table": [
           {
            "cells": {
             "fill": {
              "color": "#EBF0F8"
             },
             "line": {
              "color": "white"
             }
            },
            "header": {
             "fill": {
              "color": "#C8D4E3"
             },
             "line": {
              "color": "white"
             }
            },
            "type": "table"
           }
          ]
         },
         "layout": {
          "annotationdefaults": {
           "arrowcolor": "#2a3f5f",
           "arrowhead": 0,
           "arrowwidth": 1
          },
          "autotypenumbers": "strict",
          "coloraxis": {
           "colorbar": {
            "outlinewidth": 0,
            "ticks": ""
           }
          },
          "colorscale": {
           "diverging": [
            [
             0,
             "#8e0152"
            ],
            [
             0.1,
             "#c51b7d"
            ],
            [
             0.2,
             "#de77ae"
            ],
            [
             0.3,
             "#f1b6da"
            ],
            [
             0.4,
             "#fde0ef"
            ],
            [
             0.5,
             "#f7f7f7"
            ],
            [
             0.6,
             "#e6f5d0"
            ],
            [
             0.7,
             "#b8e186"
            ],
            [
             0.8,
             "#7fbc41"
            ],
            [
             0.9,
             "#4d9221"
            ],
            [
             1,
             "#276419"
            ]
           ],
           "sequential": [
            [
             0,
             "#0d0887"
            ],
            [
             0.1111111111111111,
             "#46039f"
            ],
            [
             0.2222222222222222,
             "#7201a8"
            ],
            [
             0.3333333333333333,
             "#9c179e"
            ],
            [
             0.4444444444444444,
             "#bd3786"
            ],
            [
             0.5555555555555556,
             "#d8576b"
            ],
            [
             0.6666666666666666,
             "#ed7953"
            ],
            [
             0.7777777777777778,
             "#fb9f3a"
            ],
            [
             0.8888888888888888,
             "#fdca26"
            ],
            [
             1,
             "#f0f921"
            ]
           ],
           "sequentialminus": [
            [
             0,
             "#0d0887"
            ],
            [
             0.1111111111111111,
             "#46039f"
            ],
            [
             0.2222222222222222,
             "#7201a8"
            ],
            [
             0.3333333333333333,
             "#9c179e"
            ],
            [
             0.4444444444444444,
             "#bd3786"
            ],
            [
             0.5555555555555556,
             "#d8576b"
            ],
            [
             0.6666666666666666,
             "#ed7953"
            ],
            [
             0.7777777777777778,
             "#fb9f3a"
            ],
            [
             0.8888888888888888,
             "#fdca26"
            ],
            [
             1,
             "#f0f921"
            ]
           ]
          },
          "colorway": [
           "#636efa",
           "#EF553B",
           "#00cc96",
           "#ab63fa",
           "#FFA15A",
           "#19d3f3",
           "#FF6692",
           "#B6E880",
           "#FF97FF",
           "#FECB52"
          ],
          "font": {
           "color": "#2a3f5f"
          },
          "geo": {
           "bgcolor": "white",
           "lakecolor": "white",
           "landcolor": "#E5ECF6",
           "showlakes": true,
           "showland": true,
           "subunitcolor": "white"
          },
          "hoverlabel": {
           "align": "left"
          },
          "hovermode": "closest",
          "mapbox": {
           "style": "light"
          },
          "paper_bgcolor": "white",
          "plot_bgcolor": "#E5ECF6",
          "polar": {
           "angularaxis": {
            "gridcolor": "white",
            "linecolor": "white",
            "ticks": ""
           },
           "bgcolor": "#E5ECF6",
           "radialaxis": {
            "gridcolor": "white",
            "linecolor": "white",
            "ticks": ""
           }
          },
          "scene": {
           "xaxis": {
            "backgroundcolor": "#E5ECF6",
            "gridcolor": "white",
            "gridwidth": 2,
            "linecolor": "white",
            "showbackground": true,
            "ticks": "",
            "zerolinecolor": "white"
           },
           "yaxis": {
            "backgroundcolor": "#E5ECF6",
            "gridcolor": "white",
            "gridwidth": 2,
            "linecolor": "white",
            "showbackground": true,
            "ticks": "",
            "zerolinecolor": "white"
           },
           "zaxis": {
            "backgroundcolor": "#E5ECF6",
            "gridcolor": "white",
            "gridwidth": 2,
            "linecolor": "white",
            "showbackground": true,
            "ticks": "",
            "zerolinecolor": "white"
           }
          },
          "shapedefaults": {
           "line": {
            "color": "#2a3f5f"
           }
          },
          "ternary": {
           "aaxis": {
            "gridcolor": "white",
            "linecolor": "white",
            "ticks": ""
           },
           "baxis": {
            "gridcolor": "white",
            "linecolor": "white",
            "ticks": ""
           },
           "bgcolor": "#E5ECF6",
           "caxis": {
            "gridcolor": "white",
            "linecolor": "white",
            "ticks": ""
           }
          },
          "title": {
           "x": 0.05
          },
          "xaxis": {
           "automargin": true,
           "gridcolor": "white",
           "linecolor": "white",
           "ticks": "",
           "title": {
            "standoff": 15
           },
           "zerolinecolor": "white",
           "zerolinewidth": 2
          },
          "yaxis": {
           "automargin": true,
           "gridcolor": "white",
           "linecolor": "white",
           "ticks": "",
           "title": {
            "standoff": 15
           },
           "zerolinecolor": "white",
           "zerolinewidth": 2
          }
         }
        }
       }
      }
     },
     "metadata": {},
     "output_type": "display_data"
    }
   ],
   "source": [
    "fig2 = px.scatter_3d(pcaDataScaled, x='PC1', y='PC2', z='PC3',color=km_neat)\n",
    "fig2"
=======
      "text/html": [
       "<div>\n",
       "<style scoped>\n",
       "    .dataframe tbody tr th:only-of-type {\n",
       "        vertical-align: middle;\n",
       "    }\n",
       "\n",
       "    .dataframe tbody tr th {\n",
       "        vertical-align: top;\n",
       "    }\n",
       "\n",
       "    .dataframe thead th {\n",
       "        text-align: right;\n",
       "    }\n",
       "</style>\n",
       "<table border=\"1\" class=\"dataframe\">\n",
       "  <thead>\n",
       "    <tr style=\"text-align: right;\">\n",
       "      <th></th>\n",
       "      <th>PC1</th>\n",
       "      <th>PC2</th>\n",
       "      <th>PC3</th>\n",
       "      <th>PC4</th>\n",
       "      <th>PC5</th>\n",
       "      <th>Player</th>\n",
       "      <th>Team</th>\n",
       "      <th>Cluster</th>\n",
       "    </tr>\n",
       "  </thead>\n",
       "  <tbody>\n",
       "    <tr>\n",
       "      <th>0</th>\n",
       "      <td>-5.973640</td>\n",
       "      <td>10.348598</td>\n",
       "      <td>-4.544328</td>\n",
       "      <td>-2.790883</td>\n",
       "      <td>-1.291382</td>\n",
       "      <td>Stephen Curry</td>\n",
       "      <td>GSW</td>\n",
       "      <td>3</td>\n",
       "    </tr>\n",
       "    <tr>\n",
       "      <th>1</th>\n",
       "      <td>-1.975250</td>\n",
       "      <td>9.700635</td>\n",
       "      <td>-2.386559</td>\n",
       "      <td>-4.657934</td>\n",
       "      <td>-0.569510</td>\n",
       "      <td>Bradley Beal</td>\n",
       "      <td>WAS</td>\n",
       "      <td>3</td>\n",
       "    </tr>\n",
       "    <tr>\n",
       "      <th>2</th>\n",
       "      <td>-7.131777</td>\n",
       "      <td>11.506774</td>\n",
       "      <td>-0.629350</td>\n",
       "      <td>-4.972975</td>\n",
       "      <td>1.235958</td>\n",
       "      <td>Damian Lillard</td>\n",
       "      <td>POR</td>\n",
       "      <td>3</td>\n",
       "    </tr>\n",
       "    <tr>\n",
       "      <th>3</th>\n",
       "      <td>14.068326</td>\n",
       "      <td>14.403856</td>\n",
       "      <td>-3.423371</td>\n",
       "      <td>4.085493</td>\n",
       "      <td>9.550238</td>\n",
       "      <td>Joel Embiid</td>\n",
       "      <td>PHI</td>\n",
       "      <td>1</td>\n",
       "    </tr>\n",
       "    <tr>\n",
       "      <th>4</th>\n",
       "      <td>8.082776</td>\n",
       "      <td>13.723707</td>\n",
       "      <td>2.125949</td>\n",
       "      <td>-1.052888</td>\n",
       "      <td>1.960181</td>\n",
       "      <td>Giannis Antetokounmpo</td>\n",
       "      <td>MIL</td>\n",
       "      <td>1</td>\n",
       "    </tr>\n",
       "    <tr>\n",
       "      <th>...</th>\n",
       "      <td>...</td>\n",
       "      <td>...</td>\n",
       "      <td>...</td>\n",
       "      <td>...</td>\n",
       "      <td>...</td>\n",
       "      <td>...</td>\n",
       "      <td>...</td>\n",
       "      <td>...</td>\n",
       "    </tr>\n",
       "    <tr>\n",
       "      <th>392</th>\n",
       "      <td>-1.767053</td>\n",
       "      <td>-6.117506</td>\n",
       "      <td>2.412929</td>\n",
       "      <td>3.375371</td>\n",
       "      <td>1.891360</td>\n",
       "      <td>Nicolo Melli</td>\n",
       "      <td>DAL</td>\n",
       "      <td>5</td>\n",
       "    </tr>\n",
       "    <tr>\n",
       "      <th>393</th>\n",
       "      <td>-5.746449</td>\n",
       "      <td>-3.612010</td>\n",
       "      <td>7.457901</td>\n",
       "      <td>3.099955</td>\n",
       "      <td>3.200641</td>\n",
       "      <td>Matthew Dellavedova</td>\n",
       "      <td>CLE</td>\n",
       "      <td>5</td>\n",
       "    </tr>\n",
       "    <tr>\n",
       "      <th>394</th>\n",
       "      <td>-2.157475</td>\n",
       "      <td>-8.238167</td>\n",
       "      <td>2.602166</td>\n",
       "      <td>1.469678</td>\n",
       "      <td>1.456859</td>\n",
       "      <td>KZ Okpala</td>\n",
       "      <td>MIA</td>\n",
       "      <td>5</td>\n",
       "    </tr>\n",
       "    <tr>\n",
       "      <th>395</th>\n",
       "      <td>-1.642875</td>\n",
       "      <td>-7.951736</td>\n",
       "      <td>1.809158</td>\n",
       "      <td>-1.508661</td>\n",
       "      <td>1.187768</td>\n",
       "      <td>Wes Iwundu</td>\n",
       "      <td>NOP</td>\n",
       "      <td>5</td>\n",
       "    </tr>\n",
       "    <tr>\n",
       "      <th>396</th>\n",
       "      <td>4.712861</td>\n",
       "      <td>-5.291476</td>\n",
       "      <td>8.110704</td>\n",
       "      <td>-0.141387</td>\n",
       "      <td>-0.154904</td>\n",
       "      <td>Ed Davis</td>\n",
       "      <td>MIN</td>\n",
       "      <td>4</td>\n",
       "    </tr>\n",
       "  </tbody>\n",
       "</table>\n",
       "<p>397 rows × 8 columns</p>\n",
       "</div>"
      ],
      "text/plain": [
       "           PC1        PC2       PC3       PC4       PC5  \\\n",
       "0    -5.973640  10.348598 -4.544328 -2.790883 -1.291382   \n",
       "1    -1.975250   9.700635 -2.386559 -4.657934 -0.569510   \n",
       "2    -7.131777  11.506774 -0.629350 -4.972975  1.235958   \n",
       "3    14.068326  14.403856 -3.423371  4.085493  9.550238   \n",
       "4     8.082776  13.723707  2.125949 -1.052888  1.960181   \n",
       "..         ...        ...       ...       ...       ...   \n",
       "392  -1.767053  -6.117506  2.412929  3.375371  1.891360   \n",
       "393  -5.746449  -3.612010  7.457901  3.099955  3.200641   \n",
       "394  -2.157475  -8.238167  2.602166  1.469678  1.456859   \n",
       "395  -1.642875  -7.951736  1.809158 -1.508661  1.187768   \n",
       "396   4.712861  -5.291476  8.110704 -0.141387 -0.154904   \n",
       "\n",
       "                    Player Team  Cluster  \n",
       "0            Stephen Curry  GSW        3  \n",
       "1             Bradley Beal  WAS        3  \n",
       "2           Damian Lillard  POR        3  \n",
       "3              Joel Embiid  PHI        1  \n",
       "4    Giannis Antetokounmpo  MIL        1  \n",
       "..                     ...  ...      ...  \n",
       "392           Nicolo Melli  DAL        5  \n",
       "393    Matthew Dellavedova  CLE        5  \n",
       "394              KZ Okpala  MIA        5  \n",
       "395             Wes Iwundu  NOP        5  \n",
       "396               Ed Davis  MIN        4  \n",
       "\n",
       "[397 rows x 8 columns]"
      ]
     },
     "execution_count": 55,
     "metadata": {},
     "output_type": "execute_result"
    }
   ],
   "source": [
    "kmeancluster"
   ]
  },
  {
   "cell_type": "code",
   "execution_count": 65,
   "metadata": {},
   "outputs": [
    {
     "data": {
      "text/plain": [
       "2    116\n",
       "0     76\n",
       "5     63\n",
       "3     60\n",
       "4     56\n",
       "1     26\n",
       "Name: Cluster, dtype: int64"
      ]
     },
     "execution_count": 65,
     "metadata": {},
     "output_type": "execute_result"
    }
   ],
   "source": [
    "kmeancluster['Cluster'].value_counts()"
   ]
  },
  {
   "cell_type": "code",
   "execution_count": 59,
   "metadata": {},
   "outputs": [],
   "source": [
    "cluster1 = kmeancluster[kmeancluster['Cluster'] == 1]"
   ]
  },
  {
   "cell_type": "code",
   "execution_count": 60,
   "metadata": {},
   "outputs": [
    {
     "data": {
      "text/html": [
       "<div>\n",
       "<style scoped>\n",
       "    .dataframe tbody tr th:only-of-type {\n",
       "        vertical-align: middle;\n",
       "    }\n",
       "\n",
       "    .dataframe tbody tr th {\n",
       "        vertical-align: top;\n",
       "    }\n",
       "\n",
       "    .dataframe thead th {\n",
       "        text-align: right;\n",
       "    }\n",
       "</style>\n",
       "<table border=\"1\" class=\"dataframe\">\n",
       "  <thead>\n",
       "    <tr style=\"text-align: right;\">\n",
       "      <th></th>\n",
       "      <th>PC1</th>\n",
       "      <th>PC2</th>\n",
       "      <th>PC3</th>\n",
       "      <th>PC4</th>\n",
       "      <th>PC5</th>\n",
       "      <th>Player</th>\n",
       "      <th>Team</th>\n",
       "      <th>Cluster</th>\n",
       "    </tr>\n",
       "  </thead>\n",
       "  <tbody>\n",
       "    <tr>\n",
       "      <th>3</th>\n",
       "      <td>14.068326</td>\n",
       "      <td>14.403856</td>\n",
       "      <td>-3.423371</td>\n",
       "      <td>4.085493</td>\n",
       "      <td>9.550238</td>\n",
       "      <td>Joel Embiid</td>\n",
       "      <td>PHI</td>\n",
       "      <td>1</td>\n",
       "    </tr>\n",
       "    <tr>\n",
       "      <th>4</th>\n",
       "      <td>8.082776</td>\n",
       "      <td>13.723707</td>\n",
       "      <td>2.125949</td>\n",
       "      <td>-1.052888</td>\n",
       "      <td>1.960181</td>\n",
       "      <td>Giannis Antetokounmpo</td>\n",
       "      <td>MIL</td>\n",
       "      <td>1</td>\n",
       "    </tr>\n",
       "    <tr>\n",
       "      <th>8</th>\n",
       "      <td>0.507119</td>\n",
       "      <td>10.761188</td>\n",
       "      <td>-3.104618</td>\n",
       "      <td>0.352497</td>\n",
       "      <td>3.570327</td>\n",
       "      <td>Kevin Durant</td>\n",
       "      <td>BKN</td>\n",
       "      <td>1</td>\n",
       "    </tr>\n",
       "    <tr>\n",
       "      <th>12</th>\n",
       "      <td>13.740606</td>\n",
       "      <td>16.467250</td>\n",
       "      <td>1.035286</td>\n",
       "      <td>8.918870</td>\n",
       "      <td>4.535435</td>\n",
       "      <td>Nikola Jokic</td>\n",
       "      <td>DEN</td>\n",
       "      <td>1</td>\n",
       "    </tr>\n",
       "    <tr>\n",
       "      <th>17</th>\n",
       "      <td>0.333270</td>\n",
       "      <td>12.137660</td>\n",
       "      <td>-0.661454</td>\n",
       "      <td>1.620786</td>\n",
       "      <td>3.451613</td>\n",
       "      <td>Kawhi Leonard</td>\n",
       "      <td>LAC</td>\n",
       "      <td>1</td>\n",
       "    </tr>\n",
       "    <tr>\n",
       "      <th>18</th>\n",
       "      <td>10.444115</td>\n",
       "      <td>10.467268</td>\n",
       "      <td>-2.933795</td>\n",
       "      <td>4.057168</td>\n",
       "      <td>3.842864</td>\n",
       "      <td>Karl-Anthony Towns</td>\n",
       "      <td>MIN</td>\n",
       "      <td>1</td>\n",
       "    </tr>\n",
       "    <tr>\n",
       "      <th>22</th>\n",
       "      <td>2.146523</td>\n",
       "      <td>11.991856</td>\n",
       "      <td>-0.771680</td>\n",
       "      <td>3.127663</td>\n",
       "      <td>1.297409</td>\n",
       "      <td>Julius Randle</td>\n",
       "      <td>NYK</td>\n",
       "      <td>1</td>\n",
       "    </tr>\n",
       "    <tr>\n",
       "      <th>25</th>\n",
       "      <td>8.361508</td>\n",
       "      <td>9.831955</td>\n",
       "      <td>-3.809735</td>\n",
       "      <td>7.976643</td>\n",
       "      <td>5.619692</td>\n",
       "      <td>Nikola Vucevic</td>\n",
       "      <td>CHI</td>\n",
       "      <td>1</td>\n",
       "    </tr>\n",
       "    <tr>\n",
       "      <th>30</th>\n",
       "      <td>10.765548</td>\n",
       "      <td>9.390946</td>\n",
       "      <td>-0.876637</td>\n",
       "      <td>3.982718</td>\n",
       "      <td>5.146173</td>\n",
       "      <td>Anthony Davis</td>\n",
       "      <td>LAL</td>\n",
       "      <td>1</td>\n",
       "    </tr>\n",
       "    <tr>\n",
       "      <th>36</th>\n",
       "      <td>8.795259</td>\n",
       "      <td>4.976932</td>\n",
       "      <td>-3.598052</td>\n",
       "      <td>-0.431872</td>\n",
       "      <td>0.377500</td>\n",
       "      <td>Christian Wood</td>\n",
       "      <td>HOU</td>\n",
       "      <td>1</td>\n",
       "    </tr>\n",
       "    <tr>\n",
       "      <th>40</th>\n",
       "      <td>12.435115</td>\n",
       "      <td>11.559476</td>\n",
       "      <td>1.455103</td>\n",
       "      <td>5.916180</td>\n",
       "      <td>0.617187</td>\n",
       "      <td>Domantas Sabonis</td>\n",
       "      <td>IND</td>\n",
       "      <td>1</td>\n",
       "    </tr>\n",
       "    <tr>\n",
       "      <th>42</th>\n",
       "      <td>8.235528</td>\n",
       "      <td>4.902872</td>\n",
       "      <td>-4.747348</td>\n",
       "      <td>2.982401</td>\n",
       "      <td>3.866860</td>\n",
       "      <td>Kristaps Porzingis</td>\n",
       "      <td>DAL</td>\n",
       "      <td>1</td>\n",
       "    </tr>\n",
       "    <tr>\n",
       "      <th>53</th>\n",
       "      <td>10.570350</td>\n",
       "      <td>9.245041</td>\n",
       "      <td>1.241244</td>\n",
       "      <td>4.033479</td>\n",
       "      <td>1.678384</td>\n",
       "      <td>Bam Adebayo</td>\n",
       "      <td>MIA</td>\n",
       "      <td>1</td>\n",
       "    </tr>\n",
       "    <tr>\n",
       "      <th>59</th>\n",
       "      <td>8.548389</td>\n",
       "      <td>3.640992</td>\n",
       "      <td>-4.386830</td>\n",
       "      <td>0.602919</td>\n",
       "      <td>-0.172377</td>\n",
       "      <td>John Collins</td>\n",
       "      <td>ATL</td>\n",
       "      <td>1</td>\n",
       "    </tr>\n",
       "    <tr>\n",
       "      <th>65</th>\n",
       "      <td>14.266191</td>\n",
       "      <td>5.923961</td>\n",
       "      <td>-0.902819</td>\n",
       "      <td>2.379722</td>\n",
       "      <td>2.612462</td>\n",
       "      <td>Jonas Valanciunas</td>\n",
       "      <td>MEM</td>\n",
       "      <td>1</td>\n",
       "    </tr>\n",
       "    <tr>\n",
       "      <th>86</th>\n",
       "      <td>14.045588</td>\n",
       "      <td>5.132497</td>\n",
       "      <td>4.810985</td>\n",
       "      <td>1.614931</td>\n",
       "      <td>2.241822</td>\n",
       "      <td>Andre Drummond</td>\n",
       "      <td>LAL</td>\n",
       "      <td>1</td>\n",
       "    </tr>\n",
       "    <tr>\n",
       "      <th>91</th>\n",
       "      <td>13.682139</td>\n",
       "      <td>4.196034</td>\n",
       "      <td>0.321986</td>\n",
       "      <td>2.756086</td>\n",
       "      <td>0.620640</td>\n",
       "      <td>Deandre Ayton</td>\n",
       "      <td>PHX</td>\n",
       "      <td>1</td>\n",
       "    </tr>\n",
       "    <tr>\n",
       "      <th>97</th>\n",
       "      <td>3.428014</td>\n",
       "      <td>2.281822</td>\n",
       "      <td>-0.757902</td>\n",
       "      <td>4.884557</td>\n",
       "      <td>2.140239</td>\n",
       "      <td>Al Horford</td>\n",
       "      <td>BOS</td>\n",
       "      <td>1</td>\n",
       "    </tr>\n",
       "    <tr>\n",
       "      <th>106</th>\n",
       "      <td>4.767286</td>\n",
       "      <td>1.778824</td>\n",
       "      <td>-3.696648</td>\n",
       "      <td>2.773239</td>\n",
       "      <td>5.158593</td>\n",
       "      <td>LaMarcus Aldridge</td>\n",
       "      <td>BKN</td>\n",
       "      <td>1</td>\n",
       "    </tr>\n",
       "    <tr>\n",
       "      <th>112</th>\n",
       "      <td>-0.000289</td>\n",
       "      <td>1.563412</td>\n",
       "      <td>-3.139389</td>\n",
       "      <td>0.222556</td>\n",
       "      <td>6.610390</td>\n",
       "      <td>Carmelo Anthony</td>\n",
       "      <td>POR</td>\n",
       "      <td>1</td>\n",
       "    </tr>\n",
       "    <tr>\n",
       "      <th>135</th>\n",
       "      <td>2.058405</td>\n",
       "      <td>0.877760</td>\n",
       "      <td>-1.905827</td>\n",
       "      <td>4.004244</td>\n",
       "      <td>3.798533</td>\n",
       "      <td>Kevin Love</td>\n",
       "      <td>CLE</td>\n",
       "      <td>1</td>\n",
       "    </tr>\n",
       "    <tr>\n",
       "      <th>137</th>\n",
       "      <td>7.436733</td>\n",
       "      <td>3.800727</td>\n",
       "      <td>4.253658</td>\n",
       "      <td>4.719656</td>\n",
       "      <td>0.486444</td>\n",
       "      <td>Thaddeus Young</td>\n",
       "      <td>CHI</td>\n",
       "      <td>1</td>\n",
       "    </tr>\n",
       "    <tr>\n",
       "      <th>145</th>\n",
       "      <td>10.207657</td>\n",
       "      <td>3.459621</td>\n",
       "      <td>1.612142</td>\n",
       "      <td>2.543214</td>\n",
       "      <td>0.674253</td>\n",
       "      <td>Jusuf Nurkic</td>\n",
       "      <td>POR</td>\n",
       "      <td>1</td>\n",
       "    </tr>\n",
       "    <tr>\n",
       "      <th>157</th>\n",
       "      <td>7.065868</td>\n",
       "      <td>0.360604</td>\n",
       "      <td>-0.931774</td>\n",
       "      <td>3.090833</td>\n",
       "      <td>1.200099</td>\n",
       "      <td>Serge Ibaka</td>\n",
       "      <td>LAC</td>\n",
       "      <td>1</td>\n",
       "    </tr>\n",
       "    <tr>\n",
       "      <th>160</th>\n",
       "      <td>2.224501</td>\n",
       "      <td>1.941646</td>\n",
       "      <td>-0.243804</td>\n",
       "      <td>2.447296</td>\n",
       "      <td>2.964643</td>\n",
       "      <td>Blake Griffin</td>\n",
       "      <td>BKN</td>\n",
       "      <td>1</td>\n",
       "    </tr>\n",
       "    <tr>\n",
       "      <th>209</th>\n",
       "      <td>3.395191</td>\n",
       "      <td>-0.200910</td>\n",
       "      <td>0.003671</td>\n",
       "      <td>2.617125</td>\n",
       "      <td>4.403847</td>\n",
       "      <td>DeMarcus Cousins</td>\n",
       "      <td>LAC</td>\n",
       "      <td>1</td>\n",
       "    </tr>\n",
       "  </tbody>\n",
       "</table>\n",
       "</div>"
      ],
      "text/plain": [
       "           PC1        PC2       PC3       PC4       PC5  \\\n",
       "3    14.068326  14.403856 -3.423371  4.085493  9.550238   \n",
       "4     8.082776  13.723707  2.125949 -1.052888  1.960181   \n",
       "8     0.507119  10.761188 -3.104618  0.352497  3.570327   \n",
       "12   13.740606  16.467250  1.035286  8.918870  4.535435   \n",
       "17    0.333270  12.137660 -0.661454  1.620786  3.451613   \n",
       "18   10.444115  10.467268 -2.933795  4.057168  3.842864   \n",
       "22    2.146523  11.991856 -0.771680  3.127663  1.297409   \n",
       "25    8.361508   9.831955 -3.809735  7.976643  5.619692   \n",
       "30   10.765548   9.390946 -0.876637  3.982718  5.146173   \n",
       "36    8.795259   4.976932 -3.598052 -0.431872  0.377500   \n",
       "40   12.435115  11.559476  1.455103  5.916180  0.617187   \n",
       "42    8.235528   4.902872 -4.747348  2.982401  3.866860   \n",
       "53   10.570350   9.245041  1.241244  4.033479  1.678384   \n",
       "59    8.548389   3.640992 -4.386830  0.602919 -0.172377   \n",
       "65   14.266191   5.923961 -0.902819  2.379722  2.612462   \n",
       "86   14.045588   5.132497  4.810985  1.614931  2.241822   \n",
       "91   13.682139   4.196034  0.321986  2.756086  0.620640   \n",
       "97    3.428014   2.281822 -0.757902  4.884557  2.140239   \n",
       "106   4.767286   1.778824 -3.696648  2.773239  5.158593   \n",
       "112  -0.000289   1.563412 -3.139389  0.222556  6.610390   \n",
       "135   2.058405   0.877760 -1.905827  4.004244  3.798533   \n",
       "137   7.436733   3.800727  4.253658  4.719656  0.486444   \n",
       "145  10.207657   3.459621  1.612142  2.543214  0.674253   \n",
       "157   7.065868   0.360604 -0.931774  3.090833  1.200099   \n",
       "160   2.224501   1.941646 -0.243804  2.447296  2.964643   \n",
       "209   3.395191  -0.200910  0.003671  2.617125  4.403847   \n",
       "\n",
       "                    Player Team  Cluster  \n",
       "3              Joel Embiid  PHI        1  \n",
       "4    Giannis Antetokounmpo  MIL        1  \n",
       "8             Kevin Durant  BKN        1  \n",
       "12            Nikola Jokic  DEN        1  \n",
       "17           Kawhi Leonard  LAC        1  \n",
       "18      Karl-Anthony Towns  MIN        1  \n",
       "22           Julius Randle  NYK        1  \n",
       "25          Nikola Vucevic  CHI        1  \n",
       "30           Anthony Davis  LAL        1  \n",
       "36          Christian Wood  HOU        1  \n",
       "40        Domantas Sabonis  IND        1  \n",
       "42      Kristaps Porzingis  DAL        1  \n",
       "53             Bam Adebayo  MIA        1  \n",
       "59            John Collins  ATL        1  \n",
       "65       Jonas Valanciunas  MEM        1  \n",
       "86          Andre Drummond  LAL        1  \n",
       "91           Deandre Ayton  PHX        1  \n",
       "97              Al Horford  BOS        1  \n",
       "106      LaMarcus Aldridge  BKN        1  \n",
       "112        Carmelo Anthony  POR        1  \n",
       "135             Kevin Love  CLE        1  \n",
       "137         Thaddeus Young  CHI        1  \n",
       "145           Jusuf Nurkic  POR        1  \n",
       "157            Serge Ibaka  LAC        1  \n",
       "160          Blake Griffin  BKN        1  \n",
       "209       DeMarcus Cousins  LAC        1  "
      ]
     },
     "execution_count": 60,
     "metadata": {},
     "output_type": "execute_result"
    }
   ],
   "source": [
    "cluster1"
   ]
  },
  {
   "cell_type": "code",
   "execution_count": 61,
   "metadata": {},
   "outputs": [],
   "source": [
    "cluster2 = kmeancluster[kmeancluster['Cluster'] == 2]"
   ]
  },
  {
   "cell_type": "code",
   "execution_count": 62,
   "metadata": {},
   "outputs": [
    {
     "data": {
      "text/html": [
       "<div>\n",
       "<style scoped>\n",
       "    .dataframe tbody tr th:only-of-type {\n",
       "        vertical-align: middle;\n",
       "    }\n",
       "\n",
       "    .dataframe tbody tr th {\n",
       "        vertical-align: top;\n",
       "    }\n",
       "\n",
       "    .dataframe thead th {\n",
       "        text-align: right;\n",
       "    }\n",
       "</style>\n",
       "<table border=\"1\" class=\"dataframe\">\n",
       "  <thead>\n",
       "    <tr style=\"text-align: right;\">\n",
       "      <th></th>\n",
       "      <th>PC1</th>\n",
       "      <th>PC2</th>\n",
       "      <th>PC3</th>\n",
       "      <th>PC4</th>\n",
       "      <th>PC5</th>\n",
       "      <th>Player</th>\n",
       "      <th>Team</th>\n",
       "      <th>Cluster</th>\n",
       "    </tr>\n",
       "  </thead>\n",
       "  <tbody>\n",
       "    <tr>\n",
       "      <th>46</th>\n",
       "      <td>-2.191723</td>\n",
       "      <td>1.912423</td>\n",
       "      <td>-6.244116</td>\n",
       "      <td>-1.933155</td>\n",
       "      <td>-1.504723</td>\n",
       "      <td>Malik Beasley</td>\n",
       "      <td>MIN</td>\n",
       "      <td>2</td>\n",
       "    </tr>\n",
       "    <tr>\n",
       "      <th>51</th>\n",
       "      <td>3.925085</td>\n",
       "      <td>2.197248</td>\n",
       "      <td>-6.609128</td>\n",
       "      <td>0.342394</td>\n",
       "      <td>-0.863691</td>\n",
       "      <td>Michael Porter Jr.</td>\n",
       "      <td>DEN</td>\n",
       "      <td>2</td>\n",
       "    </tr>\n",
       "    <tr>\n",
       "      <th>54</th>\n",
       "      <td>-3.314511</td>\n",
       "      <td>2.581243</td>\n",
       "      <td>-4.173907</td>\n",
       "      <td>-1.949490</td>\n",
       "      <td>-1.826146</td>\n",
       "      <td>Norman Powell</td>\n",
       "      <td>POR</td>\n",
       "      <td>2</td>\n",
       "    </tr>\n",
       "    <tr>\n",
       "      <th>64</th>\n",
       "      <td>-3.205066</td>\n",
       "      <td>3.181600</td>\n",
       "      <td>-3.937988</td>\n",
       "      <td>-2.716296</td>\n",
       "      <td>-1.140868</td>\n",
       "      <td>Evan Fournier</td>\n",
       "      <td>BOS</td>\n",
       "      <td>2</td>\n",
       "    </tr>\n",
       "    <tr>\n",
       "      <th>66</th>\n",
       "      <td>-1.947322</td>\n",
       "      <td>3.111394</td>\n",
       "      <td>-5.437495</td>\n",
       "      <td>-0.530359</td>\n",
       "      <td>0.029094</td>\n",
       "      <td>Bojan Bogdanovic</td>\n",
       "      <td>UTA</td>\n",
       "      <td>2</td>\n",
       "    </tr>\n",
       "    <tr>\n",
       "      <th>...</th>\n",
       "      <td>...</td>\n",
       "      <td>...</td>\n",
       "      <td>...</td>\n",
       "      <td>...</td>\n",
       "      <td>...</td>\n",
       "      <td>...</td>\n",
       "      <td>...</td>\n",
       "      <td>...</td>\n",
       "    </tr>\n",
       "    <tr>\n",
       "      <th>379</th>\n",
       "      <td>-0.887163</td>\n",
       "      <td>-6.286985</td>\n",
       "      <td>-1.564845</td>\n",
       "      <td>2.119187</td>\n",
       "      <td>2.227829</td>\n",
       "      <td>Mike Scott</td>\n",
       "      <td>PHI</td>\n",
       "      <td>2</td>\n",
       "    </tr>\n",
       "    <tr>\n",
       "      <th>380</th>\n",
       "      <td>2.761550</td>\n",
       "      <td>-5.156591</td>\n",
       "      <td>0.637405</td>\n",
       "      <td>-4.978631</td>\n",
       "      <td>1.448442</td>\n",
       "      <td>Lamar Stevens</td>\n",
       "      <td>CLE</td>\n",
       "      <td>2</td>\n",
       "    </tr>\n",
       "    <tr>\n",
       "      <th>383</th>\n",
       "      <td>-0.787059</td>\n",
       "      <td>-5.654466</td>\n",
       "      <td>-1.426250</td>\n",
       "      <td>-1.952816</td>\n",
       "      <td>2.537994</td>\n",
       "      <td>DaQuan Jeffries</td>\n",
       "      <td>SAS</td>\n",
       "      <td>2</td>\n",
       "    </tr>\n",
       "    <tr>\n",
       "      <th>388</th>\n",
       "      <td>-1.219542</td>\n",
       "      <td>-5.102918</td>\n",
       "      <td>1.431915</td>\n",
       "      <td>-2.396945</td>\n",
       "      <td>1.245498</td>\n",
       "      <td>Brodric Thomas</td>\n",
       "      <td>CLE</td>\n",
       "      <td>2</td>\n",
       "    </tr>\n",
       "    <tr>\n",
       "      <th>390</th>\n",
       "      <td>-0.494874</td>\n",
       "      <td>-6.350057</td>\n",
       "      <td>1.808581</td>\n",
       "      <td>-2.690200</td>\n",
       "      <td>2.236602</td>\n",
       "      <td>Romeo Langford</td>\n",
       "      <td>BOS</td>\n",
       "      <td>2</td>\n",
       "    </tr>\n",
       "  </tbody>\n",
       "</table>\n",
       "<p>116 rows × 8 columns</p>\n",
       "</div>"
      ],
      "text/plain": [
       "          PC1       PC2       PC3       PC4       PC5              Player  \\\n",
       "46  -2.191723  1.912423 -6.244116 -1.933155 -1.504723       Malik Beasley   \n",
       "51   3.925085  2.197248 -6.609128  0.342394 -0.863691  Michael Porter Jr.   \n",
       "54  -3.314511  2.581243 -4.173907 -1.949490 -1.826146       Norman Powell   \n",
       "64  -3.205066  3.181600 -3.937988 -2.716296 -1.140868       Evan Fournier   \n",
       "66  -1.947322  3.111394 -5.437495 -0.530359  0.029094    Bojan Bogdanovic   \n",
       "..        ...       ...       ...       ...       ...                 ...   \n",
       "379 -0.887163 -6.286985 -1.564845  2.119187  2.227829          Mike Scott   \n",
       "380  2.761550 -5.156591  0.637405 -4.978631  1.448442       Lamar Stevens   \n",
       "383 -0.787059 -5.654466 -1.426250 -1.952816  2.537994     DaQuan Jeffries   \n",
       "388 -1.219542 -5.102918  1.431915 -2.396945  1.245498      Brodric Thomas   \n",
       "390 -0.494874 -6.350057  1.808581 -2.690200  2.236602      Romeo Langford   \n",
       "\n",
       "    Team  Cluster  \n",
       "46   MIN        2  \n",
       "51   DEN        2  \n",
       "54   POR        2  \n",
       "64   BOS        2  \n",
       "66   UTA        2  \n",
       "..   ...      ...  \n",
       "379  PHI        2  \n",
       "380  CLE        2  \n",
       "383  SAS        2  \n",
       "388  CLE        2  \n",
       "390  BOS        2  \n",
       "\n",
       "[116 rows x 8 columns]"
      ]
     },
     "execution_count": 62,
     "metadata": {},
     "output_type": "execute_result"
    }
   ],
   "source": [
    "cluster2"
>>>>>>> f3751246e40eea9357cdb1c4db36cfa75c288540
   ]
  },
  {
   "cell_type": "code",
=======
>>>>>>> parent of 79a0cfa (merge pull)
=======
>>>>>>> parent of 60af76c (Added scatter3d plot for k means)
   "execution_count": null,
   "metadata": {},
   "outputs": [],
   "source": []
  }
 ],
 "metadata": {
  "interpreter": {
   "hash": "4bd624a0593993fe43ac4046b27b898fb2ef75c21c08f81e89e64ea0f51df676"
  },
  "kernelspec": {
   "display_name": "Python 3.9.7 ('tensorflow')",
   "language": "python",
   "name": "python3"
  },
  "language_info": {
   "codemirror_mode": {
    "name": "ipython",
    "version": 3
   },
   "file_extension": ".py",
   "mimetype": "text/x-python",
   "name": "python",
   "nbconvert_exporter": "python",
   "pygments_lexer": "ipython3",
   "version": "3.9.7"
  },
  "orig_nbformat": 4
 },
 "nbformat": 4,
 "nbformat_minor": 2
}
