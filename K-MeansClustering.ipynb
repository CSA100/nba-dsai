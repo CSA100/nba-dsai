{
 "cells": [
  {
   "cell_type": "code",
<<<<<<< HEAD
<<<<<<< HEAD
   "execution_count": 14,
=======
   "execution_count": 41,
>>>>>>> f3751246e40eea9357cdb1c4db36cfa75c288540
=======
   "execution_count": 21,
>>>>>>> parent of 79a0cfa (merge pull)
   "metadata": {},
   "outputs": [],
   "source": [
    "import numpy as np\n",
    "import pandas as pd \n",
    "import seaborn as sns\n",
    "import matplotlib.pyplot as plt\n",
    "%matplotlib inline\n",
    "\n",
    "# Import Sci-Kit Learn\n",
    "from sklearn.manifold import TSNE\n",
    "from sklearn.cluster import KMeans\n",
    "from sklearn.decomposition import PCA\n",
    "from sklearn.preprocessing import StandardScaler\n",
    "from sklearn import metrics\n",
    "from sklearn import datasets\n",
<<<<<<< HEAD
    "from kneed import KneeLocator\n",
    "import plotly.express as px\n",
=======
>>>>>>> parent of 79a0cfa (merge pull)
    "\n",
    "# Default plot params\n",
    "plt.style.use('seaborn')\n",
    "cmap = 'tab10'"
   ]
  },
  {
   "cell_type": "markdown",
   "metadata": {},
   "source": []
  },
  {
   "cell_type": "code",
<<<<<<< HEAD
<<<<<<< HEAD
   "execution_count": 15,
=======
   "execution_count": 42,
>>>>>>> f3751246e40eea9357cdb1c4db36cfa75c288540
=======
   "execution_count": 22,
>>>>>>> parent of 79a0cfa (merge pull)
   "metadata": {},
   "outputs": [
    {
     "data": {
      "text/html": [
       "<div>\n",
       "<style scoped>\n",
       "    .dataframe tbody tr th:only-of-type {\n",
       "        vertical-align: middle;\n",
       "    }\n",
       "\n",
       "    .dataframe tbody tr th {\n",
       "        vertical-align: top;\n",
       "    }\n",
       "\n",
       "    .dataframe thead th {\n",
       "        text-align: right;\n",
       "    }\n",
       "</style>\n",
       "<table border=\"1\" class=\"dataframe\">\n",
       "  <thead>\n",
       "    <tr style=\"text-align: right;\">\n",
       "      <th></th>\n",
       "      <th>PC1</th>\n",
       "      <th>PC2</th>\n",
       "      <th>PC3</th>\n",
       "      <th>PC4</th>\n",
       "      <th>PC5</th>\n",
       "    </tr>\n",
       "  </thead>\n",
       "  <tbody>\n",
       "    <tr>\n",
       "      <th>count</th>\n",
       "      <td>397.0</td>\n",
       "      <td>397.0</td>\n",
       "      <td>397.0</td>\n",
       "      <td>397.0</td>\n",
       "      <td>397.0</td>\n",
       "    </tr>\n",
       "    <tr>\n",
       "      <th>mean</th>\n",
       "      <td>-0.0</td>\n",
       "      <td>0.0</td>\n",
       "      <td>0.0</td>\n",
       "      <td>-0.0</td>\n",
       "      <td>0.0</td>\n",
       "    </tr>\n",
       "    <tr>\n",
       "      <th>std</th>\n",
       "      <td>5.4</td>\n",
       "      <td>4.7</td>\n",
       "      <td>2.8</td>\n",
       "      <td>2.5</td>\n",
       "      <td>2.1</td>\n",
       "    </tr>\n",
       "    <tr>\n",
       "      <th>min</th>\n",
       "      <td>-10.4</td>\n",
       "      <td>-8.2</td>\n",
       "      <td>-7.1</td>\n",
       "      <td>-6.3</td>\n",
       "      <td>-5.7</td>\n",
       "    </tr>\n",
       "    <tr>\n",
       "      <th>25%</th>\n",
       "      <td>-4.1</td>\n",
       "      <td>-3.3</td>\n",
       "      <td>-1.9</td>\n",
       "      <td>-1.6</td>\n",
       "      <td>-1.5</td>\n",
       "    </tr>\n",
       "    <tr>\n",
       "      <th>50%</th>\n",
       "      <td>-1.2</td>\n",
       "      <td>-1.0</td>\n",
       "      <td>-0.2</td>\n",
       "      <td>-0.0</td>\n",
       "      <td>-0.0</td>\n",
       "    </tr>\n",
       "    <tr>\n",
       "      <th>75%</th>\n",
       "      <td>3.3</td>\n",
       "      <td>2.3</td>\n",
       "      <td>1.9</td>\n",
       "      <td>1.6</td>\n",
       "      <td>1.3</td>\n",
       "    </tr>\n",
       "    <tr>\n",
       "      <th>max</th>\n",
       "      <td>16.9</td>\n",
       "      <td>16.5</td>\n",
       "      <td>8.1</td>\n",
       "      <td>8.9</td>\n",
       "      <td>9.6</td>\n",
       "    </tr>\n",
       "  </tbody>\n",
       "</table>\n",
       "</div>"
      ],
      "text/plain": [
       "         PC1    PC2    PC3    PC4    PC5\n",
       "count  397.0  397.0  397.0  397.0  397.0\n",
       "mean    -0.0    0.0    0.0   -0.0    0.0\n",
       "std      5.4    4.7    2.8    2.5    2.1\n",
       "min    -10.4   -8.2   -7.1   -6.3   -5.7\n",
       "25%     -4.1   -3.3   -1.9   -1.6   -1.5\n",
       "50%     -1.2   -1.0   -0.2   -0.0   -0.0\n",
       "75%      3.3    2.3    1.9    1.6    1.3\n",
       "max     16.9   16.5    8.1    8.9    9.6"
      ]
     },
<<<<<<< HEAD
<<<<<<< HEAD
     "execution_count": 15,
=======
     "execution_count": 42,
>>>>>>> f3751246e40eea9357cdb1c4db36cfa75c288540
=======
     "execution_count": 22,
>>>>>>> parent of 79a0cfa (merge pull)
     "metadata": {},
     "output_type": "execute_result"
    }
   ],
   "source": [
    "pcaData = pd.read_csv('./Data/PCAData.csv')\n",
    "pcaData.drop(['Player','Team'],axis=1,inplace=True)\n",
    "pcaData.describe().round(1)"
   ]
  },
  {
   "cell_type": "code",
<<<<<<< HEAD
<<<<<<< HEAD
   "execution_count": 16,
=======
   "execution_count": 43,
>>>>>>> f3751246e40eea9357cdb1c4db36cfa75c288540
=======
   "execution_count": 23,
>>>>>>> parent of 79a0cfa (merge pull)
   "metadata": {},
   "outputs": [
    {
     "data": {
      "text/html": [
       "<div>\n",
       "<style scoped>\n",
       "    .dataframe tbody tr th:only-of-type {\n",
       "        vertical-align: middle;\n",
       "    }\n",
       "\n",
       "    .dataframe tbody tr th {\n",
       "        vertical-align: top;\n",
       "    }\n",
       "\n",
       "    .dataframe thead th {\n",
       "        text-align: right;\n",
       "    }\n",
       "</style>\n",
       "<table border=\"1\" class=\"dataframe\">\n",
       "  <thead>\n",
       "    <tr style=\"text-align: right;\">\n",
       "      <th></th>\n",
       "      <th>PC1</th>\n",
       "      <th>PC2</th>\n",
       "      <th>PC3</th>\n",
       "      <th>PC4</th>\n",
       "      <th>PC5</th>\n",
       "    </tr>\n",
       "  </thead>\n",
       "  <tbody>\n",
       "    <tr>\n",
       "      <th>0</th>\n",
       "      <td>-5.973640</td>\n",
       "      <td>10.348598</td>\n",
       "      <td>-4.544328</td>\n",
       "      <td>-2.790883</td>\n",
       "      <td>-1.291382</td>\n",
       "    </tr>\n",
       "    <tr>\n",
       "      <th>1</th>\n",
       "      <td>-1.975250</td>\n",
       "      <td>9.700635</td>\n",
       "      <td>-2.386559</td>\n",
       "      <td>-4.657934</td>\n",
       "      <td>-0.569510</td>\n",
       "    </tr>\n",
       "    <tr>\n",
       "      <th>2</th>\n",
       "      <td>-7.131777</td>\n",
       "      <td>11.506774</td>\n",
       "      <td>-0.629350</td>\n",
       "      <td>-4.972975</td>\n",
       "      <td>1.235958</td>\n",
       "    </tr>\n",
       "    <tr>\n",
       "      <th>3</th>\n",
       "      <td>14.068326</td>\n",
       "      <td>14.403856</td>\n",
       "      <td>-3.423371</td>\n",
       "      <td>4.085493</td>\n",
       "      <td>9.550238</td>\n",
       "    </tr>\n",
       "    <tr>\n",
       "      <th>4</th>\n",
       "      <td>8.082776</td>\n",
       "      <td>13.723707</td>\n",
       "      <td>2.125949</td>\n",
       "      <td>-1.052888</td>\n",
       "      <td>1.960181</td>\n",
       "    </tr>\n",
       "    <tr>\n",
       "      <th>...</th>\n",
       "      <td>...</td>\n",
       "      <td>...</td>\n",
       "      <td>...</td>\n",
       "      <td>...</td>\n",
       "      <td>...</td>\n",
       "    </tr>\n",
       "    <tr>\n",
       "      <th>392</th>\n",
       "      <td>-1.767053</td>\n",
       "      <td>-6.117506</td>\n",
       "      <td>2.412929</td>\n",
       "      <td>3.375371</td>\n",
       "      <td>1.891360</td>\n",
       "    </tr>\n",
       "    <tr>\n",
       "      <th>393</th>\n",
       "      <td>-5.746449</td>\n",
       "      <td>-3.612010</td>\n",
       "      <td>7.457901</td>\n",
       "      <td>3.099955</td>\n",
       "      <td>3.200641</td>\n",
       "    </tr>\n",
       "    <tr>\n",
       "      <th>394</th>\n",
       "      <td>-2.157475</td>\n",
       "      <td>-8.238167</td>\n",
       "      <td>2.602166</td>\n",
       "      <td>1.469678</td>\n",
       "      <td>1.456859</td>\n",
       "    </tr>\n",
       "    <tr>\n",
       "      <th>395</th>\n",
       "      <td>-1.642875</td>\n",
       "      <td>-7.951736</td>\n",
       "      <td>1.809158</td>\n",
       "      <td>-1.508661</td>\n",
       "      <td>1.187768</td>\n",
       "    </tr>\n",
       "    <tr>\n",
       "      <th>396</th>\n",
       "      <td>4.712861</td>\n",
       "      <td>-5.291476</td>\n",
       "      <td>8.110704</td>\n",
       "      <td>-0.141387</td>\n",
       "      <td>-0.154904</td>\n",
       "    </tr>\n",
       "  </tbody>\n",
       "</table>\n",
       "<p>397 rows × 5 columns</p>\n",
       "</div>"
      ],
      "text/plain": [
       "           PC1        PC2       PC3       PC4       PC5\n",
       "0    -5.973640  10.348598 -4.544328 -2.790883 -1.291382\n",
       "1    -1.975250   9.700635 -2.386559 -4.657934 -0.569510\n",
       "2    -7.131777  11.506774 -0.629350 -4.972975  1.235958\n",
       "3    14.068326  14.403856 -3.423371  4.085493  9.550238\n",
       "4     8.082776  13.723707  2.125949 -1.052888  1.960181\n",
       "..         ...        ...       ...       ...       ...\n",
       "392  -1.767053  -6.117506  2.412929  3.375371  1.891360\n",
       "393  -5.746449  -3.612010  7.457901  3.099955  3.200641\n",
       "394  -2.157475  -8.238167  2.602166  1.469678  1.456859\n",
       "395  -1.642875  -7.951736  1.809158 -1.508661  1.187768\n",
       "396   4.712861  -5.291476  8.110704 -0.141387 -0.154904\n",
       "\n",
       "[397 rows x 5 columns]"
      ]
     },
<<<<<<< HEAD
<<<<<<< HEAD
     "execution_count": 16,
=======
     "execution_count": 43,
>>>>>>> f3751246e40eea9357cdb1c4db36cfa75c288540
=======
     "execution_count": 23,
>>>>>>> parent of 79a0cfa (merge pull)
     "metadata": {},
     "output_type": "execute_result"
    }
   ],
   "source": [
    "pcaData"
   ]
  },
  {
   "cell_type": "code",
<<<<<<< HEAD
<<<<<<< HEAD
   "execution_count": 17,
=======
   "execution_count": 44,
>>>>>>> f3751246e40eea9357cdb1c4db36cfa75c288540
=======
   "execution_count": 24,
>>>>>>> parent of 79a0cfa (merge pull)
   "metadata": {},
   "outputs": [],
   "source": [
    "# to standardise the principle components\n",
    "scaler = StandardScaler()\n",
    "pcaDataScaled = scaler.fit_transform(pcaData)\n"
   ]
  },
  {
   "cell_type": "code",
<<<<<<< HEAD
<<<<<<< HEAD
   "execution_count": 18,
=======
   "execution_count": 45,
>>>>>>> f3751246e40eea9357cdb1c4db36cfa75c288540
=======
   "execution_count": 25,
>>>>>>> parent of 79a0cfa (merge pull)
   "metadata": {},
   "outputs": [
    {
     "data": {
      "image/png": "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",
      "text/plain": [
       "<Figure size 1080x576 with 1 Axes>"
      ]
     },
     "metadata": {},
     "output_type": "display_data"
    }
   ],
   "source": [
    "# Picking Best number of k part, using elbow method \n",
    "# Specifying the dataset and initializing variables\n",
    "X = pcaDataScaled\n",
    "distorsions = []\n",
    "\n",
    "# Calculate SSE for different K\n",
    "for k in range(2, 10):\n",
    "    kmeans = KMeans(n_clusters=k, random_state = 301)\n",
    "    kmeans.fit(X)\n",
    "    distorsions.append(kmeans.inertia_)\n",
    "\n",
    "# Plot values of SSE\n",
    "plt.figure(figsize=(15,8))\n",
    "plt.subplot(121, title='Elbow curve')\n",
    "plt.xlabel('k')\n",
    "plt.plot(range(2, 10), distorsions)\n",
    "plt.grid(True)"
   ]
  },
  {
   "cell_type": "code",
<<<<<<< HEAD
<<<<<<< HEAD
   "execution_count": 19,
=======
   "execution_count": 46,
>>>>>>> f3751246e40eea9357cdb1c4db36cfa75c288540
   "metadata": {},
   "outputs": [
    {
     "data": {
      "text/plain": [
       "6"
      ]
     },
<<<<<<< HEAD
     "execution_count": 19,
=======
     "execution_count": 46,
>>>>>>> f3751246e40eea9357cdb1c4db36cfa75c288540
     "metadata": {},
     "output_type": "execute_result"
    }
   ],
   "source": [
    "kl = KneeLocator(range(2,10), distorsions, curve=\"convex\", direction=\"decreasing\")\n",
    "kl.elbow"
   ]
  },
  {
   "cell_type": "code",
<<<<<<< HEAD
   "execution_count": 20,
=======
   "execution_count": 47,
>>>>>>> f3751246e40eea9357cdb1c4db36cfa75c288540
   "metadata": {},
   "outputs": [],
   "source": [
    "# Generate silhouette coefficient for each k\n",
    "X = pcaDataScaled\n",
    "silhouette_plot = []\n",
    "for k in range(2, 10):\n",
    "    clusters = KMeans(n_clusters=k, random_state=10)\n",
    "    cluster_labels = clusters.fit_predict(X)\n",
    "    silhouette_avg = metrics.silhouette_score(X, cluster_labels)\n",
    "    silhouette_plot.append(silhouette_avg)"
   ]
  },
  {
   "cell_type": "code",
<<<<<<< HEAD
   "execution_count": 21,
=======
   "execution_count": 48,
>>>>>>> f3751246e40eea9357cdb1c4db36cfa75c288540
   "metadata": {},
   "outputs": [
    {
     "data": {
      "image/png": "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",
      "text/plain": [
       "<Figure size 1080x576 with 1 Axes>"
      ]
     },
     "metadata": {},
     "output_type": "display_data"
    }
   ],
   "source": [
    "# Plot Silhouette coefficient\n",
    "plt.figure(figsize=(15,8))\n",
    "plt.subplot(121, title='Silhouette coefficients over k')\n",
    "plt.xlabel('k')\n",
    "plt.ylabel('silhouette coefficient')\n",
    "plt.plot(range(2, 10), silhouette_plot)\n",
    "plt.axhline(y=np.mean(silhouette_plot), color=\"red\", linestyle=\"--\")\n",
    "plt.grid(True)"
   ]
  },
  {
   "cell_type": "code",
<<<<<<< HEAD
   "execution_count": 22,
=======
   "execution_count": 49,
>>>>>>> f3751246e40eea9357cdb1c4db36cfa75c288540
=======
   "execution_count": 26,
>>>>>>> parent of 79a0cfa (merge pull)
   "metadata": {},
   "outputs": [],
   "source": [
    "# # check if components are standardised\n",
    "# pcaDataScaled = pd.DataFrame(pcaDataScaled, columns = ['PC1','PC2','PC3','PC4','PC5'])\n",
    "# pcaDataScaled.describe().round(1)"
   ]
  },
  {
   "cell_type": "code",
<<<<<<< HEAD
<<<<<<< HEAD
   "execution_count": 23,
=======
   "execution_count": 50,
>>>>>>> f3751246e40eea9357cdb1c4db36cfa75c288540
=======
   "execution_count": 27,
>>>>>>> parent of 79a0cfa (merge pull)
   "metadata": {},
   "outputs": [
    {
     "data": {
      "text/plain": [
<<<<<<< HEAD
<<<<<<< HEAD
       "<matplotlib.collections.PathCollection at 0x147f2d7c0>"
      ]
     },
     "execution_count": 23,
=======
       "<matplotlib.collections.PathCollection at 0x283f380d0>"
      ]
     },
     "execution_count": 50,
>>>>>>> f3751246e40eea9357cdb1c4db36cfa75c288540
=======
       "<matplotlib.collections.PathCollection at 0x282853220>"
      ]
     },
     "execution_count": 27,
>>>>>>> parent of 79a0cfa (merge pull)
     "metadata": {},
     "output_type": "execute_result"
    },
    {
     "data": {
<<<<<<< HEAD
      "image/png": "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",
=======
      "image/png": "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",
>>>>>>> parent of 79a0cfa (merge pull)
      "text/plain": [
       "<Figure size 1080x576 with 1 Axes>"
      ]
     },
     "metadata": {},
     "output_type": "display_data"
    }
   ],
   "source": [
    "#Predict K-Means cluster membership\n",
    "km_neat = KMeans(n_clusters=7, random_state=2).fit_predict(pcaDataScaled)\n",
    "#km_messy = KMeans(n_clusters=3, random_state=2).fit_predict(x_messy)\n",
    "\n",
    "plt.figure(figsize=(15,8))\n",
    "plt.subplot(121, title='Cluster with PCA test1')\n",
    "\n",
    "plt.scatter(pcaDataScaled[:,0], pcaDataScaled[:,1], c=km_neat, cmap=cmap)"
   ]
  },
  {
   "cell_type": "code",
<<<<<<< HEAD
<<<<<<< HEAD
   "execution_count": 24,
=======
   "execution_count": 51,
>>>>>>> f3751246e40eea9357cdb1c4db36cfa75c288540
=======
   "execution_count": 28,
>>>>>>> parent of 79a0cfa (merge pull)
   "metadata": {},
   "outputs": [
    {
     "data": {
      "text/plain": [
       "array([5, 5, 5, 3, 3, 5, 5, 5, 3, 5, 5, 5, 3, 5, 5, 5, 5, 3, 3, 1, 5, 5,\n",
       "       3, 5, 5, 3, 5, 5, 1, 5, 3, 5, 5, 5, 5, 5, 1, 5, 1, 5, 3, 5, 3, 5,\n",
       "       1, 5, 1, 5, 1, 5, 5, 1, 5, 3, 1, 1, 1, 1, 5, 1, 1, 5, 5, 1, 1, 3,\n",
       "       1, 1, 5, 2, 5, 2, 5, 1, 2, 5, 5, 1, 1, 5, 2, 1, 6, 1, 5, 1, 3, 2,\n",
       "       5, 2, 1, 3, 1, 6, 6, 5, 6, 3, 1, 2, 2, 1, 1, 1, 1, 1, 3, 2, 6, 2,\n",
       "       5, 0, 0, 1, 0, 2, 2, 4, 5, 2, 5, 2, 6, 1, 2, 0, 1, 4, 1, 2, 1, 0,\n",
       "       1, 1, 2, 3, 2, 3, 2, 1, 2, 0, 1, 2, 1, 3, 0, 4, 0, 4, 6, 1, 6, 1,\n",
       "       6, 2, 0, 3, 1, 1, 3, 1, 2, 1, 2, 4, 4, 2, 2, 2, 2, 6, 6, 5, 4, 4,\n",
       "       4, 1, 2, 0, 2, 2, 0, 2, 2, 0, 6, 1, 2, 2, 0, 0, 2, 2, 6, 2, 1, 2,\n",
       "       2, 1, 1, 1, 0, 2, 6, 6, 0, 4, 0, 3, 4, 6, 1, 0, 6, 0, 1, 4, 4, 6,\n",
       "       6, 4, 2, 0, 4, 1, 4, 6, 0, 4, 2, 0, 6, 0, 2, 6, 4, 0, 1, 4, 6, 4,\n",
       "       6, 0, 4, 4, 2, 4, 1, 4, 0, 6, 2, 6, 1, 2, 4, 0, 6, 4, 4, 1, 6, 0,\n",
       "       1, 0, 0, 6, 2, 6, 6, 2, 2, 0, 6, 0, 2, 6, 2, 0, 0, 0, 1, 0, 2, 2,\n",
       "       4, 4, 4, 4, 4, 0, 0, 4, 6, 6, 6, 0, 0, 2, 0, 4, 2, 2, 1, 4, 1, 4,\n",
       "       0, 6, 6, 4, 0, 2, 0, 0, 6, 0, 2, 0, 6, 4, 4, 6, 0, 0, 1, 4, 0, 0,\n",
       "       6, 6, 4, 4, 6, 0, 1, 6, 2, 0, 6, 0, 0, 0, 0, 0, 6, 1, 6, 0, 6, 2,\n",
       "       4, 6, 0, 6, 0, 0, 4, 0, 4, 0, 2, 0, 0, 6, 0, 0, 0, 6, 4, 2, 0, 4,\n",
       "       4, 2, 0, 0, 0, 0, 0, 6, 4, 0, 4, 4, 4, 2, 0, 2, 0, 4, 4, 4, 4, 0,\n",
       "       6], dtype=int32)"
      ]
     },
<<<<<<< HEAD
<<<<<<< HEAD
     "execution_count": 24,
=======
     "execution_count": 51,
>>>>>>> f3751246e40eea9357cdb1c4db36cfa75c288540
=======
     "execution_count": 28,
>>>>>>> parent of 79a0cfa (merge pull)
     "metadata": {},
     "output_type": "execute_result"
    }
   ],
   "source": [
    "km_neat"
   ]
  },
  {
   "cell_type": "code",
<<<<<<< HEAD
<<<<<<< HEAD
   "execution_count": 29,
   "metadata": {},
   "outputs": [],
   "source": [
    "pcaDataScaled = pd.DataFrame(pcaDataScaled, columns = ['PC1','PC2','PC3','PC4','PC5'])"
=======
   "execution_count": 54,
   "metadata": {},
   "outputs": [],
   "source": [
    "kmeancluster =pd.read_csv('./Data/PCAData.csv')\n",
    "kmeancluster['Cluster']=km_neat"
>>>>>>> f3751246e40eea9357cdb1c4db36cfa75c288540
   ]
  },
  {
   "cell_type": "code",
<<<<<<< HEAD
   "execution_count": 32,
=======
   "execution_count": 55,
>>>>>>> f3751246e40eea9357cdb1c4db36cfa75c288540
   "metadata": {},
   "outputs": [
    {
     "data": {
<<<<<<< HEAD
      "application/vnd.plotly.v1+json": {
       "config": {
        "plotlyServerURL": "https://plot.ly"
       },
       "data": [
        {
         "hovertemplate": "PC1=%{x}<br>PC2=%{y}<br>PC3=%{z}<br>color=%{marker.color}<extra></extra>",
         "legendgroup": "",
         "marker": {
          "color": [
           3,
           3,
           3,
           1,
           1,
           3,
           3,
           3,
           1,
           3,
           3,
           3,
           1,
           3,
           3,
           3,
           3,
           1,
           1,
           3,
           3,
           3,
           1,
           3,
           3,
           1,
           3,
           3,
           3,
           3,
           1,
           3,
           3,
           3,
           3,
           3,
           1,
           3,
           3,
           3,
           1,
           3,
           1,
           3,
           3,
           3,
           2,
           3,
           3,
           3,
           3,
           2,
           3,
           1,
           2,
           3,
           3,
           3,
           3,
           1,
           3,
           3,
           3,
           0,
           2,
           1,
           2,
           2,
           3,
           0,
           3,
           0,
           3,
           0,
           0,
           3,
           3,
           2,
           2,
           3,
           0,
           2,
           4,
           3,
           3,
           2,
           1,
           0,
           3,
           0,
           0,
           1,
           2,
           4,
           4,
           3,
           4,
           1,
           2,
           0,
           0,
           2,
           2,
           2,
           2,
           2,
           1,
           0,
           4,
           0,
           3,
           2,
           1,
           2,
           2,
           0,
           0,
           5,
           3,
           0,
           3,
           0,
           4,
           2,
           0,
           2,
           0,
           5,
           4,
           0,
           0,
           2,
           2,
           2,
           0,
           1,
           0,
           1,
           0,
           2,
           0,
           2,
           2,
           0,
           2,
           1,
           2,
           5,
           2,
           5,
           4,
           2,
           4,
           2,
           4,
           0,
           2,
           1,
           2,
           2,
           1,
           2,
           0,
           2,
           0,
           5,
           5,
           0,
           0,
           0,
           0,
           4,
           4,
           3,
           5,
           5,
           5,
           2,
           0,
           0,
           0,
           0,
           2,
           0,
           0,
           2,
           4,
           0,
           0,
           0,
           2,
           2,
           0,
           0,
           4,
           0,
           2,
           0,
           0,
           2,
           2,
           0,
           2,
           0,
           4,
           4,
           2,
           5,
           2,
           1,
           5,
           4,
           2,
           2,
           4,
           2,
           2,
           5,
           5,
           4,
           4,
           5,
           0,
           2,
           5,
           2,
           5,
           4,
           2,
           5,
           0,
           2,
           4,
           0,
           0,
           4,
           5,
           2,
           2,
           5,
           4,
           5,
           4,
           5,
           5,
           5,
           0,
           5,
           2,
           5,
           2,
           4,
           0,
           4,
           2,
           0,
           5,
           2,
           4,
           5,
           5,
           2,
           4,
           2,
           2,
           2,
           2,
           4,
           0,
           4,
           4,
           0,
           0,
           2,
           4,
           2,
           0,
           4,
           0,
           5,
           2,
           5,
           2,
           2,
           0,
           0,
           5,
           5,
           5,
           5,
           5,
           2,
           2,
           5,
           4,
           4,
           4,
           2,
           0,
           0,
           2,
           5,
           0,
           0,
           2,
           5,
           2,
           5,
           2,
           4,
           4,
           5,
           2,
           0,
           2,
           2,
           4,
           2,
           0,
           2,
           4,
           5,
           5,
           4,
           2,
           2,
           2,
           5,
           2,
           2,
           4,
           4,
           5,
           5,
           4,
           2,
           2,
           4,
           0,
           2,
           4,
           2,
           2,
           2,
           2,
           2,
           4,
           2,
           4,
           2,
           4,
           0,
           5,
           4,
           2,
           4,
           5,
           5,
           5,
           2,
           5,
           2,
           0,
           2,
           2,
           4,
           2,
           2,
           2,
           4,
           5,
           0,
           5,
           5,
           5,
           0,
           2,
           2,
           2,
           2,
           2,
           4,
           5,
           2,
           5,
           5,
           5,
           0,
           2,
           0,
           2,
           5,
           5,
           5,
           5,
           5,
           4
          ],
          "coloraxis": "coloraxis",
          "symbol": "circle"
         },
         "mode": "markers",
         "name": "",
         "scene": "scene",
         "showlegend": false,
         "type": "scatter3d",
         "x": [
          -1.101113375322639,
          -0.3640951979658799,
          -1.3145911562848849,
          2.59319626764657,
          1.4898875845707915,
          -0.7523333915800658,
          -0.6002318853316211,
          1.7008527208417425,
          0.09347651671298154,
          -0.701572469837238,
          -0.23014965544442217,
          -1.2785462536328958,
          2.5327881483532697,
          -0.441894683598955,
          -1.7676915631099437,
          -1.314084941163611,
          -0.10517819869947369,
          0.06143113606373872,
          1.9251501213587001,
          -0.2235255922993277,
          -1.145354454688807,
          -0.5487431279707286,
          0.39566581962466946,
          -0.6215947599356719,
          -1.195408429052474,
          1.541265940890506,
          -0.6065847407053025,
          -1.2274023136630827,
          -0.06121151897299976,
          -0.6393528955727684,
          1.9843995918850874,
          -0.7711999999115736,
          0.11828629591595188,
          0.46167819816055566,
          -0.8143503454518894,
          -0.9831117777790266,
          1.6212187769333268,
          -1.0601595885377721,
          -0.9998635935011947,
          -0.48862341895818906,
          2.292148648824269,
          -0.8124431285883686,
          1.518044305570003,
          -0.8910628954366498,
          -0.20086725261983723,
          -1.3849993952405366,
          -0.40399754704094093,
          0.10533361346132368,
          -0.4239400870505525,
          -1.3904052428539895,
          -0.7601276240852485,
          0.7235057685206372,
          -0.955015038675617,
          1.9484190125689744,
          -0.6109595675011936,
          -0.008311793953863897,
          -0.7367300788133159,
          -1.0831244524829284,
          -0.6383138644910263,
          1.5757135739038672,
          -0.24824016624198858,
          -1.3411337600477573,
          -1.0597899172090286,
          -0.5109237195975322,
          -0.5907857047703517,
          2.6296684882704304,
          -0.3589474092537539,
          -0.35655014877431035,
          -0.8586929782104123,
          -0.949887480280067,
          -1.4815506992774767,
          -0.8638135504751326,
          -1.4160496929876585,
          0.2817654978605542,
          0.1256004653591801,
          -0.8038226990494515,
          -0.6897089546384105,
          -0.5631620640721074,
          0.443845852606679,
          -1.1739470931508187,
          -0.7634475462503103,
          -0.8319658297707448,
          2.8484796468678515,
          -0.7445670932580228,
          -1.1167096864155888,
          0.2414776393785779,
          2.5890050708171883,
          -1.4990690764584809,
          -1.0419480938463583,
          -0.847935269383851,
          -0.75015385897053,
          2.522010999003321,
          1.311595330593026,
          1.3049971090552177,
          3.1124283213836246,
          0.23011226633760343,
          2.4329844174974697,
          0.6318814334985858,
          1.320640940500923,
          -0.40179121596365636,
          -0.7081916783777571,
          0.6909830511510752,
          0.11778518659862414,
          1.3651700247311405,
          0.4859372282481422,
          0.2651511875820952,
          0.8787476795235885,
          0.6089287274847022,
          2.063242928676727,
          -0.01020000009574832,
          -0.8368346854366248,
          0.11385312245708985,
          -0.000053272717793980986,
          -0.14122666019855498,
          0.3910644599514243,
          -0.8324259450439886,
          -0.544224692309706,
          -1.3957889383459552,
          -0.8698663063710488,
          0.8764281887217393,
          -0.5436052026071696,
          0.015283611762205628,
          2.5687679425719168,
          0.23949069846270182,
          0.36258855924102856,
          -0.59998632004112,
          -0.35747902397064407,
          -0.921351610996357,
          1.5146646885144268,
          -1.1741867224052982,
          -0.1848501621845519,
          0.45866813371951815,
          1.2291041202361077,
          -0.2182340642664009,
          -1.0765476548958735,
          0.3794230740711854,
          -0.7134183428234051,
          1.3708034137522584,
          -1.3837304891027449,
          -0.7937165976014251,
          -0.7579017787874169,
          -0.7777888282845743,
          0.23048754335428887,
          -0.5897456839695604,
          1.4499769030642464,
          1.8815642272714186,
          0.9761729584068948,
          -1.1759236660029657,
          -0.028691156521047517,
          -1.0326156778806295,
          0.5497502450387745,
          -0.13281158388017972,
          2.103740879787623,
          1.3914508142232391,
          2.231688561679409,
          -0.7924987017776465,
          -0.8882871853993758,
          1.30244227817537,
          -0.7470908641617238,
          0.2526812996232921,
          0.41003940275029266,
          -0.48690778727376677,
          -0.8526252745380216,
          0.5116416946911266,
          -1.4161178280445437,
          -0.9941475331564933,
          -0.843675071879293,
          -1.0242433579268249,
          -0.5846937536875694,
          -0.5222778446014578,
          -0.6430302387782441,
          1.7707883206121986,
          0.9651550532248582,
          -0.9314435204913503,
          -1.0691312586684159,
          -0.5274599632457413,
          -1.2417077031168435,
          -0.2983914284142855,
          -0.2966864771586055,
          -0.8611694121861007,
          -0.6412649213196372,
          -0.0957243853251873,
          -0.36700871154060094,
          -0.7444250566843768,
          0.32284666592193245,
          -0.09524811301905813,
          1.1100885035185368,
          -0.1471154281465378,
          -0.9659490199218922,
          -0.46590670186743943,
          0.4573670476511626,
          -0.22062286659797653,
          -0.5063181925449276,
          0.026005062778286916,
          1.5536842566211422,
          0.730687172719172,
          0.8561172317757062,
          -0.8313041149808351,
          -0.04414176580089507,
          0.06829127439928909,
          0.292856663580379,
          -0.5919018528144072,
          -0.764025807448842,
          -0.7083508397252589,
          1.697640054047471,
          2.215884537367638,
          -0.5263801515385909,
          -0.6136051588988164,
          0.5287263451279685,
          0.6258312327941573,
          -0.43845563584246844,
          0.6592683372649758,
          -0.3496116774464316,
          0.8466217409135771,
          0.6399795370598966,
          -0.6348139831747182,
          -0.5636966337663598,
          -0.7749057963320043,
          -1.165865731553873,
          2.0446245291424616,
          2.039227737314149,
          -1.2995007266196248,
          -0.07006375996153108,
          -0.8700016176514396,
          -1.1496715071239954,
          -0.2032633844456395,
          0.18277713722846126,
          1.7126673007814297,
          -0.7117158883461483,
          -0.8663147644534377,
          -0.3575695663921879,
          -0.3626772695581263,
          2.050034255728007,
          0.5576372477612508,
          -0.16534848922529596,
          1.7787619485758677,
          -0.9329307187540049,
          1.1687765469416262,
          -0.08730298138011797,
          -1.1488574023168536,
          1.5976109207471978,
          -0.991422630515416,
          1.6896365275155296,
          -0.07927385019600197,
          -0.9712075521950889,
          -0.7171601014195487,
          -0.26337410680107565,
          -1.3748379732254006,
          -0.22118288023058083,
          -1.4839662572481185,
          -0.4149752565765865,
          1.6211881904520364,
          -0.5515659685525722,
          1.867824566508873,
          -0.22684996425484624,
          -0.839234469529739,
          -1.380362619180727,
          1.1617917007578593,
          1.9707680911754506,
          -1.260957809407928,
          -0.9933462437847302,
          0.3204877256701227,
          1.503831807085511,
          0.06701542184950199,
          0.5570453643199353,
          -0.5255699887880578,
          -0.9785910827331542,
          1.1735512353553694,
          -0.17685754208315788,
          1.788419001320811,
          1.6391214421448543,
          -0.01757168646215386,
          0.1619478413863591,
          -0.18444407689084666,
          1.981252694029174,
          -0.0971217232839753,
          -0.36800930331212756,
          1.8637934761024368,
          -0.36349426650413197,
          -0.48153952344271633,
          0.6492528024269351,
          -0.03651890610886113,
          0.2862309356982624,
          0.6073221282969529,
          -0.20127331493566386,
          0.1217689301485138,
          -1.2180351877745548,
          -1.042898778971492,
          -1.0174202655795375,
          -0.8835028521375757,
          -0.7502778584269734,
          0.19646837669112313,
          0.01692791729578217,
          -1.1607788136030546,
          1.518693427811738,
          0.8172291409177639,
          1.5060891723133119,
          0.6392402128107126,
          -0.6622965265187418,
          -0.443362136835774,
          0.09082298128760327,
          -1.0137329618167514,
          -0.603241232874132,
          -0.6149036531276255,
          -0.25147973682035396,
          -1.0057534877198857,
          0.1158488358937526,
          -1.3214668006387071,
          0.782568229062934,
          0.8771280568637014,
          0.7141525977084279,
          -1.3338183767081815,
          -0.49268291756882143,
          -0.12741606796318178,
          1.137012332819776,
          1.1031111665901407,
          -0.13989731754790535,
          -0.24018439963172097,
          0.04096434073556382,
          -0.4793780602784294,
          1.6350495914123542,
          -1.9093834945687242,
          -0.962454047565659,
          1.447362097205642,
          -0.12903753246370195,
          0.7330859085128629,
          -0.4966128527293623,
          -0.6809325402371662,
          -0.2637500023901845,
          0.11929042464987022,
          1.6322062715207135,
          0.7919206712051688,
          -1.0010493518605985,
          -1.115857798392245,
          0.9408174618254429,
          1.0718969442954855,
          0.13756376573481016,
          1.2703166640052221,
          -0.8931317986317465,
          0.1471904917126476,
          1.0608500695395149,
          -0.3077038090153594,
          -0.006267499274472426,
          0.2626165703186398,
          -0.16933738099232876,
          0.06517474070918317,
          0.9981080607535574,
          0.04822713176327911,
          1.2190061698563797,
          0.28550679237041543,
          1.3905653367521378,
          0.4522737501428065,
          -1.1818906349097729,
          1.3241090672813376,
          0.24081491991854215,
          1.2368119309146093,
          -0.3595196829317739,
          -0.4067900917537019,
          -0.8161585158876047,
          0.6255278525717086,
          -1.1419739454045372,
          -0.756193702307451,
          -0.6237441359770676,
          -0.11382873902633464,
          -0.13476245085746233,
          1.3933962339582469,
          0.10087971062854909,
          -0.25304113562443414,
          0.009153522264983673,
          1.632822901964049,
          -0.5690677375738348,
          -0.3877417839082146,
          -0.547216691599499,
          0.12367718675610266,
          -0.5364688234550307,
          -0.4746058434071013,
          -0.14015435068662638,
          0.1478669646869813,
          -0.16060580221877996,
          -0.16352969754848332,
          0.5090329913591406,
          0.8157420608778364,
          -1.4445192931251076,
          -0.14507764602279496,
          -0.552924959127902,
          -1.0441364866261171,
          -0.21803976373956832,
          -0.4629491873516733,
          -0.22479659646035993,
          -0.20869782386464206,
          -0.09121954896450812,
          -0.4111406531073856,
          -0.32571867882768296,
          -1.0592354199644867,
          -0.3976845245180808,
          -0.3028289497694192,
          0.8687155667055677
         ],
         "y": [
          2.2203510646233156,
          2.0813268093793136,
          2.4688443397144257,
          3.090429941226224,
          2.944500093677974,
          2.994857742634009,
          1.9455213419368376,
          1.9679375811605977,
          2.308874697653522,
          2.0663159617094813,
          2.154843791264064,
          1.9167454069357515,
          3.5331430132732313,
          2.0951610429682894,
          2.4539280487987707,
          2.0046413390979843,
          2.4055486323371107,
          2.6042045732567707,
          2.2458123527923757,
          1.4200506851164207,
          2.752575836037667,
          1.7214128702321358,
          2.5729215808084094,
          1.7936650708462472,
          2.152566033484131,
          2.109502354088024,
          1.8965716939383932,
          1.4078493879543954,
          1.1402183756380548,
          2.8183091330345693,
          2.014881439321929,
          2.0174613666048877,
          2.315944356498896,
          1.938070230981014,
          1.6044900565011437,
          1.5872052299704231,
          1.0678292713749378,
          1.4254082788797164,
          1.0283063796997753,
          1.590043520090016,
          2.480151998386933,
          1.4643184195531163,
          1.051939314898812,
          1.1282797905594144,
          1.2971860768334362,
          1.5503639221905015,
          0.41032137392119467,
          1.4428083154066844,
          0.9344149159762861,
          1.1300136363745368,
          1.7257495368543923,
          0.4714321019504472,
          1.158846790408176,
          1.9835766200667064,
          0.5538205663132262,
          0.87659135110871,
          0.9519641239077364,
          0.3970395005599533,
          1.3857972972492247,
          0.7811958324984636,
          0.8656292374743965,
          1.2132307425116133,
          1.411871325315673,
          0.5063055315890476,
          0.6826305406897403,
          1.2710197320399583,
          0.6675674467708872,
          0.25472185177453077,
          1.065096980210983,
          0.5025573891223046,
          2.0166602025009728,
          0.6175383056780703,
          1.394496564427756,
          0.9643212879456389,
          0.4611180837933402,
          1.1272190147386423,
          1.161262471010533,
          0.3562249692511472,
          0.1262260726314466,
          1.240463148639087,
          0.5536593085181846,
          0.007907502004715447,
          0.5436049745968486,
          0.5774529438753779,
          0.8134294302635654,
          0.6282314140406745,
          1.10120673878155,
          0.5843601501471439,
          0.8943716140682874,
          0.599760119284534,
          0.2754674036714571,
          0.9002832694195829,
          0.16614156881993256,
          0.03129904320918343,
          0.8749100132915173,
          1.4713005243718442,
          0.8354628558285438,
          0.48957803348244955,
          0.04375394674397493,
          0.01611566993641587,
          0.05911960875843529,
          0.4120667603163901,
          0.2015708772435315,
          0.04491318787733754,
          -0.07125535093127197,
          -0.2557495244552181,
          0.38165679125202745,
          0.4517006973139511,
          0.4964002859181746,
          0.13655412225924576,
          0.627274934880461,
          0.17561094065512475,
          0.3354390451027331,
          0.169680937643297,
          0.30439224433185097,
          -0.15354940616770824,
          0.881490588252363,
          0.5624117383302105,
          0.37371605801301283,
          0.5257502518577094,
          0.61677441838653,
          -0.04540443169255264,
          0.5164890177424772,
          0.006907478942677214,
          0.26261070545666765,
          0.3258545580434403,
          0.39466599257376617,
          0.437730790939229,
          0.24898811269202661,
          0.1912066584812757,
          0.42479854056647703,
          0.6107473922034127,
          0.033984154534199194,
          -0.172209806034864,
          0.27536443187253556,
          0.18832840975102091,
          0.22989652712469405,
          0.8154678922376477,
          0.5886782760945682,
          -0.20763366843670353,
          0.21942837554959,
          -0.23502691070710136,
          -0.04443224137374453,
          -0.7543216455881883,
          -0.2666250173235933,
          0.7422814427969731,
          -0.04527556807508589,
          -0.012475004965924328,
          -0.06518902693987713,
          0.38208136177181073,
          0.20868634721015866,
          -0.1931361282476396,
          0.49427163171375804,
          -0.24559819675002914,
          0.22608650879864933,
          -0.6149063468530276,
          -0.3462096866863102,
          0.07736956844368133,
          -0.15755472364106096,
          -0.07265332953822515,
          0.416591282628107,
          -0.07758003119695234,
          -0.3780385612194081,
          -0.3545459028565865,
          -0.22472937669707635,
          0.06137901173070674,
          0.019453656167616018,
          -0.3857629582017279,
          -0.3500561776577325,
          -0.010065264639206001,
          -0.18677228096780626,
          0.608234846900613,
          -0.22818292242048924,
          0.4915738885255364,
          0.11629900135093336,
          0.023229069100374686,
          0.030972716876020857,
          -0.07296991623971726,
          -0.2849771916100338,
          -0.8443158121237466,
          -0.21222029401770937,
          -0.32168962053600464,
          -0.6504367646561635,
          -0.42571740254600754,
          -0.6726659111440947,
          -0.3584326306315726,
          -0.20318760716163253,
          -0.16866483631680892,
          -0.8041161650419988,
          -0.6390639923237208,
          -0.26477810879322017,
          -0.3327246855794408,
          -0.4021954844486425,
          -0.33000739880583246,
          -0.08056834077009314,
          0.3574370105441967,
          -0.5389050279902117,
          -0.6198874105180936,
          -0.12904893263128728,
          -0.33649251155612214,
          -0.641008248761646,
          -0.5920720602188408,
          -0.6178112827430875,
          -0.22437652507351713,
          -0.3066809367905186,
          0.14339120562294477,
          -0.5292602950659487,
          0.048404534049858866,
          -0.20728423555035794,
          -0.043106407692238786,
          0.04641580373498526,
          -0.3808908946963599,
          -0.40563209077428647,
          -0.19694960516187313,
          -0.12415017603287587,
          -0.6992145215636781,
          -0.11445092231724964,
          -0.2935306039261327,
          0.624192638400422,
          -0.4735116353020814,
          -0.0374396630406577,
          0.414172175099954,
          -0.2227458071350771,
          -0.5858561755214761,
          -0.00536959829246906,
          -0.5429159088448179,
          -0.1978833531478883,
          -0.6582504172037117,
          -0.5320204613306122,
          -0.06490493529500087,
          -0.6565599795111912,
          -0.49977731668245734,
          -0.4202127723928426,
          -0.7190273607067242,
          -0.41732382984337085,
          -0.40304474495736353,
          -0.46272798121389547,
          -0.7178739823379527,
          -0.28793573196116184,
          -0.4183709825169868,
          -0.35275995962961626,
          -0.6565186589792288,
          -0.49836629968937923,
          -0.318544595672411,
          -0.598763118011584,
          0.07910184917955536,
          -0.43906298423759155,
          0.07205535533738845,
          -0.3206450984535753,
          -0.30249205436233667,
          -1.270697082116889,
          -0.20443128853280262,
          -0.49767482569291555,
          0.059865642973379284,
          -0.8042142406482574,
          -0.4762222272433091,
          -0.31747253244629003,
          -0.7552907049441999,
          -0.3641117714618239,
          -1.103324283002144,
          -0.8782123779668086,
          -0.7063348082606097,
          -0.4470074806340528,
          -0.4564241478685786,
          -0.9808513347328213,
          -0.7169787308082164,
          -0.605383833325257,
          -0.34834365185505606,
          -0.5223946822465577,
          -0.6557447399775413,
          -0.560382863990331,
          -0.6690372577712186,
          0.9273505689366448,
          -0.5143155097101388,
          -0.753959216428593,
          -0.7343414186020996,
          -0.19341352694721772,
          -0.3394818131275008,
          -1.0505402976173572,
          -0.6670620426296795,
          -0.6819455873175896,
          -0.6852194832844823,
          -1.0267431850307938,
          -0.5437904650120264,
          -0.9058568796687774,
          -0.8874838294416948,
          0.15013714903480777,
          -0.14770516187516822,
          -0.12896840111652494,
          -0.7115921660114456,
          -0.1505298059538358,
          -0.5793385387124678,
          -0.985308364101131,
          -0.8036273389183315,
          -0.6824849483814044,
          -0.6677510451090046,
          -0.7089492686782798,
          -0.5883043719806716,
          -0.7166869244590757,
          -0.9081891799319416,
          -0.6521737855141163,
          -0.6658310656815757,
          -0.9354878995669971,
          -0.3466654701540321,
          -1.0203403125208275,
          -0.6219015977392921,
          -0.784005188435757,
          -0.281543564563573,
          -0.7984860615236936,
          -0.9863197378120525,
          -0.7339625496698884,
          -0.39770110612593035,
          -1.3337516017700004,
          -0.9911078657479279,
          -0.4770871605162253,
          -0.6357181052950834,
          -0.6139010507968632,
          -1.1219127783648197,
          -0.4594180724942576,
          -1.511316659112588,
          -0.9770417837219482,
          -0.5232282387802095,
          -0.25618151764951486,
          -0.886717322854328,
          -1.1214921351666673,
          -0.7967023809523492,
          -1.239925168077866,
          -0.4299946694495885,
          -0.9987027860799557,
          -1.0458586011133384,
          -0.8273463320019496,
          -1.150375762884456,
          -1.0260548792073263,
          -0.09831542573903354,
          -0.8233841097765006,
          -0.9198707184303522,
          -0.9178070049435187,
          -0.5541747055038334,
          -1.0114403665234695,
          -1.1199121381344503,
          -0.9313297426906931,
          -1.2085756488066395,
          -0.8459353310219117,
          -1.1413726787818828,
          -1.0029510287494918,
          -1.1255465873801827,
          -1.1558054588299078,
          -1.218226838625318,
          -0.7298435898261841,
          -1.094680498836532,
          -0.5545511592848229,
          -0.572075956018418,
          -0.5711372672701895,
          -0.937769771372188,
          -1.3098824950408083,
          -1.1858401859128254,
          -1.069991173289064,
          -0.7409767614375141,
          -1.0750981118887912,
          -1.055392836388363,
          -0.7653702895322436,
          -1.0540126042098654,
          -1.1689847674205014,
          -1.3123179914250536,
          -1.147123715422008,
          -0.94156833731767,
          -1.0826220037155523,
          -1.2924835497645406,
          -1.1757824038679567,
          -1.0705064978640892,
          -0.9683665441327938,
          -1.0287936730053306,
          -1.4683079156342735,
          -0.7191891464427536,
          -1.0588156209240365,
          -0.7697419103415397,
          -1.2347650185156454,
          -1.0869307240958963,
          -1.1258323220516733,
          -1.3489086687016436,
          -1.1063762296401525,
          -0.6578804911889492,
          -0.8563061151925864,
          -1.2131981346768892,
          -1.249255154431829,
          -1.0575661837265202,
          -1.0136036166147533,
          -1.2365654520241394,
          -1.0948604030024722,
          -1.0069514707979417,
          -1.3624411721489176,
          -1.585745827004294,
          -1.3125460187108875,
          -0.7749775272776939,
          -1.7675460864784265,
          -1.7060905022738668,
          -1.1353166278123745
         ],
         "z": [
          -1.6016444945861092,
          -0.8411408655250918,
          -0.22181387234349767,
          -1.2065642111448114,
          0.7492890897481496,
          1.1408404287012062,
          -1.0238790776803661,
          -0.03337986778953586,
          -1.0942201053554796,
          -0.3083517513030137,
          -0.6471550738092082,
          0.24153405272779738,
          0.36488568928915877,
          -0.38646234866402146,
          1.6158818861564619,
          0.9458131784148438,
          0.21587284611751242,
          -0.23312882423935083,
          -1.0340135949408547,
          -1.256556840203825,
          1.976432337221473,
          -0.23371596849504003,
          -0.27197807889437947,
          -0.7497809792321304,
          1.4146674262037944,
          -1.3427378793267954,
          -0.46817282935853727,
          -0.5938339150989197,
          -1.1555745759001366,
          2.3242146673063977,
          -0.3089698308835051,
          1.1427511163722563,
          1.5158742397113447,
          0.045321259264220294,
          -0.37600825206884375,
          -0.11610764487109149,
          -1.2681306351640216,
          0.8226152789292853,
          -0.9487447513304523,
          -0.4740158269177399,
          0.5128496983653227,
          0.37942125981565245,
          -1.673199070698595,
          0.10109245285715336,
          -1.0680713927077186,
          0.3883256067326599,
          -2.2007334386551376,
          -0.44911436555164147,
          -0.6302762348298494,
          0.5286274803463094,
          1.3336942501453126,
          -2.32938189995213,
          -0.17437865502365246,
          0.4374755077324111,
          -1.4710901871873678,
          -0.9812227729316081,
          -0.8639919283239484,
          -0.37868344049212405,
          0.7409834258727799,
          -1.5461346711227704,
          -0.8399941644194427,
          0.6639879144585065,
          0.662228854759435,
          -0.8383464711343014,
          -1.387940547141121,
          -0.3181976386670674,
          -1.9164406994832743,
          -2.2771355379155414,
          0.7815131582139938,
          -1.4427656233052328,
          1.6119483058452735,
          -1.1957672802845194,
          0.37778362111838787,
          -0.6349521019038997,
          -0.9953551545349814,
          0.9499009854156465,
          0.8652261130166943,
          -0.9410716060715228,
          -1.2438118459104412,
          1.170817602684377,
          -0.45098524222958164,
          -1.5726729444254177,
          1.0286416903270714,
          -0.3739127885468685,
          0.05936022178024733,
          -1.5070474372970675,
          1.6956276393608103,
          -0.26802933776481463,
          0.883432928604383,
          -0.480543880147414,
          -1.0051746742530108,
          0.1134836524477928,
          -0.938331232964964,
          -0.740391005286121,
          0.5846729639914713,
          1.7013478141481175,
          -0.4655678871176827,
          -0.26712179336473385,
          -0.8993149323521926,
          -2.485581008046126,
          -0.36642393329887835,
          -0.9852877424963722,
          -0.3610546680842238,
          -1.4463815163878115,
          -1.9819953385365265,
          -2.2148866145668173,
          -1.3028804850581368,
          -0.7533755231641107,
          0.3267532469137567,
          -1.6346865203066983,
          0.35746800572364995,
          -1.772994556596745,
          -1.1064749093839361,
          -0.04428975440532112,
          -1.9547980102331017,
          -2.4120939276126876,
          0.6574783433721558,
          0.7304973366341664,
          0.28288479013332996,
          -0.5189413677906247,
          0.8650260531209332,
          -0.8963732278950827,
          0.5497275544386103,
          -0.7061229832779558,
          -0.7569549875737119,
          -0.5180112256825578,
          -0.355308073904619,
          0.42952040728970536,
          -1.5343977337477468,
          -0.9298157625747402,
          -0.07822304614635947,
          0.255407479901619,
          -1.785481881983067,
          -1.8874072946124372,
          -0.02229869327873929,
          -0.6717073053117987,
          -0.06139057868664847,
          1.4991982151952097,
          0.19959479639330346,
          -1.1775191977068702,
          -0.5666311576398178,
          -0.6211833996316166,
          -0.10338509005260967,
          -2.185433010535481,
          -0.511332035430099,
          0.5681979875887304,
          -0.8825925123819222,
          0.12506805606982904,
          -0.7613320649834915,
          0.753318835561967,
          0.10517359739467667,
          -0.96231742730427,
          0.392408440768886,
          -0.6815608274258425,
          0.47629884206747314,
          -0.9099139060425885,
          -0.5438695373131851,
          -0.32840309196394846,
          -0.1863062104954226,
          -1.442229943069026,
          -0.08592859588409005,
          -0.199091453554766,
          -1.8853949596985635,
          -1.5876973306571636,
          -0.6699611965452897,
          0.307602256250328,
          0.1635677031936863,
          -0.5503987344570713,
          -1.2595777717703018,
          -0.06437191641505234,
          -0.024301984359542034,
          2.004447301365893,
          0.0382721479482531,
          1.197764170326892,
          0.3911629407806883,
          1.3910785977494016,
          1.2987358726589995,
          -0.6864575505857197,
          -1.0291475434124693,
          -1.0235145666187084,
          0.23912214954543898,
          -0.8126147980120696,
          -1.1062931611260032,
          -0.9135719335501107,
          -1.6963403654682023,
          -0.6914742838816331,
          -0.5668220622337695,
          -0.1643472200421732,
          -1.4538681655979817,
          -1.193948182602185,
          -0.24031734996236956,
          -0.7750872817660802,
          -1.1784460072163652,
          -0.8983308199997203,
          0.87283177848865,
          0.6178414016204602,
          -0.6149829877932713,
          -1.2613352932148667,
          -0.42528516524277027,
          -0.578342072580055,
          -0.45102162949401825,
          -1.2311594901042375,
          -0.9835840813992079,
          0.2733148845235002,
          -0.05291248568340951,
          0.4454135303917658,
          -0.4116411719406612,
          1.0213694178764054,
          -0.06419119139260054,
          0.0012938072276306148,
          1.5552715078989932,
          0.4714988136274654,
          -0.41068288821446775,
          -0.39389762317881455,
          0.49266036048281203,
          -0.4548394836560389,
          -0.5113384648598496,
          0.6607907841471277,
          2.5234254359953847,
          0.6437314167365354,
          1.5741029345444009,
          1.4291733180144572,
          -0.6610334052987737,
          -0.38156188617649933,
          0.8117607017921603,
          -0.7193216791535196,
          1.6905982876171255,
          1.704165003470363,
          -0.8060207332190745,
          1.3387349812486378,
          -0.7961945112205242,
          0.23285403070954566,
          0.55555327029789,
          -0.5191458388413345,
          -0.5375403265914467,
          1.6896625070854367,
          0.8570664747124632,
          -0.20936884481980875,
          0.023985140295120555,
          0.6225221086020266,
          0.27209077091849937,
          0.16431237350265013,
          0.9846503544667076,
          0.17183009180884193,
          0.36413018095539784,
          1.1402199521509155,
          0.1858388896563611,
          2.3685403668006857,
          0.20546396614207282,
          0.9631502416910235,
          -1.324187111102171,
          1.52324765267595,
          -0.4779056751469291,
          1.8720785949678957,
          -0.7393437314278473,
          0.43122430305566356,
          1.9087865776765014,
          -0.23418380512185114,
          1.5130883212980109,
          -0.1457730257014187,
          0.4999536862071591,
          -0.4257190682640735,
          0.7721644520877187,
          0.2618118237177599,
          -1.043538091537634,
          -0.6353258563794005,
          -0.08600941845283584,
          0.6592102438419403,
          -0.3843897621158769,
          0.946950978859194,
          0.5499636969885399,
          -1.1075920178307546,
          2.0298360887301667,
          0.3332592198678912,
          0.5748873625014675,
          0.08820486312799126,
          -0.19496498697490802,
          1.1921789956726374,
          -1.4015144636721848,
          0.5838027940484183,
          -0.490587102668994,
          0.839979869028193,
          -0.33760361004436107,
          -0.11979467714739803,
          -0.902997020826439,
          -0.5712272491198952,
          1.835727656986713,
          1.448995232496056,
          1.5705916667974174,
          0.338719280020324,
          1.7317020922158506,
          -0.24692961069877764,
          -0.6118195814452815,
          0.49974654241007116,
          0.6406095284793939,
          0.12056713453323267,
          0.10162369729410484,
          0.17863501968911136,
          -0.1478920974060175,
          -0.7927761323475495,
          0.17908014845199743,
          0.6789805188827818,
          -0.27824348785715447,
          0.7202184398280076,
          -0.8431415988155097,
          0.8067048541699379,
          -0.9055491999051141,
          1.6714975961865397,
          -0.2139492426755935,
          0.20442372830775632,
          1.1341471707185382,
          0.9714444215143316,
          -1.0104193530542762,
          -0.4614804078012435,
          0.17717328405590643,
          -0.43342328468929114,
          1.0948465534543894,
          -0.07482087211320763,
          0.26556507488702963,
          -1.6424405537694218,
          1.4688555996276447,
          2.06442200417167,
          1.7279050538588772,
          1.0722882967071974,
          -0.22257099631139324,
          0.03788392085367083,
          -2.207592065852024,
          1.1972647741500781,
          -0.7138800167037762,
          0.16827985014443653,
          1.1129799554670619,
          0.29078267498171206,
          0.10422515940768043,
          2.1361987311903334,
          1.304070728005792,
          0.3798668063993559,
          0.08018041251265416,
          0.7999885313795353,
          -0.70184971067069,
          0.394136454271677,
          0.792556531124238,
          -0.312212481240077,
          -0.14861397536124363,
          -0.09487069055119082,
          -0.03590997791361905,
          -1.1053285844441907,
          0.28962857869027514,
          -0.7315992721176148,
          1.0321777120912787,
          -0.19275718426495456,
          1.473777777974562,
          0.49533502363763054,
          1.32593979731085,
          1.9440947438678189,
          -0.27385759609560256,
          1.279487783984452,
          0.5651232071292135,
          0.749962817630179,
          1.034154427916994,
          0.350776093588337,
          1.1786255532460215,
          -0.007789076960589859,
          -0.23998034963746454,
          -0.47065263157680204,
          -0.19557543332420024,
          0.38286300269091667,
          -0.026775867545228378,
          -0.627751944957191,
          -0.2602302017217344,
          0.9174538371643917,
          1.0395380339409437,
          0.019435620785653567,
          0.5689784031684503,
          1.5179711940433627,
          0.8522201557929805,
          0.9268512958789212,
          -0.12305593759926627,
          -0.5392874602967981,
          -0.25718710794017613,
          -0.5515283306635663,
          0.2246527576184025,
          1.4740878366376815,
          2.0248913406352966,
          -0.5026806099415639,
          1.150543099561155,
          1.733039511881278,
          1.1441116141988186,
          0.22412703102853096,
          0.5046774142221273,
          0.157469367611379,
          0.6374330471009474,
          0.6153177686021505,
          0.8504348626373629,
          2.6285311094439203,
          0.9171313267043582,
          0.6376363686105794,
          2.8586111259370512
         ]
        }
       ],
       "layout": {
        "coloraxis": {
         "colorbar": {
          "title": {
           "text": "color"
          }
         },
         "colorscale": [
          [
           0,
           "#0d0887"
          ],
          [
           0.1111111111111111,
           "#46039f"
          ],
          [
           0.2222222222222222,
           "#7201a8"
          ],
          [
           0.3333333333333333,
           "#9c179e"
          ],
          [
           0.4444444444444444,
           "#bd3786"
          ],
          [
           0.5555555555555556,
           "#d8576b"
          ],
          [
           0.6666666666666666,
           "#ed7953"
          ],
          [
           0.7777777777777778,
           "#fb9f3a"
          ],
          [
           0.8888888888888888,
           "#fdca26"
          ],
          [
           1,
           "#f0f921"
          ]
         ]
        },
        "legend": {
         "tracegroupgap": 0
        },
        "margin": {
         "t": 60
        },
        "scene": {
         "domain": {
          "x": [
           0,
           1
          ],
          "y": [
           0,
           1
          ]
         },
         "xaxis": {
          "title": {
           "text": "PC1"
          }
         },
         "yaxis": {
          "title": {
           "text": "PC2"
          }
         },
         "zaxis": {
          "title": {
           "text": "PC3"
          }
         }
        },
        "template": {
         "data": {
          "bar": [
           {
            "error_x": {
             "color": "#2a3f5f"
            },
            "error_y": {
             "color": "#2a3f5f"
            },
            "marker": {
             "line": {
              "color": "#E5ECF6",
              "width": 0.5
             },
             "pattern": {
              "fillmode": "overlay",
              "size": 10,
              "solidity": 0.2
             }
            },
            "type": "bar"
           }
          ],
          "barpolar": [
           {
            "marker": {
             "line": {
              "color": "#E5ECF6",
              "width": 0.5
             },
             "pattern": {
              "fillmode": "overlay",
              "size": 10,
              "solidity": 0.2
             }
            },
            "type": "barpolar"
           }
          ],
          "carpet": [
           {
            "aaxis": {
             "endlinecolor": "#2a3f5f",
             "gridcolor": "white",
             "linecolor": "white",
             "minorgridcolor": "white",
             "startlinecolor": "#2a3f5f"
            },
            "baxis": {
             "endlinecolor": "#2a3f5f",
             "gridcolor": "white",
             "linecolor": "white",
             "minorgridcolor": "white",
             "startlinecolor": "#2a3f5f"
            },
            "type": "carpet"
           }
          ],
          "choropleth": [
           {
            "colorbar": {
             "outlinewidth": 0,
             "ticks": ""
            },
            "type": "choropleth"
           }
          ],
          "contour": [
           {
            "colorbar": {
             "outlinewidth": 0,
             "ticks": ""
            },
            "colorscale": [
             [
              0,
              "#0d0887"
             ],
             [
              0.1111111111111111,
              "#46039f"
             ],
             [
              0.2222222222222222,
              "#7201a8"
             ],
             [
              0.3333333333333333,
              "#9c179e"
             ],
             [
              0.4444444444444444,
              "#bd3786"
             ],
             [
              0.5555555555555556,
              "#d8576b"
             ],
             [
              0.6666666666666666,
              "#ed7953"
             ],
             [
              0.7777777777777778,
              "#fb9f3a"
             ],
             [
              0.8888888888888888,
              "#fdca26"
             ],
             [
              1,
              "#f0f921"
             ]
            ],
            "type": "contour"
           }
          ],
          "contourcarpet": [
           {
            "colorbar": {
             "outlinewidth": 0,
             "ticks": ""
            },
            "type": "contourcarpet"
           }
          ],
          "heatmap": [
           {
            "colorbar": {
             "outlinewidth": 0,
             "ticks": ""
            },
            "colorscale": [
             [
              0,
              "#0d0887"
             ],
             [
              0.1111111111111111,
              "#46039f"
             ],
             [
              0.2222222222222222,
              "#7201a8"
             ],
             [
              0.3333333333333333,
              "#9c179e"
             ],
             [
              0.4444444444444444,
              "#bd3786"
             ],
             [
              0.5555555555555556,
              "#d8576b"
             ],
             [
              0.6666666666666666,
              "#ed7953"
             ],
             [
              0.7777777777777778,
              "#fb9f3a"
             ],
             [
              0.8888888888888888,
              "#fdca26"
             ],
             [
              1,
              "#f0f921"
             ]
            ],
            "type": "heatmap"
           }
          ],
          "heatmapgl": [
           {
            "colorbar": {
             "outlinewidth": 0,
             "ticks": ""
            },
            "colorscale": [
             [
              0,
              "#0d0887"
             ],
             [
              0.1111111111111111,
              "#46039f"
             ],
             [
              0.2222222222222222,
              "#7201a8"
             ],
             [
              0.3333333333333333,
              "#9c179e"
             ],
             [
              0.4444444444444444,
              "#bd3786"
             ],
             [
              0.5555555555555556,
              "#d8576b"
             ],
             [
              0.6666666666666666,
              "#ed7953"
             ],
             [
              0.7777777777777778,
              "#fb9f3a"
             ],
             [
              0.8888888888888888,
              "#fdca26"
             ],
             [
              1,
              "#f0f921"
             ]
            ],
            "type": "heatmapgl"
           }
          ],
          "histogram": [
           {
            "marker": {
             "pattern": {
              "fillmode": "overlay",
              "size": 10,
              "solidity": 0.2
             }
            },
            "type": "histogram"
           }
          ],
          "histogram2d": [
           {
            "colorbar": {
             "outlinewidth": 0,
             "ticks": ""
            },
            "colorscale": [
             [
              0,
              "#0d0887"
             ],
             [
              0.1111111111111111,
              "#46039f"
             ],
             [
              0.2222222222222222,
              "#7201a8"
             ],
             [
              0.3333333333333333,
              "#9c179e"
             ],
             [
              0.4444444444444444,
              "#bd3786"
             ],
             [
              0.5555555555555556,
              "#d8576b"
             ],
             [
              0.6666666666666666,
              "#ed7953"
             ],
             [
              0.7777777777777778,
              "#fb9f3a"
             ],
             [
              0.8888888888888888,
              "#fdca26"
             ],
             [
              1,
              "#f0f921"
             ]
            ],
            "type": "histogram2d"
           }
          ],
          "histogram2dcontour": [
           {
            "colorbar": {
             "outlinewidth": 0,
             "ticks": ""
            },
            "colorscale": [
             [
              0,
              "#0d0887"
             ],
             [
              0.1111111111111111,
              "#46039f"
             ],
             [
              0.2222222222222222,
              "#7201a8"
             ],
             [
              0.3333333333333333,
              "#9c179e"
             ],
             [
              0.4444444444444444,
              "#bd3786"
             ],
             [
              0.5555555555555556,
              "#d8576b"
             ],
             [
              0.6666666666666666,
              "#ed7953"
             ],
             [
              0.7777777777777778,
              "#fb9f3a"
             ],
             [
              0.8888888888888888,
              "#fdca26"
             ],
             [
              1,
              "#f0f921"
             ]
            ],
            "type": "histogram2dcontour"
           }
          ],
          "mesh3d": [
           {
            "colorbar": {
             "outlinewidth": 0,
             "ticks": ""
            },
            "type": "mesh3d"
           }
          ],
          "parcoords": [
           {
            "line": {
             "colorbar": {
              "outlinewidth": 0,
              "ticks": ""
             }
            },
            "type": "parcoords"
           }
          ],
          "pie": [
           {
            "automargin": true,
            "type": "pie"
           }
          ],
          "scatter": [
           {
            "fillpattern": {
             "fillmode": "overlay",
             "size": 10,
             "solidity": 0.2
            },
            "type": "scatter"
           }
          ],
          "scatter3d": [
           {
            "line": {
             "colorbar": {
              "outlinewidth": 0,
              "ticks": ""
             }
            },
            "marker": {
             "colorbar": {
              "outlinewidth": 0,
              "ticks": ""
             }
            },
            "type": "scatter3d"
           }
          ],
          "scattercarpet": [
           {
            "marker": {
             "colorbar": {
              "outlinewidth": 0,
              "ticks": ""
             }
            },
            "type": "scattercarpet"
           }
          ],
          "scattergeo": [
           {
            "marker": {
             "colorbar": {
              "outlinewidth": 0,
              "ticks": ""
             }
            },
            "type": "scattergeo"
           }
          ],
          "scattergl": [
           {
            "marker": {
             "colorbar": {
              "outlinewidth": 0,
              "ticks": ""
             }
            },
            "type": "scattergl"
           }
          ],
          "scattermapbox": [
           {
            "marker": {
             "colorbar": {
              "outlinewidth": 0,
              "ticks": ""
             }
            },
            "type": "scattermapbox"
           }
          ],
          "scatterpolar": [
           {
            "marker": {
             "colorbar": {
              "outlinewidth": 0,
              "ticks": ""
             }
            },
            "type": "scatterpolar"
           }
          ],
          "scatterpolargl": [
           {
            "marker": {
             "colorbar": {
              "outlinewidth": 0,
              "ticks": ""
             }
            },
            "type": "scatterpolargl"
           }
          ],
          "scatterternary": [
           {
            "marker": {
             "colorbar": {
              "outlinewidth": 0,
              "ticks": ""
             }
            },
            "type": "scatterternary"
           }
          ],
          "surface": [
           {
            "colorbar": {
             "outlinewidth": 0,
             "ticks": ""
            },
            "colorscale": [
             [
              0,
              "#0d0887"
             ],
             [
              0.1111111111111111,
              "#46039f"
             ],
             [
              0.2222222222222222,
              "#7201a8"
             ],
             [
              0.3333333333333333,
              "#9c179e"
             ],
             [
              0.4444444444444444,
              "#bd3786"
             ],
             [
              0.5555555555555556,
              "#d8576b"
             ],
             [
              0.6666666666666666,
              "#ed7953"
             ],
             [
              0.7777777777777778,
              "#fb9f3a"
             ],
             [
              0.8888888888888888,
              "#fdca26"
             ],
             [
              1,
              "#f0f921"
             ]
            ],
            "type": "surface"
           }
          ],
          "table": [
           {
            "cells": {
             "fill": {
              "color": "#EBF0F8"
             },
             "line": {
              "color": "white"
             }
            },
            "header": {
             "fill": {
              "color": "#C8D4E3"
             },
             "line": {
              "color": "white"
             }
            },
            "type": "table"
           }
          ]
         },
         "layout": {
          "annotationdefaults": {
           "arrowcolor": "#2a3f5f",
           "arrowhead": 0,
           "arrowwidth": 1
          },
          "autotypenumbers": "strict",
          "coloraxis": {
           "colorbar": {
            "outlinewidth": 0,
            "ticks": ""
           }
          },
          "colorscale": {
           "diverging": [
            [
             0,
             "#8e0152"
            ],
            [
             0.1,
             "#c51b7d"
            ],
            [
             0.2,
             "#de77ae"
            ],
            [
             0.3,
             "#f1b6da"
            ],
            [
             0.4,
             "#fde0ef"
            ],
            [
             0.5,
             "#f7f7f7"
            ],
            [
             0.6,
             "#e6f5d0"
            ],
            [
             0.7,
             "#b8e186"
            ],
            [
             0.8,
             "#7fbc41"
            ],
            [
             0.9,
             "#4d9221"
            ],
            [
             1,
             "#276419"
            ]
           ],
           "sequential": [
            [
             0,
             "#0d0887"
            ],
            [
             0.1111111111111111,
             "#46039f"
            ],
            [
             0.2222222222222222,
             "#7201a8"
            ],
            [
             0.3333333333333333,
             "#9c179e"
            ],
            [
             0.4444444444444444,
             "#bd3786"
            ],
            [
             0.5555555555555556,
             "#d8576b"
            ],
            [
             0.6666666666666666,
             "#ed7953"
            ],
            [
             0.7777777777777778,
             "#fb9f3a"
            ],
            [
             0.8888888888888888,
             "#fdca26"
            ],
            [
             1,
             "#f0f921"
            ]
           ],
           "sequentialminus": [
            [
             0,
             "#0d0887"
            ],
            [
             0.1111111111111111,
             "#46039f"
            ],
            [
             0.2222222222222222,
             "#7201a8"
            ],
            [
             0.3333333333333333,
             "#9c179e"
            ],
            [
             0.4444444444444444,
             "#bd3786"
            ],
            [
             0.5555555555555556,
             "#d8576b"
            ],
            [
             0.6666666666666666,
             "#ed7953"
            ],
            [
             0.7777777777777778,
             "#fb9f3a"
            ],
            [
             0.8888888888888888,
             "#fdca26"
            ],
            [
             1,
             "#f0f921"
            ]
           ]
          },
          "colorway": [
           "#636efa",
           "#EF553B",
           "#00cc96",
           "#ab63fa",
           "#FFA15A",
           "#19d3f3",
           "#FF6692",
           "#B6E880",
           "#FF97FF",
           "#FECB52"
          ],
          "font": {
           "color": "#2a3f5f"
          },
          "geo": {
           "bgcolor": "white",
           "lakecolor": "white",
           "landcolor": "#E5ECF6",
           "showlakes": true,
           "showland": true,
           "subunitcolor": "white"
          },
          "hoverlabel": {
           "align": "left"
          },
          "hovermode": "closest",
          "mapbox": {
           "style": "light"
          },
          "paper_bgcolor": "white",
          "plot_bgcolor": "#E5ECF6",
          "polar": {
           "angularaxis": {
            "gridcolor": "white",
            "linecolor": "white",
            "ticks": ""
           },
           "bgcolor": "#E5ECF6",
           "radialaxis": {
            "gridcolor": "white",
            "linecolor": "white",
            "ticks": ""
           }
          },
          "scene": {
           "xaxis": {
            "backgroundcolor": "#E5ECF6",
            "gridcolor": "white",
            "gridwidth": 2,
            "linecolor": "white",
            "showbackground": true,
            "ticks": "",
            "zerolinecolor": "white"
           },
           "yaxis": {
            "backgroundcolor": "#E5ECF6",
            "gridcolor": "white",
            "gridwidth": 2,
            "linecolor": "white",
            "showbackground": true,
            "ticks": "",
            "zerolinecolor": "white"
           },
           "zaxis": {
            "backgroundcolor": "#E5ECF6",
            "gridcolor": "white",
            "gridwidth": 2,
            "linecolor": "white",
            "showbackground": true,
            "ticks": "",
            "zerolinecolor": "white"
           }
          },
          "shapedefaults": {
           "line": {
            "color": "#2a3f5f"
           }
          },
          "ternary": {
           "aaxis": {
            "gridcolor": "white",
            "linecolor": "white",
            "ticks": ""
           },
           "baxis": {
            "gridcolor": "white",
            "linecolor": "white",
            "ticks": ""
           },
           "bgcolor": "#E5ECF6",
           "caxis": {
            "gridcolor": "white",
            "linecolor": "white",
            "ticks": ""
           }
          },
          "title": {
           "x": 0.05
          },
          "xaxis": {
           "automargin": true,
           "gridcolor": "white",
           "linecolor": "white",
           "ticks": "",
           "title": {
            "standoff": 15
           },
           "zerolinecolor": "white",
           "zerolinewidth": 2
          },
          "yaxis": {
           "automargin": true,
           "gridcolor": "white",
           "linecolor": "white",
           "ticks": "",
           "title": {
            "standoff": 15
           },
           "zerolinecolor": "white",
           "zerolinewidth": 2
          }
         }
        }
       }
      }
     },
     "metadata": {},
     "output_type": "display_data"
    }
   ],
   "source": [
    "fig2 = px.scatter_3d(pcaDataScaled, x='PC1', y='PC2', z='PC3',color=km_neat)\n",
    "fig2"
=======
      "text/html": [
       "<div>\n",
       "<style scoped>\n",
       "    .dataframe tbody tr th:only-of-type {\n",
       "        vertical-align: middle;\n",
       "    }\n",
       "\n",
       "    .dataframe tbody tr th {\n",
       "        vertical-align: top;\n",
       "    }\n",
       "\n",
       "    .dataframe thead th {\n",
       "        text-align: right;\n",
       "    }\n",
       "</style>\n",
       "<table border=\"1\" class=\"dataframe\">\n",
       "  <thead>\n",
       "    <tr style=\"text-align: right;\">\n",
       "      <th></th>\n",
       "      <th>PC1</th>\n",
       "      <th>PC2</th>\n",
       "      <th>PC3</th>\n",
       "      <th>PC4</th>\n",
       "      <th>PC5</th>\n",
       "      <th>Player</th>\n",
       "      <th>Team</th>\n",
       "      <th>Cluster</th>\n",
       "    </tr>\n",
       "  </thead>\n",
       "  <tbody>\n",
       "    <tr>\n",
       "      <th>0</th>\n",
       "      <td>-5.973640</td>\n",
       "      <td>10.348598</td>\n",
       "      <td>-4.544328</td>\n",
       "      <td>-2.790883</td>\n",
       "      <td>-1.291382</td>\n",
       "      <td>Stephen Curry</td>\n",
       "      <td>GSW</td>\n",
       "      <td>3</td>\n",
       "    </tr>\n",
       "    <tr>\n",
       "      <th>1</th>\n",
       "      <td>-1.975250</td>\n",
       "      <td>9.700635</td>\n",
       "      <td>-2.386559</td>\n",
       "      <td>-4.657934</td>\n",
       "      <td>-0.569510</td>\n",
       "      <td>Bradley Beal</td>\n",
       "      <td>WAS</td>\n",
       "      <td>3</td>\n",
       "    </tr>\n",
       "    <tr>\n",
       "      <th>2</th>\n",
       "      <td>-7.131777</td>\n",
       "      <td>11.506774</td>\n",
       "      <td>-0.629350</td>\n",
       "      <td>-4.972975</td>\n",
       "      <td>1.235958</td>\n",
       "      <td>Damian Lillard</td>\n",
       "      <td>POR</td>\n",
       "      <td>3</td>\n",
       "    </tr>\n",
       "    <tr>\n",
       "      <th>3</th>\n",
       "      <td>14.068326</td>\n",
       "      <td>14.403856</td>\n",
       "      <td>-3.423371</td>\n",
       "      <td>4.085493</td>\n",
       "      <td>9.550238</td>\n",
       "      <td>Joel Embiid</td>\n",
       "      <td>PHI</td>\n",
       "      <td>1</td>\n",
       "    </tr>\n",
       "    <tr>\n",
       "      <th>4</th>\n",
       "      <td>8.082776</td>\n",
       "      <td>13.723707</td>\n",
       "      <td>2.125949</td>\n",
       "      <td>-1.052888</td>\n",
       "      <td>1.960181</td>\n",
       "      <td>Giannis Antetokounmpo</td>\n",
       "      <td>MIL</td>\n",
       "      <td>1</td>\n",
       "    </tr>\n",
       "    <tr>\n",
       "      <th>...</th>\n",
       "      <td>...</td>\n",
       "      <td>...</td>\n",
       "      <td>...</td>\n",
       "      <td>...</td>\n",
       "      <td>...</td>\n",
       "      <td>...</td>\n",
       "      <td>...</td>\n",
       "      <td>...</td>\n",
       "    </tr>\n",
       "    <tr>\n",
       "      <th>392</th>\n",
       "      <td>-1.767053</td>\n",
       "      <td>-6.117506</td>\n",
       "      <td>2.412929</td>\n",
       "      <td>3.375371</td>\n",
       "      <td>1.891360</td>\n",
       "      <td>Nicolo Melli</td>\n",
       "      <td>DAL</td>\n",
       "      <td>5</td>\n",
       "    </tr>\n",
       "    <tr>\n",
       "      <th>393</th>\n",
       "      <td>-5.746449</td>\n",
       "      <td>-3.612010</td>\n",
       "      <td>7.457901</td>\n",
       "      <td>3.099955</td>\n",
       "      <td>3.200641</td>\n",
       "      <td>Matthew Dellavedova</td>\n",
       "      <td>CLE</td>\n",
       "      <td>5</td>\n",
       "    </tr>\n",
       "    <tr>\n",
       "      <th>394</th>\n",
       "      <td>-2.157475</td>\n",
       "      <td>-8.238167</td>\n",
       "      <td>2.602166</td>\n",
       "      <td>1.469678</td>\n",
       "      <td>1.456859</td>\n",
       "      <td>KZ Okpala</td>\n",
       "      <td>MIA</td>\n",
       "      <td>5</td>\n",
       "    </tr>\n",
       "    <tr>\n",
       "      <th>395</th>\n",
       "      <td>-1.642875</td>\n",
       "      <td>-7.951736</td>\n",
       "      <td>1.809158</td>\n",
       "      <td>-1.508661</td>\n",
       "      <td>1.187768</td>\n",
       "      <td>Wes Iwundu</td>\n",
       "      <td>NOP</td>\n",
       "      <td>5</td>\n",
       "    </tr>\n",
       "    <tr>\n",
       "      <th>396</th>\n",
       "      <td>4.712861</td>\n",
       "      <td>-5.291476</td>\n",
       "      <td>8.110704</td>\n",
       "      <td>-0.141387</td>\n",
       "      <td>-0.154904</td>\n",
       "      <td>Ed Davis</td>\n",
       "      <td>MIN</td>\n",
       "      <td>4</td>\n",
       "    </tr>\n",
       "  </tbody>\n",
       "</table>\n",
       "<p>397 rows × 8 columns</p>\n",
       "</div>"
      ],
      "text/plain": [
       "           PC1        PC2       PC3       PC4       PC5  \\\n",
       "0    -5.973640  10.348598 -4.544328 -2.790883 -1.291382   \n",
       "1    -1.975250   9.700635 -2.386559 -4.657934 -0.569510   \n",
       "2    -7.131777  11.506774 -0.629350 -4.972975  1.235958   \n",
       "3    14.068326  14.403856 -3.423371  4.085493  9.550238   \n",
       "4     8.082776  13.723707  2.125949 -1.052888  1.960181   \n",
       "..         ...        ...       ...       ...       ...   \n",
       "392  -1.767053  -6.117506  2.412929  3.375371  1.891360   \n",
       "393  -5.746449  -3.612010  7.457901  3.099955  3.200641   \n",
       "394  -2.157475  -8.238167  2.602166  1.469678  1.456859   \n",
       "395  -1.642875  -7.951736  1.809158 -1.508661  1.187768   \n",
       "396   4.712861  -5.291476  8.110704 -0.141387 -0.154904   \n",
       "\n",
       "                    Player Team  Cluster  \n",
       "0            Stephen Curry  GSW        3  \n",
       "1             Bradley Beal  WAS        3  \n",
       "2           Damian Lillard  POR        3  \n",
       "3              Joel Embiid  PHI        1  \n",
       "4    Giannis Antetokounmpo  MIL        1  \n",
       "..                     ...  ...      ...  \n",
       "392           Nicolo Melli  DAL        5  \n",
       "393    Matthew Dellavedova  CLE        5  \n",
       "394              KZ Okpala  MIA        5  \n",
       "395             Wes Iwundu  NOP        5  \n",
       "396               Ed Davis  MIN        4  \n",
       "\n",
       "[397 rows x 8 columns]"
      ]
     },
     "execution_count": 55,
     "metadata": {},
     "output_type": "execute_result"
    }
   ],
   "source": [
    "kmeancluster"
   ]
  },
  {
   "cell_type": "code",
   "execution_count": 65,
   "metadata": {},
   "outputs": [
    {
     "data": {
      "text/plain": [
       "2    116\n",
       "0     76\n",
       "5     63\n",
       "3     60\n",
       "4     56\n",
       "1     26\n",
       "Name: Cluster, dtype: int64"
      ]
     },
     "execution_count": 65,
     "metadata": {},
     "output_type": "execute_result"
    }
   ],
   "source": [
    "kmeancluster['Cluster'].value_counts()"
   ]
  },
  {
   "cell_type": "code",
   "execution_count": 59,
   "metadata": {},
   "outputs": [],
   "source": [
    "cluster1 = kmeancluster[kmeancluster['Cluster'] == 1]"
   ]
  },
  {
   "cell_type": "code",
   "execution_count": 60,
   "metadata": {},
   "outputs": [
    {
     "data": {
      "text/html": [
       "<div>\n",
       "<style scoped>\n",
       "    .dataframe tbody tr th:only-of-type {\n",
       "        vertical-align: middle;\n",
       "    }\n",
       "\n",
       "    .dataframe tbody tr th {\n",
       "        vertical-align: top;\n",
       "    }\n",
       "\n",
       "    .dataframe thead th {\n",
       "        text-align: right;\n",
       "    }\n",
       "</style>\n",
       "<table border=\"1\" class=\"dataframe\">\n",
       "  <thead>\n",
       "    <tr style=\"text-align: right;\">\n",
       "      <th></th>\n",
       "      <th>PC1</th>\n",
       "      <th>PC2</th>\n",
       "      <th>PC3</th>\n",
       "      <th>PC4</th>\n",
       "      <th>PC5</th>\n",
       "      <th>Player</th>\n",
       "      <th>Team</th>\n",
       "      <th>Cluster</th>\n",
       "    </tr>\n",
       "  </thead>\n",
       "  <tbody>\n",
       "    <tr>\n",
       "      <th>3</th>\n",
       "      <td>14.068326</td>\n",
       "      <td>14.403856</td>\n",
       "      <td>-3.423371</td>\n",
       "      <td>4.085493</td>\n",
       "      <td>9.550238</td>\n",
       "      <td>Joel Embiid</td>\n",
       "      <td>PHI</td>\n",
       "      <td>1</td>\n",
       "    </tr>\n",
       "    <tr>\n",
       "      <th>4</th>\n",
       "      <td>8.082776</td>\n",
       "      <td>13.723707</td>\n",
       "      <td>2.125949</td>\n",
       "      <td>-1.052888</td>\n",
       "      <td>1.960181</td>\n",
       "      <td>Giannis Antetokounmpo</td>\n",
       "      <td>MIL</td>\n",
       "      <td>1</td>\n",
       "    </tr>\n",
       "    <tr>\n",
       "      <th>8</th>\n",
       "      <td>0.507119</td>\n",
       "      <td>10.761188</td>\n",
       "      <td>-3.104618</td>\n",
       "      <td>0.352497</td>\n",
       "      <td>3.570327</td>\n",
       "      <td>Kevin Durant</td>\n",
       "      <td>BKN</td>\n",
       "      <td>1</td>\n",
       "    </tr>\n",
       "    <tr>\n",
       "      <th>12</th>\n",
       "      <td>13.740606</td>\n",
       "      <td>16.467250</td>\n",
       "      <td>1.035286</td>\n",
       "      <td>8.918870</td>\n",
       "      <td>4.535435</td>\n",
       "      <td>Nikola Jokic</td>\n",
       "      <td>DEN</td>\n",
       "      <td>1</td>\n",
       "    </tr>\n",
       "    <tr>\n",
       "      <th>17</th>\n",
       "      <td>0.333270</td>\n",
       "      <td>12.137660</td>\n",
       "      <td>-0.661454</td>\n",
       "      <td>1.620786</td>\n",
       "      <td>3.451613</td>\n",
       "      <td>Kawhi Leonard</td>\n",
       "      <td>LAC</td>\n",
       "      <td>1</td>\n",
       "    </tr>\n",
       "    <tr>\n",
       "      <th>18</th>\n",
       "      <td>10.444115</td>\n",
       "      <td>10.467268</td>\n",
       "      <td>-2.933795</td>\n",
       "      <td>4.057168</td>\n",
       "      <td>3.842864</td>\n",
       "      <td>Karl-Anthony Towns</td>\n",
       "      <td>MIN</td>\n",
       "      <td>1</td>\n",
       "    </tr>\n",
       "    <tr>\n",
       "      <th>22</th>\n",
       "      <td>2.146523</td>\n",
       "      <td>11.991856</td>\n",
       "      <td>-0.771680</td>\n",
       "      <td>3.127663</td>\n",
       "      <td>1.297409</td>\n",
       "      <td>Julius Randle</td>\n",
       "      <td>NYK</td>\n",
       "      <td>1</td>\n",
       "    </tr>\n",
       "    <tr>\n",
       "      <th>25</th>\n",
       "      <td>8.361508</td>\n",
       "      <td>9.831955</td>\n",
       "      <td>-3.809735</td>\n",
       "      <td>7.976643</td>\n",
       "      <td>5.619692</td>\n",
       "      <td>Nikola Vucevic</td>\n",
       "      <td>CHI</td>\n",
       "      <td>1</td>\n",
       "    </tr>\n",
       "    <tr>\n",
       "      <th>30</th>\n",
       "      <td>10.765548</td>\n",
       "      <td>9.390946</td>\n",
       "      <td>-0.876637</td>\n",
       "      <td>3.982718</td>\n",
       "      <td>5.146173</td>\n",
       "      <td>Anthony Davis</td>\n",
       "      <td>LAL</td>\n",
       "      <td>1</td>\n",
       "    </tr>\n",
       "    <tr>\n",
       "      <th>36</th>\n",
       "      <td>8.795259</td>\n",
       "      <td>4.976932</td>\n",
       "      <td>-3.598052</td>\n",
       "      <td>-0.431872</td>\n",
       "      <td>0.377500</td>\n",
       "      <td>Christian Wood</td>\n",
       "      <td>HOU</td>\n",
       "      <td>1</td>\n",
       "    </tr>\n",
       "    <tr>\n",
       "      <th>40</th>\n",
       "      <td>12.435115</td>\n",
       "      <td>11.559476</td>\n",
       "      <td>1.455103</td>\n",
       "      <td>5.916180</td>\n",
       "      <td>0.617187</td>\n",
       "      <td>Domantas Sabonis</td>\n",
       "      <td>IND</td>\n",
       "      <td>1</td>\n",
       "    </tr>\n",
       "    <tr>\n",
       "      <th>42</th>\n",
       "      <td>8.235528</td>\n",
       "      <td>4.902872</td>\n",
       "      <td>-4.747348</td>\n",
       "      <td>2.982401</td>\n",
       "      <td>3.866860</td>\n",
       "      <td>Kristaps Porzingis</td>\n",
       "      <td>DAL</td>\n",
       "      <td>1</td>\n",
       "    </tr>\n",
       "    <tr>\n",
       "      <th>53</th>\n",
       "      <td>10.570350</td>\n",
       "      <td>9.245041</td>\n",
       "      <td>1.241244</td>\n",
       "      <td>4.033479</td>\n",
       "      <td>1.678384</td>\n",
       "      <td>Bam Adebayo</td>\n",
       "      <td>MIA</td>\n",
       "      <td>1</td>\n",
       "    </tr>\n",
       "    <tr>\n",
       "      <th>59</th>\n",
       "      <td>8.548389</td>\n",
       "      <td>3.640992</td>\n",
       "      <td>-4.386830</td>\n",
       "      <td>0.602919</td>\n",
       "      <td>-0.172377</td>\n",
       "      <td>John Collins</td>\n",
       "      <td>ATL</td>\n",
       "      <td>1</td>\n",
       "    </tr>\n",
       "    <tr>\n",
       "      <th>65</th>\n",
       "      <td>14.266191</td>\n",
       "      <td>5.923961</td>\n",
       "      <td>-0.902819</td>\n",
       "      <td>2.379722</td>\n",
       "      <td>2.612462</td>\n",
       "      <td>Jonas Valanciunas</td>\n",
       "      <td>MEM</td>\n",
       "      <td>1</td>\n",
       "    </tr>\n",
       "    <tr>\n",
       "      <th>86</th>\n",
       "      <td>14.045588</td>\n",
       "      <td>5.132497</td>\n",
       "      <td>4.810985</td>\n",
       "      <td>1.614931</td>\n",
       "      <td>2.241822</td>\n",
       "      <td>Andre Drummond</td>\n",
       "      <td>LAL</td>\n",
       "      <td>1</td>\n",
       "    </tr>\n",
       "    <tr>\n",
       "      <th>91</th>\n",
       "      <td>13.682139</td>\n",
       "      <td>4.196034</td>\n",
       "      <td>0.321986</td>\n",
       "      <td>2.756086</td>\n",
       "      <td>0.620640</td>\n",
       "      <td>Deandre Ayton</td>\n",
       "      <td>PHX</td>\n",
       "      <td>1</td>\n",
       "    </tr>\n",
       "    <tr>\n",
       "      <th>97</th>\n",
       "      <td>3.428014</td>\n",
       "      <td>2.281822</td>\n",
       "      <td>-0.757902</td>\n",
       "      <td>4.884557</td>\n",
       "      <td>2.140239</td>\n",
       "      <td>Al Horford</td>\n",
       "      <td>BOS</td>\n",
       "      <td>1</td>\n",
       "    </tr>\n",
       "    <tr>\n",
       "      <th>106</th>\n",
       "      <td>4.767286</td>\n",
       "      <td>1.778824</td>\n",
       "      <td>-3.696648</td>\n",
       "      <td>2.773239</td>\n",
       "      <td>5.158593</td>\n",
       "      <td>LaMarcus Aldridge</td>\n",
       "      <td>BKN</td>\n",
       "      <td>1</td>\n",
       "    </tr>\n",
       "    <tr>\n",
       "      <th>112</th>\n",
       "      <td>-0.000289</td>\n",
       "      <td>1.563412</td>\n",
       "      <td>-3.139389</td>\n",
       "      <td>0.222556</td>\n",
       "      <td>6.610390</td>\n",
       "      <td>Carmelo Anthony</td>\n",
       "      <td>POR</td>\n",
       "      <td>1</td>\n",
       "    </tr>\n",
       "    <tr>\n",
       "      <th>135</th>\n",
       "      <td>2.058405</td>\n",
       "      <td>0.877760</td>\n",
       "      <td>-1.905827</td>\n",
       "      <td>4.004244</td>\n",
       "      <td>3.798533</td>\n",
       "      <td>Kevin Love</td>\n",
       "      <td>CLE</td>\n",
       "      <td>1</td>\n",
       "    </tr>\n",
       "    <tr>\n",
       "      <th>137</th>\n",
       "      <td>7.436733</td>\n",
       "      <td>3.800727</td>\n",
       "      <td>4.253658</td>\n",
       "      <td>4.719656</td>\n",
       "      <td>0.486444</td>\n",
       "      <td>Thaddeus Young</td>\n",
       "      <td>CHI</td>\n",
       "      <td>1</td>\n",
       "    </tr>\n",
       "    <tr>\n",
       "      <th>145</th>\n",
       "      <td>10.207657</td>\n",
       "      <td>3.459621</td>\n",
       "      <td>1.612142</td>\n",
       "      <td>2.543214</td>\n",
       "      <td>0.674253</td>\n",
       "      <td>Jusuf Nurkic</td>\n",
       "      <td>POR</td>\n",
       "      <td>1</td>\n",
       "    </tr>\n",
       "    <tr>\n",
       "      <th>157</th>\n",
       "      <td>7.065868</td>\n",
       "      <td>0.360604</td>\n",
       "      <td>-0.931774</td>\n",
       "      <td>3.090833</td>\n",
       "      <td>1.200099</td>\n",
       "      <td>Serge Ibaka</td>\n",
       "      <td>LAC</td>\n",
       "      <td>1</td>\n",
       "    </tr>\n",
       "    <tr>\n",
       "      <th>160</th>\n",
       "      <td>2.224501</td>\n",
       "      <td>1.941646</td>\n",
       "      <td>-0.243804</td>\n",
       "      <td>2.447296</td>\n",
       "      <td>2.964643</td>\n",
       "      <td>Blake Griffin</td>\n",
       "      <td>BKN</td>\n",
       "      <td>1</td>\n",
       "    </tr>\n",
       "    <tr>\n",
       "      <th>209</th>\n",
       "      <td>3.395191</td>\n",
       "      <td>-0.200910</td>\n",
       "      <td>0.003671</td>\n",
       "      <td>2.617125</td>\n",
       "      <td>4.403847</td>\n",
       "      <td>DeMarcus Cousins</td>\n",
       "      <td>LAC</td>\n",
       "      <td>1</td>\n",
       "    </tr>\n",
       "  </tbody>\n",
       "</table>\n",
       "</div>"
      ],
      "text/plain": [
       "           PC1        PC2       PC3       PC4       PC5  \\\n",
       "3    14.068326  14.403856 -3.423371  4.085493  9.550238   \n",
       "4     8.082776  13.723707  2.125949 -1.052888  1.960181   \n",
       "8     0.507119  10.761188 -3.104618  0.352497  3.570327   \n",
       "12   13.740606  16.467250  1.035286  8.918870  4.535435   \n",
       "17    0.333270  12.137660 -0.661454  1.620786  3.451613   \n",
       "18   10.444115  10.467268 -2.933795  4.057168  3.842864   \n",
       "22    2.146523  11.991856 -0.771680  3.127663  1.297409   \n",
       "25    8.361508   9.831955 -3.809735  7.976643  5.619692   \n",
       "30   10.765548   9.390946 -0.876637  3.982718  5.146173   \n",
       "36    8.795259   4.976932 -3.598052 -0.431872  0.377500   \n",
       "40   12.435115  11.559476  1.455103  5.916180  0.617187   \n",
       "42    8.235528   4.902872 -4.747348  2.982401  3.866860   \n",
       "53   10.570350   9.245041  1.241244  4.033479  1.678384   \n",
       "59    8.548389   3.640992 -4.386830  0.602919 -0.172377   \n",
       "65   14.266191   5.923961 -0.902819  2.379722  2.612462   \n",
       "86   14.045588   5.132497  4.810985  1.614931  2.241822   \n",
       "91   13.682139   4.196034  0.321986  2.756086  0.620640   \n",
       "97    3.428014   2.281822 -0.757902  4.884557  2.140239   \n",
       "106   4.767286   1.778824 -3.696648  2.773239  5.158593   \n",
       "112  -0.000289   1.563412 -3.139389  0.222556  6.610390   \n",
       "135   2.058405   0.877760 -1.905827  4.004244  3.798533   \n",
       "137   7.436733   3.800727  4.253658  4.719656  0.486444   \n",
       "145  10.207657   3.459621  1.612142  2.543214  0.674253   \n",
       "157   7.065868   0.360604 -0.931774  3.090833  1.200099   \n",
       "160   2.224501   1.941646 -0.243804  2.447296  2.964643   \n",
       "209   3.395191  -0.200910  0.003671  2.617125  4.403847   \n",
       "\n",
       "                    Player Team  Cluster  \n",
       "3              Joel Embiid  PHI        1  \n",
       "4    Giannis Antetokounmpo  MIL        1  \n",
       "8             Kevin Durant  BKN        1  \n",
       "12            Nikola Jokic  DEN        1  \n",
       "17           Kawhi Leonard  LAC        1  \n",
       "18      Karl-Anthony Towns  MIN        1  \n",
       "22           Julius Randle  NYK        1  \n",
       "25          Nikola Vucevic  CHI        1  \n",
       "30           Anthony Davis  LAL        1  \n",
       "36          Christian Wood  HOU        1  \n",
       "40        Domantas Sabonis  IND        1  \n",
       "42      Kristaps Porzingis  DAL        1  \n",
       "53             Bam Adebayo  MIA        1  \n",
       "59            John Collins  ATL        1  \n",
       "65       Jonas Valanciunas  MEM        1  \n",
       "86          Andre Drummond  LAL        1  \n",
       "91           Deandre Ayton  PHX        1  \n",
       "97              Al Horford  BOS        1  \n",
       "106      LaMarcus Aldridge  BKN        1  \n",
       "112        Carmelo Anthony  POR        1  \n",
       "135             Kevin Love  CLE        1  \n",
       "137         Thaddeus Young  CHI        1  \n",
       "145           Jusuf Nurkic  POR        1  \n",
       "157            Serge Ibaka  LAC        1  \n",
       "160          Blake Griffin  BKN        1  \n",
       "209       DeMarcus Cousins  LAC        1  "
      ]
     },
     "execution_count": 60,
     "metadata": {},
     "output_type": "execute_result"
    }
   ],
   "source": [
    "cluster1"
   ]
  },
  {
   "cell_type": "code",
   "execution_count": 61,
   "metadata": {},
   "outputs": [],
   "source": [
    "cluster2 = kmeancluster[kmeancluster['Cluster'] == 2]"
   ]
  },
  {
   "cell_type": "code",
   "execution_count": 62,
   "metadata": {},
   "outputs": [
    {
     "data": {
      "text/html": [
       "<div>\n",
       "<style scoped>\n",
       "    .dataframe tbody tr th:only-of-type {\n",
       "        vertical-align: middle;\n",
       "    }\n",
       "\n",
       "    .dataframe tbody tr th {\n",
       "        vertical-align: top;\n",
       "    }\n",
       "\n",
       "    .dataframe thead th {\n",
       "        text-align: right;\n",
       "    }\n",
       "</style>\n",
       "<table border=\"1\" class=\"dataframe\">\n",
       "  <thead>\n",
       "    <tr style=\"text-align: right;\">\n",
       "      <th></th>\n",
       "      <th>PC1</th>\n",
       "      <th>PC2</th>\n",
       "      <th>PC3</th>\n",
       "      <th>PC4</th>\n",
       "      <th>PC5</th>\n",
       "      <th>Player</th>\n",
       "      <th>Team</th>\n",
       "      <th>Cluster</th>\n",
       "    </tr>\n",
       "  </thead>\n",
       "  <tbody>\n",
       "    <tr>\n",
       "      <th>46</th>\n",
       "      <td>-2.191723</td>\n",
       "      <td>1.912423</td>\n",
       "      <td>-6.244116</td>\n",
       "      <td>-1.933155</td>\n",
       "      <td>-1.504723</td>\n",
       "      <td>Malik Beasley</td>\n",
       "      <td>MIN</td>\n",
       "      <td>2</td>\n",
       "    </tr>\n",
       "    <tr>\n",
       "      <th>51</th>\n",
       "      <td>3.925085</td>\n",
       "      <td>2.197248</td>\n",
       "      <td>-6.609128</td>\n",
       "      <td>0.342394</td>\n",
       "      <td>-0.863691</td>\n",
       "      <td>Michael Porter Jr.</td>\n",
       "      <td>DEN</td>\n",
       "      <td>2</td>\n",
       "    </tr>\n",
       "    <tr>\n",
       "      <th>54</th>\n",
       "      <td>-3.314511</td>\n",
       "      <td>2.581243</td>\n",
       "      <td>-4.173907</td>\n",
       "      <td>-1.949490</td>\n",
       "      <td>-1.826146</td>\n",
       "      <td>Norman Powell</td>\n",
       "      <td>POR</td>\n",
       "      <td>2</td>\n",
       "    </tr>\n",
       "    <tr>\n",
       "      <th>64</th>\n",
       "      <td>-3.205066</td>\n",
       "      <td>3.181600</td>\n",
       "      <td>-3.937988</td>\n",
       "      <td>-2.716296</td>\n",
       "      <td>-1.140868</td>\n",
       "      <td>Evan Fournier</td>\n",
       "      <td>BOS</td>\n",
       "      <td>2</td>\n",
       "    </tr>\n",
       "    <tr>\n",
       "      <th>66</th>\n",
       "      <td>-1.947322</td>\n",
       "      <td>3.111394</td>\n",
       "      <td>-5.437495</td>\n",
       "      <td>-0.530359</td>\n",
       "      <td>0.029094</td>\n",
       "      <td>Bojan Bogdanovic</td>\n",
       "      <td>UTA</td>\n",
       "      <td>2</td>\n",
       "    </tr>\n",
       "    <tr>\n",
       "      <th>...</th>\n",
       "      <td>...</td>\n",
       "      <td>...</td>\n",
       "      <td>...</td>\n",
       "      <td>...</td>\n",
       "      <td>...</td>\n",
       "      <td>...</td>\n",
       "      <td>...</td>\n",
       "      <td>...</td>\n",
       "    </tr>\n",
       "    <tr>\n",
       "      <th>379</th>\n",
       "      <td>-0.887163</td>\n",
       "      <td>-6.286985</td>\n",
       "      <td>-1.564845</td>\n",
       "      <td>2.119187</td>\n",
       "      <td>2.227829</td>\n",
       "      <td>Mike Scott</td>\n",
       "      <td>PHI</td>\n",
       "      <td>2</td>\n",
       "    </tr>\n",
       "    <tr>\n",
       "      <th>380</th>\n",
       "      <td>2.761550</td>\n",
       "      <td>-5.156591</td>\n",
       "      <td>0.637405</td>\n",
       "      <td>-4.978631</td>\n",
       "      <td>1.448442</td>\n",
       "      <td>Lamar Stevens</td>\n",
       "      <td>CLE</td>\n",
       "      <td>2</td>\n",
       "    </tr>\n",
       "    <tr>\n",
       "      <th>383</th>\n",
       "      <td>-0.787059</td>\n",
       "      <td>-5.654466</td>\n",
       "      <td>-1.426250</td>\n",
       "      <td>-1.952816</td>\n",
       "      <td>2.537994</td>\n",
       "      <td>DaQuan Jeffries</td>\n",
       "      <td>SAS</td>\n",
       "      <td>2</td>\n",
       "    </tr>\n",
       "    <tr>\n",
       "      <th>388</th>\n",
       "      <td>-1.219542</td>\n",
       "      <td>-5.102918</td>\n",
       "      <td>1.431915</td>\n",
       "      <td>-2.396945</td>\n",
       "      <td>1.245498</td>\n",
       "      <td>Brodric Thomas</td>\n",
       "      <td>CLE</td>\n",
       "      <td>2</td>\n",
       "    </tr>\n",
       "    <tr>\n",
       "      <th>390</th>\n",
       "      <td>-0.494874</td>\n",
       "      <td>-6.350057</td>\n",
       "      <td>1.808581</td>\n",
       "      <td>-2.690200</td>\n",
       "      <td>2.236602</td>\n",
       "      <td>Romeo Langford</td>\n",
       "      <td>BOS</td>\n",
       "      <td>2</td>\n",
       "    </tr>\n",
       "  </tbody>\n",
       "</table>\n",
       "<p>116 rows × 8 columns</p>\n",
       "</div>"
      ],
      "text/plain": [
       "          PC1       PC2       PC3       PC4       PC5              Player  \\\n",
       "46  -2.191723  1.912423 -6.244116 -1.933155 -1.504723       Malik Beasley   \n",
       "51   3.925085  2.197248 -6.609128  0.342394 -0.863691  Michael Porter Jr.   \n",
       "54  -3.314511  2.581243 -4.173907 -1.949490 -1.826146       Norman Powell   \n",
       "64  -3.205066  3.181600 -3.937988 -2.716296 -1.140868       Evan Fournier   \n",
       "66  -1.947322  3.111394 -5.437495 -0.530359  0.029094    Bojan Bogdanovic   \n",
       "..        ...       ...       ...       ...       ...                 ...   \n",
       "379 -0.887163 -6.286985 -1.564845  2.119187  2.227829          Mike Scott   \n",
       "380  2.761550 -5.156591  0.637405 -4.978631  1.448442       Lamar Stevens   \n",
       "383 -0.787059 -5.654466 -1.426250 -1.952816  2.537994     DaQuan Jeffries   \n",
       "388 -1.219542 -5.102918  1.431915 -2.396945  1.245498      Brodric Thomas   \n",
       "390 -0.494874 -6.350057  1.808581 -2.690200  2.236602      Romeo Langford   \n",
       "\n",
       "    Team  Cluster  \n",
       "46   MIN        2  \n",
       "51   DEN        2  \n",
       "54   POR        2  \n",
       "64   BOS        2  \n",
       "66   UTA        2  \n",
       "..   ...      ...  \n",
       "379  PHI        2  \n",
       "380  CLE        2  \n",
       "383  SAS        2  \n",
       "388  CLE        2  \n",
       "390  BOS        2  \n",
       "\n",
       "[116 rows x 8 columns]"
      ]
     },
     "execution_count": 62,
     "metadata": {},
     "output_type": "execute_result"
    }
   ],
   "source": [
    "cluster2"
>>>>>>> f3751246e40eea9357cdb1c4db36cfa75c288540
   ]
  },
  {
   "cell_type": "code",
=======
>>>>>>> parent of 79a0cfa (merge pull)
   "execution_count": null,
   "metadata": {},
   "outputs": [],
   "source": []
  }
 ],
 "metadata": {
  "interpreter": {
   "hash": "4bd624a0593993fe43ac4046b27b898fb2ef75c21c08f81e89e64ea0f51df676"
  },
  "kernelspec": {
   "display_name": "Python 3.9.7 ('tensorflow')",
   "language": "python",
   "name": "python3"
  },
  "language_info": {
   "codemirror_mode": {
    "name": "ipython",
    "version": 3
   },
   "file_extension": ".py",
   "mimetype": "text/x-python",
   "name": "python",
   "nbconvert_exporter": "python",
   "pygments_lexer": "ipython3",
   "version": "3.9.1"
  },
  "orig_nbformat": 4
 },
 "nbformat": 4,
 "nbformat_minor": 2
}
